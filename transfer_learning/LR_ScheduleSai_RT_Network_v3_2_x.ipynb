{
  "nbformat": 4,
  "nbformat_minor": 0,
  "metadata": {
    "colab": {
      "name": "LR_ScheduleSai-RT-Network-v3.2.x.ipynb",
      "provenance": [],
      "collapsed_sections": [],
      "machine_shape": "hm"
    },
    "kernelspec": {
      "name": "python3",
      "display_name": "Python 3"
    },
    "accelerator": "GPU"
  },
  "cells": [
    {
      "cell_type": "code",
      "metadata": {
        "id": "gLQQIFb4z7Bk"
      },
      "source": [
        "%tensorflow_version 2.x\n",
        "%load_ext tensorboard\n",
        "\n",
        "import glob, math, os, re, sys, zipfile\n",
        "import numpy as np\n",
        "import pandas as pd\n",
        "import tensorflow as tf\n",
        "import seaborn as sns\n",
        "import pickle as pkl\n",
        "import matplotlib.pyplot as plt\n",
        "from functools import reduce\n",
        "from itertools import cycle\n",
        "from datetime import datetime\n",
        "from google.colab import auth\n",
        "from oauth2client.client import GoogleCredentials\n",
        "from pydrive.auth import GoogleAuth\n",
        "from pydrive.drive import GoogleDrive\n",
        "from IPython.display import display, HTML\n",
        "from sklearn import metrics\n",
        "from sklearn.model_selection import train_test_split\n",
        "from sklearn.preprocessing import StandardScaler, OneHotEncoder\n",
        "from sklearn.utils import resample\n",
        "from tensorflow.keras.models import Sequential, load_model\n",
        "from tensorflow.keras.layers import Dense, InputLayer\n",
        "from tensorflow.keras.callbacks import EarlyStopping, ModelCheckpoint, TensorBoard, ReduceLROnPlateau\n",
        "from tensorflow.keras import Model\n",
        "from keras.layers import BatchNormalization"
      ],
      "execution_count": 1,
      "outputs": []
    },
    {
      "cell_type": "markdown",
      "metadata": {
        "id": "DQxF5BEx377L"
      },
      "source": [
        "## Authorize Google Drive"
      ]
    },
    {
      "cell_type": "code",
      "metadata": {
        "id": "uJ_-p_rRr6Ws"
      },
      "source": [
        "auth.authenticate_user()"
      ],
      "execution_count": 2,
      "outputs": []
    },
    {
      "cell_type": "markdown",
      "metadata": {
        "id": "w9h5jR8Z2Mrf"
      },
      "source": [
        "## Setup & Install\n",
        "Basic setup and install additional dependencies"
      ]
    },
    {
      "cell_type": "code",
      "metadata": {
        "id": "elbSlvPj14I3",
        "colab": {
          "base_uri": "https://localhost:8080/"
        },
        "outputId": "607a5159-f2e8-446e-a495-6e18387c1150"
      },
      "source": [
        "# Some global variables and general settings\n",
        "saved_model_dir = './saved_model'\n",
        "tensorboard_logs = './logs'\n",
        "pd.options.display.float_format = '{:.2f}'.format\n",
        "sns.set_context('notebook')\n",
        "nnet_tools_path = os.path.abspath('NNet')\n",
        "\n",
        "def print_html(string, tag='span', color=None, size=None):\n",
        "    size = f'font-size:{size};' if size else ''\n",
        "    color = f'color:{color};' if color else ''\n",
        "    display(HTML(f'<{tag} style=\"{color}{size}\">{string}</{tag}>'))\n",
        "\n",
        "def print_heading(string, color=None):\n",
        "    print_html(string, tag='h3', color=color)\n",
        "\n",
        "def print_message(string, color=None):\n",
        "    print_html(string, color=color)\n",
        "\n",
        "def download_file_from_gdrive(gdrive_id, output_file):\n",
        "    # Authenticate google drive\n",
        "    gauth = GoogleAuth()\n",
        "    gauth.credentials = GoogleCredentials.get_application_default()\n",
        "    drive = GoogleDrive(gauth)\n",
        "    # Download csv from GDrive...\n",
        "    dataset = drive.CreateFile({'id': gdrive_id})\n",
        "    dataset_filename = dataset['title']\n",
        "    print_message(f'Downloading {dataset_filename} ({gdrive_id}) from GDrive. Please wait...')\n",
        "    dataset.GetContentFile(output_file)\n",
        "    print_message(f'Download {gdrive_id} completed.')\n",
        "\n",
        "def download_and_unzip(src_url, out_dir='./', zip_file='dl.zip', remove_zip=True):\n",
        "    print(f'Downloading {src_url} to {zip_file}')\n",
        "    !wget $src_url -O $zip_file -q --show-progress\n",
        "    print(f'Download complete. Unzipping {zip_file}')\n",
        "    z = zipfile.ZipFile(zip_file, 'r')\n",
        "    z.extractall(out_dir)\n",
        "    print(f'Unzipped to {out_dir}. Cleaning up...')\n",
        "    z.close()\n",
        "    if remove_zip: os.remove(zip_file)\n",
        "\n",
        "def overwrite_gdrive_file(gdrive_id, input_file):\n",
        "    gauth = GoogleAuth()\n",
        "    gauth.credentials = GoogleCredentials.get_application_default()\n",
        "    drive = GoogleDrive(gauth)\n",
        "    drive_file = drive.CreateFile({'id': gdrive_id})\n",
        "    drive_file.SetContentFile(input_file)\n",
        "    drive_file.Upload()\n",
        "    drive_filename = drive_file['title']\n",
        "    print(f'Wrote {input_file} to GDrive {drive_filename} ({gdrive_id}).')\n",
        "\n",
        "def update_path_vars(paths=[]):\n",
        "    python_path = os.environ.get('PYTHONPATH') or ''\n",
        "    jupyter_path = os.environ.get('JUPYTER_PATH') or ''\n",
        "    for path in paths:\n",
        "        if not path in python_path:\n",
        "            python_path += f':{path}'\n",
        "        if not path in jupyter_path:\n",
        "            jupyter_path += f':{path}'\n",
        "    os.environ['PYTHONPATH'] = python_path\n",
        "    os.environ['JUPYTER_PATH'] = jupyter_path\n",
        "\n",
        "def install_nnet_tools(nnet_tools_path):\n",
        "    nnet_tools_url = 'https://github.com/sisl/NNet/archive/master.zip'\n",
        "    download_and_unzip(nnet_tools_url)\n",
        "    !mv ./NNet-master $nnet_tools_path\n",
        "\n",
        "def setup_nnet_tools(nnet_tools_path):\n",
        "    # install nnet tools if not already installed.\n",
        "    if not os.path.exists(nnet_tools_path):\n",
        "        install_nnet_tools(nnet_tools_path)\n",
        "    # add folder to PYTHONPATH & JUPYTER_PATH\n",
        "    update_path_vars([nnet_tools_path])\n",
        "\n",
        "# delete sample data\n",
        "!rm -rf sample_data\n",
        "\n",
        "# setup nnet tools (for converting model to Stanford's nnet format)\n",
        "setup_nnet_tools(nnet_tools_path)\n",
        "# used for conversion to NNet format\n",
        "from NNet.utils.writeNNet import writeNNet"
      ],
      "execution_count": 3,
      "outputs": [
        {
          "output_type": "stream",
          "text": [
            "Downloading https://github.com/sisl/NNet/archive/master.zip to dl.zip\n",
            "dl.zip                  [ <=>                ] 359.66K  --.-KB/s    in 0.1s    \n",
            "Download complete. Unzipping dl.zip\n",
            "Unzipped to ./. Cleaning up...\n"
          ],
          "name": "stdout"
        }
      ]
    },
    {
      "cell_type": "markdown",
      "metadata": {
        "id": "xzvEWbOV2WFa"
      },
      "source": [
        "## Download Dataset"
      ]
    },
    {
      "cell_type": "code",
      "metadata": {
        "id": "3ci9bvHG1v7H",
        "colab": {
          "base_uri": "https://localhost:8080/",
          "height": 52
        },
        "outputId": "d614bced-48ce-4e08-bad7-7be4ec95f058"
      },
      "source": [
        "# GDrive ID of csv file (AllData_ReactionTime.csv)\n",
        "# https://drive.google.com/file/d/1vNT9PopDTy7nUsedAHdg1-VFAKrk6PIO\n",
        "gdrive_id='1vNT9PopDTy7nUsedAHdg1-VFAKrk6PIO'\n",
        "dataset_file='all_data_rt.csv'\n",
        "\n",
        "# load the dataset from gdrive if it doesn't exist in the runtime's filesystem.\n",
        "if not os.path.exists(dataset_file):\n",
        "    download_file_from_gdrive(gdrive_id, dataset_file)"
      ],
      "execution_count": 4,
      "outputs": [
        {
          "output_type": "display_data",
          "data": {
            "text/html": [
              "<span style=\"\">Downloading All_Features_ReactionTime.csv (1vNT9PopDTy7nUsedAHdg1-VFAKrk6PIO) from GDrive. Please wait...</span>"
            ],
            "text/plain": [
              "<IPython.core.display.HTML object>"
            ]
          },
          "metadata": {
            "tags": []
          }
        },
        {
          "output_type": "display_data",
          "data": {
            "text/html": [
              "<span style=\"\">Download 1vNT9PopDTy7nUsedAHdg1-VFAKrk6PIO completed.</span>"
            ],
            "text/plain": [
              "<IPython.core.display.HTML object>"
            ]
          },
          "metadata": {
            "tags": []
          }
        }
      ]
    },
    {
      "cell_type": "markdown",
      "metadata": {
        "id": "v_b2s0tEvo-s"
      },
      "source": [
        "## Import Dataset"
      ]
    },
    {
      "cell_type": "code",
      "metadata": {
        "id": "N3E9WVBMvZ8y"
      },
      "source": [
        "raw_columns = ['ID', 'Name', 'FixationDuration', 'FixationSeq', 'FixationStart', \n",
        "               'FixationX', 'FixationY', 'GazeDirectionLeftZ', 'GazeDirectionRightZ', \n",
        "               'PupilLeft', 'PupilRight', 'InterpolatedGazeX', 'InterpolatedGazeY', \n",
        "               'AutoThrottle', 'AutoWheel', 'CurrentThrottle', 'CurrentWheel', \n",
        "               'Distance3D', 'MPH', 'ManualBrake', 'ManualThrottle', 'ManualWheel', \n",
        "               'RangeW', 'RightLaneDist', 'RightLaneType', 'LeftLaneDist', 'LeftLaneType', \n",
        "               'ReactionTime']\n",
        "raw_df = pd.read_csv(dataset_file, usecols=raw_columns)\n",
        "raw_df.set_index(['ID'], inplace=True)"
      ],
      "execution_count": 5,
      "outputs": []
    },
    {
      "cell_type": "code",
      "metadata": {
        "id": "3ebQGLL9pTIL"
      },
      "source": [
        "# 5 class using mean & sdev\n",
        "def create_tot_categories(rt_column):\n",
        "    rt_mean = round(rt_column.mean())\n",
        "    rt_sdev = round(rt_column.std())\n",
        "    bound_1 = rt_mean - rt_sdev\n",
        "    bound_2 = rt_mean - rt_sdev // 2\n",
        "    bound_3 = rt_mean + rt_sdev // 2\n",
        "    bound_4 = rt_mean + rt_sdev\n",
        "    bins = [float('-inf'), bound_1, bound_2, bound_3, bound_4, float('inf')]\n",
        "    labels =  np.array(['fast', 'med_fast', 'med', 'med_slow', 'slow'], dtype=object)\n",
        "    return (bins, labels)"
      ],
      "execution_count": 6,
      "outputs": []
    },
    {
      "cell_type": "code",
      "metadata": {
        "id": "dG6GNW3NpYXY"
      },
      "source": [
        "# make a copy the raw data\n",
        "df = raw_df.copy()\n",
        "\n",
        "# compute 'TOT' categories\n",
        "tot_bins, tot_labels = create_tot_categories(df.ReactionTime)"
      ],
      "execution_count": 19,
      "outputs": []
    },
    {
      "cell_type": "code",
      "metadata": {
        "id": "N1jxVIuB1V7i"
      },
      "source": [
        "# add the class to the dataframe\n",
        "df['TOT'] = pd.cut(df.ReactionTime, bins=tot_bins, labels=tot_labels)"
      ],
      "execution_count": 20,
      "outputs": []
    },
    {
      "cell_type": "code",
      "metadata": {
        "colab": {
          "base_uri": "https://localhost:8080/"
        },
        "id": "4RATLn899ITx",
        "outputId": "bbe34d29-21d6-44f8-ead6-5f25d53727e8"
      },
      "source": [
        "df['Name'].unique()"
      ],
      "execution_count": 21,
      "outputs": [
        {
          "output_type": "execute_result",
          "data": {
            "text/plain": [
              "array(['018_M3', '018_M1', '017_M3', '017_M2', '017_M1', '016_M3',\n",
              "       '016_M2', '016_M1', '015_M3', '015_m2', '015_M1', '014_M3',\n",
              "       '014_M2', '014_m1', '013_M3', '013_M2', '013_M1', '012_M3',\n",
              "       '012_M2', '012_M1', '011_M3', '011_M2', '011_M1', '010_M3',\n",
              "       '010_M2', '010_M1', '009_M3', '009_M2', '009_M1', '008_M3',\n",
              "       '008_M2', '008_M1', '007_M3', '007_M2', '007_M1', '006_M3',\n",
              "       '006_M2', '006_M1', '005_M3', '005_M2', '005_M1', '004_M3',\n",
              "       '004_M2', '004_M1'], dtype=object)"
            ]
          },
          "metadata": {
            "tags": []
          },
          "execution_count": 21
        }
      ]
    },
    {
      "cell_type": "code",
      "metadata": {
        "id": "XZ20tDfXD6bA"
      },
      "source": [
        "# Copy of the dataframe before exclusion of driver data\n",
        "# In actuality, full_data would be the new driver's data added to existing data\n",
        "full_data = df"
      ],
      "execution_count": 22,
      "outputs": []
    },
    {
      "cell_type": "markdown",
      "metadata": {
        "id": "qhM2dmp9u5Lc"
      },
      "source": [
        "### Subset for resource conservation. No need to run the cell immediately below."
      ]
    },
    {
      "cell_type": "code",
      "metadata": {
        "colab": {
          "base_uri": "https://localhost:8080/"
        },
        "id": "2v1zFcUxHJmF",
        "outputId": "22d7b9fa-325e-4369-afd4-a63cfb49f5c3"
      },
      "source": [
        "chunk_users = ['015_M3', '015_m2', '015_M1', '014_M3', '014_M2', '014_m1']\n",
        "df1 = df.loc[df['Name'].isin(chunk_users)]\n",
        "print('Shape:', df1.shape)\n",
        "df1['Name'].unique()"
      ],
      "execution_count": 14,
      "outputs": [
        {
          "output_type": "stream",
          "text": [
            "Shape: (814347, 28)\n"
          ],
          "name": "stdout"
        },
        {
          "output_type": "execute_result",
          "data": {
            "text/plain": [
              "array(['015_M3', '015_m2', '015_M1', '014_M3', '014_M2', '014_m1'],\n",
              "      dtype=object)"
            ]
          },
          "metadata": {
            "tags": []
          },
          "execution_count": 14
        }
      ]
    },
    {
      "cell_type": "code",
      "metadata": {
        "id": "_BVhI0i0jnoL"
      },
      "source": [
        "'''\n",
        "JOHN'S CODE\n",
        "# Select a handful of ppl for saving resource\n",
        "chunk_users = ['015_M3', '015_m2', '015_M1', '014_M3', '014_M2', '014_m1']\n",
        "unused_df = df.loc[~df['Name'].isin(chunk_users)]\n",
        "df = df.loc[df['Name'].isin(chunk_users)]\n",
        "\n",
        "# # convert datatypes for a few columns\n",
        "df.RightLaneType = df.RightLaneType.astype(int)\n",
        "df.LeftLaneType = df.LeftLaneType.astype(int)\n",
        "df.TOT = df.TOT.astype(object)\n",
        "'''\n",
        "df.RightLaneType = df.RightLaneType.astype(int)\n",
        "df.LeftLaneType = df.LeftLaneType.astype(int)\n",
        "df.TOT = df.TOT.astype(object)\n",
        "\n",
        "#Personalization dataset for new driver\n",
        "#Example: new driver here is driver number 13 \n",
        "new_driver = ['013_M1','013_M2','013_M3']\n",
        "# d16_vals = ['015_M3', '015_m2', '015_M1', '014_M3', '014_M2', '014_m1','016_M1','016_M2','016_M3']\n",
        "# driv16_df = df.loc[df['Name'].isin(d16_vals)]\n",
        "\n",
        "#Selecting new driver's data from full dataset.\n",
        "only_new = df.loc[df['Name'].isin(new_driver)]\n",
        "ids_new = df['Name'].isin(new_driver)\n",
        "\n",
        "#Dropping data concerning driver from main training dataset\n",
        "df.drop(df[ids_new].index, inplace= True)\n"
      ],
      "execution_count": 23,
      "outputs": []
    },
    {
      "cell_type": "code",
      "metadata": {
        "colab": {
          "base_uri": "https://localhost:8080/"
        },
        "id": "41fYuHTS-trd",
        "outputId": "77b6c754-1950-4dbd-900e-38452d4d6067"
      },
      "source": [
        "#This will be the data used for training the baseline model\n",
        "df['Name'].unique()"
      ],
      "execution_count": 24,
      "outputs": [
        {
          "output_type": "execute_result",
          "data": {
            "text/plain": [
              "array(['018_M3', '018_M1', '017_M3', '017_M2', '017_M1', '016_M3',\n",
              "       '016_M2', '016_M1', '015_M3', '015_m2', '015_M1', '014_M3',\n",
              "       '014_M2', '014_m1', '012_M3', '012_M2', '012_M1', '011_M3',\n",
              "       '011_M2', '011_M1', '010_M3', '010_M2', '010_M1', '009_M3',\n",
              "       '009_M2', '009_M1', '008_M3', '008_M2', '008_M1', '007_M3',\n",
              "       '007_M2', '007_M1', '006_M3', '006_M2', '006_M1', '005_M3',\n",
              "       '005_M2', '005_M1', '004_M3', '004_M2', '004_M1'], dtype=object)"
            ]
          },
          "metadata": {
            "tags": []
          },
          "execution_count": 24
        }
      ]
    },
    {
      "cell_type": "code",
      "metadata": {
        "colab": {
          "base_uri": "https://localhost:8080/"
        },
        "id": "Rt_3DxO39z3v",
        "outputId": "37b6cf79-2d5c-4234-9d48-d67d1722afbd"
      },
      "source": [
        "print('Full dataframe without new driver data',df.shape,'\\n\\n','New driver dataframe',only_new.shape)"
      ],
      "execution_count": 25,
      "outputs": [
        {
          "output_type": "stream",
          "text": [
            "Full dataframe without new driver data (5528182, 28) \n",
            "\n",
            " New driver dataframe (380929, 28)\n"
          ],
          "name": "stdout"
        }
      ]
    },
    {
      "cell_type": "markdown",
      "metadata": {
        "id": "0UF_ScKdw6Og"
      },
      "source": [
        "### Helper Functions"
      ]
    },
    {
      "cell_type": "code",
      "metadata": {
        "id": "db67Pun6qPyn"
      },
      "source": [
        "def upsample_minority_TOTs(X_train, y_train, tot_labels, random_state=27):\n",
        "    # contat the training data together.\n",
        "    X = pd.concat([X_train, y_train], axis=1)\n",
        "    # separate majority and minority classes\n",
        "    buckets = {l: X[X.TOT == l] for l in tot_labels}\n",
        "    maj_label, majority = reduce(lambda a,b: b if b[1].shape[0] > a[1].shape[0] else a, buckets.items())\n",
        "    minorities = {k:v for k,v in buckets.items() if k != maj_label}\n",
        "    # upsample the minority classes\n",
        "    for k,v in minorities.items():\n",
        "        buckets[k] = resample(v, replace=True, n_samples=majority.shape[0], random_state=random_state)\n",
        "    upsampled = pd.concat(buckets.values()).sample(frac=1)\n",
        "    # split the upsampled data into X and y\n",
        "    y_train = upsampled['TOT']\n",
        "    X_train = upsampled.drop('TOT', axis=1)\n",
        "    return X_train, y_train\n",
        "\n",
        "def prepare_inputs(X_train, X_test):\n",
        "    # scales inputs using \"standard scaler\", and returns 2D numpy array\n",
        "    scaler = StandardScaler().fit(pd.concat([X_train, X_test]))\n",
        "    X_train = scaler.transform(X_train.values)\n",
        "    X_test = scaler.transform(X_test.values)\n",
        "    return X_train, X_test, scaler\n",
        "\n",
        "def prepare_target(y_train, y_test, categories):\n",
        "    # convert target to categorical, and returns 2D numpy array\n",
        "    y_train = y_train.to_numpy().reshape(-1,1)\n",
        "    y_test = y_test.to_numpy().reshape(-1,1)\n",
        "    onehot = OneHotEncoder(categories=categories)\n",
        "    onehot.fit(np.concatenate([y_train, y_test]))\n",
        "    y_train = onehot.transform(y_train).toarray()\n",
        "    y_test = onehot.transform(y_test).toarray()\n",
        "    return y_train, y_test, onehot\n",
        "\n"
      ],
      "execution_count": 27,
      "outputs": []
    },
    {
      "cell_type": "markdown",
      "metadata": {
        "id": "Pt_mr2cJ-4wN"
      },
      "source": [
        "**Transfer learning modifications:**\n",
        "1. For training baseline model perform an 80-20 train test split.\n",
        "2. New architecture will be trained on only new driver's data"
      ]
    },
    {
      "cell_type": "markdown",
      "metadata": {
        "id": "MVbbeC7e-Pw9"
      },
      "source": [
        "**Creating the training and testing data for baseline model as well as the personalized model**"
      ]
    },
    {
      "cell_type": "code",
      "metadata": {
        "colab": {
          "base_uri": "https://localhost:8080/",
          "height": 265
        },
        "id": "3pOOF9GHARVx",
        "outputId": "6a347fb4-7468-427b-88d0-3cd21e44dc48"
      },
      "source": [
        "#split features and targets\n",
        "\n",
        "# y= Labels excluding new driver\n",
        "y = df.TOT\n",
        "#y_new = Only new driver's labels\n",
        "y_new = only_new.TOT\n",
        "#y_full = full data labels(including all drivers)\n",
        "y_full = full_data.TOT\n",
        "\n",
        "#X = baseline data excluding new driver\n",
        "X = df.drop(['Name', 'ReactionTime', 'TOT'], axis=1)\n",
        "#X_new = Only new driver's data\n",
        "X_new = only_new.drop(['Name', 'ReactionTime', 'TOT'], axis=1)\n",
        "#X_full = All driver's data, including new driver\n",
        "X_full = full_data.drop(['Name', 'ReactionTime', 'TOT'], axis=1)\n",
        "\n",
        "# make results easier to reproduce\n",
        "random_state = 27\n",
        "\n",
        "# split train and test data\n",
        "X_train, X_test, y_train, y_test = train_test_split(X, y, test_size=0.20, stratify=y, random_state=random_state)\n",
        "#Splitting new driver data into train and test\n",
        "Xnew_train, Xnew_test, ynew_train, ynew_test = train_test_split(X_new, y_new, test_size=0.20, stratify=y_new, random_state=random_state)\n",
        "#Split full data\n",
        "Xf_train,Xf_test,yf_train,yf_test = train_test_split(X_full, y_full, test_size=0.20, stratify=y_full, random_state=random_state)\n",
        "\n",
        "#Upsampling the training data\n",
        "X_train, y_train = upsample_minority_TOTs(X_train, y_train, tot_labels)\n",
        "#Upsampling driver 16's data\n",
        "Xnew_train, ynew_train = upsample_minority_TOTs(Xnew_train, ynew_train, tot_labels)\n",
        "#Upsampling full data\n",
        "Xf_train, yf_train = upsample_minority_TOTs(Xf_train, yf_train, tot_labels)\n",
        "\n",
        "\n",
        "#scale the inputs\n",
        "X_train_enc, X_test_enc, scaler_base = prepare_inputs(X_train, X_test)\n",
        "#scale the inputs of new driver \n",
        "Xnew_train_enc, Xnew_test_enc, scaler_16 = prepare_inputs(Xnew_train, Xnew_test)\n",
        "#scale the inputs of full data\n",
        "Xf_train_enc, Xf_test_enc, scaler_full = prepare_inputs(Xf_train, Xf_test)\n",
        "\n",
        "\n",
        "# categorize outputs\n",
        "y_train_enc, y_test_enc, onehot_base = prepare_target(y_train, y_test, categories=[tot_labels])\n",
        "# categorize outputs\n",
        "ynew_train_enc, ynew_test_enc, onehot_new = prepare_target(ynew_train, ynew_test, categories=[tot_labels])\n",
        "# categorize outputs\n",
        "yf_train_enc,yf_test_enc, onehot_full = prepare_target(yf_train, yf_test, categories=[tot_labels])\n",
        "\n",
        "\n",
        "print_heading('TOT Value Counts')\n",
        "print(y_train.value_counts())\n",
        "print(ynew_train.value_counts())"
      ],
      "execution_count": 29,
      "outputs": [
        {
          "output_type": "display_data",
          "data": {
            "text/html": [
              "<h3 style=\"\">TOT Value Counts</h3>"
            ],
            "text/plain": [
              "<IPython.core.display.HTML object>"
            ]
          },
          "metadata": {
            "tags": []
          }
        },
        {
          "output_type": "stream",
          "text": [
            "med_slow    1268697\n",
            "slow        1268697\n",
            "med_fast    1268697\n",
            "fast        1268697\n",
            "med         1268697\n",
            "Name: TOT, dtype: int64\n",
            "med_fast    125586\n",
            "med         125586\n",
            "fast        125586\n",
            "med_slow    125586\n",
            "slow        125586\n",
            "Name: TOT, dtype: int64\n"
          ],
          "name": "stdout"
        }
      ]
    },
    {
      "cell_type": "code",
      "metadata": {
        "id": "ADL_EFEYn_aa",
        "colab": {
          "base_uri": "https://localhost:8080/",
          "height": 237
        },
        "outputId": "225be111-1365-4ea0-be72-30501498a68d"
      },
      "source": [
        "# save the column names & indexes for use during verification\n",
        "feature_names = list(X.columns)\n",
        "\n",
        "# display the feature names\n",
        "print_heading('Feature Names')\n",
        "print_message(feature_names)\n",
        "\n",
        "# print the TOT categories\n",
        "print_heading('TOT Categories')\n",
        "print('\\n'.join(['%s: %9.2f, %7.2f' % (tot_labels[i].rjust(8), tot_bins[i], tot_bins[i+1]) for i in range(5)]))"
      ],
      "execution_count": 30,
      "outputs": [
        {
          "output_type": "display_data",
          "data": {
            "text/html": [
              "<h3 style=\"\">Feature Names</h3>"
            ],
            "text/plain": [
              "<IPython.core.display.HTML object>"
            ]
          },
          "metadata": {
            "tags": []
          }
        },
        {
          "output_type": "display_data",
          "data": {
            "text/html": [
              "<span style=\"\">['FixationDuration', 'FixationSeq', 'FixationStart', 'FixationX', 'FixationY', 'GazeDirectionLeftZ', 'GazeDirectionRightZ', 'PupilLeft', 'PupilRight', 'InterpolatedGazeX', 'InterpolatedGazeY', 'AutoThrottle', 'AutoWheel', 'CurrentThrottle', 'CurrentWheel', 'Distance3D', 'MPH', 'ManualBrake', 'ManualThrottle', 'ManualWheel', 'RangeW', 'RightLaneDist', 'RightLaneType', 'LeftLaneDist', 'LeftLaneType']</span>"
            ],
            "text/plain": [
              "<IPython.core.display.HTML object>"
            ]
          },
          "metadata": {
            "tags": []
          }
        },
        {
          "output_type": "display_data",
          "data": {
            "text/html": [
              "<h3 style=\"\">TOT Categories</h3>"
            ],
            "text/plain": [
              "<IPython.core.display.HTML object>"
            ]
          },
          "metadata": {
            "tags": []
          }
        },
        {
          "output_type": "stream",
          "text": [
            "    fast:      -inf, 1612.00\n",
            "med_fast:   1612.00, 2802.00\n",
            "     med:   2802.00, 5180.00\n",
            "med_slow:   5180.00, 6370.00\n",
            "    slow:   6370.00,     inf\n"
          ],
          "name": "stdout"
        }
      ]
    },
    {
      "cell_type": "code",
      "metadata": {
        "id": "9iyMttEKFQkf",
        "colab": {
          "base_uri": "https://localhost:8080/",
          "height": 671
        },
        "outputId": "a9775834-7061-4ebc-ae95-b1bd903df149"
      },
      "source": [
        "def display_processed_data(unencoded=True, encoded=True, describe=True):\n",
        "    if unencoded:\n",
        "        print_heading('Unencoded Data')\n",
        "        display(pd.concat([X_train, y_train], axis=1).describe())\n",
        "        \n",
        "    if encoded:\n",
        "        enc_tot_labels = onehot_base.get_feature_names(input_features=['TOT'])\n",
        "        print_heading('Encoded Data')\n",
        "        display(pd.concat([pd.DataFrame(X_train_enc, columns=X_train.columns),\n",
        "                           pd.DataFrame(y_train_enc, columns=enc_tot_labels)],\n",
        "                          axis=1).astype({k:int for k in enc_tot_labels}).describe())\n",
        "display_processed_data()"
      ],
      "execution_count": 34,
      "outputs": [
        {
          "output_type": "display_data",
          "data": {
            "text/html": [
              "<h3 style=\"\">Unencoded Data</h3>"
            ],
            "text/plain": [
              "<IPython.core.display.HTML object>"
            ]
          },
          "metadata": {
            "tags": []
          }
        },
        {
          "output_type": "display_data",
          "data": {
            "text/html": [
              "<div>\n",
              "<style scoped>\n",
              "    .dataframe tbody tr th:only-of-type {\n",
              "        vertical-align: middle;\n",
              "    }\n",
              "\n",
              "    .dataframe tbody tr th {\n",
              "        vertical-align: top;\n",
              "    }\n",
              "\n",
              "    .dataframe thead th {\n",
              "        text-align: right;\n",
              "    }\n",
              "</style>\n",
              "<table border=\"1\" class=\"dataframe\">\n",
              "  <thead>\n",
              "    <tr style=\"text-align: right;\">\n",
              "      <th></th>\n",
              "      <th>FixationDuration</th>\n",
              "      <th>FixationSeq</th>\n",
              "      <th>FixationStart</th>\n",
              "      <th>FixationX</th>\n",
              "      <th>FixationY</th>\n",
              "      <th>GazeDirectionLeftZ</th>\n",
              "      <th>GazeDirectionRightZ</th>\n",
              "      <th>PupilLeft</th>\n",
              "      <th>PupilRight</th>\n",
              "      <th>InterpolatedGazeX</th>\n",
              "      <th>InterpolatedGazeY</th>\n",
              "      <th>AutoThrottle</th>\n",
              "      <th>AutoWheel</th>\n",
              "      <th>CurrentThrottle</th>\n",
              "      <th>CurrentWheel</th>\n",
              "      <th>Distance3D</th>\n",
              "      <th>MPH</th>\n",
              "      <th>ManualBrake</th>\n",
              "      <th>ManualThrottle</th>\n",
              "      <th>ManualWheel</th>\n",
              "      <th>RangeW</th>\n",
              "      <th>RightLaneDist</th>\n",
              "      <th>RightLaneType</th>\n",
              "      <th>LeftLaneDist</th>\n",
              "      <th>LeftLaneType</th>\n",
              "    </tr>\n",
              "  </thead>\n",
              "  <tbody>\n",
              "    <tr>\n",
              "      <th>count</th>\n",
              "      <td>6343485.00</td>\n",
              "      <td>6343485.00</td>\n",
              "      <td>6343485.00</td>\n",
              "      <td>6343485.00</td>\n",
              "      <td>6343485.00</td>\n",
              "      <td>6343485.00</td>\n",
              "      <td>6343485.00</td>\n",
              "      <td>6343485.00</td>\n",
              "      <td>6343485.00</td>\n",
              "      <td>6343485.00</td>\n",
              "      <td>6343485.00</td>\n",
              "      <td>6343485.00</td>\n",
              "      <td>6343485.00</td>\n",
              "      <td>6343485.00</td>\n",
              "      <td>6343485.00</td>\n",
              "      <td>6343485.00</td>\n",
              "      <td>6343485.00</td>\n",
              "      <td>6343485.00</td>\n",
              "      <td>6343485.00</td>\n",
              "      <td>6343485.00</td>\n",
              "      <td>6343485.00</td>\n",
              "      <td>6343485.00</td>\n",
              "      <td>6343485.00</td>\n",
              "      <td>6343485.00</td>\n",
              "      <td>6343485.00</td>\n",
              "    </tr>\n",
              "    <tr>\n",
              "      <th>mean</th>\n",
              "      <td>638.85</td>\n",
              "      <td>947.02</td>\n",
              "      <td>515842.81</td>\n",
              "      <td>890.97</td>\n",
              "      <td>436.08</td>\n",
              "      <td>0.84</td>\n",
              "      <td>0.81</td>\n",
              "      <td>4.55</td>\n",
              "      <td>4.60</td>\n",
              "      <td>774.59</td>\n",
              "      <td>400.50</td>\n",
              "      <td>17.51</td>\n",
              "      <td>3.45</td>\n",
              "      <td>17.09</td>\n",
              "      <td>3.23</td>\n",
              "      <td>643.57</td>\n",
              "      <td>33.72</td>\n",
              "      <td>4.99</td>\n",
              "      <td>2.31</td>\n",
              "      <td>-1.81</td>\n",
              "      <td>0.41</td>\n",
              "      <td>1.73</td>\n",
              "      <td>2.89</td>\n",
              "      <td>1.76</td>\n",
              "      <td>1.05</td>\n",
              "    </tr>\n",
              "    <tr>\n",
              "      <th>std</th>\n",
              "      <td>802.90</td>\n",
              "      <td>472.63</td>\n",
              "      <td>247022.26</td>\n",
              "      <td>246.13</td>\n",
              "      <td>169.69</td>\n",
              "      <td>0.28</td>\n",
              "      <td>0.30</td>\n",
              "      <td>0.78</td>\n",
              "      <td>0.74</td>\n",
              "      <td>441.37</td>\n",
              "      <td>273.33</td>\n",
              "      <td>2.50</td>\n",
              "      <td>90.90</td>\n",
              "      <td>6.40</td>\n",
              "      <td>35.35</td>\n",
              "      <td>893.45</td>\n",
              "      <td>5.02</td>\n",
              "      <td>14.99</td>\n",
              "      <td>10.67</td>\n",
              "      <td>4.86</td>\n",
              "      <td>5.70</td>\n",
              "      <td>0.32</td>\n",
              "      <td>0.46</td>\n",
              "      <td>0.32</td>\n",
              "      <td>0.23</td>\n",
              "    </tr>\n",
              "    <tr>\n",
              "      <th>min</th>\n",
              "      <td>100.00</td>\n",
              "      <td>1.00</td>\n",
              "      <td>10.00</td>\n",
              "      <td>0.00</td>\n",
              "      <td>0.00</td>\n",
              "      <td>-0.22</td>\n",
              "      <td>-0.49</td>\n",
              "      <td>1.74</td>\n",
              "      <td>1.62</td>\n",
              "      <td>-1.00</td>\n",
              "      <td>-1.00</td>\n",
              "      <td>15.00</td>\n",
              "      <td>-3799.00</td>\n",
              "      <td>0.00</td>\n",
              "      <td>-3707.00</td>\n",
              "      <td>0.00</td>\n",
              "      <td>0.00</td>\n",
              "      <td>0.00</td>\n",
              "      <td>0.00</td>\n",
              "      <td>-90.00</td>\n",
              "      <td>0.00</td>\n",
              "      <td>0.00</td>\n",
              "      <td>0.00</td>\n",
              "      <td>0.00</td>\n",
              "      <td>0.00</td>\n",
              "    </tr>\n",
              "    <tr>\n",
              "      <th>25%</th>\n",
              "      <td>294.00</td>\n",
              "      <td>755.00</td>\n",
              "      <td>447943.00</td>\n",
              "      <td>897.00</td>\n",
              "      <td>416.00</td>\n",
              "      <td>0.86</td>\n",
              "      <td>0.83</td>\n",
              "      <td>3.90</td>\n",
              "      <td>4.00</td>\n",
              "      <td>680.00</td>\n",
              "      <td>170.00</td>\n",
              "      <td>15.00</td>\n",
              "      <td>-13.00</td>\n",
              "      <td>15.00</td>\n",
              "      <td>-12.00</td>\n",
              "      <td>388.35</td>\n",
              "      <td>33.49</td>\n",
              "      <td>0.00</td>\n",
              "      <td>0.00</td>\n",
              "      <td>-4.00</td>\n",
              "      <td>0.00</td>\n",
              "      <td>1.60</td>\n",
              "      <td>3.00</td>\n",
              "      <td>1.65</td>\n",
              "      <td>1.00</td>\n",
              "    </tr>\n",
              "    <tr>\n",
              "      <th>50%</th>\n",
              "      <td>650.25</td>\n",
              "      <td>928.29</td>\n",
              "      <td>506955.49</td>\n",
              "      <td>897.00</td>\n",
              "      <td>435.27</td>\n",
              "      <td>0.94</td>\n",
              "      <td>0.94</td>\n",
              "      <td>4.65</td>\n",
              "      <td>4.93</td>\n",
              "      <td>901.00</td>\n",
              "      <td>430.00</td>\n",
              "      <td>20.00</td>\n",
              "      <td>0.00</td>\n",
              "      <td>15.00</td>\n",
              "      <td>0.00</td>\n",
              "      <td>683.20</td>\n",
              "      <td>35.00</td>\n",
              "      <td>0.00</td>\n",
              "      <td>0.00</td>\n",
              "      <td>-1.00</td>\n",
              "      <td>0.00</td>\n",
              "      <td>1.75</td>\n",
              "      <td>3.00</td>\n",
              "      <td>1.75</td>\n",
              "      <td>1.00</td>\n",
              "    </tr>\n",
              "    <tr>\n",
              "      <th>75%</th>\n",
              "      <td>650.25</td>\n",
              "      <td>1039.00</td>\n",
              "      <td>589769.00</td>\n",
              "      <td>953.00</td>\n",
              "      <td>481.00</td>\n",
              "      <td>0.98</td>\n",
              "      <td>0.98</td>\n",
              "      <td>5.00</td>\n",
              "      <td>5.00</td>\n",
              "      <td>1031.00</td>\n",
              "      <td>588.00</td>\n",
              "      <td>20.00</td>\n",
              "      <td>29.00</td>\n",
              "      <td>20.00</td>\n",
              "      <td>23.00</td>\n",
              "      <td>696.80</td>\n",
              "      <td>35.05</td>\n",
              "      <td>0.00</td>\n",
              "      <td>0.00</td>\n",
              "      <td>1.00</td>\n",
              "      <td>0.00</td>\n",
              "      <td>1.85</td>\n",
              "      <td>3.00</td>\n",
              "      <td>1.90</td>\n",
              "      <td>1.00</td>\n",
              "    </tr>\n",
              "    <tr>\n",
              "      <th>max</th>\n",
              "      <td>15444.00</td>\n",
              "      <td>2554.00</td>\n",
              "      <td>1208913.00</td>\n",
              "      <td>1915.00</td>\n",
              "      <td>1077.00</td>\n",
              "      <td>1.00</td>\n",
              "      <td>1.00</td>\n",
              "      <td>7.50</td>\n",
              "      <td>8.50</td>\n",
              "      <td>1919.00</td>\n",
              "      <td>1079.00</td>\n",
              "      <td>20.00</td>\n",
              "      <td>4049.00</td>\n",
              "      <td>100.00</td>\n",
              "      <td>755.00</td>\n",
              "      <td>132550.50</td>\n",
              "      <td>59.16</td>\n",
              "      <td>100.00</td>\n",
              "      <td>100.00</td>\n",
              "      <td>90.00</td>\n",
              "      <td>131.00</td>\n",
              "      <td>4.39</td>\n",
              "      <td>3.00</td>\n",
              "      <td>9.90</td>\n",
              "      <td>3.00</td>\n",
              "    </tr>\n",
              "  </tbody>\n",
              "</table>\n",
              "</div>"
            ],
            "text/plain": [
              "       FixationDuration  FixationSeq  ...  LeftLaneDist  LeftLaneType\n",
              "count        6343485.00   6343485.00  ...    6343485.00    6343485.00\n",
              "mean             638.85       947.02  ...          1.76          1.05\n",
              "std              802.90       472.63  ...          0.32          0.23\n",
              "min              100.00         1.00  ...          0.00          0.00\n",
              "25%              294.00       755.00  ...          1.65          1.00\n",
              "50%              650.25       928.29  ...          1.75          1.00\n",
              "75%              650.25      1039.00  ...          1.90          1.00\n",
              "max            15444.00      2554.00  ...          9.90          3.00\n",
              "\n",
              "[8 rows x 25 columns]"
            ]
          },
          "metadata": {
            "tags": []
          }
        },
        {
          "output_type": "display_data",
          "data": {
            "text/html": [
              "<h3 style=\"\">Encoded Data</h3>"
            ],
            "text/plain": [
              "<IPython.core.display.HTML object>"
            ]
          },
          "metadata": {
            "tags": []
          }
        },
        {
          "output_type": "display_data",
          "data": {
            "text/html": [
              "<div>\n",
              "<style scoped>\n",
              "    .dataframe tbody tr th:only-of-type {\n",
              "        vertical-align: middle;\n",
              "    }\n",
              "\n",
              "    .dataframe tbody tr th {\n",
              "        vertical-align: top;\n",
              "    }\n",
              "\n",
              "    .dataframe thead th {\n",
              "        text-align: right;\n",
              "    }\n",
              "</style>\n",
              "<table border=\"1\" class=\"dataframe\">\n",
              "  <thead>\n",
              "    <tr style=\"text-align: right;\">\n",
              "      <th></th>\n",
              "      <th>FixationDuration</th>\n",
              "      <th>FixationSeq</th>\n",
              "      <th>FixationStart</th>\n",
              "      <th>FixationX</th>\n",
              "      <th>FixationY</th>\n",
              "      <th>GazeDirectionLeftZ</th>\n",
              "      <th>GazeDirectionRightZ</th>\n",
              "      <th>PupilLeft</th>\n",
              "      <th>PupilRight</th>\n",
              "      <th>InterpolatedGazeX</th>\n",
              "      <th>InterpolatedGazeY</th>\n",
              "      <th>AutoThrottle</th>\n",
              "      <th>AutoWheel</th>\n",
              "      <th>CurrentThrottle</th>\n",
              "      <th>CurrentWheel</th>\n",
              "      <th>Distance3D</th>\n",
              "      <th>MPH</th>\n",
              "      <th>ManualBrake</th>\n",
              "      <th>ManualThrottle</th>\n",
              "      <th>ManualWheel</th>\n",
              "      <th>RangeW</th>\n",
              "      <th>RightLaneDist</th>\n",
              "      <th>RightLaneType</th>\n",
              "      <th>LeftLaneDist</th>\n",
              "      <th>LeftLaneType</th>\n",
              "      <th>TOT_fast</th>\n",
              "      <th>TOT_med_fast</th>\n",
              "      <th>TOT_med</th>\n",
              "      <th>TOT_med_slow</th>\n",
              "      <th>TOT_slow</th>\n",
              "    </tr>\n",
              "  </thead>\n",
              "  <tbody>\n",
              "    <tr>\n",
              "      <th>count</th>\n",
              "      <td>6343485.00</td>\n",
              "      <td>6343485.00</td>\n",
              "      <td>6343485.00</td>\n",
              "      <td>6343485.00</td>\n",
              "      <td>6343485.00</td>\n",
              "      <td>6343485.00</td>\n",
              "      <td>6343485.00</td>\n",
              "      <td>6343485.00</td>\n",
              "      <td>6343485.00</td>\n",
              "      <td>6343485.00</td>\n",
              "      <td>6343485.00</td>\n",
              "      <td>6343485.00</td>\n",
              "      <td>6343485.00</td>\n",
              "      <td>6343485.00</td>\n",
              "      <td>6343485.00</td>\n",
              "      <td>6343485.00</td>\n",
              "      <td>6343485.00</td>\n",
              "      <td>6343485.00</td>\n",
              "      <td>6343485.00</td>\n",
              "      <td>6343485.00</td>\n",
              "      <td>6343485.00</td>\n",
              "      <td>6343485.00</td>\n",
              "      <td>6343485.00</td>\n",
              "      <td>6343485.00</td>\n",
              "      <td>6343485.00</td>\n",
              "      <td>6343485.00</td>\n",
              "      <td>6343485.00</td>\n",
              "      <td>6343485.00</td>\n",
              "      <td>6343485.00</td>\n",
              "      <td>6343485.00</td>\n",
              "    </tr>\n",
              "    <tr>\n",
              "      <th>mean</th>\n",
              "      <td>0.00</td>\n",
              "      <td>0.00</td>\n",
              "      <td>0.00</td>\n",
              "      <td>-0.00</td>\n",
              "      <td>-0.00</td>\n",
              "      <td>-0.00</td>\n",
              "      <td>-0.00</td>\n",
              "      <td>-0.00</td>\n",
              "      <td>-0.00</td>\n",
              "      <td>-0.00</td>\n",
              "      <td>-0.00</td>\n",
              "      <td>-0.00</td>\n",
              "      <td>0.00</td>\n",
              "      <td>0.00</td>\n",
              "      <td>0.00</td>\n",
              "      <td>-0.00</td>\n",
              "      <td>-0.00</td>\n",
              "      <td>0.00</td>\n",
              "      <td>0.00</td>\n",
              "      <td>0.00</td>\n",
              "      <td>0.00</td>\n",
              "      <td>-0.00</td>\n",
              "      <td>0.00</td>\n",
              "      <td>0.00</td>\n",
              "      <td>-0.00</td>\n",
              "      <td>0.20</td>\n",
              "      <td>0.20</td>\n",
              "      <td>0.20</td>\n",
              "      <td>0.20</td>\n",
              "      <td>0.20</td>\n",
              "    </tr>\n",
              "    <tr>\n",
              "      <th>std</th>\n",
              "      <td>1.00</td>\n",
              "      <td>1.00</td>\n",
              "      <td>1.00</td>\n",
              "      <td>1.00</td>\n",
              "      <td>1.00</td>\n",
              "      <td>1.00</td>\n",
              "      <td>1.00</td>\n",
              "      <td>1.00</td>\n",
              "      <td>1.00</td>\n",
              "      <td>1.00</td>\n",
              "      <td>1.00</td>\n",
              "      <td>1.00</td>\n",
              "      <td>1.00</td>\n",
              "      <td>1.00</td>\n",
              "      <td>1.00</td>\n",
              "      <td>0.99</td>\n",
              "      <td>1.00</td>\n",
              "      <td>1.01</td>\n",
              "      <td>1.00</td>\n",
              "      <td>1.00</td>\n",
              "      <td>1.00</td>\n",
              "      <td>1.00</td>\n",
              "      <td>1.00</td>\n",
              "      <td>1.00</td>\n",
              "      <td>1.00</td>\n",
              "      <td>0.40</td>\n",
              "      <td>0.40</td>\n",
              "      <td>0.40</td>\n",
              "      <td>0.40</td>\n",
              "      <td>0.40</td>\n",
              "    </tr>\n",
              "    <tr>\n",
              "      <th>min</th>\n",
              "      <td>-0.67</td>\n",
              "      <td>-2.01</td>\n",
              "      <td>-2.09</td>\n",
              "      <td>-3.63</td>\n",
              "      <td>-2.58</td>\n",
              "      <td>-3.83</td>\n",
              "      <td>-4.32</td>\n",
              "      <td>-3.61</td>\n",
              "      <td>-3.98</td>\n",
              "      <td>-1.76</td>\n",
              "      <td>-1.47</td>\n",
              "      <td>-1.00</td>\n",
              "      <td>-41.87</td>\n",
              "      <td>-2.67</td>\n",
              "      <td>-104.90</td>\n",
              "      <td>-0.71</td>\n",
              "      <td>-6.72</td>\n",
              "      <td>-0.33</td>\n",
              "      <td>-0.22</td>\n",
              "      <td>-18.12</td>\n",
              "      <td>-0.07</td>\n",
              "      <td>-5.44</td>\n",
              "      <td>-6.29</td>\n",
              "      <td>-5.54</td>\n",
              "      <td>-4.53</td>\n",
              "      <td>0.00</td>\n",
              "      <td>0.00</td>\n",
              "      <td>0.00</td>\n",
              "      <td>0.00</td>\n",
              "      <td>0.00</td>\n",
              "    </tr>\n",
              "    <tr>\n",
              "      <th>25%</th>\n",
              "      <td>-0.43</td>\n",
              "      <td>-0.41</td>\n",
              "      <td>-0.27</td>\n",
              "      <td>0.02</td>\n",
              "      <td>-0.12</td>\n",
              "      <td>0.06</td>\n",
              "      <td>0.05</td>\n",
              "      <td>-0.84</td>\n",
              "      <td>-0.80</td>\n",
              "      <td>-0.22</td>\n",
              "      <td>-0.85</td>\n",
              "      <td>-1.00</td>\n",
              "      <td>-0.18</td>\n",
              "      <td>-0.33</td>\n",
              "      <td>-0.43</td>\n",
              "      <td>-0.28</td>\n",
              "      <td>-0.05</td>\n",
              "      <td>-0.33</td>\n",
              "      <td>-0.22</td>\n",
              "      <td>-0.45</td>\n",
              "      <td>-0.07</td>\n",
              "      <td>-0.42</td>\n",
              "      <td>0.24</td>\n",
              "      <td>-0.37</td>\n",
              "      <td>-0.23</td>\n",
              "      <td>0.00</td>\n",
              "      <td>0.00</td>\n",
              "      <td>0.00</td>\n",
              "      <td>0.00</td>\n",
              "      <td>0.00</td>\n",
              "    </tr>\n",
              "    <tr>\n",
              "      <th>50%</th>\n",
              "      <td>0.02</td>\n",
              "      <td>-0.04</td>\n",
              "      <td>-0.03</td>\n",
              "      <td>0.02</td>\n",
              "      <td>-0.01</td>\n",
              "      <td>0.34</td>\n",
              "      <td>0.42</td>\n",
              "      <td>0.13</td>\n",
              "      <td>0.44</td>\n",
              "      <td>0.28</td>\n",
              "      <td>0.11</td>\n",
              "      <td>1.00</td>\n",
              "      <td>-0.04</td>\n",
              "      <td>-0.33</td>\n",
              "      <td>-0.09</td>\n",
              "      <td>0.04</td>\n",
              "      <td>0.25</td>\n",
              "      <td>-0.33</td>\n",
              "      <td>-0.22</td>\n",
              "      <td>0.17</td>\n",
              "      <td>-0.07</td>\n",
              "      <td>0.05</td>\n",
              "      <td>0.24</td>\n",
              "      <td>-0.04</td>\n",
              "      <td>-0.23</td>\n",
              "      <td>0.00</td>\n",
              "      <td>0.00</td>\n",
              "      <td>0.00</td>\n",
              "      <td>0.00</td>\n",
              "      <td>0.00</td>\n",
              "    </tr>\n",
              "    <tr>\n",
              "      <th>75%</th>\n",
              "      <td>0.02</td>\n",
              "      <td>0.20</td>\n",
              "      <td>0.30</td>\n",
              "      <td>0.25</td>\n",
              "      <td>0.26</td>\n",
              "      <td>0.51</td>\n",
              "      <td>0.55</td>\n",
              "      <td>0.58</td>\n",
              "      <td>0.54</td>\n",
              "      <td>0.58</td>\n",
              "      <td>0.69</td>\n",
              "      <td>1.00</td>\n",
              "      <td>0.28</td>\n",
              "      <td>0.46</td>\n",
              "      <td>0.56</td>\n",
              "      <td>0.06</td>\n",
              "      <td>0.27</td>\n",
              "      <td>-0.33</td>\n",
              "      <td>-0.22</td>\n",
              "      <td>0.58</td>\n",
              "      <td>-0.07</td>\n",
              "      <td>0.38</td>\n",
              "      <td>0.24</td>\n",
              "      <td>0.43</td>\n",
              "      <td>-0.23</td>\n",
              "      <td>0.00</td>\n",
              "      <td>0.00</td>\n",
              "      <td>0.00</td>\n",
              "      <td>0.00</td>\n",
              "      <td>0.00</td>\n",
              "    </tr>\n",
              "    <tr>\n",
              "      <th>max</th>\n",
              "      <td>18.42</td>\n",
              "      <td>3.41</td>\n",
              "      <td>2.82</td>\n",
              "      <td>4.17</td>\n",
              "      <td>3.78</td>\n",
              "      <td>0.56</td>\n",
              "      <td>0.62</td>\n",
              "      <td>3.79</td>\n",
              "      <td>5.22</td>\n",
              "      <td>2.60</td>\n",
              "      <td>2.49</td>\n",
              "      <td>1.00</td>\n",
              "      <td>44.55</td>\n",
              "      <td>12.96</td>\n",
              "      <td>21.26</td>\n",
              "      <td>145.96</td>\n",
              "      <td>5.07</td>\n",
              "      <td>6.39</td>\n",
              "      <td>9.17</td>\n",
              "      <td>18.87</td>\n",
              "      <td>22.94</td>\n",
              "      <td>8.34</td>\n",
              "      <td>0.24</td>\n",
              "      <td>25.54</td>\n",
              "      <td>8.37</td>\n",
              "      <td>1.00</td>\n",
              "      <td>1.00</td>\n",
              "      <td>1.00</td>\n",
              "      <td>1.00</td>\n",
              "      <td>1.00</td>\n",
              "    </tr>\n",
              "  </tbody>\n",
              "</table>\n",
              "</div>"
            ],
            "text/plain": [
              "       FixationDuration  FixationSeq  ...  TOT_med_slow   TOT_slow\n",
              "count        6343485.00   6343485.00  ...    6343485.00 6343485.00\n",
              "mean               0.00         0.00  ...          0.20       0.20\n",
              "std                1.00         1.00  ...          0.40       0.40\n",
              "min               -0.67        -2.01  ...          0.00       0.00\n",
              "25%               -0.43        -0.41  ...          0.00       0.00\n",
              "50%                0.02        -0.04  ...          0.00       0.00\n",
              "75%                0.02         0.20  ...          0.00       0.00\n",
              "max               18.42         3.41  ...          1.00       1.00\n",
              "\n",
              "[8 rows x 30 columns]"
            ]
          },
          "metadata": {
            "tags": []
          }
        }
      ]
    },
    {
      "cell_type": "markdown",
      "metadata": {
        "id": "yHuNy4fVKOQ8"
      },
      "source": [
        "\n",
        "## Build & Train NN"
      ]
    },
    {
      "cell_type": "markdown",
      "metadata": {
        "id": "rH-B9e7EEPEk"
      },
      "source": [
        "**LR scheduler**"
      ]
    },
    {
      "cell_type": "code",
      "metadata": {
        "id": "pMaSLvbIENk8"
      },
      "source": [
        "reduce_lr = ReduceLROnPlateau(monitor='val_loss', factor=0.2,\n",
        "                              patience=15, min_lr=0.0001)"
      ],
      "execution_count": 35,
      "outputs": []
    },
    {
      "cell_type": "code",
      "metadata": {
        "id": "792pqW374S4p"
      },
      "source": [
        "#These callbacks are common to the baseline as well as modified architecture.\n",
        "#cleanup the old training logs and models\n",
        "!rm -rf $tensorboard_logs model-*.h5 $saved_model_dir\n",
        "\n",
        "# training callbacks\n",
        "mc_file = 'model-best-{epoch:02d}-{val_loss:.2f}.h5'\n",
        "es_cb = EarlyStopping(monitor='val_loss', mode='min', verbose=1, patience=30)\n",
        "mc_cb = ModelCheckpoint(mc_file, monitor='val_loss', mode='min', verbose=1, save_best_only=True)\n",
        "tb_cb = TensorBoard(log_dir=tensorboard_logs, histogram_freq=1, write_graph=True, write_images=True)"
      ],
      "execution_count": 36,
      "outputs": []
    },
    {
      "cell_type": "markdown",
      "metadata": {
        "id": "elPmmh3iC1tc"
      },
      "source": [
        "### Tried architectures"
      ]
    },
    {
      "cell_type": "code",
      "metadata": {
        "id": "h9NduvhQC0xn"
      },
      "source": [
        "#Baseline Neural Network\n",
        "\n",
        "# build neural network\n",
        "\n",
        "# v3.1.4 (28,14,8): accuracy ~0.9124, loss ~0.2079\n",
        "\n",
        "# v3.2.0 - loss: 0.3543 - accuracy: 0.8639 - val_loss: 0.3481 - val_accuracy: 0.8650\n",
        "# model = Sequential()\n",
        "# model.add(InputLayer(input_shape=(X_train_enc.shape[1],)))\n",
        "# model.add(Dense(28, activation='relu', kernel_initializer='he_normal'))\n",
        "# model.add(Dense(16, activation='relu'))\n",
        "# model.add(Dense(10, activation='relu'))\n",
        "# model.add(Dense(5, activation='softmax')) # logits layer\n",
        "\n",
        "# v3.2.1 - loss: 0.3444 - accuracy:  0.8661 - val_loss: 0.3348 - val_accuracy: 0.8699\n",
        "# model = Sequential()\n",
        "# model.add(InputLayer(input_shape=(X_train_enc.shape[1],)))\n",
        "# model.add(Dense(23, activation='relu', kernel_initializer='he_normal'))\n",
        "# model.add(BatchNormalization())\n",
        "# model.add(Dense(18, activation='relu'))\n",
        "# model.add(Dense(11, activation='relu'))\n",
        "# model.add(Dense(5, activation='softmax')) # logits layer\n",
        "\n",
        "# model = Sequential()\n",
        "# model.add(InputLayer(input_shape=(X_train_enc.shape[1],)))\n",
        "# model.add(Dense(80, activation='relu', kernel_initializer='he_normal'))\n",
        "# model.add(BatchNormalization())\n",
        "# model.add(Dense(50, activation='relu'))\n",
        "# model.add(BatchNormalization())\n",
        "# model.add(Dense(35, activation='relu'))\n",
        "# model.add(BatchNormalization())\n",
        "# model.add(Dense(23, activation='relu'))\n",
        "# model.add(BatchNormalization())\n",
        "# model.add(Dense(18, activation='relu'))\n",
        "# model.add(BatchNormalization())\n",
        "# model.add(Dense(11, activation='relu'))\n",
        "# model.add(Dense(5, activation='softmax')) # logits layer\n",
        "\n",
        "# model.compile(loss='categorical_crossentropy', optimizer='adam', metrics=['accuracy'])"
      ],
      "execution_count": null,
      "outputs": []
    },
    {
      "cell_type": "markdown",
      "metadata": {
        "id": "ODkMeva7z1Rx"
      },
      "source": [
        "### Experiment 3 with Baseline"
      ]
    },
    {
      "cell_type": "code",
      "metadata": {
        "id": "s7sRpweDz0_v"
      },
      "source": [
        "'''\n",
        "Model architecture:\n",
        "Input Neurons: 25(Number of features in each data point)\n",
        "Hidden Layers: Dense layers with 50-100-35-11\n",
        "Output Neurons: 5 (Number of classes)\n",
        "'''\n",
        "model = Sequential()\n",
        "model.add(InputLayer(input_shape=(X_train_enc.shape[1],)))\n",
        "model.add(Dense(50, activation='relu', kernel_initializer='he_normal'))\n",
        "model.add(Dense(100, activation='relu'))\n",
        "model.add(Dense(35, activation='relu'))\n",
        "model.add(Dense(11, activation='relu'))\n",
        "model.add(Dense(5, activation='softmax')) # logits layer\n",
        "\n",
        "model.compile(loss='categorical_crossentropy', optimizer='sgd', metrics=['accuracy'])\n",
        "\n",
        "\n",
        "\n",
        "# fit the keras model on the dataset\n",
        "history = model.fit(X_train_enc, y_train_enc,\n",
        "                      validation_split=0.10,\n",
        "                      epochs=200,\n",
        "                      batch_size=512,\n",
        "                      callbacks=[es_cb, mc_cb, tb_cb, reduce_lr])\n",
        "\n",
        "# pick best model file from filesystem\n",
        "best_model_path = sorted(glob.glob('model-best-*.h5'), key=lambda f: int(re.search(r'\\d+', f).group()))[-1]\n",
        "\n",
        "print_heading('Best Model:')\n",
        "print_message(best_model_path)\n",
        "\n",
        "# cleanup old model\n",
        "!rm -rf $saved_model_dir\n",
        "\n",
        "# save model in tf and h5 formats\n",
        "tf_model_path = f'{saved_model_dir}/model'\n",
        "h5_model_path = f'{saved_model_dir}/model.h5'\n",
        "model.save(tf_model_path, save_format='tf')\n",
        "model.save(h5_model_path, save_format='h5')"
      ],
      "execution_count": null,
      "outputs": []
    },
    {
      "cell_type": "code",
      "metadata": {
        "id": "um9voXGDSIFH"
      },
      "source": [
        "model = load_model('model-best-190-0.49.h5')"
      ],
      "execution_count": null,
      "outputs": []
    },
    {
      "cell_type": "markdown",
      "metadata": {
        "id": "vwZ2LQj7-O7y"
      },
      "source": [
        "**4-Hidden layer baseline being tested on data without driver 16**"
      ]
    },
    {
      "cell_type": "code",
      "metadata": {
        "colab": {
          "base_uri": "https://localhost:8080/"
        },
        "id": "y8AF9JuB8K6k",
        "outputId": "e7f83966-b832-45c7-bd2b-545b09103969"
      },
      "source": [
        "_, train_acc = model.evaluate(X_train_enc, y_train_enc, verbose=2)\n",
        "_, test_acc = model.evaluate(X_test_enc, y_test_enc, verbose=1)\n",
        "print('Accuracy of test: %.2f' % (test_acc*100))\n",
        "print('Accuracy of the: '+'1) Train: %.3f, 2) Test: %.3f' % (train_acc, test_acc))"
      ],
      "execution_count": null,
      "outputs": [
        {
          "output_type": "stream",
          "text": [
            "198234/198234 - 209s - loss: 0.6175 - accuracy: 0.7798\n",
            "34552/34552 [==============================] - 50s 1ms/step - loss: 0.6223 - accuracy: 0.7687\n",
            "Accuracy of test: 76.87\n",
            "Accuracy of the: 1) Train: 0.780, 2) Test: 0.769\n"
          ],
          "name": "stdout"
        }
      ]
    },
    {
      "cell_type": "markdown",
      "metadata": {
        "id": "rFrv9dwVTRjf"
      },
      "source": [
        "**4-Hidden layer baseline being tested on data without driver 17**"
      ]
    },
    {
      "cell_type": "code",
      "metadata": {
        "colab": {
          "base_uri": "https://localhost:8080/"
        },
        "id": "RvWhHXI9TRGY",
        "outputId": "38707f61-08d9-4b69-fa09-0585dec49531"
      },
      "source": [
        "_, train_acc = model.evaluate(X_train_enc, y_train_enc, verbose=2)\n",
        "_, test_acc = model.evaluate(X_test_enc, y_test_enc, verbose=1)\n",
        "print('Accuracy of test: %.2f' % (test_acc*100))\n",
        "print('Accuracy of the: '+'1) Train: %.3f, 2) Test: %.3f' % (train_acc, test_acc))"
      ],
      "execution_count": null,
      "outputs": [
        {
          "output_type": "stream",
          "text": [
            "197383/197383 - 214s - loss: 0.4847 - accuracy: 0.8207\n",
            "34386/34386 [==============================] - 53s 2ms/step - loss: 0.5168 - accuracy: 0.8062\n",
            "Accuracy of test: 80.62\n",
            "Accuracy of the: 1) Train: 0.821, 2) Test: 0.806\n"
          ],
          "name": "stdout"
        }
      ]
    },
    {
      "cell_type": "code",
      "metadata": {
        "id": "4It8-ajyj4Dk"
      },
      "source": [
        "\n",
        "old_model = load_model('model-best-190-0.49.h5')"
      ],
      "execution_count": null,
      "outputs": []
    },
    {
      "cell_type": "code",
      "metadata": {
        "id": "Tbowz1GeWS-o",
        "colab": {
          "base_uri": "https://localhost:8080/"
        },
        "outputId": "ae580a18-b57b-494f-d399-e42f5ee99f94"
      },
      "source": [
        "old_model.summary()"
      ],
      "execution_count": null,
      "outputs": [
        {
          "output_type": "stream",
          "text": [
            "Model: \"sequential\"\n",
            "_________________________________________________________________\n",
            "Layer (type)                 Output Shape              Param #   \n",
            "=================================================================\n",
            "dense (Dense)                (None, 50)                1300      \n",
            "_________________________________________________________________\n",
            "dense_1 (Dense)              (None, 100)               5100      \n",
            "_________________________________________________________________\n",
            "dense_2 (Dense)              (None, 35)                3535      \n",
            "_________________________________________________________________\n",
            "dense_3 (Dense)              (None, 11)                396       \n",
            "_________________________________________________________________\n",
            "dense_4 (Dense)              (None, 5)                 60        \n",
            "=================================================================\n",
            "Total params: 10,391\n",
            "Trainable params: 10,391\n",
            "Non-trainable params: 0\n",
            "_________________________________________________________________\n"
          ],
          "name": "stdout"
        }
      ]
    },
    {
      "cell_type": "markdown",
      "metadata": {
        "id": "s6sWM6Oe7Zlc"
      },
      "source": [
        "**Accuracy of the original model on driver 16's data**"
      ]
    },
    {
      "cell_type": "code",
      "metadata": {
        "id": "c92cEOJUjEnH"
      },
      "source": [
        "_, train_acc = old_model.evaluate(X16_train_enc, y16_train_enc, verbose=2)\n",
        "_, test_acc = old_model.evaluate(X16_test_enc, y16_test_enc, verbose=1)\n",
        "print('Accuracy of test: %.2f' % (test_acc*100))\n",
        "print('Accuracy of the: '+'1) Train: %.3f, 2) Test: %.3f' % (train_acc, test_acc))"
      ],
      "execution_count": null,
      "outputs": []
    },
    {
      "cell_type": "code",
      "metadata": {
        "id": "5wdK_QPs4lUU",
        "colab": {
          "base_uri": "https://localhost:8080/"
        },
        "outputId": "0e914745-8a4f-4fe8-ddd3-cb69aafed1e3"
      },
      "source": [
        "# Load the best baseline architecture\n",
        "#old_model = load_model('model-best-43-1.01.h5')\n",
        "\n",
        "#Freeze the weights learnt by the baseline model\n",
        "old_model.trainable = False\n",
        "\n",
        "#Consider upto the penultimate layer of the network\n",
        "old_model.pop()\n",
        "old_model.pop()\n",
        "#Verify the slice of the architecture\n",
        "old_model.summary()"
      ],
      "execution_count": null,
      "outputs": [
        {
          "output_type": "stream",
          "text": [
            "Model: \"sequential\"\n",
            "_________________________________________________________________\n",
            "Layer (type)                 Output Shape              Param #   \n",
            "=================================================================\n",
            "dense (Dense)                (None, 50)                1300      \n",
            "_________________________________________________________________\n",
            "dense_1 (Dense)              (None, 100)               5100      \n",
            "_________________________________________________________________\n",
            "dense_2 (Dense)              (None, 35)                3535      \n",
            "=================================================================\n",
            "Total params: 9,935\n",
            "Trainable params: 0\n",
            "Non-trainable params: 9,935\n",
            "_________________________________________________________________\n"
          ],
          "name": "stdout"
        }
      ]
    },
    {
      "cell_type": "markdown",
      "metadata": {
        "id": "Pm5oxMe-AESH"
      },
      "source": [
        "**Inserting additional layers in the baseline**\n",
        "1. Create a dense layer which will take output of old_model as its input.\n",
        "2. Add the final classification layer as per the baseline."
      ]
    },
    {
      "cell_type": "markdown",
      "metadata": {
        "id": "KuCVF1ra-fTu"
      },
      "source": [
        "**A wider and deeper architecture for transfer learning**"
      ]
    },
    {
      "cell_type": "code",
      "metadata": {
        "id": "LxmmUwRXHiuY"
      },
      "source": [
        "fc = Dense(50,activation= 'relu')(old_model.output)\n",
        "fc2 = Dense(25,activation= 'relu')(fc)\n",
        "fc3 = Dense(5,activation='softmax')(fc2)\n",
        "\n",
        "model = Model(inputs = old_model.input, outputs = fc3)\n",
        "\n",
        "model.compile(loss='categorical_crossentropy', optimizer='sgd', metrics=['accuracy'])"
      ],
      "execution_count": null,
      "outputs": []
    },
    {
      "cell_type": "code",
      "metadata": {
        "colab": {
          "base_uri": "https://localhost:8080/"
        },
        "id": "xa8MU4azoqL4",
        "outputId": "2faefac1-2848-4a7c-f24b-945bf5d553c7"
      },
      "source": [
        "model.summary()"
      ],
      "execution_count": null,
      "outputs": [
        {
          "output_type": "stream",
          "text": [
            "Model: \"model_1\"\n",
            "_________________________________________________________________\n",
            "Layer (type)                 Output Shape              Param #   \n",
            "=================================================================\n",
            "input_1 (InputLayer)         [(None, 25)]              0         \n",
            "_________________________________________________________________\n",
            "dense (Dense)                (None, 50)                1300      \n",
            "_________________________________________________________________\n",
            "dense_1 (Dense)              (None, 100)               5100      \n",
            "_________________________________________________________________\n",
            "dense_2 (Dense)              (None, 35)                3535      \n",
            "_________________________________________________________________\n",
            "dense_3 (Dense)              (None, 50)                1800      \n",
            "_________________________________________________________________\n",
            "dense_4 (Dense)              (None, 25)                1275      \n",
            "_________________________________________________________________\n",
            "dense_5 (Dense)              (None, 5)                 130       \n",
            "=================================================================\n",
            "Total params: 13,140\n",
            "Trainable params: 3,205\n",
            "Non-trainable params: 9,935\n",
            "_________________________________________________________________\n"
          ],
          "name": "stdout"
        }
      ]
    },
    {
      "cell_type": "markdown",
      "metadata": {
        "id": "4wSCcbCzAmH7"
      },
      "source": [
        "**Training the modified architecture**\n",
        "The training is done only on driver16 data\n",
        "\n",
        "## Mod: Training the transfer layers now on full dataset"
      ]
    },
    {
      "cell_type": "code",
      "metadata": {
        "colab": {
          "base_uri": "https://localhost:8080/"
        },
        "id": "M70u_Qb_H7et",
        "outputId": "28317aab-2525-4794-feb0-d0d267ee0517"
      },
      "source": [
        "# Experimenting on the full dataset\n",
        "history = model.fit(Xf_train_enc, yf_train_enc,\n",
        "                      validation_split=0.10,\n",
        "                      epochs=80,\n",
        "                      batch_size=512,\n",
        "                      callbacks=[es_cb, mc_cb, tb_cb,reduce_lr])"
      ],
      "execution_count": null,
      "outputs": [
        {
          "output_type": "stream",
          "text": [
            "Epoch 1/80\n",
            "11151/11151 [==============================] - 23s 2ms/step - loss: 1.0462 - accuracy: 0.5792 - val_loss: 0.6815 - val_accuracy: 0.7404\n",
            "\n",
            "Epoch 00001: val_loss improved from inf to 0.68148, saving model to model-best-01-0.68.h5\n",
            "Epoch 2/80\n",
            "11151/11151 [==============================] - 22s 2ms/step - loss: 0.6446 - accuracy: 0.7562 - val_loss: 0.5900 - val_accuracy: 0.7777\n",
            "\n",
            "Epoch 00002: val_loss improved from 0.68148 to 0.58998, saving model to model-best-02-0.59.h5\n",
            "Epoch 3/80\n",
            "11151/11151 [==============================] - 22s 2ms/step - loss: 0.5840 - accuracy: 0.7796 - val_loss: 0.5634 - val_accuracy: 0.7879\n",
            "\n",
            "Epoch 00003: val_loss improved from 0.58998 to 0.56337, saving model to model-best-03-0.56.h5\n",
            "Epoch 4/80\n",
            "11151/11151 [==============================] - 22s 2ms/step - loss: 0.5631 - accuracy: 0.7881 - val_loss: 0.5516 - val_accuracy: 0.7923\n",
            "\n",
            "Epoch 00004: val_loss improved from 0.56337 to 0.55155, saving model to model-best-04-0.55.h5\n",
            "Epoch 5/80\n",
            "11151/11151 [==============================] - 22s 2ms/step - loss: 0.5532 - accuracy: 0.7916 - val_loss: 0.5455 - val_accuracy: 0.7954\n",
            "\n",
            "Epoch 00005: val_loss improved from 0.55155 to 0.54547, saving model to model-best-05-0.55.h5\n",
            "Epoch 6/80\n",
            "11151/11151 [==============================] - 22s 2ms/step - loss: 0.5478 - accuracy: 0.7937 - val_loss: 0.5389 - val_accuracy: 0.7976\n",
            "\n",
            "Epoch 00006: val_loss improved from 0.54547 to 0.53893, saving model to model-best-06-0.54.h5\n",
            "Epoch 7/80\n",
            "11151/11151 [==============================] - 22s 2ms/step - loss: 0.5433 - accuracy: 0.7952 - val_loss: 0.5413 - val_accuracy: 0.7967\n",
            "\n",
            "Epoch 00007: val_loss did not improve from 0.53893\n",
            "Epoch 8/80\n",
            "11151/11151 [==============================] - 21s 2ms/step - loss: 0.5394 - accuracy: 0.7968 - val_loss: 0.5400 - val_accuracy: 0.7963\n",
            "\n",
            "Epoch 00008: val_loss did not improve from 0.53893\n",
            "Epoch 9/80\n",
            "11151/11151 [==============================] - 21s 2ms/step - loss: 0.5372 - accuracy: 0.7977 - val_loss: 0.5341 - val_accuracy: 0.7992\n",
            "\n",
            "Epoch 00009: val_loss improved from 0.53893 to 0.53407, saving model to model-best-09-0.53.h5\n",
            "Epoch 10/80\n",
            "11151/11151 [==============================] - 21s 2ms/step - loss: 0.5340 - accuracy: 0.7986 - val_loss: 0.5351 - val_accuracy: 0.7990\n",
            "\n",
            "Epoch 00010: val_loss did not improve from 0.53407\n",
            "Epoch 11/80\n",
            "11151/11151 [==============================] - 21s 2ms/step - loss: 0.5327 - accuracy: 0.7997 - val_loss: 0.5291 - val_accuracy: 0.8013\n",
            "\n",
            "Epoch 00011: val_loss improved from 0.53407 to 0.52909, saving model to model-best-11-0.53.h5\n",
            "Epoch 12/80\n",
            "11151/11151 [==============================] - 21s 2ms/step - loss: 0.5318 - accuracy: 0.8000 - val_loss: 0.5330 - val_accuracy: 0.7993\n",
            "\n",
            "Epoch 00012: val_loss did not improve from 0.52909\n",
            "Epoch 13/80\n",
            "11151/11151 [==============================] - 22s 2ms/step - loss: 0.5298 - accuracy: 0.8007 - val_loss: 0.5273 - val_accuracy: 0.8015\n",
            "\n",
            "Epoch 00013: val_loss improved from 0.52909 to 0.52735, saving model to model-best-13-0.53.h5\n",
            "Epoch 14/80\n",
            "11151/11151 [==============================] - 21s 2ms/step - loss: 0.5293 - accuracy: 0.8012 - val_loss: 0.5290 - val_accuracy: 0.8009\n",
            "\n",
            "Epoch 00014: val_loss did not improve from 0.52735\n",
            "Epoch 15/80\n",
            "11151/11151 [==============================] - 21s 2ms/step - loss: 0.5285 - accuracy: 0.8012 - val_loss: 0.5267 - val_accuracy: 0.8023\n",
            "\n",
            "Epoch 00015: val_loss improved from 0.52735 to 0.52674, saving model to model-best-15-0.53.h5\n",
            "Epoch 16/80\n",
            "11151/11151 [==============================] - 21s 2ms/step - loss: 0.5267 - accuracy: 0.8022 - val_loss: 0.5271 - val_accuracy: 0.8029\n",
            "\n",
            "Epoch 00016: val_loss did not improve from 0.52674\n",
            "Epoch 17/80\n",
            "11151/11151 [==============================] - 21s 2ms/step - loss: 0.5269 - accuracy: 0.8023 - val_loss: 0.5262 - val_accuracy: 0.8029\n",
            "\n",
            "Epoch 00017: val_loss improved from 0.52674 to 0.52623, saving model to model-best-17-0.53.h5\n",
            "Epoch 18/80\n",
            "11151/11151 [==============================] - 21s 2ms/step - loss: 0.5250 - accuracy: 0.8031 - val_loss: 0.5368 - val_accuracy: 0.7976\n",
            "\n",
            "Epoch 00018: val_loss did not improve from 0.52623\n",
            "Epoch 19/80\n",
            "11151/11151 [==============================] - 21s 2ms/step - loss: 0.5248 - accuracy: 0.8031 - val_loss: 0.5251 - val_accuracy: 0.8024\n",
            "\n",
            "Epoch 00019: val_loss improved from 0.52623 to 0.52505, saving model to model-best-19-0.53.h5\n",
            "Epoch 20/80\n",
            "11151/11151 [==============================] - 21s 2ms/step - loss: 0.5237 - accuracy: 0.8038 - val_loss: 0.5243 - val_accuracy: 0.8034\n",
            "\n",
            "Epoch 00020: val_loss improved from 0.52505 to 0.52429, saving model to model-best-20-0.52.h5\n",
            "Epoch 21/80\n",
            "11151/11151 [==============================] - 21s 2ms/step - loss: 0.5230 - accuracy: 0.8040 - val_loss: 0.5200 - val_accuracy: 0.8050\n",
            "\n",
            "Epoch 00021: val_loss improved from 0.52429 to 0.52001, saving model to model-best-21-0.52.h5\n",
            "Epoch 22/80\n",
            "11151/11151 [==============================] - 21s 2ms/step - loss: 0.5220 - accuracy: 0.8044 - val_loss: 0.5331 - val_accuracy: 0.7992\n",
            "\n",
            "Epoch 00022: val_loss did not improve from 0.52001\n",
            "Epoch 23/80\n",
            "11151/11151 [==============================] - 21s 2ms/step - loss: 0.5219 - accuracy: 0.8042 - val_loss: 0.5320 - val_accuracy: 0.7997\n",
            "\n",
            "Epoch 00023: val_loss did not improve from 0.52001\n",
            "Epoch 24/80\n",
            "11151/11151 [==============================] - 21s 2ms/step - loss: 0.5214 - accuracy: 0.8046 - val_loss: 0.5194 - val_accuracy: 0.8056\n",
            "\n",
            "Epoch 00024: val_loss improved from 0.52001 to 0.51938, saving model to model-best-24-0.52.h5\n",
            "Epoch 25/80\n",
            "11151/11151 [==============================] - 21s 2ms/step - loss: 0.5203 - accuracy: 0.8051 - val_loss: 0.5196 - val_accuracy: 0.8047\n",
            "\n",
            "Epoch 00025: val_loss did not improve from 0.51938\n",
            "Epoch 26/80\n",
            "11151/11151 [==============================] - 21s 2ms/step - loss: 0.5207 - accuracy: 0.8050 - val_loss: 0.5173 - val_accuracy: 0.8064\n",
            "\n",
            "Epoch 00026: val_loss improved from 0.51938 to 0.51729, saving model to model-best-26-0.52.h5\n",
            "Epoch 27/80\n",
            "11151/11151 [==============================] - 22s 2ms/step - loss: 0.5201 - accuracy: 0.8051 - val_loss: 0.5189 - val_accuracy: 0.8049\n",
            "\n",
            "Epoch 00027: val_loss did not improve from 0.51729\n",
            "Epoch 28/80\n",
            "11151/11151 [==============================] - 21s 2ms/step - loss: 0.5188 - accuracy: 0.8054 - val_loss: 0.5178 - val_accuracy: 0.8052\n",
            "\n",
            "Epoch 00028: val_loss did not improve from 0.51729\n",
            "Epoch 29/80\n",
            "11151/11151 [==============================] - 21s 2ms/step - loss: 0.5187 - accuracy: 0.8054 - val_loss: 0.5203 - val_accuracy: 0.8043\n",
            "\n",
            "Epoch 00029: val_loss did not improve from 0.51729\n",
            "Epoch 30/80\n",
            "11151/11151 [==============================] - 21s 2ms/step - loss: 0.5187 - accuracy: 0.8055 - val_loss: 0.5179 - val_accuracy: 0.8055\n",
            "\n",
            "Epoch 00030: val_loss did not improve from 0.51729\n",
            "Epoch 31/80\n",
            "11151/11151 [==============================] - 21s 2ms/step - loss: 0.5182 - accuracy: 0.8058 - val_loss: 0.5141 - val_accuracy: 0.8075\n",
            "\n",
            "Epoch 00031: val_loss improved from 0.51729 to 0.51409, saving model to model-best-31-0.51.h5\n",
            "Epoch 32/80\n",
            "11151/11151 [==============================] - 21s 2ms/step - loss: 0.5175 - accuracy: 0.8058 - val_loss: 0.5168 - val_accuracy: 0.8063\n",
            "\n",
            "Epoch 00032: val_loss did not improve from 0.51409\n",
            "Epoch 33/80\n",
            "11151/11151 [==============================] - 22s 2ms/step - loss: 0.5170 - accuracy: 0.8060 - val_loss: 0.5151 - val_accuracy: 0.8065\n",
            "\n",
            "Epoch 00033: val_loss did not improve from 0.51409\n",
            "Epoch 34/80\n",
            "11151/11151 [==============================] - 22s 2ms/step - loss: 0.5161 - accuracy: 0.8064 - val_loss: 0.5253 - val_accuracy: 0.8006\n",
            "\n",
            "Epoch 00034: val_loss did not improve from 0.51409\n",
            "Epoch 35/80\n",
            "11151/11151 [==============================] - 22s 2ms/step - loss: 0.5155 - accuracy: 0.8066 - val_loss: 0.5255 - val_accuracy: 0.8018\n",
            "\n",
            "Epoch 00035: val_loss did not improve from 0.51409\n",
            "Epoch 36/80\n",
            "11151/11151 [==============================] - 21s 2ms/step - loss: 0.5165 - accuracy: 0.8063 - val_loss: 0.5171 - val_accuracy: 0.8057\n",
            "\n",
            "Epoch 00036: val_loss did not improve from 0.51409\n",
            "Epoch 37/80\n",
            "11151/11151 [==============================] - 21s 2ms/step - loss: 0.5155 - accuracy: 0.8067 - val_loss: 0.5147 - val_accuracy: 0.8063\n",
            "\n",
            "Epoch 00037: val_loss did not improve from 0.51409\n",
            "Epoch 38/80\n",
            "11151/11151 [==============================] - 21s 2ms/step - loss: 0.5153 - accuracy: 0.8067 - val_loss: 0.5156 - val_accuracy: 0.8064\n",
            "\n",
            "Epoch 00038: val_loss did not improve from 0.51409\n",
            "Epoch 39/80\n",
            "11151/11151 [==============================] - 21s 2ms/step - loss: 0.5150 - accuracy: 0.8070 - val_loss: 0.5202 - val_accuracy: 0.8027\n",
            "\n",
            "Epoch 00039: val_loss did not improve from 0.51409\n",
            "Epoch 40/80\n",
            "11151/11151 [==============================] - 21s 2ms/step - loss: 0.5140 - accuracy: 0.8074 - val_loss: 0.5167 - val_accuracy: 0.8064\n",
            "\n",
            "Epoch 00040: val_loss did not improve from 0.51409\n",
            "Epoch 41/80\n",
            "11151/11151 [==============================] - 22s 2ms/step - loss: 0.5137 - accuracy: 0.8077 - val_loss: 0.5123 - val_accuracy: 0.8078\n",
            "\n",
            "Epoch 00041: val_loss improved from 0.51409 to 0.51227, saving model to model-best-41-0.51.h5\n",
            "Epoch 42/80\n",
            "11151/11151 [==============================] - 22s 2ms/step - loss: 0.5138 - accuracy: 0.8075 - val_loss: 0.5418 - val_accuracy: 0.7948\n",
            "\n",
            "Epoch 00042: val_loss did not improve from 0.51227\n",
            "Epoch 43/80\n",
            "11151/11151 [==============================] - 21s 2ms/step - loss: 0.5142 - accuracy: 0.8076 - val_loss: 0.5122 - val_accuracy: 0.8080\n",
            "\n",
            "Epoch 00043: val_loss improved from 0.51227 to 0.51216, saving model to model-best-43-0.51.h5\n",
            "Epoch 44/80\n",
            "11151/11151 [==============================] - 21s 2ms/step - loss: 0.5130 - accuracy: 0.8079 - val_loss: 0.5145 - val_accuracy: 0.8071\n",
            "\n",
            "Epoch 00044: val_loss did not improve from 0.51216\n",
            "Epoch 45/80\n",
            "11151/11151 [==============================] - 21s 2ms/step - loss: 0.5122 - accuracy: 0.8081 - val_loss: 0.5191 - val_accuracy: 0.8050\n",
            "\n",
            "Epoch 00045: val_loss did not improve from 0.51216\n",
            "Epoch 46/80\n",
            "11151/11151 [==============================] - 21s 2ms/step - loss: 0.5126 - accuracy: 0.8082 - val_loss: 0.5142 - val_accuracy: 0.8073\n",
            "\n",
            "Epoch 00046: val_loss did not improve from 0.51216\n",
            "Epoch 47/80\n",
            "11151/11151 [==============================] - 21s 2ms/step - loss: 0.5120 - accuracy: 0.8084 - val_loss: 0.5158 - val_accuracy: 0.8057\n",
            "\n",
            "Epoch 00047: val_loss did not improve from 0.51216\n",
            "Epoch 48/80\n",
            "11151/11151 [==============================] - 21s 2ms/step - loss: 0.5118 - accuracy: 0.8085 - val_loss: 0.5097 - val_accuracy: 0.8093\n",
            "\n",
            "Epoch 00048: val_loss improved from 0.51216 to 0.50966, saving model to model-best-48-0.51.h5\n",
            "Epoch 49/80\n",
            "11151/11151 [==============================] - 21s 2ms/step - loss: 0.5123 - accuracy: 0.8084 - val_loss: 0.5117 - val_accuracy: 0.8082\n",
            "\n",
            "Epoch 00049: val_loss did not improve from 0.50966\n",
            "Epoch 50/80\n",
            "11151/11151 [==============================] - 21s 2ms/step - loss: 0.5112 - accuracy: 0.8085 - val_loss: 0.5111 - val_accuracy: 0.8085\n",
            "\n",
            "Epoch 00050: val_loss did not improve from 0.50966\n",
            "Epoch 51/80\n",
            "11151/11151 [==============================] - 21s 2ms/step - loss: 0.5114 - accuracy: 0.8086 - val_loss: 0.5138 - val_accuracy: 0.8075\n",
            "\n",
            "Epoch 00051: val_loss did not improve from 0.50966\n",
            "Epoch 52/80\n",
            "11151/11151 [==============================] - 21s 2ms/step - loss: 0.5118 - accuracy: 0.8083 - val_loss: 0.5120 - val_accuracy: 0.8080\n",
            "\n",
            "Epoch 00052: val_loss did not improve from 0.50966\n",
            "Epoch 53/80\n",
            "11151/11151 [==============================] - 21s 2ms/step - loss: 0.5118 - accuracy: 0.8084 - val_loss: 0.5119 - val_accuracy: 0.8086\n",
            "\n",
            "Epoch 00053: val_loss did not improve from 0.50966\n",
            "Epoch 54/80\n",
            "11151/11151 [==============================] - 21s 2ms/step - loss: 0.5106 - accuracy: 0.8089 - val_loss: 0.5130 - val_accuracy: 0.8076\n",
            "\n",
            "Epoch 00054: val_loss did not improve from 0.50966\n",
            "Epoch 55/80\n",
            "11151/11151 [==============================] - 21s 2ms/step - loss: 0.5107 - accuracy: 0.8087 - val_loss: 0.5091 - val_accuracy: 0.8093\n",
            "\n",
            "Epoch 00055: val_loss improved from 0.50966 to 0.50909, saving model to model-best-55-0.51.h5\n",
            "Epoch 56/80\n",
            "11151/11151 [==============================] - 22s 2ms/step - loss: 0.5111 - accuracy: 0.8088 - val_loss: 0.5164 - val_accuracy: 0.8058\n",
            "\n",
            "Epoch 00056: val_loss did not improve from 0.50909\n",
            "Epoch 57/80\n",
            "11151/11151 [==============================] - 21s 2ms/step - loss: 0.5104 - accuracy: 0.8090 - val_loss: 0.5090 - val_accuracy: 0.8092\n",
            "\n",
            "Epoch 00057: val_loss improved from 0.50909 to 0.50901, saving model to model-best-57-0.51.h5\n",
            "Epoch 58/80\n",
            "11151/11151 [==============================] - 21s 2ms/step - loss: 0.5097 - accuracy: 0.8092 - val_loss: 0.5116 - val_accuracy: 0.8082\n",
            "\n",
            "Epoch 00058: val_loss did not improve from 0.50901\n",
            "Epoch 59/80\n",
            "11151/11151 [==============================] - 21s 2ms/step - loss: 0.5105 - accuracy: 0.8091 - val_loss: 0.5144 - val_accuracy: 0.8066\n",
            "\n",
            "Epoch 00059: val_loss did not improve from 0.50901\n",
            "Epoch 60/80\n",
            "11151/11151 [==============================] - 21s 2ms/step - loss: 0.5095 - accuracy: 0.8094 - val_loss: 0.5161 - val_accuracy: 0.8064\n",
            "\n",
            "Epoch 00060: val_loss did not improve from 0.50901\n",
            "Epoch 61/80\n",
            "11151/11151 [==============================] - 21s 2ms/step - loss: 0.5101 - accuracy: 0.8090 - val_loss: 0.5112 - val_accuracy: 0.8078\n",
            "\n",
            "Epoch 00061: val_loss did not improve from 0.50901\n",
            "Epoch 62/80\n",
            "11151/11151 [==============================] - 21s 2ms/step - loss: 0.5089 - accuracy: 0.8094 - val_loss: 0.5088 - val_accuracy: 0.8094\n",
            "\n",
            "Epoch 00062: val_loss improved from 0.50901 to 0.50882, saving model to model-best-62-0.51.h5\n",
            "Epoch 63/80\n",
            "11151/11151 [==============================] - 21s 2ms/step - loss: 0.5090 - accuracy: 0.8099 - val_loss: 0.5093 - val_accuracy: 0.8095\n",
            "\n",
            "Epoch 00063: val_loss did not improve from 0.50882\n",
            "Epoch 64/80\n",
            "11151/11151 [==============================] - 21s 2ms/step - loss: 0.5093 - accuracy: 0.8096 - val_loss: 0.5138 - val_accuracy: 0.8073\n",
            "\n",
            "Epoch 00064: val_loss did not improve from 0.50882\n",
            "Epoch 65/80\n",
            "11151/11151 [==============================] - 21s 2ms/step - loss: 0.5089 - accuracy: 0.8095 - val_loss: 0.5071 - val_accuracy: 0.8102\n",
            "\n",
            "Epoch 00065: val_loss improved from 0.50882 to 0.50708, saving model to model-best-65-0.51.h5\n",
            "Epoch 66/80\n",
            "11151/11151 [==============================] - 21s 2ms/step - loss: 0.5093 - accuracy: 0.8093 - val_loss: 0.5096 - val_accuracy: 0.8091\n",
            "\n",
            "Epoch 00066: val_loss did not improve from 0.50708\n",
            "Epoch 67/80\n",
            "11151/11151 [==============================] - 21s 2ms/step - loss: 0.5085 - accuracy: 0.8097 - val_loss: 0.5076 - val_accuracy: 0.8099\n",
            "\n",
            "Epoch 00067: val_loss did not improve from 0.50708\n",
            "Epoch 68/80\n",
            "11151/11151 [==============================] - 21s 2ms/step - loss: 0.5084 - accuracy: 0.8098 - val_loss: 0.5092 - val_accuracy: 0.8091\n",
            "\n",
            "Epoch 00068: val_loss did not improve from 0.50708\n",
            "Epoch 69/80\n",
            "11151/11151 [==============================] - 21s 2ms/step - loss: 0.5087 - accuracy: 0.8096 - val_loss: 0.5096 - val_accuracy: 0.8095\n",
            "\n",
            "Epoch 00069: val_loss did not improve from 0.50708\n",
            "Epoch 70/80\n",
            "11151/11151 [==============================] - 22s 2ms/step - loss: 0.5080 - accuracy: 0.8100 - val_loss: 0.5085 - val_accuracy: 0.8096\n",
            "\n",
            "Epoch 00070: val_loss did not improve from 0.50708\n",
            "Epoch 71/80\n",
            "11151/11151 [==============================] - 22s 2ms/step - loss: 0.5084 - accuracy: 0.8098 - val_loss: 0.5068 - val_accuracy: 0.8099\n",
            "\n",
            "Epoch 00071: val_loss improved from 0.50708 to 0.50684, saving model to model-best-71-0.51.h5\n",
            "Epoch 72/80\n",
            "11151/11151 [==============================] - 22s 2ms/step - loss: 0.5078 - accuracy: 0.8101 - val_loss: 0.5149 - val_accuracy: 0.8068\n",
            "\n",
            "Epoch 00072: val_loss did not improve from 0.50684\n",
            "Epoch 73/80\n",
            "11151/11151 [==============================] - 21s 2ms/step - loss: 0.5077 - accuracy: 0.8101 - val_loss: 0.5075 - val_accuracy: 0.8103\n",
            "\n",
            "Epoch 00073: val_loss did not improve from 0.50684\n",
            "Epoch 74/80\n",
            "11151/11151 [==============================] - 21s 2ms/step - loss: 0.5072 - accuracy: 0.8103 - val_loss: 0.5111 - val_accuracy: 0.8084\n",
            "\n",
            "Epoch 00074: val_loss did not improve from 0.50684\n",
            "Epoch 75/80\n",
            "11151/11151 [==============================] - 21s 2ms/step - loss: 0.5075 - accuracy: 0.8100 - val_loss: 0.5138 - val_accuracy: 0.8068\n",
            "\n",
            "Epoch 00075: val_loss did not improve from 0.50684\n",
            "Epoch 76/80\n",
            "11151/11151 [==============================] - 21s 2ms/step - loss: 0.5077 - accuracy: 0.8101 - val_loss: 0.5161 - val_accuracy: 0.8059\n",
            "\n",
            "Epoch 00076: val_loss did not improve from 0.50684\n",
            "Epoch 77/80\n",
            "11151/11151 [==============================] - 21s 2ms/step - loss: 0.5065 - accuracy: 0.8105 - val_loss: 0.5082 - val_accuracy: 0.8095\n",
            "\n",
            "Epoch 00077: val_loss did not improve from 0.50684\n",
            "Epoch 78/80\n",
            "11151/11151 [==============================] - 21s 2ms/step - loss: 0.5070 - accuracy: 0.8102 - val_loss: 0.5058 - val_accuracy: 0.8111\n",
            "\n",
            "Epoch 00078: val_loss improved from 0.50684 to 0.50581, saving model to model-best-78-0.51.h5\n",
            "Epoch 79/80\n",
            "11151/11151 [==============================] - 21s 2ms/step - loss: 0.5071 - accuracy: 0.8103 - val_loss: 0.5069 - val_accuracy: 0.8098\n",
            "\n",
            "Epoch 00079: val_loss did not improve from 0.50581\n",
            "Epoch 80/80\n",
            "11151/11151 [==============================] - 21s 2ms/step - loss: 0.5068 - accuracy: 0.8104 - val_loss: 0.5105 - val_accuracy: 0.8085\n",
            "\n",
            "Epoch 00080: val_loss did not improve from 0.50581\n"
          ],
          "name": "stdout"
        }
      ]
    },
    {
      "cell_type": "code",
      "metadata": {
        "colab": {
          "base_uri": "https://localhost:8080/",
          "height": 1000
        },
        "id": "p8NF8Lh7XEop",
        "outputId": "34c569c4-a4b9-42f2-c19a-5f0172dfe1f3"
      },
      "source": [
        "history = model.fit(Xnew_train_enc, ynew_train_enc,\n",
        "                      validation_split=0.10,\n",
        "                      epochs=50,\n",
        "                      batch_size=512,\n",
        "                      callbacks=[es_cb, mc_cb, tb_cb,reduce_lr])"
      ],
      "execution_count": null,
      "outputs": [
        {
          "output_type": "stream",
          "text": [
            "Epoch 1/50\n",
            "1104/1104 [==============================] - 2s 2ms/step - loss: 0.9816 - accuracy: 0.6498 - val_loss: 0.7782 - val_accuracy: 0.7080\n",
            "\n",
            "Epoch 00001: val_loss did not improve from 0.50581\n",
            "Epoch 2/50\n",
            "1104/1104 [==============================] - 2s 2ms/step - loss: 0.7335 - accuracy: 0.7254 - val_loss: 0.7005 - val_accuracy: 0.7361\n",
            "\n",
            "Epoch 00002: val_loss did not improve from 0.50581\n",
            "Epoch 3/50\n",
            "1104/1104 [==============================] - 2s 2ms/step - loss: 0.6757 - accuracy: 0.7475 - val_loss: 0.6582 - val_accuracy: 0.7534\n",
            "\n",
            "Epoch 00003: val_loss did not improve from 0.50581\n",
            "Epoch 4/50\n",
            "1104/1104 [==============================] - 2s 2ms/step - loss: 0.6354 - accuracy: 0.7634 - val_loss: 0.6181 - val_accuracy: 0.7684\n",
            "\n",
            "Epoch 00004: val_loss did not improve from 0.50581\n",
            "Epoch 5/50\n",
            "1104/1104 [==============================] - 2s 2ms/step - loss: 0.6032 - accuracy: 0.7759 - val_loss: 0.5891 - val_accuracy: 0.7813\n",
            "\n",
            "Epoch 00005: val_loss did not improve from 0.50581\n",
            "Epoch 6/50\n",
            "1104/1104 [==============================] - 2s 2ms/step - loss: 0.5760 - accuracy: 0.7887 - val_loss: 0.5656 - val_accuracy: 0.7945\n",
            "\n",
            "Epoch 00006: val_loss did not improve from 0.50581\n",
            "Epoch 7/50\n",
            "1104/1104 [==============================] - 2s 2ms/step - loss: 0.5532 - accuracy: 0.7978 - val_loss: 0.5418 - val_accuracy: 0.8027\n",
            "\n",
            "Epoch 00007: val_loss did not improve from 0.50581\n",
            "Epoch 8/50\n",
            "1104/1104 [==============================] - 2s 2ms/step - loss: 0.5336 - accuracy: 0.8064 - val_loss: 0.5235 - val_accuracy: 0.8100\n",
            "\n",
            "Epoch 00008: val_loss did not improve from 0.50581\n",
            "Epoch 9/50\n",
            "1104/1104 [==============================] - 2s 2ms/step - loss: 0.5160 - accuracy: 0.8136 - val_loss: 0.5061 - val_accuracy: 0.8165\n",
            "\n",
            "Epoch 00009: val_loss did not improve from 0.50581\n",
            "Epoch 10/50\n",
            "1104/1104 [==============================] - 2s 2ms/step - loss: 0.5010 - accuracy: 0.8195 - val_loss: 0.4938 - val_accuracy: 0.8191\n",
            "\n",
            "Epoch 00010: val_loss improved from 0.50581 to 0.49385, saving model to model-best-10-0.49.h5\n",
            "Epoch 11/50\n",
            "1104/1104 [==============================] - 2s 2ms/step - loss: 0.4879 - accuracy: 0.8245 - val_loss: 0.4809 - val_accuracy: 0.8270\n",
            "\n",
            "Epoch 00011: val_loss improved from 0.49385 to 0.48090, saving model to model-best-11-0.48.h5\n",
            "Epoch 12/50\n",
            "1104/1104 [==============================] - 2s 2ms/step - loss: 0.4758 - accuracy: 0.8289 - val_loss: 0.4691 - val_accuracy: 0.8317\n",
            "\n",
            "Epoch 00012: val_loss improved from 0.48090 to 0.46914, saving model to model-best-12-0.47.h5\n",
            "Epoch 13/50\n",
            "1104/1104 [==============================] - 2s 2ms/step - loss: 0.4644 - accuracy: 0.8329 - val_loss: 0.4611 - val_accuracy: 0.8335\n",
            "\n",
            "Epoch 00013: val_loss improved from 0.46914 to 0.46107, saving model to model-best-13-0.46.h5\n",
            "Epoch 14/50\n",
            "1104/1104 [==============================] - 2s 2ms/step - loss: 0.4541 - accuracy: 0.8363 - val_loss: 0.4492 - val_accuracy: 0.8383\n",
            "\n",
            "Epoch 00014: val_loss improved from 0.46107 to 0.44919, saving model to model-best-14-0.45.h5\n",
            "Epoch 15/50\n",
            "1104/1104 [==============================] - 2s 2ms/step - loss: 0.4449 - accuracy: 0.8400 - val_loss: 0.4489 - val_accuracy: 0.8380\n",
            "\n",
            "Epoch 00015: val_loss improved from 0.44919 to 0.44889, saving model to model-best-15-0.45.h5\n",
            "Epoch 16/50\n",
            "1104/1104 [==============================] - 2s 2ms/step - loss: 0.4362 - accuracy: 0.8437 - val_loss: 0.4348 - val_accuracy: 0.8442\n",
            "\n",
            "Epoch 00016: val_loss improved from 0.44889 to 0.43484, saving model to model-best-16-0.43.h5\n",
            "Epoch 17/50\n",
            "1104/1104 [==============================] - 2s 2ms/step - loss: 0.4286 - accuracy: 0.8470 - val_loss: 0.4267 - val_accuracy: 0.8475\n",
            "\n",
            "Epoch 00017: val_loss improved from 0.43484 to 0.42669, saving model to model-best-17-0.43.h5\n",
            "Epoch 18/50\n",
            "1104/1104 [==============================] - 2s 2ms/step - loss: 0.4214 - accuracy: 0.8499 - val_loss: 0.4220 - val_accuracy: 0.8504\n",
            "\n",
            "Epoch 00018: val_loss improved from 0.42669 to 0.42197, saving model to model-best-18-0.42.h5\n",
            "Epoch 19/50\n",
            "1104/1104 [==============================] - 2s 2ms/step - loss: 0.4151 - accuracy: 0.8526 - val_loss: 0.4139 - val_accuracy: 0.8528\n",
            "\n",
            "Epoch 00019: val_loss improved from 0.42197 to 0.41390, saving model to model-best-19-0.41.h5\n",
            "Epoch 20/50\n",
            "1104/1104 [==============================] - 2s 2ms/step - loss: 0.4089 - accuracy: 0.8546 - val_loss: 0.4084 - val_accuracy: 0.8546\n",
            "\n",
            "Epoch 00020: val_loss improved from 0.41390 to 0.40838, saving model to model-best-20-0.41.h5\n",
            "Epoch 21/50\n",
            " 325/1104 [=======>......................] - ETA: 1s - loss: 0.4047 - accuracy: 0.8561"
          ],
          "name": "stdout"
        },
        {
          "output_type": "error",
          "ename": "KeyboardInterrupt",
          "evalue": "ignored",
          "traceback": [
            "\u001b[0;31m---------------------------------------------------------------------------\u001b[0m",
            "\u001b[0;31mKeyboardInterrupt\u001b[0m                         Traceback (most recent call last)",
            "\u001b[0;32m<ipython-input-40-bacadb2ad120>\u001b[0m in \u001b[0;36m<module>\u001b[0;34m()\u001b[0m\n\u001b[1;32m      3\u001b[0m                       \u001b[0mepochs\u001b[0m\u001b[0;34m=\u001b[0m\u001b[0;36m50\u001b[0m\u001b[0;34m,\u001b[0m\u001b[0;34m\u001b[0m\u001b[0;34m\u001b[0m\u001b[0m\n\u001b[1;32m      4\u001b[0m                       \u001b[0mbatch_size\u001b[0m\u001b[0;34m=\u001b[0m\u001b[0;36m512\u001b[0m\u001b[0;34m,\u001b[0m\u001b[0;34m\u001b[0m\u001b[0;34m\u001b[0m\u001b[0m\n\u001b[0;32m----> 5\u001b[0;31m                       callbacks=[es_cb, mc_cb, tb_cb,reduce_lr])\n\u001b[0m",
            "\u001b[0;32m/usr/local/lib/python3.7/dist-packages/tensorflow/python/keras/engine/training.py\u001b[0m in \u001b[0;36mfit\u001b[0;34m(self, x, y, batch_size, epochs, verbose, callbacks, validation_split, validation_data, shuffle, class_weight, sample_weight, initial_epoch, steps_per_epoch, validation_steps, validation_batch_size, validation_freq, max_queue_size, workers, use_multiprocessing)\u001b[0m\n\u001b[1;32m   1103\u001b[0m               \u001b[0mlogs\u001b[0m \u001b[0;34m=\u001b[0m \u001b[0mtmp_logs\u001b[0m  \u001b[0;31m# No error, now safe to assign to logs.\u001b[0m\u001b[0;34m\u001b[0m\u001b[0;34m\u001b[0m\u001b[0m\n\u001b[1;32m   1104\u001b[0m               \u001b[0mend_step\u001b[0m \u001b[0;34m=\u001b[0m \u001b[0mstep\u001b[0m \u001b[0;34m+\u001b[0m \u001b[0mdata_handler\u001b[0m\u001b[0;34m.\u001b[0m\u001b[0mstep_increment\u001b[0m\u001b[0;34m\u001b[0m\u001b[0;34m\u001b[0m\u001b[0m\n\u001b[0;32m-> 1105\u001b[0;31m               \u001b[0mcallbacks\u001b[0m\u001b[0;34m.\u001b[0m\u001b[0mon_train_batch_end\u001b[0m\u001b[0;34m(\u001b[0m\u001b[0mend_step\u001b[0m\u001b[0;34m,\u001b[0m \u001b[0mlogs\u001b[0m\u001b[0;34m)\u001b[0m\u001b[0;34m\u001b[0m\u001b[0;34m\u001b[0m\u001b[0m\n\u001b[0m\u001b[1;32m   1106\u001b[0m               \u001b[0;32mif\u001b[0m \u001b[0mself\u001b[0m\u001b[0;34m.\u001b[0m\u001b[0mstop_training\u001b[0m\u001b[0;34m:\u001b[0m\u001b[0;34m\u001b[0m\u001b[0;34m\u001b[0m\u001b[0m\n\u001b[1;32m   1107\u001b[0m                 \u001b[0;32mbreak\u001b[0m\u001b[0;34m\u001b[0m\u001b[0;34m\u001b[0m\u001b[0m\n",
            "\u001b[0;32m/usr/local/lib/python3.7/dist-packages/tensorflow/python/keras/callbacks.py\u001b[0m in \u001b[0;36mon_train_batch_end\u001b[0;34m(self, batch, logs)\u001b[0m\n\u001b[1;32m    452\u001b[0m     \"\"\"\n\u001b[1;32m    453\u001b[0m     \u001b[0;32mif\u001b[0m \u001b[0mself\u001b[0m\u001b[0;34m.\u001b[0m\u001b[0m_should_call_train_batch_hooks\u001b[0m\u001b[0;34m:\u001b[0m\u001b[0;34m\u001b[0m\u001b[0;34m\u001b[0m\u001b[0m\n\u001b[0;32m--> 454\u001b[0;31m       \u001b[0mself\u001b[0m\u001b[0;34m.\u001b[0m\u001b[0m_call_batch_hook\u001b[0m\u001b[0;34m(\u001b[0m\u001b[0mModeKeys\u001b[0m\u001b[0;34m.\u001b[0m\u001b[0mTRAIN\u001b[0m\u001b[0;34m,\u001b[0m \u001b[0;34m'end'\u001b[0m\u001b[0;34m,\u001b[0m \u001b[0mbatch\u001b[0m\u001b[0;34m,\u001b[0m \u001b[0mlogs\u001b[0m\u001b[0;34m=\u001b[0m\u001b[0mlogs\u001b[0m\u001b[0;34m)\u001b[0m\u001b[0;34m\u001b[0m\u001b[0;34m\u001b[0m\u001b[0m\n\u001b[0m\u001b[1;32m    455\u001b[0m \u001b[0;34m\u001b[0m\u001b[0m\n\u001b[1;32m    456\u001b[0m   \u001b[0;32mdef\u001b[0m \u001b[0mon_test_batch_begin\u001b[0m\u001b[0;34m(\u001b[0m\u001b[0mself\u001b[0m\u001b[0;34m,\u001b[0m \u001b[0mbatch\u001b[0m\u001b[0;34m,\u001b[0m \u001b[0mlogs\u001b[0m\u001b[0;34m=\u001b[0m\u001b[0;32mNone\u001b[0m\u001b[0;34m)\u001b[0m\u001b[0;34m:\u001b[0m\u001b[0;34m\u001b[0m\u001b[0;34m\u001b[0m\u001b[0m\n",
            "\u001b[0;32m/usr/local/lib/python3.7/dist-packages/tensorflow/python/keras/callbacks.py\u001b[0m in \u001b[0;36m_call_batch_hook\u001b[0;34m(self, mode, hook, batch, logs)\u001b[0m\n\u001b[1;32m    294\u001b[0m       \u001b[0mself\u001b[0m\u001b[0;34m.\u001b[0m\u001b[0m_call_batch_begin_hook\u001b[0m\u001b[0;34m(\u001b[0m\u001b[0mmode\u001b[0m\u001b[0;34m,\u001b[0m \u001b[0mbatch\u001b[0m\u001b[0;34m,\u001b[0m \u001b[0mlogs\u001b[0m\u001b[0;34m)\u001b[0m\u001b[0;34m\u001b[0m\u001b[0;34m\u001b[0m\u001b[0m\n\u001b[1;32m    295\u001b[0m     \u001b[0;32melif\u001b[0m \u001b[0mhook\u001b[0m \u001b[0;34m==\u001b[0m \u001b[0;34m'end'\u001b[0m\u001b[0;34m:\u001b[0m\u001b[0;34m\u001b[0m\u001b[0;34m\u001b[0m\u001b[0m\n\u001b[0;32m--> 296\u001b[0;31m       \u001b[0mself\u001b[0m\u001b[0;34m.\u001b[0m\u001b[0m_call_batch_end_hook\u001b[0m\u001b[0;34m(\u001b[0m\u001b[0mmode\u001b[0m\u001b[0;34m,\u001b[0m \u001b[0mbatch\u001b[0m\u001b[0;34m,\u001b[0m \u001b[0mlogs\u001b[0m\u001b[0;34m)\u001b[0m\u001b[0;34m\u001b[0m\u001b[0;34m\u001b[0m\u001b[0m\n\u001b[0m\u001b[1;32m    297\u001b[0m     \u001b[0;32melse\u001b[0m\u001b[0;34m:\u001b[0m\u001b[0;34m\u001b[0m\u001b[0;34m\u001b[0m\u001b[0m\n\u001b[1;32m    298\u001b[0m       \u001b[0;32mraise\u001b[0m \u001b[0mValueError\u001b[0m\u001b[0;34m(\u001b[0m\u001b[0;34m'Unrecognized hook: {}'\u001b[0m\u001b[0;34m.\u001b[0m\u001b[0mformat\u001b[0m\u001b[0;34m(\u001b[0m\u001b[0mhook\u001b[0m\u001b[0;34m)\u001b[0m\u001b[0;34m)\u001b[0m\u001b[0;34m\u001b[0m\u001b[0;34m\u001b[0m\u001b[0m\n",
            "\u001b[0;32m/usr/local/lib/python3.7/dist-packages/tensorflow/python/keras/callbacks.py\u001b[0m in \u001b[0;36m_call_batch_end_hook\u001b[0;34m(self, mode, batch, logs)\u001b[0m\n\u001b[1;32m    314\u001b[0m       \u001b[0mself\u001b[0m\u001b[0;34m.\u001b[0m\u001b[0m_batch_times\u001b[0m\u001b[0;34m.\u001b[0m\u001b[0mappend\u001b[0m\u001b[0;34m(\u001b[0m\u001b[0mbatch_time\u001b[0m\u001b[0;34m)\u001b[0m\u001b[0;34m\u001b[0m\u001b[0;34m\u001b[0m\u001b[0m\n\u001b[1;32m    315\u001b[0m \u001b[0;34m\u001b[0m\u001b[0m\n\u001b[0;32m--> 316\u001b[0;31m     \u001b[0mself\u001b[0m\u001b[0;34m.\u001b[0m\u001b[0m_call_batch_hook_helper\u001b[0m\u001b[0;34m(\u001b[0m\u001b[0mhook_name\u001b[0m\u001b[0;34m,\u001b[0m \u001b[0mbatch\u001b[0m\u001b[0;34m,\u001b[0m \u001b[0mlogs\u001b[0m\u001b[0;34m)\u001b[0m\u001b[0;34m\u001b[0m\u001b[0;34m\u001b[0m\u001b[0m\n\u001b[0m\u001b[1;32m    317\u001b[0m \u001b[0;34m\u001b[0m\u001b[0m\n\u001b[1;32m    318\u001b[0m     \u001b[0;32mif\u001b[0m \u001b[0mlen\u001b[0m\u001b[0;34m(\u001b[0m\u001b[0mself\u001b[0m\u001b[0;34m.\u001b[0m\u001b[0m_batch_times\u001b[0m\u001b[0;34m)\u001b[0m \u001b[0;34m>=\u001b[0m \u001b[0mself\u001b[0m\u001b[0;34m.\u001b[0m\u001b[0m_num_batches_for_timing_check\u001b[0m\u001b[0;34m:\u001b[0m\u001b[0;34m\u001b[0m\u001b[0;34m\u001b[0m\u001b[0m\n",
            "\u001b[0;32m/usr/local/lib/python3.7/dist-packages/tensorflow/python/keras/callbacks.py\u001b[0m in \u001b[0;36m_call_batch_hook_helper\u001b[0;34m(self, hook_name, batch, logs)\u001b[0m\n\u001b[1;32m    354\u001b[0m       \u001b[0mhook\u001b[0m \u001b[0;34m=\u001b[0m \u001b[0mgetattr\u001b[0m\u001b[0;34m(\u001b[0m\u001b[0mcallback\u001b[0m\u001b[0;34m,\u001b[0m \u001b[0mhook_name\u001b[0m\u001b[0;34m)\u001b[0m\u001b[0;34m\u001b[0m\u001b[0;34m\u001b[0m\u001b[0m\n\u001b[1;32m    355\u001b[0m       \u001b[0;32mif\u001b[0m \u001b[0mgetattr\u001b[0m\u001b[0;34m(\u001b[0m\u001b[0mcallback\u001b[0m\u001b[0;34m,\u001b[0m \u001b[0;34m'_supports_tf_logs'\u001b[0m\u001b[0;34m,\u001b[0m \u001b[0;32mFalse\u001b[0m\u001b[0;34m)\u001b[0m\u001b[0;34m:\u001b[0m\u001b[0;34m\u001b[0m\u001b[0;34m\u001b[0m\u001b[0m\n\u001b[0;32m--> 356\u001b[0;31m         \u001b[0mhook\u001b[0m\u001b[0;34m(\u001b[0m\u001b[0mbatch\u001b[0m\u001b[0;34m,\u001b[0m \u001b[0mlogs\u001b[0m\u001b[0;34m)\u001b[0m\u001b[0;34m\u001b[0m\u001b[0;34m\u001b[0m\u001b[0m\n\u001b[0m\u001b[1;32m    357\u001b[0m       \u001b[0;32melse\u001b[0m\u001b[0;34m:\u001b[0m\u001b[0;34m\u001b[0m\u001b[0;34m\u001b[0m\u001b[0m\n\u001b[1;32m    358\u001b[0m         \u001b[0;32mif\u001b[0m \u001b[0mnumpy_logs\u001b[0m \u001b[0;32mis\u001b[0m \u001b[0;32mNone\u001b[0m\u001b[0;34m:\u001b[0m  \u001b[0;31m# Only convert once.\u001b[0m\u001b[0;34m\u001b[0m\u001b[0;34m\u001b[0m\u001b[0m\n",
            "\u001b[0;32m/usr/local/lib/python3.7/dist-packages/tensorflow/python/keras/callbacks.py\u001b[0m in \u001b[0;36mon_train_batch_end\u001b[0;34m(self, batch, logs)\u001b[0m\n\u001b[1;32m   1018\u001b[0m \u001b[0;34m\u001b[0m\u001b[0m\n\u001b[1;32m   1019\u001b[0m   \u001b[0;32mdef\u001b[0m \u001b[0mon_train_batch_end\u001b[0m\u001b[0;34m(\u001b[0m\u001b[0mself\u001b[0m\u001b[0;34m,\u001b[0m \u001b[0mbatch\u001b[0m\u001b[0;34m,\u001b[0m \u001b[0mlogs\u001b[0m\u001b[0;34m=\u001b[0m\u001b[0;32mNone\u001b[0m\u001b[0;34m)\u001b[0m\u001b[0;34m:\u001b[0m\u001b[0;34m\u001b[0m\u001b[0;34m\u001b[0m\u001b[0m\n\u001b[0;32m-> 1020\u001b[0;31m     \u001b[0mself\u001b[0m\u001b[0;34m.\u001b[0m\u001b[0m_batch_update_progbar\u001b[0m\u001b[0;34m(\u001b[0m\u001b[0mbatch\u001b[0m\u001b[0;34m,\u001b[0m \u001b[0mlogs\u001b[0m\u001b[0;34m)\u001b[0m\u001b[0;34m\u001b[0m\u001b[0;34m\u001b[0m\u001b[0m\n\u001b[0m\u001b[1;32m   1021\u001b[0m \u001b[0;34m\u001b[0m\u001b[0m\n\u001b[1;32m   1022\u001b[0m   \u001b[0;32mdef\u001b[0m \u001b[0mon_test_batch_end\u001b[0m\u001b[0;34m(\u001b[0m\u001b[0mself\u001b[0m\u001b[0;34m,\u001b[0m \u001b[0mbatch\u001b[0m\u001b[0;34m,\u001b[0m \u001b[0mlogs\u001b[0m\u001b[0;34m=\u001b[0m\u001b[0;32mNone\u001b[0m\u001b[0;34m)\u001b[0m\u001b[0;34m:\u001b[0m\u001b[0;34m\u001b[0m\u001b[0;34m\u001b[0m\u001b[0m\n",
            "\u001b[0;32m/usr/local/lib/python3.7/dist-packages/tensorflow/python/keras/callbacks.py\u001b[0m in \u001b[0;36m_batch_update_progbar\u001b[0;34m(self, batch, logs)\u001b[0m\n\u001b[1;32m   1082\u001b[0m     \u001b[0;32mif\u001b[0m \u001b[0mself\u001b[0m\u001b[0;34m.\u001b[0m\u001b[0mverbose\u001b[0m \u001b[0;34m==\u001b[0m \u001b[0;36m1\u001b[0m\u001b[0;34m:\u001b[0m\u001b[0;34m\u001b[0m\u001b[0;34m\u001b[0m\u001b[0m\n\u001b[1;32m   1083\u001b[0m       \u001b[0;31m# Only block async when verbose = 1.\u001b[0m\u001b[0;34m\u001b[0m\u001b[0;34m\u001b[0m\u001b[0;34m\u001b[0m\u001b[0m\n\u001b[0;32m-> 1084\u001b[0;31m       \u001b[0mlogs\u001b[0m \u001b[0;34m=\u001b[0m \u001b[0mtf_utils\u001b[0m\u001b[0;34m.\u001b[0m\u001b[0mto_numpy_or_python_type\u001b[0m\u001b[0;34m(\u001b[0m\u001b[0mlogs\u001b[0m\u001b[0;34m)\u001b[0m\u001b[0;34m\u001b[0m\u001b[0;34m\u001b[0m\u001b[0m\n\u001b[0m\u001b[1;32m   1085\u001b[0m       \u001b[0mself\u001b[0m\u001b[0;34m.\u001b[0m\u001b[0mprogbar\u001b[0m\u001b[0;34m.\u001b[0m\u001b[0mupdate\u001b[0m\u001b[0;34m(\u001b[0m\u001b[0mself\u001b[0m\u001b[0;34m.\u001b[0m\u001b[0mseen\u001b[0m\u001b[0;34m,\u001b[0m \u001b[0mlist\u001b[0m\u001b[0;34m(\u001b[0m\u001b[0mlogs\u001b[0m\u001b[0;34m.\u001b[0m\u001b[0mitems\u001b[0m\u001b[0;34m(\u001b[0m\u001b[0;34m)\u001b[0m\u001b[0;34m)\u001b[0m\u001b[0;34m,\u001b[0m \u001b[0mfinalize\u001b[0m\u001b[0;34m=\u001b[0m\u001b[0;32mFalse\u001b[0m\u001b[0;34m)\u001b[0m\u001b[0;34m\u001b[0m\u001b[0;34m\u001b[0m\u001b[0m\n\u001b[1;32m   1086\u001b[0m \u001b[0;34m\u001b[0m\u001b[0m\n",
            "\u001b[0;32m/usr/local/lib/python3.7/dist-packages/tensorflow/python/keras/utils/tf_utils.py\u001b[0m in \u001b[0;36mto_numpy_or_python_type\u001b[0;34m(tensors)\u001b[0m\n\u001b[1;32m    512\u001b[0m     \u001b[0;32mreturn\u001b[0m \u001b[0mt\u001b[0m  \u001b[0;31m# Don't turn ragged or sparse tensors to NumPy.\u001b[0m\u001b[0;34m\u001b[0m\u001b[0;34m\u001b[0m\u001b[0m\n\u001b[1;32m    513\u001b[0m \u001b[0;34m\u001b[0m\u001b[0m\n\u001b[0;32m--> 514\u001b[0;31m   \u001b[0;32mreturn\u001b[0m \u001b[0mnest\u001b[0m\u001b[0;34m.\u001b[0m\u001b[0mmap_structure\u001b[0m\u001b[0;34m(\u001b[0m\u001b[0m_to_single_numpy_or_python_type\u001b[0m\u001b[0;34m,\u001b[0m \u001b[0mtensors\u001b[0m\u001b[0;34m)\u001b[0m\u001b[0;34m\u001b[0m\u001b[0;34m\u001b[0m\u001b[0m\n\u001b[0m\u001b[1;32m    515\u001b[0m \u001b[0;34m\u001b[0m\u001b[0m\n\u001b[1;32m    516\u001b[0m \u001b[0;34m\u001b[0m\u001b[0m\n",
            "\u001b[0;32m/usr/local/lib/python3.7/dist-packages/tensorflow/python/util/nest.py\u001b[0m in \u001b[0;36mmap_structure\u001b[0;34m(func, *structure, **kwargs)\u001b[0m\n\u001b[1;32m    657\u001b[0m \u001b[0;34m\u001b[0m\u001b[0m\n\u001b[1;32m    658\u001b[0m   return pack_sequence_as(\n\u001b[0;32m--> 659\u001b[0;31m       \u001b[0mstructure\u001b[0m\u001b[0;34m[\u001b[0m\u001b[0;36m0\u001b[0m\u001b[0;34m]\u001b[0m\u001b[0;34m,\u001b[0m \u001b[0;34m[\u001b[0m\u001b[0mfunc\u001b[0m\u001b[0;34m(\u001b[0m\u001b[0;34m*\u001b[0m\u001b[0mx\u001b[0m\u001b[0;34m)\u001b[0m \u001b[0;32mfor\u001b[0m \u001b[0mx\u001b[0m \u001b[0;32min\u001b[0m \u001b[0mentries\u001b[0m\u001b[0;34m]\u001b[0m\u001b[0;34m,\u001b[0m\u001b[0;34m\u001b[0m\u001b[0;34m\u001b[0m\u001b[0m\n\u001b[0m\u001b[1;32m    660\u001b[0m       expand_composites=expand_composites)\n\u001b[1;32m    661\u001b[0m \u001b[0;34m\u001b[0m\u001b[0m\n",
            "\u001b[0;32m/usr/local/lib/python3.7/dist-packages/tensorflow/python/util/nest.py\u001b[0m in \u001b[0;36m<listcomp>\u001b[0;34m(.0)\u001b[0m\n\u001b[1;32m    657\u001b[0m \u001b[0;34m\u001b[0m\u001b[0m\n\u001b[1;32m    658\u001b[0m   return pack_sequence_as(\n\u001b[0;32m--> 659\u001b[0;31m       \u001b[0mstructure\u001b[0m\u001b[0;34m[\u001b[0m\u001b[0;36m0\u001b[0m\u001b[0;34m]\u001b[0m\u001b[0;34m,\u001b[0m \u001b[0;34m[\u001b[0m\u001b[0mfunc\u001b[0m\u001b[0;34m(\u001b[0m\u001b[0;34m*\u001b[0m\u001b[0mx\u001b[0m\u001b[0;34m)\u001b[0m \u001b[0;32mfor\u001b[0m \u001b[0mx\u001b[0m \u001b[0;32min\u001b[0m \u001b[0mentries\u001b[0m\u001b[0;34m]\u001b[0m\u001b[0;34m,\u001b[0m\u001b[0;34m\u001b[0m\u001b[0;34m\u001b[0m\u001b[0m\n\u001b[0m\u001b[1;32m    660\u001b[0m       expand_composites=expand_composites)\n\u001b[1;32m    661\u001b[0m \u001b[0;34m\u001b[0m\u001b[0m\n",
            "\u001b[0;32m/usr/local/lib/python3.7/dist-packages/tensorflow/python/keras/utils/tf_utils.py\u001b[0m in \u001b[0;36m_to_single_numpy_or_python_type\u001b[0;34m(t)\u001b[0m\n\u001b[1;32m    508\u001b[0m   \u001b[0;32mdef\u001b[0m \u001b[0m_to_single_numpy_or_python_type\u001b[0m\u001b[0;34m(\u001b[0m\u001b[0mt\u001b[0m\u001b[0;34m)\u001b[0m\u001b[0;34m:\u001b[0m\u001b[0;34m\u001b[0m\u001b[0;34m\u001b[0m\u001b[0m\n\u001b[1;32m    509\u001b[0m     \u001b[0;32mif\u001b[0m \u001b[0misinstance\u001b[0m\u001b[0;34m(\u001b[0m\u001b[0mt\u001b[0m\u001b[0;34m,\u001b[0m \u001b[0mops\u001b[0m\u001b[0;34m.\u001b[0m\u001b[0mTensor\u001b[0m\u001b[0;34m)\u001b[0m\u001b[0;34m:\u001b[0m\u001b[0;34m\u001b[0m\u001b[0;34m\u001b[0m\u001b[0m\n\u001b[0;32m--> 510\u001b[0;31m       \u001b[0mx\u001b[0m \u001b[0;34m=\u001b[0m \u001b[0mt\u001b[0m\u001b[0;34m.\u001b[0m\u001b[0mnumpy\u001b[0m\u001b[0;34m(\u001b[0m\u001b[0;34m)\u001b[0m\u001b[0;34m\u001b[0m\u001b[0;34m\u001b[0m\u001b[0m\n\u001b[0m\u001b[1;32m    511\u001b[0m       \u001b[0;32mreturn\u001b[0m \u001b[0mx\u001b[0m\u001b[0;34m.\u001b[0m\u001b[0mitem\u001b[0m\u001b[0;34m(\u001b[0m\u001b[0;34m)\u001b[0m \u001b[0;32mif\u001b[0m \u001b[0mnp\u001b[0m\u001b[0;34m.\u001b[0m\u001b[0mndim\u001b[0m\u001b[0;34m(\u001b[0m\u001b[0mx\u001b[0m\u001b[0;34m)\u001b[0m \u001b[0;34m==\u001b[0m \u001b[0;36m0\u001b[0m \u001b[0;32melse\u001b[0m \u001b[0mx\u001b[0m\u001b[0;34m\u001b[0m\u001b[0;34m\u001b[0m\u001b[0m\n\u001b[1;32m    512\u001b[0m     \u001b[0;32mreturn\u001b[0m \u001b[0mt\u001b[0m  \u001b[0;31m# Don't turn ragged or sparse tensors to NumPy.\u001b[0m\u001b[0;34m\u001b[0m\u001b[0;34m\u001b[0m\u001b[0m\n",
            "\u001b[0;32m/usr/local/lib/python3.7/dist-packages/tensorflow/python/framework/ops.py\u001b[0m in \u001b[0;36mnumpy\u001b[0;34m(self)\u001b[0m\n\u001b[1;32m   1069\u001b[0m     \"\"\"\n\u001b[1;32m   1070\u001b[0m     \u001b[0;31m# TODO(slebedev): Consider avoiding a copy for non-CPU or remote tensors.\u001b[0m\u001b[0;34m\u001b[0m\u001b[0;34m\u001b[0m\u001b[0;34m\u001b[0m\u001b[0m\n\u001b[0;32m-> 1071\u001b[0;31m     \u001b[0mmaybe_arr\u001b[0m \u001b[0;34m=\u001b[0m \u001b[0mself\u001b[0m\u001b[0;34m.\u001b[0m\u001b[0m_numpy\u001b[0m\u001b[0;34m(\u001b[0m\u001b[0;34m)\u001b[0m  \u001b[0;31m# pylint: disable=protected-access\u001b[0m\u001b[0;34m\u001b[0m\u001b[0;34m\u001b[0m\u001b[0m\n\u001b[0m\u001b[1;32m   1072\u001b[0m     \u001b[0;32mreturn\u001b[0m \u001b[0mmaybe_arr\u001b[0m\u001b[0;34m.\u001b[0m\u001b[0mcopy\u001b[0m\u001b[0;34m(\u001b[0m\u001b[0;34m)\u001b[0m \u001b[0;32mif\u001b[0m \u001b[0misinstance\u001b[0m\u001b[0;34m(\u001b[0m\u001b[0mmaybe_arr\u001b[0m\u001b[0;34m,\u001b[0m \u001b[0mnp\u001b[0m\u001b[0;34m.\u001b[0m\u001b[0mndarray\u001b[0m\u001b[0;34m)\u001b[0m \u001b[0;32melse\u001b[0m \u001b[0mmaybe_arr\u001b[0m\u001b[0;34m\u001b[0m\u001b[0;34m\u001b[0m\u001b[0m\n\u001b[1;32m   1073\u001b[0m \u001b[0;34m\u001b[0m\u001b[0m\n",
            "\u001b[0;32m/usr/local/lib/python3.7/dist-packages/tensorflow/python/framework/ops.py\u001b[0m in \u001b[0;36m_numpy\u001b[0;34m(self)\u001b[0m\n\u001b[1;32m   1035\u001b[0m   \u001b[0;32mdef\u001b[0m \u001b[0m_numpy\u001b[0m\u001b[0;34m(\u001b[0m\u001b[0mself\u001b[0m\u001b[0;34m)\u001b[0m\u001b[0;34m:\u001b[0m\u001b[0;34m\u001b[0m\u001b[0;34m\u001b[0m\u001b[0m\n\u001b[1;32m   1036\u001b[0m     \u001b[0;32mtry\u001b[0m\u001b[0;34m:\u001b[0m\u001b[0;34m\u001b[0m\u001b[0;34m\u001b[0m\u001b[0m\n\u001b[0;32m-> 1037\u001b[0;31m       \u001b[0;32mreturn\u001b[0m \u001b[0mself\u001b[0m\u001b[0;34m.\u001b[0m\u001b[0m_numpy_internal\u001b[0m\u001b[0;34m(\u001b[0m\u001b[0;34m)\u001b[0m\u001b[0;34m\u001b[0m\u001b[0;34m\u001b[0m\u001b[0m\n\u001b[0m\u001b[1;32m   1038\u001b[0m     \u001b[0;32mexcept\u001b[0m \u001b[0mcore\u001b[0m\u001b[0;34m.\u001b[0m\u001b[0m_NotOkStatusException\u001b[0m \u001b[0;32mas\u001b[0m \u001b[0me\u001b[0m\u001b[0;34m:\u001b[0m  \u001b[0;31m# pylint: disable=protected-access\u001b[0m\u001b[0;34m\u001b[0m\u001b[0;34m\u001b[0m\u001b[0m\n\u001b[1;32m   1039\u001b[0m       \u001b[0msix\u001b[0m\u001b[0;34m.\u001b[0m\u001b[0mraise_from\u001b[0m\u001b[0;34m(\u001b[0m\u001b[0mcore\u001b[0m\u001b[0;34m.\u001b[0m\u001b[0m_status_to_exception\u001b[0m\u001b[0;34m(\u001b[0m\u001b[0me\u001b[0m\u001b[0;34m.\u001b[0m\u001b[0mcode\u001b[0m\u001b[0;34m,\u001b[0m \u001b[0me\u001b[0m\u001b[0;34m.\u001b[0m\u001b[0mmessage\u001b[0m\u001b[0;34m)\u001b[0m\u001b[0;34m,\u001b[0m \u001b[0;32mNone\u001b[0m\u001b[0;34m)\u001b[0m  \u001b[0;31m# pylint: disable=protected-access\u001b[0m\u001b[0;34m\u001b[0m\u001b[0;34m\u001b[0m\u001b[0m\n",
            "\u001b[0;31mKeyboardInterrupt\u001b[0m: "
          ]
        }
      ]
    },
    {
      "cell_type": "markdown",
      "metadata": {
        "id": "ke61FDwA-yY5"
      },
      "source": [
        "**Testing the model on driver 16's data**"
      ]
    },
    {
      "cell_type": "code",
      "metadata": {
        "id": "4wRzCa_4X7vP"
      },
      "source": [
        "best_model = load_model('model-best-76-0.41.h5')"
      ],
      "execution_count": null,
      "outputs": []
    },
    {
      "cell_type": "markdown",
      "metadata": {
        "id": "u92X2a6SYG8Y"
      },
      "source": [
        "**Testing the model on driver 17's data**"
      ]
    },
    {
      "cell_type": "code",
      "metadata": {
        "id": "mnrvVxKmYPaT"
      },
      "source": [
        "best_model = load_model('model-best-20-0.41.h5')"
      ],
      "execution_count": null,
      "outputs": []
    },
    {
      "cell_type": "markdown",
      "metadata": {
        "id": "d2eF27v5ZwFc"
      },
      "source": [
        "### Evaluate the model on new driver's data"
      ]
    },
    {
      "cell_type": "code",
      "metadata": {
        "colab": {
          "base_uri": "https://localhost:8080/"
        },
        "id": "2uiax3-wUwNV",
        "outputId": "77bd046b-5a80-4844-999b-28ae8c63f623"
      },
      "source": [
        "_, train_acc = best_model.evaluate(Xnew_train_enc, ynew_train_enc, verbose=2)\n",
        "_, test_acc = best_model.evaluate(Xnew_test_enc, ynew_test_enc, verbose=1)\n",
        "print('Accuracy of test: %.2f' % (test_acc*100))\n",
        "print('Accuracy of the: '+'1) Train: %.3f, 2) Test: %.3f' % (train_acc, test_acc))"
      ],
      "execution_count": null,
      "outputs": [
        {
          "output_type": "stream",
          "text": [
            "19623/19623 - 21s - loss: 0.4056 - accuracy: 0.8558\n",
            "2381/2381 [==============================] - 3s 1ms/step - loss: 0.4731 - accuracy: 0.8176\n",
            "Accuracy of test: 81.76\n",
            "Accuracy of the: 1) Train: 0.856, 2) Test: 0.818\n"
          ],
          "name": "stdout"
        }
      ]
    },
    {
      "cell_type": "markdown",
      "metadata": {
        "id": "V4f0LaMcYY2p"
      },
      "source": [
        "**Evaluate the model on driver 17's data**"
      ]
    },
    {
      "cell_type": "code",
      "metadata": {
        "colab": {
          "base_uri": "https://localhost:8080/"
        },
        "id": "n5skO0nyYWPE",
        "outputId": "fa21de1a-166e-471e-dd69-fdfbe3310c8a"
      },
      "source": [
        "_, train_acc = best_model.evaluate(Xnew_train_enc, ynew_train_enc, verbose=2)\n",
        "_, test_acc = best_model.evaluate(Xnew_test_enc, ynew_test_enc, verbose=1)\n",
        "print('Accuracy of test: %.2f' % (test_acc*100))\n",
        "print('Accuracy of the: '+'1) Train: %.3f, 2) Test: %.3f' % (train_acc, test_acc))"
      ],
      "execution_count": null,
      "outputs": [
        {
          "output_type": "stream",
          "text": [
            "17653/17653 - 20s - loss: 0.1692 - accuracy: 0.9356\n",
            "2547/2547 [==============================] - 4s 2ms/step - loss: 0.2329 - accuracy: 0.9040\n",
            "Accuracy of test: 90.40\n",
            "Accuracy of the: 1) Train: 0.936, 2) Test: 0.904\n"
          ],
          "name": "stdout"
        }
      ]
    },
    {
      "cell_type": "markdown",
      "metadata": {
        "id": "6C6vbZLfLDWh"
      },
      "source": [
        "Evaluate the model on driver 14's data"
      ]
    },
    {
      "cell_type": "code",
      "metadata": {
        "colab": {
          "base_uri": "https://localhost:8080/"
        },
        "id": "tkWXEmpLKmzD",
        "outputId": "25fdb875-1a03-47e0-dbaa-b7575949cf59"
      },
      "source": [
        "_, train_acc = best_model.evaluate(Xo16_train_enc, yo16_train_enc, verbose=2)\n",
        "_, test_acc = best_model.evaluate(Xo16_test_enc, yo16_test_enc, verbose=1)\n",
        "print('Accuracy of test: %.2f' % (test_acc*100))\n",
        "print('Accuracy of the: '+'1) Train: %.3f, 2) Test: %.3f' % (train_acc, test_acc))"
      ],
      "execution_count": null,
      "outputs": [
        {
          "output_type": "stream",
          "text": [
            "19134/19134 - 28s - loss: 0.4099 - accuracy: 0.8529\n",
            "2484/2484 [==============================] - 5s 2ms/step - loss: 0.4590 - accuracy: 0.8309\n",
            "Accuracy of test: 83.09\n",
            "Accuracy of the: 1) Train: 0.853, 2) Test: 0.831\n"
          ],
          "name": "stdout"
        }
      ]
    },
    {
      "cell_type": "markdown",
      "metadata": {
        "id": "fCGhar_FY4YY"
      },
      "source": [
        "**Does it generalize at least a little?**"
      ]
    },
    {
      "cell_type": "code",
      "metadata": {
        "colab": {
          "base_uri": "https://localhost:8080/"
        },
        "id": "IbHX2QmzYsYw",
        "outputId": "e2fbe93e-045e-4732-86e0-5b5d283c35e0"
      },
      "source": [
        "_, train_acc = best_model.evaluate(X_train_enc, y_train_enc, verbose=2)\n",
        "_, test_acc = best_model.evaluate(X_test_enc, y_test_enc, verbose=1)\n",
        "print('Accuracy of test: %.2f' % (test_acc*100))\n",
        "print('Accuracy of the: '+'1) Train: %.3f, 2) Test: %.3f' % (train_acc, test_acc))"
      ],
      "execution_count": null,
      "outputs": [
        {
          "output_type": "stream",
          "text": [
            "198234/198234 - 213s - loss: 4.3559 - accuracy: 0.2912\n",
            "34552/34552 [==============================] - 52s 1ms/step - loss: 3.7000 - accuracy: 0.3181\n",
            "Accuracy of test: 31.81\n",
            "Accuracy of the: 1) Train: 0.291, 2) Test: 0.318\n"
          ],
          "name": "stdout"
        }
      ]
    },
    {
      "cell_type": "markdown",
      "metadata": {
        "id": "lICAomxsNGkJ"
      },
      "source": [
        "### Following experiments belong to the old iteration. Best results of transfer learning are as shown above."
      ]
    },
    {
      "cell_type": "markdown",
      "metadata": {
        "id": "Vrf1ga2NBW7a"
      },
      "source": [
        "**Round of fine tuning of the entire architecture:**\n",
        "Set the trainable flag for the old_model layers to be True again to perform a final round of fine tuning for the entire architecture."
      ]
    },
    {
      "cell_type": "code",
      "metadata": {
        "colab": {
          "base_uri": "https://localhost:8080/"
        },
        "id": "Vxuq5dLy1A-6",
        "outputId": "89d3cfb4-e21e-4c41-f4ab-8718ca83b90c"
      },
      "source": [
        "for layer in model.layers[:-2]:\n",
        "  layer.trainable = True\n",
        "  \n",
        "history = model.fit(X_train_enc, y_train_enc,\n",
        "                      validation_split=0.10,\n",
        "                      epochs=8,\n",
        "                      batch_size=16,\n",
        "                      callbacks=[es_cb, mc_cb, tb_cb])"
      ],
      "execution_count": null,
      "outputs": [
        {
          "output_type": "stream",
          "text": [
            "Epoch 1/8\n",
            "368994/368994 [==============================] - 674s 2ms/step - loss: 1.0278 - accuracy: 0.5822 - val_loss: 1.0137 - val_accuracy: 0.5879\n",
            "\n",
            "Epoch 00001: val_loss did not improve from 1.01223\n",
            "Epoch 2/8\n",
            "368994/368994 [==============================] - 674s 2ms/step - loss: 1.0138 - accuracy: 0.5870 - val_loss: 1.0088 - val_accuracy: 0.5898\n",
            "\n",
            "Epoch 00002: val_loss improved from 1.01223 to 1.00877, saving model to model-best-02-1.01.h5\n",
            "Epoch 3/8\n",
            "368994/368994 [==============================] - 672s 2ms/step - loss: 1.0131 - accuracy: 0.5870 - val_loss: 1.0095 - val_accuracy: 0.5868\n",
            "\n",
            "Epoch 00003: val_loss did not improve from 1.00877\n",
            "Epoch 4/8\n",
            "368994/368994 [==============================] - 673s 2ms/step - loss: 1.0126 - accuracy: 0.5867 - val_loss: 1.0082 - val_accuracy: 0.5873\n",
            "\n",
            "Epoch 00004: val_loss improved from 1.00877 to 1.00817, saving model to model-best-04-1.01.h5\n",
            "Epoch 5/8\n",
            "368994/368994 [==============================] - 673s 2ms/step - loss: 1.0100 - accuracy: 0.5885 - val_loss: 1.0037 - val_accuracy: 0.5893\n",
            "\n",
            "Epoch 00005: val_loss improved from 1.00817 to 1.00372, saving model to model-best-05-1.00.h5\n",
            "Epoch 6/8\n",
            "368994/368994 [==============================] - 672s 2ms/step - loss: 1.0083 - accuracy: 0.5891 - val_loss: 1.0103 - val_accuracy: 0.5883\n",
            "\n",
            "Epoch 00006: val_loss did not improve from 1.00372\n",
            "Epoch 7/8\n",
            "368994/368994 [==============================] - 672s 2ms/step - loss: 1.0082 - accuracy: 0.5892 - val_loss: 1.0052 - val_accuracy: 0.5881\n",
            "\n",
            "Epoch 00007: val_loss did not improve from 1.00372\n",
            "Epoch 8/8\n",
            "368994/368994 [==============================] - 674s 2ms/step - loss: 1.0081 - accuracy: 0.5892 - val_loss: 1.0056 - val_accuracy: 0.5908\n",
            "\n",
            "Epoch 00008: val_loss did not improve from 1.00372\n"
          ],
          "name": "stdout"
        }
      ]
    },
    {
      "cell_type": "markdown",
      "metadata": {
        "id": "Hz2YqqPd7RR6"
      },
      "source": [
        "**Accuracy of the transferred model on driver 16's data**"
      ]
    },
    {
      "cell_type": "markdown",
      "metadata": {
        "id": "JEaz18oG7K8E"
      },
      "source": [
        "**Accuracy after fine tuning the entire model**"
      ]
    },
    {
      "cell_type": "code",
      "metadata": {
        "colab": {
          "base_uri": "https://localhost:8080/"
        },
        "id": "u-fl0h3QlHGs",
        "outputId": "40046a33-b6b8-4e22-fd40-d74440be32a1"
      },
      "source": [
        "_, train_acc = model.evaluate(X16_train_enc, y16_train_enc, verbose=2)\n",
        "_, test_acc = model.evaluate(X16_test_enc, y16_test_enc, verbose=1)\n",
        "print('Accuracy of test: %.2f' % (test_acc*100))\n",
        "print('Accuracy of the: '+'1) Train: %.3f, 2) Test: %.3f' % (train_acc, test_acc))"
      ],
      "execution_count": null,
      "outputs": [
        {
          "output_type": "stream",
          "text": [
            "23839/23839 - 26s - loss: 2.6160 - accuracy: 0.2102\n",
            "2613/2613 [==============================] - 4s 1ms/step - loss: 2.9954 - accuracy: 0.2088\n",
            "Accuracy of test: 20.88\n",
            "Accuracy of the: 1) Train: 0.210, 2) Test: 0.209\n"
          ],
          "name": "stdout"
        }
      ]
    },
    {
      "cell_type": "code",
      "metadata": {
        "id": "xbg2aRMVk1JO"
      },
      "source": [
        "model.save('transfer.h5')"
      ],
      "execution_count": null,
      "outputs": []
    },
    {
      "cell_type": "markdown",
      "metadata": {
        "id": "aB3zio6GB6Na"
      },
      "source": [
        "**Observations:**\n",
        "1. Training accuracy increased from 87.4% to 87.6%\n",
        "2. Test accuracy increased from 85.21% to 85.74% on unseen data"
      ]
    },
    {
      "cell_type": "markdown",
      "metadata": {
        "id": "isyjoBQ6GBX-"
      },
      "source": [
        " **Baseline Architecture and Modified architecture:**\n",
        "\n",
        "<img src = 'https://drive.google.com/uc?id=1khDy2rcmbPyIY941rrUAVai4GtaWWtCH' alt = 'Old_arch' width = '400' height = '320' >\n",
        " <img src = 'https://drive.google.com/uc?id=1MZO7IEX7-cBo7XmaDxNkNWwa8NsTEPme'alt = 'New_arch' width = '400' height = '320' >\n",
        "\n",
        "\n",
        " \n",
        "\n",
        "\n",
        "    "
      ]
    },
    {
      "cell_type": "code",
      "metadata": {
        "id": "rw7vbtd0_Akw"
      },
      "source": [
        "model.save('85.74test.h5', save_format='h5')"
      ],
      "execution_count": null,
      "outputs": []
    },
    {
      "cell_type": "code",
      "metadata": {
        "id": "-fFRUqqoLNjG"
      },
      "source": [
        "print(model.summary())"
      ],
      "execution_count": null,
      "outputs": []
    },
    {
      "cell_type": "code",
      "metadata": {
        "id": "F-HU6ZSQK7z4",
        "colab": {
          "base_uri": "https://localhost:8080/",
          "height": 1000
        },
        "outputId": "bcd1a9cb-5029-47f6-8ae8-e6dbd08c7e1a"
      },
      "source": [
        "print_heading(f'Evaluating {best_model_path}')\n",
        "\n",
        "!mkdir -p images\n",
        "\n",
        "# load the saved best model\n",
        "saved_model = load_model(tf_model_path)\n",
        "\n",
        "# evaluate the model\n",
        "_, train_acc = saved_model.evaluate(X_train_enc, y_train_enc, verbose=2)\n",
        "_, test_acc = saved_model.evaluate(X_test_enc, y_test_enc, verbose=1)\n",
        "print('Accuracy of test: %.2f' % (test_acc*100))\n",
        "print('Accuracy of the: '+'1) Train: %.3f, 2) Test: %.3f' % (train_acc, test_acc))\n",
        "\n",
        "# plot training history\n",
        "plt.plot(history.history['loss'], label='train')\n",
        "plt.plot(history.history['val_loss'], label='test')\n",
        "plt.legend(['train', 'test'], loc='upper left')\n",
        "plt.ylabel('Loss')\n",
        "plt.savefig('images/training_history.png', dpi=300)\n",
        "plt.show()\n",
        "\n",
        "# summarize history for accuracy\n",
        "plt.plot(history.history['accuracy'])\n",
        "plt.plot(history.history['val_accuracy'])\n",
        "plt.title('model accuracy')\n",
        "plt.ylabel('accuracy')\n",
        "plt.xlabel('epoch')\n",
        "plt.legend(['train', 'test'], loc='upper left')\n",
        "plt.savefig('images/accuracy_history.png', dpi=300)\n",
        "plt.show()\n",
        "\n",
        "# summarize history for loss\n",
        "plt.plot(history.history['loss'])\n",
        "plt.plot(history.history['val_loss'])\n",
        "plt.title('model loss')\n",
        "plt.ylabel('loss')\n",
        "plt.xlabel('epoch')\n",
        "plt.legend(['train', 'test'], loc='upper left')\n",
        "plt.savefig('images/loss_history.png', dpi=300)\n",
        "plt.show()\n",
        "\n",
        "#note in kera model.predict() will return predict probabilities\n",
        "pred_prob =  saved_model.predict(X_test_enc, verbose=0)\n",
        "fpr, tpr, threshold = metrics.roc_curve(y_test_enc.ravel(), pred_prob.ravel())\n",
        "roc_auc = metrics.auc(fpr, tpr)\n",
        "\n",
        "# Compute ROC curve and ROC area for each class\n",
        "fpr = dict()\n",
        "tpr = dict()\n",
        "roc_auc = dict()\n",
        "for i in range(5):\n",
        "    fpr[i], tpr[i], _ = metrics.roc_curve(y_test_enc[:,i], pred_prob[:, i])\n",
        "    roc_auc[i] = metrics.auc(fpr[i], tpr[i])    \n",
        "   \n",
        "# Compute micro-average ROC curve and ROC area\n",
        "fpr['micro'], tpr['micro'], _ = metrics.roc_curve(y_test_enc.ravel(), pred_prob.ravel())\n",
        "roc_auc['micro'] = metrics.auc(fpr['micro'], tpr['micro'])\n",
        "\n",
        "# Compute macro-average ROC curve and ROC area\n",
        "all_fpr = np.unique(np.concatenate([fpr[i] for i in range(3)]))\n",
        "\n",
        "# Then interpolate all ROC curves at this points\n",
        "mean_tpr = np.zeros_like(all_fpr)\n",
        "for i in range(5):\n",
        "    mean_tpr += np.interp(all_fpr, fpr[i], tpr[i])\n",
        "\n",
        "# Finally average it and compute AUC\n",
        "mean_tpr /= 5\n",
        "\n",
        "fpr['macro'] = all_fpr\n",
        "tpr['macro'] = mean_tpr\n",
        "roc_auc['macro'] = metrics.auc(fpr['macro'], tpr['macro'])\n",
        "\n",
        "plt.figure(1)\n",
        "plt.plot(fpr['micro'], tpr['micro'],\n",
        "         label='micro-average ROC curve (area = {0:0.2f})' \\\n",
        "               ''.format(roc_auc['micro']),\n",
        "         color='deeppink', linestyle=':', linewidth=4)\n",
        "\n",
        "plt.plot(fpr['macro'], tpr['macro'],\n",
        "         label='macro-average ROC curve (area = {0:0.2f})' \\\n",
        "               ''.format(roc_auc['macro']),\n",
        "         color='navy', linestyle=':', linewidth=4)\n",
        "\n",
        "colors = cycle(['aqua', 'darkorange', 'cornflowerblue', 'red', 'blue'])\n",
        "for i, color in zip(range(5), colors):\n",
        "    plt.plot(fpr[i], tpr[i], color=color, lw=2,\n",
        "             label='ROC curve of class {0} (area = {1:0.2f})' \\\n",
        "             ''.format(i, roc_auc[i]))\n",
        "\n",
        "plt.plot([0, 1], [0, 1], 'k--', lw=2)\n",
        "plt.xlim([0.0, 1.0])\n",
        "plt.ylim([0.0, 1.05])\n",
        "plt.xlabel('False Positive Rate')\n",
        "plt.ylabel('True Positive Rate')\n",
        "plt.title('Result for Receiver operating characteristic to multi-class of Reaction Time')\n",
        "plt.legend(loc='lower right')\n",
        "plt.savefig('images/roc.png', dpi=300)\n",
        "plt.show()"
      ],
      "execution_count": null,
      "outputs": [
        {
          "output_type": "display_data",
          "data": {
            "text/html": [
              "<h3 style=\"\">Evaluating model-best-41-0.33.h5</h3>"
            ],
            "text/plain": [
              "<IPython.core.display.HTML object>"
            ]
          },
          "metadata": {
            "tags": []
          }
        },
        {
          "output_type": "stream",
          "text": [
            "33335/33335 - 24s - loss: 0.3318 - accuracy: 0.8740\n",
            "5090/5090 [==============================] - 5s 896us/step - loss: 0.3756 - accuracy: 0.8521\n",
            "Accuracy of test: 85.21\n",
            "Accuracy of the: 1) Train: 0.874, 2) Test: 0.852\n"
          ],
          "name": "stdout"
        },
        {
          "output_type": "display_data",
          "data": {
            "image/png": "[encoded data removed]",
            "text/plain": [
              "<Figure size 432x288 with 1 Axes>"
            ]
          },
          "metadata": {
            "tags": [],
            "needs_background": "light"
          }
        },
        {
          "output_type": "display_data",
          "data": {
            "image/png": "[encoded data removed]",
            "text/plain": [
              "<Figure size 432x288 with 1 Axes>"
            ]
          },
          "metadata": {
            "tags": [],
            "needs_background": "light"
          }
        },
        {
          "output_type": "display_data",
          "data": {
            "image/png": "[encoded data removed]",
            "text/plain": [
              "<Figure size 432x288 with 1 Axes>"
            ]
          },
          "metadata": {
            "tags": [],
            "needs_background": "light"
          }
        },
        {
          "output_type": "display_data",
          "data": {
            "image/png": "[encoded data removed]",
            "text/plain": [
              "<Figure size 432x288 with 1 Axes>"
            ]
          },
          "metadata": {
            "tags": [],
            "needs_background": "light"
          }
        }
      ]
    },
    {
      "cell_type": "markdown",
      "metadata": {
        "id": "OgK1jfbqK_t0"
      },
      "source": [
        "## Create Verification Artifacts\n"
      ]
    },
    {
      "cell_type": "code",
      "metadata": {
        "id": "MIbvWfN0K-op",
        "colab": {
          "base_uri": "https://localhost:8080/",
          "height": 73
        },
        "outputId": "7e9f200d-b46f-4538-dddc-36a214801810"
      },
      "source": [
        "def compute_nnet_params(model_file, df, scaler):\n",
        "    outputs = df['TOT']\n",
        "    inputs = df.drop(['Name', 'TOT', 'ReactionTime'], axis=1)\n",
        "    enc_inputs = pd.DataFrame(scaler.transform(inputs.values), columns=inputs.columns)\n",
        "\n",
        "    # compute sdev, mins, and maxs for inputs\n",
        "    input_sdev = enc_inputs.std().to_numpy()\n",
        "    input_mins = enc_inputs.min().to_numpy()\n",
        "    input_maxs = enc_inputs.max().to_numpy()\n",
        "\n",
        "    # extend input maxs and mins by std dev\n",
        "    input_mins -= input_sdev\n",
        "    input_maxs += input_sdev\n",
        "\n",
        "    # maraboupy only supports normalization (not standardization)\n",
        "    # use mean=0, and range=1 to neutralize maraboupy normalization\n",
        "    means = np.zeros(enc_inputs.shape[1]+1, dtype=int) \n",
        "    ranges = np.ones(enc_inputs.shape[1]+1, dtype=int)\n",
        "\n",
        "    # extract weights and biases from model\n",
        "    model = load_model(model_file)\n",
        "    model_params = model.get_weights()\n",
        "    weights = [w.T for w in model_params[0:len(model_params):2]]\n",
        "    biases  = model_params[1:len(model_params):2]\n",
        "\n",
        "    return (weights, biases, input_mins, input_maxs, means, ranges)\n",
        "\n",
        "\n",
        "def save_nnet(weights, biases, input_mins, input_maxs, means, ranges, output_path):\n",
        "    # write model in nnet format.\n",
        "    writeNNet(weights, biases, input_mins, input_maxs, means, ranges, output_path)\n",
        "\n",
        "def save_info(weights, biases, input_mins, input_maxs, means, ranges, feature_names, tot_bins, tot_labels, output_path):\n",
        "    def section(param_name, values):\n",
        "        return ('-' * 40) + '\\n' + f'{param_name}:\\n{values}\\n'\n",
        "    \n",
        "    tot_categories = '\\n'.join([f'{tot_labels[i]}: ({tot_bins[i]}, {tot_bins[i+1]})' for i in range(len(tot_bins)-1)])\n",
        "    input_nodes = ', '.join([f'{i}:{feature_names[i]}' for i in range(len(feature_names))])\n",
        "    with open(output_path, 'w') as f:\n",
        "        f.writelines([section('FEATURE_NAMES', feature_names),\n",
        "                      section('INPUT_NODES', input_nodes),\n",
        "                      section('TOT_CATEGORIES', tot_categories),\n",
        "                      section('WEIGHTS', weights),\n",
        "                      section('BIASES', biases),\n",
        "                      section('MINS', input_mins),\n",
        "                      section('MAXS', input_maxs),\n",
        "                      section('MEANS', means),\n",
        "                      section('RANGES', ranges)])\n",
        "\n",
        "def save_encoders(scaler, onehot, output_dir):\n",
        "    pkl.dump(scaler, open(f'{output_dir}/scaler.pkl', 'wb'))\n",
        "    pkl.dump(onehot, open(f'{output_dir}/onehot.pkl', 'wb'))\n",
        "\n",
        "def create_verification_artifacts(tf_model_path, h5_model_path, df, feature_names, tot_bins, tot_labels, scaler, onehot):\n",
        "    print_heading(f'Creating verification artifacts...')\n",
        "    output_dir='artifacts'\n",
        "    archive_path = 'artifacts.zip'\n",
        "    h5_path = os.path.join(output_dir, 'model.h5')\n",
        "    pb_path = os.path.join(output_dir, 'model.pb')\n",
        "    nnet_path = os.path.join(output_dir, 'model.nnet')\n",
        "    info_path = os.path.join(output_dir, 'model.info')\n",
        "    model_zip = os.path.join(output_dir, 'model.zip')\n",
        "\n",
        "    # clear previous folder\n",
        "    !rm -rf $output_dir\n",
        "    # create the folder\n",
        "    !mkdir -p $output_dir\n",
        "\n",
        "    # zip up the tf model, and copy to artifacts\n",
        "    !cd $tf_model_path/.. && zip -qr ../$model_zip model && cd - > /dev/null\n",
        "    # copy the pb model file\n",
        "    !cp $tf_model_path/saved_model.pb $pb_path\n",
        "    # copy the h5 model file\n",
        "    !cp $h5_model_path $h5_path\n",
        "    # copy the images to artifacts\n",
        "    !cp -r images $output_dir\n",
        "\n",
        "    # extract params for nnet format\n",
        "    nnet_params = compute_nnet_params(tf_model_path, df, scaler)\n",
        "    weights, biases, input_mins, input_maxs, means, ranges = nnet_params\n",
        "    # write the model to nnet file.\n",
        "    save_nnet(weights, biases, input_mins, input_maxs, means, ranges, nnet_path)\n",
        "    # write encoders to file\n",
        "    save_encoders(scaler, onehot, output_dir)\n",
        "    # save extra model information\n",
        "    save_info(weights, biases, input_mins, input_maxs, means, ranges, featddure_names, tot_bins, tot_labels, info_path)\n",
        "    # create a zip archive of artifacts\n",
        "    !zip -rq $archive_path $output_dir\n",
        "    print_message(f'Saved artifacts to {archive_path}')\n",
        "\n",
        "# create artifacts used for verification\n",
        "create_verification_artifacts(tf_model_path, h5_model_path, df, feature_names, tot_bins, tot_labels, scaler, onehot)"
      ],
      "execution_count": null,
      "outputs": [
        {
          "output_type": "display_data",
          "data": {
            "text/html": [
              "<h3 style=\"\">Creating verification artifacts...</h3>"
            ],
            "text/plain": [
              "<IPython.core.display.HTML object>"
            ]
          },
          "metadata": {
            "tags": []
          }
        },
        {
          "output_type": "display_data",
          "data": {
            "text/html": [
              "<span style=\"\">Saved artifacts to artifacts.zip</span>"
            ],
            "text/plain": [
              "<IPython.core.display.HTML object>"
            ]
          },
          "metadata": {
            "tags": []
          }
        }
      ]
    },
    {
      "cell_type": "code",
      "metadata": {
        "id": "2rCSa0AZe7tY"
      },
      "source": [
        "def save_data(X_train_enc, X_test_enc, y_train_enc, y_test_enc, data_dir='data'):\n",
        "    train_df = pd.concat([pd.DataFrame(X_train_enc), pd.DataFrame(y_train_enc)], axis=1)\n",
        "    test_df = pd.concat([pd.DataFrame(X_test_enc), pd.DataFrame(y_test_enc)], axis=1)\n",
        "    !mkdir -p $data_dir\n",
        "    train_csv, test_csv = f'{data_dir}/train.csv', f'{data_dir}/test.csv'\n",
        "    train_df.to_csv(train_csv)\n",
        "    test_df.to_csv(test_csv)\n",
        "    print(f'wrote data to {train_csv} and {test_csv}')\n",
        "\n",
        "save_data(X_train_enc, X_test_enc, y_train_enc, y_test_enc)"
      ],
      "execution_count": null,
      "outputs": []
    },
    {
      "cell_type": "markdown",
      "metadata": {
        "id": "uLOyLCRBDjVX"
      },
      "source": [
        "## Save Model & Verification Artifacts to GDrive"
      ]
    },
    {
      "cell_type": "code",
      "metadata": {
        "id": "zd55G5_IhoVD"
      },
      "source": [
        "# # GDrive ID's point to files in models/latest folder\n",
        "# artifacts = {\n",
        "#     'artifacts/model.info': '1l59_JttOSA4rwy2a4-fnPkezfIoaULXp', # info file\n",
        "#     'artifacts/model.zip': '100s5DVwaK6ILlDe2ZCgm2F8JGrY7Wixf',  # tf format\n",
        "#     'artifacts/model.h5': '1Kyxb1A4E6U_HPaPjRLVnb2OTJtXOzTXX',   # h5 format\n",
        "#     'artifacts/model.pb': '1Ap3eWHWwAyw_3wOmy237AJF3pWQRnG3_',   # pb format\n",
        "#     'artifacts/model.nnet': '1HzfGxhKrw9PpeA1cMsexC4FcWv5OPdtB', # nnet format\n",
        "#     'artifacts/scaler.pkl': '10EkqHQ3aqEYAxbLS4Q4LRWJ1byNCvAcf', # scaler object\n",
        "#     'artifacts/onehot.pkl': '1SeED9m_TeyqtmHRgDe_kd9HVmn2K1hh8'  # onehot object\n",
        "#     }\n",
        "\n",
        "# # upload all of the artifacts to drive\n",
        "# for fname,driveid in artifacts.items():\n",
        "#     overwrite_gdrive_file(driveid, fname)"
      ],
      "execution_count": null,
      "outputs": []
    },
    {
      "cell_type": "code",
      "metadata": {
        "id": "Vh9zELnWwXqh",
        "colab": {
          "base_uri": "https://localhost:8080/",
          "height": 138
        },
        "outputId": "d6a6048b-f083-4639-fac7-e92eed1cc6ec"
      },
      "source": [
        "# # Test artifact IDs\n",
        "test_artifacts = {\n",
        "    'artifacts/model.info': '1ukfM8reEtyWBkcTqLyNIWqJUtYEZlE3W',\n",
        "    'artifacts/model.zip': '1foS3Gotcr72_J7PBwVNnap54sDKBRTXa',\n",
        "    'artifacts/model.h5': '1Km81P7I5zhyIpdhfG-FvEtQoak9-vDMR',\n",
        "    'artifacts/model.pb': '1iY72ZMW9GVe2xGwkvWzeXL6exXi0tIAk',\n",
        "    'artifacts/model.nnet': '1wrtH7fhKJgisDScJZKXH2WlkhpV5NKJR',\n",
        "    'artifacts/scaler.pkl': '14ydD-cpE41xaHUSPD4hzJlFjWQc7l4uG',\n",
        "    'artifacts/onehot.pkl': '1FVoFFg-OfvF1V9BRlNuRfSNJNHcNumO7'\n",
        "    }\n",
        "for fname,driveid in test_artifacts.items():\n",
        "    overwrite_gdrive_file(driveid, fname)"
      ],
      "execution_count": null,
      "outputs": [
        {
          "output_type": "stream",
          "text": [
            "Wrote artifacts/model.info to GDrive model.info (1ukfM8reEtyWBkcTqLyNIWqJUtYEZlE3W).\n",
            "Wrote artifacts/model.zip to GDrive model.zip (1foS3Gotcr72_J7PBwVNnap54sDKBRTXa).\n",
            "Wrote artifacts/model.h5 to GDrive model.h5 (1Km81P7I5zhyIpdhfG-FvEtQoak9-vDMR).\n",
            "Wrote artifacts/model.pb to GDrive model.pb (1iY72ZMW9GVe2xGwkvWzeXL6exXi0tIAk).\n",
            "Wrote artifacts/model.nnet to GDrive model.nnet (1wrtH7fhKJgisDScJZKXH2WlkhpV5NKJR).\n",
            "Wrote artifacts/scaler.pkl to GDrive scalar.pkl (14ydD-cpE41xaHUSPD4hzJlFjWQc7l4uG).\n",
            "Wrote artifacts/onehot.pkl to GDrive onehot.pkl (1FVoFFg-OfvF1V9BRlNuRfSNJNHcNumO7).\n"
          ],
          "name": "stdout"
        }
      ]
    },
    {
      "cell_type": "markdown",
      "metadata": {
        "id": "U-PbDU_mqBXt"
      },
      "source": [
        "    \n",
        "## Visualization"
      ]
    },
    {
      "cell_type": "code",
      "metadata": {
        "id": "onid6oqDVSvW"
      },
      "source": [
        "display(tf.keras.utils.plot_model(model, to_file='images/model.png', show_shapes=True, show_layer_names=True))"
      ],
      "execution_count": null,
      "outputs": []
    },
    {
      "cell_type": "code",
      "metadata": {
        "id": "VGPLuhI1iniH",
        "colab": {
          "base_uri": "https://localhost:8080/",
          "height": 34
        },
        "outputId": "5909778b-c7a2-4f1a-adef-1cf4e5f05e8d"
      },
      "source": [
        "%tensorboard --logdir $tensorboard_logs --host localhost --port 6006"
      ],
      "execution_count": null,
      "outputs": [
        {
          "output_type": "stream",
          "text": [
            "UsageError: Line magic function `%tensorboard` not found.\n"
          ],
          "name": "stderr"
        }
      ]
    }
  ]
}