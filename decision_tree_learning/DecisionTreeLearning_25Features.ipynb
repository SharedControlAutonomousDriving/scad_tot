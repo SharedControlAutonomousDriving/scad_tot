{
  "nbformat": 4,
  "nbformat_minor": 0,
  "metadata": {
    "colab": {
      "name": "Decision_Tree_Learning_RA_Olddata.ipynb",
      "provenance": [],
      "collapsed_sections": []
    },
    "kernelspec": {
      "name": "python3",
      "display_name": "Python 3"
    }
  },
  "cells": [
    {
      "cell_type": "code",
      "metadata": {
        "id": "K2gluYf026an"
      },
      "source": [
        "import pandas as pd\n",
        "import numpy as np\n",
        "import sklearn\n",
        "from pandas import DataFrame\n",
        "from sklearn.tree import DecisionTreeClassifier # Import Decision Tree Classifier\n",
        "from sklearn.model_selection import train_test_split # Import train_test_split function\n",
        "from sklearn import metrics #Import scikit-learn metrics module for accuracy calculation\n",
        "from sklearn import tree\n",
        "import matplotlib.pyplot as plt\n",
        "from sklearn.tree import export_text"
      ],
      "execution_count": null,
      "outputs": []
    },
    {
      "cell_type": "code",
      "metadata": {
        "colab": {
          "base_uri": "https://localhost:8080/"
        },
        "id": "sY3HB-dEnFjc",
        "outputId": "a8a940ef-ad31-41f9-afe8-5b82895df1f0"
      },
      "source": [
        "from google.colab import drive\n",
        "drive.mount('/content/drive/')"
      ],
      "execution_count": null,
      "outputs": [
        {
          "output_type": "stream",
          "text": [
            "Mounted at /content/drive/\n"
          ],
          "name": "stdout"
        }
      ]
    },
    {
      "cell_type": "code",
      "metadata": {
        "colab": {
          "base_uri": "https://localhost:8080/"
        },
        "id": "OSf6A_Zopk82",
        "outputId": "81d3c03d-935d-46da-bf23-02787de31046"
      },
      "source": [
        "cd drive/MyDrive/"
      ],
      "execution_count": null,
      "outputs": [
        {
          "output_type": "stream",
          "text": [
            "/content/drive/MyDrive\n"
          ],
          "name": "stdout"
        }
      ]
    },
    {
      "cell_type": "markdown",
      "metadata": {
        "id": "q6Khj9yp1-fY"
      },
      "source": [
        "----------------------------------------------------"
      ]
    },
    {
      "cell_type": "markdown",
      "metadata": {
        "id": "S1aqVTdN2MCI"
      },
      "source": [
        "**Decision Tree Learning**"
      ]
    },
    {
      "cell_type": "code",
      "metadata": {
        "id": "HhM0bV-x4fhw"
      },
      "source": [
        "df = pd.read_csv(\"v3.2.2_train.csv\")\n",
        "\n",
        "# Training data\n",
        "X = df.iloc[:, 1:26]\n",
        "\n",
        "# Labels\n",
        "y = df.iloc[:, 26:]\n",
        "y_label = list(y.columns)\n",
        "lst_labels = []\n",
        "for index, row in y.iterrows():\n",
        "    loc = np.where(np.asarray(row) == 1)[0][0]\n",
        "    lst_labels.append(y_label[loc])\n",
        "\n",
        "# Target values ['TOT_fast', 'TOT_med_fast', 'TOT_med', 'TOT_med_slow', 'TOT_slow']\n",
        "Y = DataFrame(lst_labels, columns=['Target'])\n",
        "\n",
        "# Split in train/test\n",
        "X_train, X_test, y_train, y_test = train_test_split(X, Y, test_size=0.3, random_state=1)\n"
      ],
      "execution_count": null,
      "outputs": []
    },
    {
      "cell_type": "code",
      "metadata": {
        "id": "Hd_EnOiGvdTm"
      },
      "source": [
        "# Create Decision Tree classifer object\n",
        "clf = DecisionTreeClassifier(max_depth = 10, \n",
        "                             random_state = 0)\n",
        "\n",
        "# Train Decision Tree Classifer\n",
        "clf = clf.fit(X_train,y_train)\n",
        "\n",
        "pred = clf.predict(X_test)"
      ],
      "execution_count": null,
      "outputs": []
    },
    {
      "cell_type": "code",
      "metadata": {
        "colab": {
          "base_uri": "https://localhost:8080/"
        },
        "id": "p2xZrzkuEhAs",
        "outputId": "0cb17eb0-8891-4f7d-8d00-51dcef980196"
      },
      "source": [
        "# accuracy of predictions using decision tree\n",
        "sklearn.metrics.accuracy_score(pred, y_test)"
      ],
      "execution_count": null,
      "outputs": [
        {
          "output_type": "execute_result",
          "data": {
            "text/plain": [
              "0.4565025140075061"
            ]
          },
          "metadata": {
            "tags": []
          },
          "execution_count": 7
        }
      ]
    },
    {
      "cell_type": "markdown",
      "metadata": {
        "id": "LwKBuYQtwDpu"
      },
      "source": [
        "**Visualization with Graphviz**"
      ]
    },
    {
      "cell_type": "code",
      "metadata": {
        "colab": {
          "base_uri": "https://localhost:8080/",
          "height": 619
        },
        "id": "eBBrGWE9iyOg",
        "outputId": "53a6baf3-7aaa-4be4-daa3-3a9d989ef75e"
      },
      "source": [
        "import graphviz\n",
        "dot_data = tree.export_graphviz(clf, out_file=None, \n",
        "                      feature_names=list(X_train.columns),  \n",
        "                      class_names=y_label,  \n",
        "                      filled=True, rounded=True,  \n",
        "                      special_characters=True)  \n",
        "graph = graphviz.Source(dot_data)  \n",
        "graph"
      ],
      "execution_count": null,
      "outputs": [
        {
          "output_type": "execute_result",
          "data": {
            "text/plain": [
              "<graphviz.files.Source at 0x7f8736883590>"
            ],
            "image/svg+xml": "<?xml version=\"1.0\" encoding=\"UTF-8\" standalone=\"no\"?>\n<!DOCTYPE svg PUBLIC \"-//W3C//DTD SVG 1.1//EN\"\n \"http://www.w3.org/Graphics/SVG/1.1/DTD/svg11.dtd\">\n<!-- Generated by graphviz version 2.40.1 (20161225.0304)\n -->\n<!-- Title: Tree Pages: 1 -->\n<svg width=\"2180pt\" height=\"433pt\"\n viewBox=\"0.00 0.00 2179.50 433.00\" xmlns=\"http://www.w3.org/2000/svg\" xmlns:xlink=\"http://www.w3.org/1999/xlink\">\n<g id=\"graph0\" class=\"graph\" transform=\"scale(1 1) rotate(0) translate(4 429)\">\n<title>Tree</title>\n<polygon fill=\"#ffffff\" stroke=\"transparent\" points=\"-4,4 -4,-429 2175.5,-429 2175.5,4 -4,4\"/>\n<!-- 0 -->\n<g id=\"node1\" class=\"node\">\n<title>0</title>\n<path fill=\"#ffffff\" stroke=\"#000000\" d=\"M1150,-425C1150,-425 821,-425 821,-425 815,-425 809,-419 809,-413 809,-413 809,-354 809,-354 809,-348 815,-342 821,-342 821,-342 1150,-342 1150,-342 1156,-342 1162,-348 1162,-354 1162,-354 1162,-413 1162,-413 1162,-419 1156,-425 1150,-425\"/>\n<text text-anchor=\"start\" x=\"914.5\" y=\"-409.8\" font-family=\"Helvetica,sans-Serif\" font-size=\"14.00\" fill=\"#000000\">ManualWheel ≤ 0.307</text>\n<text text-anchor=\"start\" x=\"956\" y=\"-394.8\" font-family=\"Helvetica,sans-Serif\" font-size=\"14.00\" fill=\"#000000\">gini = 0.8</text>\n<text text-anchor=\"start\" x=\"925\" y=\"-379.8\" font-family=\"Helvetica,sans-Serif\" font-size=\"14.00\" fill=\"#000000\">samples = 746683</text>\n<text text-anchor=\"start\" x=\"817\" y=\"-364.8\" font-family=\"Helvetica,sans-Serif\" font-size=\"14.00\" fill=\"#000000\">value = [149492, 149610, 149051, 149303, 149227]</text>\n<text text-anchor=\"start\" x=\"911.5\" y=\"-349.8\" font-family=\"Helvetica,sans-Serif\" font-size=\"14.00\" fill=\"#000000\">class = TOT_med_fast</text>\n</g>\n<!-- 1 -->\n<g id=\"node2\" class=\"node\">\n<title>1</title>\n<path fill=\"#f9e4d5\" stroke=\"#000000\" d=\"M860,-306C860,-306 573,-306 573,-306 567,-306 561,-300 561,-294 561,-294 561,-235 561,-235 561,-229 567,-223 573,-223 573,-223 860,-223 860,-223 866,-223 872,-229 872,-235 872,-235 872,-294 872,-294 872,-300 866,-306 860,-306\"/>\n<text text-anchor=\"start\" x=\"647.5\" y=\"-290.8\" font-family=\"Helvetica,sans-Serif\" font-size=\"14.00\" fill=\"#000000\">FixationStart ≤ &#45;1.677</text>\n<text text-anchor=\"start\" x=\"678.5\" y=\"-275.8\" font-family=\"Helvetica,sans-Serif\" font-size=\"14.00\" fill=\"#000000\">gini = 0.705</text>\n<text text-anchor=\"start\" x=\"656\" y=\"-260.8\" font-family=\"Helvetica,sans-Serif\" font-size=\"14.00\" fill=\"#000000\">samples = 309030</text>\n<text text-anchor=\"start\" x=\"569\" y=\"-245.8\" font-family=\"Helvetica,sans-Serif\" font-size=\"14.00\" fill=\"#000000\">value = [128999, 80152, 2685, 62063, 35131]</text>\n<text text-anchor=\"start\" x=\"661\" y=\"-230.8\" font-family=\"Helvetica,sans-Serif\" font-size=\"14.00\" fill=\"#000000\">class = TOT_fast</text>\n</g>\n<!-- 0&#45;&gt;1 -->\n<g id=\"edge1\" class=\"edge\">\n<title>0&#45;&gt;1</title>\n<path fill=\"none\" stroke=\"#000000\" d=\"M891.4169,-341.8796C868.2776,-331.6433 843.379,-320.6286 819.8295,-310.2108\"/>\n<polygon fill=\"#000000\" stroke=\"#000000\" points=\"821.0911,-306.9418 810.53,-306.0969 818.2592,-313.3434 821.0911,-306.9418\"/>\n<text text-anchor=\"middle\" x=\"819.5448\" y=\"-325.715\" font-family=\"Helvetica,sans-Serif\" font-size=\"14.00\" fill=\"#000000\">True</text>\n</g>\n<!-- 8 -->\n<g id=\"node9\" class=\"node\">\n<title>8</title>\n<path fill=\"#ebfcf9\" stroke=\"#000000\" d=\"M1453.5,-306C1453.5,-306 1149.5,-306 1149.5,-306 1143.5,-306 1137.5,-300 1137.5,-294 1137.5,-294 1137.5,-235 1137.5,-235 1137.5,-229 1143.5,-223 1149.5,-223 1149.5,-223 1453.5,-223 1453.5,-223 1459.5,-223 1465.5,-229 1465.5,-235 1465.5,-235 1465.5,-294 1465.5,-294 1465.5,-300 1459.5,-306 1453.5,-306\"/>\n<text text-anchor=\"start\" x=\"1235\" y=\"-290.8\" font-family=\"Helvetica,sans-Serif\" font-size=\"14.00\" fill=\"#000000\">ManualWheel ≤ 0.77</text>\n<text text-anchor=\"start\" x=\"1263.5\" y=\"-275.8\" font-family=\"Helvetica,sans-Serif\" font-size=\"14.00\" fill=\"#000000\">gini = 0.753</text>\n<text text-anchor=\"start\" x=\"1241\" y=\"-260.8\" font-family=\"Helvetica,sans-Serif\" font-size=\"14.00\" fill=\"#000000\">samples = 437653</text>\n<text text-anchor=\"start\" x=\"1145.5\" y=\"-245.8\" font-family=\"Helvetica,sans-Serif\" font-size=\"14.00\" fill=\"#000000\">value = [20493, 69458, 146366, 87240, 114096]</text>\n<text text-anchor=\"start\" x=\"1243.5\" y=\"-230.8\" font-family=\"Helvetica,sans-Serif\" font-size=\"14.00\" fill=\"#000000\">class = TOT_med</text>\n</g>\n<!-- 0&#45;&gt;8 -->\n<g id=\"edge8\" class=\"edge\">\n<title>0&#45;&gt;8</title>\n<path fill=\"none\" stroke=\"#000000\" d=\"M1096.0215,-341.8796C1123.6847,-331.4621 1153.4885,-320.2385 1181.584,-309.6582\"/>\n<polygon fill=\"#000000\" stroke=\"#000000\" points=\"1182.916,-312.8966 1191.0409,-306.0969 1180.449,-306.3458 1182.916,-312.8966\"/>\n<text text-anchor=\"middle\" x=\"1180.7274\" y=\"-325.1704\" font-family=\"Helvetica,sans-Serif\" font-size=\"14.00\" fill=\"#000000\">False</text>\n</g>\n<!-- 2 -->\n<g id=\"node3\" class=\"node\">\n<title>2</title>\n<path fill=\"#8fe957\" stroke=\"#000000\" d=\"M431,-187C431,-187 226,-187 226,-187 220,-187 214,-181 214,-175 214,-175 214,-116 214,-116 214,-110 220,-104 226,-104 226,-104 431,-104 431,-104 437,-104 443,-110 443,-116 443,-116 443,-175 443,-175 443,-181 437,-187 431,-187\"/>\n<text text-anchor=\"start\" x=\"288\" y=\"-171.8\" font-family=\"Helvetica,sans-Serif\" font-size=\"14.00\" fill=\"#000000\">MPH ≤ &#45;1.34</text>\n<text text-anchor=\"start\" x=\"290.5\" y=\"-156.8\" font-family=\"Helvetica,sans-Serif\" font-size=\"14.00\" fill=\"#000000\">gini = 0.252</text>\n<text text-anchor=\"start\" x=\"272.5\" y=\"-141.8\" font-family=\"Helvetica,sans-Serif\" font-size=\"14.00\" fill=\"#000000\">samples = 18074</text>\n<text text-anchor=\"start\" x=\"222\" y=\"-126.8\" font-family=\"Helvetica,sans-Serif\" font-size=\"14.00\" fill=\"#000000\">value = [0, 15525, 1233, 1316, 0]</text>\n<text text-anchor=\"start\" x=\"254.5\" y=\"-111.8\" font-family=\"Helvetica,sans-Serif\" font-size=\"14.00\" fill=\"#000000\">class = TOT_med_fast</text>\n</g>\n<!-- 1&#45;&gt;2 -->\n<g id=\"edge2\" class=\"edge\">\n<title>1&#45;&gt;2</title>\n<path fill=\"none\" stroke=\"#000000\" d=\"M581.0688,-222.9631C539.376,-210.1759 493.7007,-196.1672 452.7943,-183.6212\"/>\n<polygon fill=\"#000000\" stroke=\"#000000\" points=\"453.6392,-180.2195 443.0525,-180.6334 451.5867,-186.9118 453.6392,-180.2195\"/>\n</g>\n<!-- 5 -->\n<g id=\"node6\" class=\"node\">\n<title>5</title>\n<path fill=\"#f8dbc7\" stroke=\"#000000\" d=\"M860,-187C860,-187 573,-187 573,-187 567,-187 561,-181 561,-175 561,-175 561,-116 561,-116 561,-110 567,-104 573,-104 573,-104 860,-104 860,-104 866,-104 872,-110 872,-116 872,-116 872,-175 872,-175 872,-181 866,-187 860,-187\"/>\n<text text-anchor=\"start\" x=\"650\" y=\"-171.8\" font-family=\"Helvetica,sans-Serif\" font-size=\"14.00\" fill=\"#000000\">FixationStart ≤ 1.717</text>\n<text text-anchor=\"start\" x=\"678.5\" y=\"-156.8\" font-family=\"Helvetica,sans-Serif\" font-size=\"14.00\" fill=\"#000000\">gini = 0.696</text>\n<text text-anchor=\"start\" x=\"656\" y=\"-141.8\" font-family=\"Helvetica,sans-Serif\" font-size=\"14.00\" fill=\"#000000\">samples = 290956</text>\n<text text-anchor=\"start\" x=\"569\" y=\"-126.8\" font-family=\"Helvetica,sans-Serif\" font-size=\"14.00\" fill=\"#000000\">value = [128999, 64627, 1452, 60747, 35131]</text>\n<text text-anchor=\"start\" x=\"661\" y=\"-111.8\" font-family=\"Helvetica,sans-Serif\" font-size=\"14.00\" fill=\"#000000\">class = TOT_fast</text>\n</g>\n<!-- 1&#45;&gt;5 -->\n<g id=\"edge5\" class=\"edge\">\n<title>1&#45;&gt;5</title>\n<path fill=\"none\" stroke=\"#000000\" d=\"M716.5,-222.8796C716.5,-214.6838 716.5,-205.9891 716.5,-197.5013\"/>\n<polygon fill=\"#000000\" stroke=\"#000000\" points=\"720.0001,-197.298 716.5,-187.2981 713.0001,-197.2981 720.0001,-197.298\"/>\n</g>\n<!-- 3 -->\n<g id=\"node4\" class=\"node\">\n<title>3</title>\n<path fill=\"#eefce5\" stroke=\"#000000\" d=\"M209,-68C209,-68 12,-68 12,-68 6,-68 0,-62 0,-56 0,-56 0,-12 0,-12 0,-6 6,0 12,0 12,0 209,0 209,0 215,0 221,-6 221,-12 221,-12 221,-56 221,-56 221,-62 215,-68 209,-68\"/>\n<text text-anchor=\"start\" x=\"77\" y=\"-52.8\" font-family=\"Helvetica,sans-Serif\" font-size=\"14.00\" fill=\"#000000\">gini = 0.66</text>\n<text text-anchor=\"start\" x=\"58.5\" y=\"-37.8\" font-family=\"Helvetica,sans-Serif\" font-size=\"14.00\" fill=\"#000000\">samples = 4253</text>\n<text text-anchor=\"start\" x=\"8\" y=\"-22.8\" font-family=\"Helvetica,sans-Serif\" font-size=\"14.00\" fill=\"#000000\">value = [0, 1704, 1233, 1316, 0]</text>\n<text text-anchor=\"start\" x=\"36.5\" y=\"-7.8\" font-family=\"Helvetica,sans-Serif\" font-size=\"14.00\" fill=\"#000000\">class = TOT_med_fast</text>\n</g>\n<!-- 2&#45;&gt;3 -->\n<g id=\"edge3\" class=\"edge\">\n<title>2&#45;&gt;3</title>\n<path fill=\"none\" stroke=\"#000000\" d=\"M247.3248,-103.9815C227.2741,-93.7262 205.877,-82.7823 186.1032,-72.6686\"/>\n<polygon fill=\"#000000\" stroke=\"#000000\" points=\"187.6396,-69.5232 177.1427,-68.0856 184.452,-75.7554 187.6396,-69.5232\"/>\n</g>\n<!-- 4 -->\n<g id=\"node5\" class=\"node\">\n<title>4</title>\n<path fill=\"#7be539\" stroke=\"#000000\" d=\"M406,-68C406,-68 251,-68 251,-68 245,-68 239,-62 239,-56 239,-56 239,-12 239,-12 239,-6 245,0 251,0 251,0 406,0 406,0 412,0 418,-6 418,-12 418,-12 418,-56 418,-56 418,-62 412,-68 406,-68\"/>\n<text text-anchor=\"start\" x=\"299\" y=\"-52.8\" font-family=\"Helvetica,sans-Serif\" font-size=\"14.00\" fill=\"#000000\">gini = 0.0</text>\n<text text-anchor=\"start\" x=\"272.5\" y=\"-37.8\" font-family=\"Helvetica,sans-Serif\" font-size=\"14.00\" fill=\"#000000\">samples = 13821</text>\n<text text-anchor=\"start\" x=\"247\" y=\"-22.8\" font-family=\"Helvetica,sans-Serif\" font-size=\"14.00\" fill=\"#000000\">value = [0, 13821, 0, 0, 0]</text>\n<text text-anchor=\"start\" x=\"254.5\" y=\"-7.8\" font-family=\"Helvetica,sans-Serif\" font-size=\"14.00\" fill=\"#000000\">class = TOT_med_fast</text>\n</g>\n<!-- 2&#45;&gt;4 -->\n<g id=\"edge4\" class=\"edge\">\n<title>2&#45;&gt;4</title>\n<path fill=\"none\" stroke=\"#000000\" d=\"M328.5,-103.9815C328.5,-95.618 328.5,-86.7965 328.5,-78.3409\"/>\n<polygon fill=\"#000000\" stroke=\"#000000\" points=\"332.0001,-78.2636 328.5,-68.2637 325.0001,-78.2637 332.0001,-78.2636\"/>\n</g>\n<!-- 6 -->\n<g id=\"node7\" class=\"node\">\n<title>6</title>\n<path fill=\"#f7dac5\" stroke=\"#000000\" d=\"M735,-68C735,-68 448,-68 448,-68 442,-68 436,-62 436,-56 436,-56 436,-12 436,-12 436,-6 442,0 448,0 448,0 735,0 735,0 741,0 747,-6 747,-12 747,-12 747,-56 747,-56 747,-62 741,-68 735,-68\"/>\n<text text-anchor=\"start\" x=\"553.5\" y=\"-52.8\" font-family=\"Helvetica,sans-Serif\" font-size=\"14.00\" fill=\"#000000\">gini = 0.678</text>\n<text text-anchor=\"start\" x=\"531\" y=\"-37.8\" font-family=\"Helvetica,sans-Serif\" font-size=\"14.00\" fill=\"#000000\">samples = 272760</text>\n<text text-anchor=\"start\" x=\"444\" y=\"-22.8\" font-family=\"Helvetica,sans-Serif\" font-size=\"14.00\" fill=\"#000000\">value = [126039, 64627, 1452, 57854, 22788]</text>\n<text text-anchor=\"start\" x=\"536\" y=\"-7.8\" font-family=\"Helvetica,sans-Serif\" font-size=\"14.00\" fill=\"#000000\">class = TOT_fast</text>\n</g>\n<!-- 5&#45;&gt;6 -->\n<g id=\"edge6\" class=\"edge\">\n<title>5&#45;&gt;6</title>\n<path fill=\"none\" stroke=\"#000000\" d=\"M669.9546,-103.9815C659.3421,-94.5151 648.0718,-84.462 637.4829,-75.0168\"/>\n<polygon fill=\"#000000\" stroke=\"#000000\" points=\"639.7046,-72.3084 629.9122,-68.2637 635.0449,-77.5322 639.7046,-72.3084\"/>\n</g>\n<!-- 7 -->\n<g id=\"node8\" class=\"node\">\n<title>7</title>\n<path fill=\"#ef85d8\" stroke=\"#000000\" d=\"M982,-68C982,-68 777,-68 777,-68 771,-68 765,-62 765,-56 765,-56 765,-12 765,-12 765,-6 771,0 777,0 777,0 982,0 982,0 988,0 994,-6 994,-12 994,-12 994,-56 994,-56 994,-62 988,-68 982,-68\"/>\n<text text-anchor=\"start\" x=\"841.5\" y=\"-52.8\" font-family=\"Helvetica,sans-Serif\" font-size=\"14.00\" fill=\"#000000\">gini = 0.488</text>\n<text text-anchor=\"start\" x=\"823.5\" y=\"-37.8\" font-family=\"Helvetica,sans-Serif\" font-size=\"14.00\" fill=\"#000000\">samples = 18196</text>\n<text text-anchor=\"start\" x=\"773\" y=\"-22.8\" font-family=\"Helvetica,sans-Serif\" font-size=\"14.00\" fill=\"#000000\">value = [2960, 0, 0, 2893, 12343]</text>\n<text text-anchor=\"start\" x=\"821\" y=\"-7.8\" font-family=\"Helvetica,sans-Serif\" font-size=\"14.00\" fill=\"#000000\">class = TOT_slow</text>\n</g>\n<!-- 5&#45;&gt;7 -->\n<g id=\"edge7\" class=\"edge\">\n<title>5&#45;&gt;7</title>\n<path fill=\"none\" stroke=\"#000000\" d=\"M777.1952,-103.9815C791.647,-94.0957 807.0342,-83.5701 821.368,-73.7651\"/>\n<polygon fill=\"#000000\" stroke=\"#000000\" points=\"823.3932,-76.6204 829.6708,-68.0856 819.441,-70.8428 823.3932,-76.6204\"/>\n</g>\n<!-- 9 -->\n<g id=\"node10\" class=\"node\">\n<title>9</title>\n<path fill=\"#d9faf4\" stroke=\"#000000\" d=\"M1449.5,-187C1449.5,-187 1153.5,-187 1153.5,-187 1147.5,-187 1141.5,-181 1141.5,-175 1141.5,-175 1141.5,-116 1141.5,-116 1141.5,-110 1147.5,-104 1153.5,-104 1153.5,-104 1449.5,-104 1449.5,-104 1455.5,-104 1461.5,-110 1461.5,-116 1461.5,-116 1461.5,-175 1461.5,-175 1461.5,-181 1455.5,-187 1449.5,-187\"/>\n<text text-anchor=\"start\" x=\"1230.5\" y=\"-171.8\" font-family=\"Helvetica,sans-Serif\" font-size=\"14.00\" fill=\"#000000\">ManualWheel ≤ 0.461</text>\n<text text-anchor=\"start\" x=\"1263.5\" y=\"-156.8\" font-family=\"Helvetica,sans-Serif\" font-size=\"14.00\" fill=\"#000000\">gini = 0.744</text>\n<text text-anchor=\"start\" x=\"1241\" y=\"-141.8\" font-family=\"Helvetica,sans-Serif\" font-size=\"14.00\" fill=\"#000000\">samples = 374019</text>\n<text text-anchor=\"start\" x=\"1149.5\" y=\"-126.8\" font-family=\"Helvetica,sans-Serif\" font-size=\"14.00\" fill=\"#000000\">value = [16626, 67320, 139612, 83725, 66736]</text>\n<text text-anchor=\"start\" x=\"1243.5\" y=\"-111.8\" font-family=\"Helvetica,sans-Serif\" font-size=\"14.00\" fill=\"#000000\">class = TOT_med</text>\n</g>\n<!-- 8&#45;&gt;9 -->\n<g id=\"edge9\" class=\"edge\">\n<title>8&#45;&gt;9</title>\n<path fill=\"none\" stroke=\"#000000\" d=\"M1301.5,-222.8796C1301.5,-214.6838 1301.5,-205.9891 1301.5,-197.5013\"/>\n<polygon fill=\"#000000\" stroke=\"#000000\" points=\"1305.0001,-197.298 1301.5,-187.2981 1298.0001,-197.2981 1305.0001,-197.298\"/>\n</g>\n<!-- 12 -->\n<g id=\"node13\" class=\"node\">\n<title>12</title>\n<path fill=\"#ec72d2\" stroke=\"#000000\" d=\"M1891.5,-187C1891.5,-187 1637.5,-187 1637.5,-187 1631.5,-187 1625.5,-181 1625.5,-175 1625.5,-175 1625.5,-116 1625.5,-116 1625.5,-110 1631.5,-104 1637.5,-104 1637.5,-104 1891.5,-104 1891.5,-104 1897.5,-104 1903.5,-110 1903.5,-116 1903.5,-116 1903.5,-175 1903.5,-175 1903.5,-181 1897.5,-187 1891.5,-187\"/>\n<text text-anchor=\"start\" x=\"1693.5\" y=\"-171.8\" font-family=\"Helvetica,sans-Serif\" font-size=\"14.00\" fill=\"#000000\">ManualWheel ≤ 0.925</text>\n<text text-anchor=\"start\" x=\"1726.5\" y=\"-156.8\" font-family=\"Helvetica,sans-Serif\" font-size=\"14.00\" fill=\"#000000\">gini = 0.427</text>\n<text text-anchor=\"start\" x=\"1708.5\" y=\"-141.8\" font-family=\"Helvetica,sans-Serif\" font-size=\"14.00\" fill=\"#000000\">samples = 63634</text>\n<text text-anchor=\"start\" x=\"1633.5\" y=\"-126.8\" font-family=\"Helvetica,sans-Serif\" font-size=\"14.00\" fill=\"#000000\">value = [3867, 2138, 6754, 3515, 47360]</text>\n<text text-anchor=\"start\" x=\"1706\" y=\"-111.8\" font-family=\"Helvetica,sans-Serif\" font-size=\"14.00\" fill=\"#000000\">class = TOT_slow</text>\n</g>\n<!-- 8&#45;&gt;12 -->\n<g id=\"edge12\" class=\"edge\">\n<title>8&#45;&gt;12</title>\n<path fill=\"none\" stroke=\"#000000\" d=\"M1463.1099,-222.9631C1512.5325,-210.2606 1566.6447,-196.3527 1615.2094,-183.8706\"/>\n<polygon fill=\"#000000\" stroke=\"#000000\" points=\"1616.3505,-187.1911 1625.1645,-181.3119 1614.608,-180.4115 1616.3505,-187.1911\"/>\n</g>\n<!-- 10 -->\n<g id=\"node11\" class=\"node\">\n<title>10</title>\n<path fill=\"#7beed8\" stroke=\"#000000\" d=\"M1287,-68C1287,-68 1024,-68 1024,-68 1018,-68 1012,-62 1012,-56 1012,-56 1012,-12 1012,-12 1012,-6 1018,0 1024,0 1024,0 1287,0 1287,0 1293,0 1299,-6 1299,-12 1299,-12 1299,-56 1299,-56 1299,-62 1293,-68 1287,-68\"/>\n<text text-anchor=\"start\" x=\"1117.5\" y=\"-52.8\" font-family=\"Helvetica,sans-Serif\" font-size=\"14.00\" fill=\"#000000\">gini = 0.445</text>\n<text text-anchor=\"start\" x=\"1099.5\" y=\"-37.8\" font-family=\"Helvetica,sans-Serif\" font-size=\"14.00\" fill=\"#000000\">samples = 94245</text>\n<text text-anchor=\"start\" x=\"1020\" y=\"-22.8\" font-family=\"Helvetica,sans-Serif\" font-size=\"14.00\" fill=\"#000000\">value = [1007, 144, 67763, 15234, 10097]</text>\n<text text-anchor=\"start\" x=\"1097.5\" y=\"-7.8\" font-family=\"Helvetica,sans-Serif\" font-size=\"14.00\" fill=\"#000000\">class = TOT_med</text>\n</g>\n<!-- 9&#45;&gt;10 -->\n<g id=\"edge10\" class=\"edge\">\n<title>9&#45;&gt;10</title>\n<path fill=\"none\" stroke=\"#000000\" d=\"M1247.135,-103.9815C1234.4989,-94.3313 1221.0644,-84.0714 1208.4885,-74.4673\"/>\n<polygon fill=\"#000000\" stroke=\"#000000\" points=\"1210.4372,-71.5515 1200.3654,-68.2637 1206.1886,-77.1148 1210.4372,-71.5515\"/>\n</g>\n<!-- 11 -->\n<g id=\"node12\" class=\"node\">\n<title>11</title>\n<path fill=\"#fcfffe\" stroke=\"#000000\" d=\"M1616,-68C1616,-68 1329,-68 1329,-68 1323,-68 1317,-62 1317,-56 1317,-56 1317,-12 1317,-12 1317,-6 1323,0 1329,0 1329,0 1616,0 1616,0 1622,0 1628,-6 1628,-12 1628,-12 1628,-56 1628,-56 1628,-62 1622,-68 1616,-68\"/>\n<text text-anchor=\"start\" x=\"1434.5\" y=\"-52.8\" font-family=\"Helvetica,sans-Serif\" font-size=\"14.00\" fill=\"#000000\">gini = 0.772</text>\n<text text-anchor=\"start\" x=\"1412\" y=\"-37.8\" font-family=\"Helvetica,sans-Serif\" font-size=\"14.00\" fill=\"#000000\">samples = 279774</text>\n<text text-anchor=\"start\" x=\"1325\" y=\"-22.8\" font-family=\"Helvetica,sans-Serif\" font-size=\"14.00\" fill=\"#000000\">value = [15619, 67176, 71849, 68491, 56639]</text>\n<text text-anchor=\"start\" x=\"1414.5\" y=\"-7.8\" font-family=\"Helvetica,sans-Serif\" font-size=\"14.00\" fill=\"#000000\">class = TOT_med</text>\n</g>\n<!-- 9&#45;&gt;11 -->\n<g id=\"edge11\" class=\"edge\">\n<title>9&#45;&gt;11</title>\n<path fill=\"none\" stroke=\"#000000\" d=\"M1365.1741,-103.9815C1380.3352,-94.0957 1396.4776,-83.5701 1411.5149,-73.7651\"/>\n<polygon fill=\"#000000\" stroke=\"#000000\" points=\"1413.7603,-76.4794 1420.2252,-68.0856 1409.9369,-70.6158 1413.7603,-76.4794\"/>\n</g>\n<!-- 13 -->\n<g id=\"node14\" class=\"node\">\n<title>13</title>\n<path fill=\"#e63fc2\" stroke=\"#000000\" d=\"M1871,-68C1871,-68 1658,-68 1658,-68 1652,-68 1646,-62 1646,-56 1646,-56 1646,-12 1646,-12 1646,-6 1652,0 1658,0 1658,0 1871,0 1871,0 1877,0 1883,-6 1883,-12 1883,-12 1883,-56 1883,-56 1883,-62 1877,-68 1871,-68\"/>\n<text text-anchor=\"start\" x=\"1726.5\" y=\"-52.8\" font-family=\"Helvetica,sans-Serif\" font-size=\"14.00\" fill=\"#000000\">gini = 0.059</text>\n<text text-anchor=\"start\" x=\"1708.5\" y=\"-37.8\" font-family=\"Helvetica,sans-Serif\" font-size=\"14.00\" fill=\"#000000\">samples = 42211</text>\n<text text-anchor=\"start\" x=\"1654\" y=\"-22.8\" font-family=\"Helvetica,sans-Serif\" font-size=\"14.00\" fill=\"#000000\">value = [223, 98, 785, 166, 40939]</text>\n<text text-anchor=\"start\" x=\"1706\" y=\"-7.8\" font-family=\"Helvetica,sans-Serif\" font-size=\"14.00\" fill=\"#000000\">class = TOT_slow</text>\n</g>\n<!-- 12&#45;&gt;13 -->\n<g id=\"edge13\" class=\"edge\">\n<title>12&#45;&gt;13</title>\n<path fill=\"none\" stroke=\"#000000\" d=\"M1764.5,-103.9815C1764.5,-95.618 1764.5,-86.7965 1764.5,-78.3409\"/>\n<polygon fill=\"#000000\" stroke=\"#000000\" points=\"1768.0001,-78.2636 1764.5,-68.2637 1761.0001,-78.2637 1768.0001,-78.2636\"/>\n</g>\n<!-- 14 -->\n<g id=\"node15\" class=\"node\">\n<title>14</title>\n<path fill=\"#fef9fd\" stroke=\"#000000\" d=\"M2159.5,-68C2159.5,-68 1913.5,-68 1913.5,-68 1907.5,-68 1901.5,-62 1901.5,-56 1901.5,-56 1901.5,-12 1901.5,-12 1901.5,-6 1907.5,0 1913.5,0 1913.5,0 2159.5,0 2159.5,0 2165.5,0 2171.5,-6 2171.5,-12 2171.5,-12 2171.5,-56 2171.5,-56 2171.5,-62 2165.5,-68 2159.5,-68\"/>\n<text text-anchor=\"start\" x=\"2003\" y=\"-52.8\" font-family=\"Helvetica,sans-Serif\" font-size=\"14.00\" fill=\"#000000\">gini = 0.77</text>\n<text text-anchor=\"start\" x=\"1980.5\" y=\"-37.8\" font-family=\"Helvetica,sans-Serif\" font-size=\"14.00\" fill=\"#000000\">samples = 21423</text>\n<text text-anchor=\"start\" x=\"1909.5\" y=\"-22.8\" font-family=\"Helvetica,sans-Serif\" font-size=\"14.00\" fill=\"#000000\">value = [3644, 2040, 5969, 3349, 6421]</text>\n<text text-anchor=\"start\" x=\"1978\" y=\"-7.8\" font-family=\"Helvetica,sans-Serif\" font-size=\"14.00\" fill=\"#000000\">class = TOT_slow</text>\n</g>\n<!-- 12&#45;&gt;14 -->\n<g id=\"edge14\" class=\"edge\">\n<title>12&#45;&gt;14</title>\n<path fill=\"none\" stroke=\"#000000\" d=\"M1865.7828,-103.9815C1891.3637,-93.4952 1918.7009,-82.289 1943.8334,-71.9865\"/>\n<polygon fill=\"#000000\" stroke=\"#000000\" points=\"1945.4242,-75.1171 1953.3494,-68.0856 1942.7691,-68.6402 1945.4242,-75.1171\"/>\n</g>\n</g>\n</svg>\n"
          },
          "metadata": {
            "tags": []
          },
          "execution_count": 9
        }
      ]
    },
    {
      "cell_type": "markdown",
      "metadata": {
        "id": "2YRAubvgwdwn"
      },
      "source": [
        "**Display all rules using export_text**\n"
      ]
    },
    {
      "cell_type": "code",
      "metadata": {
        "colab": {
          "base_uri": "https://localhost:8080/"
        },
        "id": "VYhHeDF4GIGg",
        "outputId": "69d94069-e642-403a-be7b-f902be9ba58d"
      },
      "source": [
        "r = export_text(clf, feature_names = list(X_train.columns))\n",
        "print(r)"
      ],
      "execution_count": null,
      "outputs": [
        {
          "output_type": "stream",
          "text": [
            "|--- ManualWheel <= 0.31\n",
            "|   |--- FixationStart <= -1.68\n",
            "|   |   |--- MPH <= -1.34\n",
            "|   |   |   |--- FixationSeq <= -1.70\n",
            "|   |   |   |   |--- MPH <= -2.13\n",
            "|   |   |   |   |   |--- class: TOT_med\n",
            "|   |   |   |   |--- MPH >  -2.13\n",
            "|   |   |   |   |   |--- class: TOT_med_fast\n",
            "|   |   |   |--- FixationSeq >  -1.70\n",
            "|   |   |   |   |--- class: TOT_med_slow\n",
            "|   |   |--- MPH >  -1.34\n",
            "|   |   |   |--- class: TOT_med\n",
            "|   |--- FixationStart >  -1.68\n",
            "|   |   |--- FixationStart <= 1.72\n",
            "|   |   |   |--- ManualWheel <= -1.86\n",
            "|   |   |   |   |--- ManualWheel <= -2.17\n",
            "|   |   |   |   |   |--- FixationSeq <= 0.97\n",
            "|   |   |   |   |   |   |--- PupilRight <= -0.32\n",
            "|   |   |   |   |   |   |   |--- MPH <= 0.91\n",
            "|   |   |   |   |   |   |   |   |--- MPH <= 0.44\n",
            "|   |   |   |   |   |   |   |   |   |--- MPH <= -3.64\n",
            "|   |   |   |   |   |   |   |   |   |   |--- class: TOT_med\n",
            "|   |   |   |   |   |   |   |   |   |--- MPH >  -3.64\n",
            "|   |   |   |   |   |   |   |   |   |   |--- class: TOT_fast\n",
            "|   |   |   |   |   |   |   |   |--- MPH >  0.44\n",
            "|   |   |   |   |   |   |   |   |   |--- LeftLaneDist <= 0.04\n",
            "|   |   |   |   |   |   |   |   |   |   |--- class: TOT_slow\n",
            "|   |   |   |   |   |   |   |   |   |--- LeftLaneDist >  0.04\n",
            "|   |   |   |   |   |   |   |   |   |   |--- class: TOT_slow\n",
            "|   |   |   |   |   |   |   |--- MPH >  0.91\n",
            "|   |   |   |   |   |   |   |   |--- class: TOT_med_fast\n",
            "|   |   |   |   |   |   |--- PupilRight >  -0.32\n",
            "|   |   |   |   |   |   |   |--- MPH <= -3.49\n",
            "|   |   |   |   |   |   |   |   |--- LeftLaneDist <= 1.01\n",
            "|   |   |   |   |   |   |   |   |   |--- class: TOT_med_slow\n",
            "|   |   |   |   |   |   |   |   |--- LeftLaneDist >  1.01\n",
            "|   |   |   |   |   |   |   |   |   |--- class: TOT_med\n",
            "|   |   |   |   |   |   |   |--- MPH >  -3.49\n",
            "|   |   |   |   |   |   |   |   |--- PupilRight <= -0.12\n",
            "|   |   |   |   |   |   |   |   |   |--- RightLaneDist <= -0.38\n",
            "|   |   |   |   |   |   |   |   |   |   |--- class: TOT_slow\n",
            "|   |   |   |   |   |   |   |   |   |--- RightLaneDist >  -0.38\n",
            "|   |   |   |   |   |   |   |   |   |   |--- class: TOT_fast\n",
            "|   |   |   |   |   |   |   |   |--- PupilRight >  -0.12\n",
            "|   |   |   |   |   |   |   |   |   |--- GazeDirectionLeftZ <= -1.54\n",
            "|   |   |   |   |   |   |   |   |   |   |--- class: TOT_slow\n",
            "|   |   |   |   |   |   |   |   |   |--- GazeDirectionLeftZ >  -1.54\n",
            "|   |   |   |   |   |   |   |   |   |   |--- class: TOT_fast\n",
            "|   |   |   |   |   |--- FixationSeq >  0.97\n",
            "|   |   |   |   |   |   |--- class: TOT_fast\n",
            "|   |   |   |   |--- ManualWheel >  -2.17\n",
            "|   |   |   |   |   |--- MPH <= 0.91\n",
            "|   |   |   |   |   |   |--- LeftLaneDist <= 2.57\n",
            "|   |   |   |   |   |   |   |--- class: TOT_fast\n",
            "|   |   |   |   |   |   |--- LeftLaneDist >  2.57\n",
            "|   |   |   |   |   |   |   |--- class: TOT_med_slow\n",
            "|   |   |   |   |   |--- MPH >  0.91\n",
            "|   |   |   |   |   |   |--- class: TOT_med_fast\n",
            "|   |   |   |--- ManualWheel >  -1.86\n",
            "|   |   |   |   |--- ManualWheel <= -1.24\n",
            "|   |   |   |   |   |--- FixationStart <= -0.13\n",
            "|   |   |   |   |   |   |--- FixationSeq <= -0.90\n",
            "|   |   |   |   |   |   |   |--- class: TOT_slow\n",
            "|   |   |   |   |   |   |--- FixationSeq >  -0.90\n",
            "|   |   |   |   |   |   |   |--- class: TOT_fast\n",
            "|   |   |   |   |   |--- FixationStart >  -0.13\n",
            "|   |   |   |   |   |   |--- CurrentWheel <= -0.21\n",
            "|   |   |   |   |   |   |   |--- RightLaneDist <= 0.42\n",
            "|   |   |   |   |   |   |   |   |--- RightLaneDist <= 0.09\n",
            "|   |   |   |   |   |   |   |   |   |--- ManualWheel <= -1.55\n",
            "|   |   |   |   |   |   |   |   |   |   |--- class: TOT_fast\n",
            "|   |   |   |   |   |   |   |   |   |--- ManualWheel >  -1.55\n",
            "|   |   |   |   |   |   |   |   |   |   |--- class: TOT_med\n",
            "|   |   |   |   |   |   |   |   |--- RightLaneDist >  0.09\n",
            "|   |   |   |   |   |   |   |   |   |--- ManualWheel <= -1.70\n",
            "|   |   |   |   |   |   |   |   |   |   |--- class: TOT_med\n",
            "|   |   |   |   |   |   |   |   |   |--- ManualWheel >  -1.70\n",
            "|   |   |   |   |   |   |   |   |   |   |--- class: TOT_med\n",
            "|   |   |   |   |   |   |   |--- RightLaneDist >  0.42\n",
            "|   |   |   |   |   |   |   |   |--- MPH <= 0.37\n",
            "|   |   |   |   |   |   |   |   |   |--- class: TOT_med\n",
            "|   |   |   |   |   |   |   |   |--- MPH >  0.37\n",
            "|   |   |   |   |   |   |   |   |   |--- ManualWheel <= -1.70\n",
            "|   |   |   |   |   |   |   |   |   |   |--- class: TOT_fast\n",
            "|   |   |   |   |   |   |   |   |   |--- ManualWheel >  -1.70\n",
            "|   |   |   |   |   |   |   |   |   |   |--- class: TOT_fast\n",
            "|   |   |   |   |   |   |--- CurrentWheel >  -0.21\n",
            "|   |   |   |   |   |   |   |--- ManualWheel <= -1.55\n",
            "|   |   |   |   |   |   |   |   |--- MPH <= -0.32\n",
            "|   |   |   |   |   |   |   |   |   |--- CurrentThrottle <= -0.71\n",
            "|   |   |   |   |   |   |   |   |   |   |--- class: TOT_fast\n",
            "|   |   |   |   |   |   |   |   |   |--- CurrentThrottle >  -0.71\n",
            "|   |   |   |   |   |   |   |   |   |   |--- class: TOT_med\n",
            "|   |   |   |   |   |   |   |   |--- MPH >  -0.32\n",
            "|   |   |   |   |   |   |   |   |   |--- AutoWheel <= 0.30\n",
            "|   |   |   |   |   |   |   |   |   |   |--- class: TOT_fast\n",
            "|   |   |   |   |   |   |   |   |   |--- AutoWheel >  0.30\n",
            "|   |   |   |   |   |   |   |   |   |   |--- class: TOT_med_slow\n",
            "|   |   |   |   |   |   |   |--- ManualWheel >  -1.55\n",
            "|   |   |   |   |   |   |   |   |--- ManualWheel <= -1.39\n",
            "|   |   |   |   |   |   |   |   |   |--- GazeDirectionRightZ <= 0.52\n",
            "|   |   |   |   |   |   |   |   |   |   |--- class: TOT_med\n",
            "|   |   |   |   |   |   |   |   |   |--- GazeDirectionRightZ >  0.52\n",
            "|   |   |   |   |   |   |   |   |   |   |--- class: TOT_med_slow\n",
            "|   |   |   |   |   |   |   |   |--- ManualWheel >  -1.39\n",
            "|   |   |   |   |   |   |   |   |   |--- FixationSeq <= 0.90\n",
            "|   |   |   |   |   |   |   |   |   |   |--- class: TOT_fast\n",
            "|   |   |   |   |   |   |   |   |   |--- FixationSeq >  0.90\n",
            "|   |   |   |   |   |   |   |   |   |   |--- class: TOT_med_slow\n",
            "|   |   |   |   |--- ManualWheel >  -1.24\n",
            "|   |   |   |   |   |--- ManualWheel <= 0.15\n",
            "|   |   |   |   |   |   |--- FixationStart <= 1.23\n",
            "|   |   |   |   |   |   |   |--- FixationStart <= 0.57\n",
            "|   |   |   |   |   |   |   |   |--- RightLaneDist <= 0.02\n",
            "|   |   |   |   |   |   |   |   |   |--- FixationSeq <= 0.09\n",
            "|   |   |   |   |   |   |   |   |   |   |--- class: TOT_med_slow\n",
            "|   |   |   |   |   |   |   |   |   |--- FixationSeq >  0.09\n",
            "|   |   |   |   |   |   |   |   |   |   |--- class: TOT_med\n",
            "|   |   |   |   |   |   |   |   |--- RightLaneDist >  0.02\n",
            "|   |   |   |   |   |   |   |   |   |--- FixationStart <= 0.22\n",
            "|   |   |   |   |   |   |   |   |   |   |--- class: TOT_fast\n",
            "|   |   |   |   |   |   |   |   |   |--- FixationStart >  0.22\n",
            "|   |   |   |   |   |   |   |   |   |   |--- class: TOT_med_slow\n",
            "|   |   |   |   |   |   |   |--- FixationStart >  0.57\n",
            "|   |   |   |   |   |   |   |   |--- class: TOT_fast\n",
            "|   |   |   |   |   |   |--- FixationStart >  1.23\n",
            "|   |   |   |   |   |   |   |--- ManualWheel <= -0.62\n",
            "|   |   |   |   |   |   |   |   |--- FixationSeq <= 2.12\n",
            "|   |   |   |   |   |   |   |   |   |--- class: TOT_fast\n",
            "|   |   |   |   |   |   |   |   |--- FixationSeq >  2.12\n",
            "|   |   |   |   |   |   |   |   |   |--- LeftLaneDist <= -2.01\n",
            "|   |   |   |   |   |   |   |   |   |   |--- class: TOT_fast\n",
            "|   |   |   |   |   |   |   |   |   |--- LeftLaneDist >  -2.01\n",
            "|   |   |   |   |   |   |   |   |   |   |--- class: TOT_med_slow\n",
            "|   |   |   |   |   |   |   |--- ManualWheel >  -0.62\n",
            "|   |   |   |   |   |   |   |   |--- MPH <= -2.12\n",
            "|   |   |   |   |   |   |   |   |   |--- class: TOT_med_slow\n",
            "|   |   |   |   |   |   |   |   |--- MPH >  -2.12\n",
            "|   |   |   |   |   |   |   |   |   |--- FixationStart <= 1.49\n",
            "|   |   |   |   |   |   |   |   |   |   |--- class: TOT_slow\n",
            "|   |   |   |   |   |   |   |   |   |--- FixationStart >  1.49\n",
            "|   |   |   |   |   |   |   |   |   |   |--- class: TOT_fast\n",
            "|   |   |   |   |   |--- ManualWheel >  0.15\n",
            "|   |   |   |   |   |   |--- FixationSeq <= 1.85\n",
            "|   |   |   |   |   |   |   |--- FixationSeq <= 1.06\n",
            "|   |   |   |   |   |   |   |   |--- MPH <= -0.81\n",
            "|   |   |   |   |   |   |   |   |   |--- CurrentWheel <= -0.12\n",
            "|   |   |   |   |   |   |   |   |   |   |--- class: TOT_slow\n",
            "|   |   |   |   |   |   |   |   |   |--- CurrentWheel >  -0.12\n",
            "|   |   |   |   |   |   |   |   |   |   |--- class: TOT_med_slow\n",
            "|   |   |   |   |   |   |   |   |--- MPH >  -0.81\n",
            "|   |   |   |   |   |   |   |   |   |--- FixationStart <= 0.22\n",
            "|   |   |   |   |   |   |   |   |   |   |--- class: TOT_fast\n",
            "|   |   |   |   |   |   |   |   |   |--- FixationStart >  0.22\n",
            "|   |   |   |   |   |   |   |   |   |   |--- class: TOT_med\n",
            "|   |   |   |   |   |   |   |--- FixationSeq >  1.06\n",
            "|   |   |   |   |   |   |   |   |--- class: TOT_fast\n",
            "|   |   |   |   |   |   |--- FixationSeq >  1.85\n",
            "|   |   |   |   |   |   |   |--- MPH <= 0.18\n",
            "|   |   |   |   |   |   |   |   |--- class: TOT_fast\n",
            "|   |   |   |   |   |   |   |--- MPH >  0.18\n",
            "|   |   |   |   |   |   |   |   |--- class: TOT_med\n",
            "|   |   |--- FixationStart >  1.72\n",
            "|   |   |   |--- PupilLeft <= 0.42\n",
            "|   |   |   |   |--- ManualWheel <= -2.78\n",
            "|   |   |   |   |   |--- MPH <= -0.25\n",
            "|   |   |   |   |   |   |--- class: TOT_fast\n",
            "|   |   |   |   |   |--- MPH >  -0.25\n",
            "|   |   |   |   |   |   |--- class: TOT_slow\n",
            "|   |   |   |   |--- ManualWheel >  -2.78\n",
            "|   |   |   |   |   |--- ManualWheel <= -1.70\n",
            "|   |   |   |   |   |   |--- MPH <= -0.52\n",
            "|   |   |   |   |   |   |   |--- InterpolatedGazeY <= -0.10\n",
            "|   |   |   |   |   |   |   |   |--- class: TOT_slow\n",
            "|   |   |   |   |   |   |   |--- InterpolatedGazeY >  -0.10\n",
            "|   |   |   |   |   |   |   |   |--- class: TOT_fast\n",
            "|   |   |   |   |   |   |--- MPH >  -0.52\n",
            "|   |   |   |   |   |   |   |--- class: TOT_med_slow\n",
            "|   |   |   |   |   |--- ManualWheel >  -1.70\n",
            "|   |   |   |   |   |   |--- FixationStart <= 1.93\n",
            "|   |   |   |   |   |   |   |--- FixationSeq <= 2.75\n",
            "|   |   |   |   |   |   |   |   |--- class: TOT_fast\n",
            "|   |   |   |   |   |   |   |--- FixationSeq >  2.75\n",
            "|   |   |   |   |   |   |   |   |--- Distance3D <= 0.10\n",
            "|   |   |   |   |   |   |   |   |   |--- class: TOT_fast\n",
            "|   |   |   |   |   |   |   |   |--- Distance3D >  0.10\n",
            "|   |   |   |   |   |   |   |   |   |--- class: TOT_slow\n",
            "|   |   |   |   |   |   |--- FixationStart >  1.93\n",
            "|   |   |   |   |   |   |   |--- class: TOT_slow\n",
            "|   |   |   |--- PupilLeft >  0.42\n",
            "|   |   |   |   |--- FixationStart <= 1.92\n",
            "|   |   |   |   |   |--- FixationSeq <= 2.55\n",
            "|   |   |   |   |   |   |--- class: TOT_slow\n",
            "|   |   |   |   |   |--- FixationSeq >  2.55\n",
            "|   |   |   |   |   |   |--- class: TOT_fast\n",
            "|   |   |   |   |--- FixationStart >  1.92\n",
            "|   |   |   |   |   |--- class: TOT_slow\n",
            "|--- ManualWheel >  0.31\n",
            "|   |--- ManualWheel <= 0.77\n",
            "|   |   |--- ManualWheel <= 0.46\n",
            "|   |   |   |--- InterpolatedGazeY <= 0.11\n",
            "|   |   |   |   |--- FixationStart <= 1.36\n",
            "|   |   |   |   |   |--- PupilRight <= -0.52\n",
            "|   |   |   |   |   |   |--- MPH <= 0.69\n",
            "|   |   |   |   |   |   |   |--- Distance3D <= 0.19\n",
            "|   |   |   |   |   |   |   |   |--- GazeDirectionLeftZ <= 0.43\n",
            "|   |   |   |   |   |   |   |   |   |--- MPH <= -0.06\n",
            "|   |   |   |   |   |   |   |   |   |   |--- class: TOT_med_fast\n",
            "|   |   |   |   |   |   |   |   |   |--- MPH >  -0.06\n",
            "|   |   |   |   |   |   |   |   |   |   |--- class: TOT_slow\n",
            "|   |   |   |   |   |   |   |   |--- GazeDirectionLeftZ >  0.43\n",
            "|   |   |   |   |   |   |   |   |   |--- MPH <= 0.49\n",
            "|   |   |   |   |   |   |   |   |   |   |--- class: TOT_med_slow\n",
            "|   |   |   |   |   |   |   |   |   |--- MPH >  0.49\n",
            "|   |   |   |   |   |   |   |   |   |   |--- class: TOT_med_slow\n",
            "|   |   |   |   |   |   |   |--- Distance3D >  0.19\n",
            "|   |   |   |   |   |   |   |   |--- GazeDirectionLeftZ <= 0.11\n",
            "|   |   |   |   |   |   |   |   |   |--- RightLaneDist <= 0.01\n",
            "|   |   |   |   |   |   |   |   |   |   |--- class: TOT_slow\n",
            "|   |   |   |   |   |   |   |   |   |--- RightLaneDist >  0.01\n",
            "|   |   |   |   |   |   |   |   |   |   |--- class: TOT_med_slow\n",
            "|   |   |   |   |   |   |   |   |--- GazeDirectionLeftZ >  0.11\n",
            "|   |   |   |   |   |   |   |   |   |--- LeftLaneDist <= 1.21\n",
            "|   |   |   |   |   |   |   |   |   |   |--- class: TOT_med_fast\n",
            "|   |   |   |   |   |   |   |   |   |--- LeftLaneDist >  1.21\n",
            "|   |   |   |   |   |   |   |   |   |   |--- class: TOT_slow\n",
            "|   |   |   |   |   |   |--- MPH >  0.69\n",
            "|   |   |   |   |   |   |   |--- class: TOT_med_fast\n",
            "|   |   |   |   |   |--- PupilRight >  -0.52\n",
            "|   |   |   |   |   |   |--- CurrentThrottle <= -0.60\n",
            "|   |   |   |   |   |   |   |--- FixationStart <= -0.72\n",
            "|   |   |   |   |   |   |   |   |--- MPH <= -1.05\n",
            "|   |   |   |   |   |   |   |   |   |--- FixationY <= -1.13\n",
            "|   |   |   |   |   |   |   |   |   |   |--- class: TOT_med_fast\n",
            "|   |   |   |   |   |   |   |   |   |--- FixationY >  -1.13\n",
            "|   |   |   |   |   |   |   |   |   |   |--- class: TOT_med_slow\n",
            "|   |   |   |   |   |   |   |   |--- MPH >  -1.05\n",
            "|   |   |   |   |   |   |   |   |   |--- class: TOT_fast\n",
            "|   |   |   |   |   |   |   |--- FixationStart >  -0.72\n",
            "|   |   |   |   |   |   |   |   |--- Distance3D <= 0.88\n",
            "|   |   |   |   |   |   |   |   |   |--- class: TOT_slow\n",
            "|   |   |   |   |   |   |   |   |--- Distance3D >  0.88\n",
            "|   |   |   |   |   |   |   |   |   |--- LeftLaneDist <= -1.91\n",
            "|   |   |   |   |   |   |   |   |   |   |--- class: TOT_slow\n",
            "|   |   |   |   |   |   |   |   |   |--- LeftLaneDist >  -1.91\n",
            "|   |   |   |   |   |   |   |   |   |   |--- class: TOT_med_fast\n",
            "|   |   |   |   |   |   |--- CurrentThrottle >  -0.60\n",
            "|   |   |   |   |   |   |   |--- AutoWheel <= 0.51\n",
            "|   |   |   |   |   |   |   |   |--- RightLaneDist <= 1.05\n",
            "|   |   |   |   |   |   |   |   |   |--- GazeDirectionRightZ <= 0.41\n",
            "|   |   |   |   |   |   |   |   |   |   |--- class: TOT_med_fast\n",
            "|   |   |   |   |   |   |   |   |   |--- GazeDirectionRightZ >  0.41\n",
            "|   |   |   |   |   |   |   |   |   |   |--- class: TOT_med_fast\n",
            "|   |   |   |   |   |   |   |   |--- RightLaneDist >  1.05\n",
            "|   |   |   |   |   |   |   |   |   |--- MPH <= -3.50\n",
            "|   |   |   |   |   |   |   |   |   |   |--- class: TOT_med_fast\n",
            "|   |   |   |   |   |   |   |   |   |--- MPH >  -3.50\n",
            "|   |   |   |   |   |   |   |   |   |   |--- class: TOT_med_slow\n",
            "|   |   |   |   |   |   |   |--- AutoWheel >  0.51\n",
            "|   |   |   |   |   |   |   |   |--- RightLaneDist <= -1.17\n",
            "|   |   |   |   |   |   |   |   |   |--- FixationStart <= -1.60\n",
            "|   |   |   |   |   |   |   |   |   |   |--- class: TOT_med_fast\n",
            "|   |   |   |   |   |   |   |   |   |--- FixationStart >  -1.60\n",
            "|   |   |   |   |   |   |   |   |   |   |--- class: TOT_slow\n",
            "|   |   |   |   |   |   |   |   |--- RightLaneDist >  -1.17\n",
            "|   |   |   |   |   |   |   |   |   |--- PupilLeft <= -0.38\n",
            "|   |   |   |   |   |   |   |   |   |   |--- class: TOT_slow\n",
            "|   |   |   |   |   |   |   |   |   |--- PupilLeft >  -0.38\n",
            "|   |   |   |   |   |   |   |   |   |   |--- class: TOT_med_fast\n",
            "|   |   |   |   |--- FixationStart >  1.36\n",
            "|   |   |   |   |   |--- FixationStart <= 1.58\n",
            "|   |   |   |   |   |   |--- Distance3D <= 1.26\n",
            "|   |   |   |   |   |   |   |--- class: TOT_slow\n",
            "|   |   |   |   |   |   |--- Distance3D >  1.26\n",
            "|   |   |   |   |   |   |   |--- class: TOT_med_slow\n",
            "|   |   |   |   |   |--- FixationStart >  1.58\n",
            "|   |   |   |   |   |   |--- FixationSeq <= 1.22\n",
            "|   |   |   |   |   |   |   |--- FixationY <= -1.14\n",
            "|   |   |   |   |   |   |   |   |--- class: TOT_med\n",
            "|   |   |   |   |   |   |   |--- FixationY >  -1.14\n",
            "|   |   |   |   |   |   |   |   |--- class: TOT_med_slow\n",
            "|   |   |   |   |   |   |--- FixationSeq >  1.22\n",
            "|   |   |   |   |   |   |   |--- class: TOT_slow\n",
            "|   |   |   |--- InterpolatedGazeY >  0.11\n",
            "|   |   |   |   |--- FixationSeq <= 0.62\n",
            "|   |   |   |   |   |--- Distance3D <= 0.28\n",
            "|   |   |   |   |   |   |--- Distance3D <= -0.24\n",
            "|   |   |   |   |   |   |   |--- GazeDirectionLeftZ <= 0.32\n",
            "|   |   |   |   |   |   |   |   |--- InterpolatedGazeY <= 1.90\n",
            "|   |   |   |   |   |   |   |   |   |--- InterpolatedGazeX <= 0.88\n",
            "|   |   |   |   |   |   |   |   |   |   |--- class: TOT_slow\n",
            "|   |   |   |   |   |   |   |   |   |--- InterpolatedGazeX >  0.88\n",
            "|   |   |   |   |   |   |   |   |   |   |--- class: TOT_med_slow\n",
            "|   |   |   |   |   |   |   |   |--- InterpolatedGazeY >  1.90\n",
            "|   |   |   |   |   |   |   |   |   |--- InterpolatedGazeX <= 1.96\n",
            "|   |   |   |   |   |   |   |   |   |   |--- class: TOT_slow\n",
            "|   |   |   |   |   |   |   |   |   |--- InterpolatedGazeX >  1.96\n",
            "|   |   |   |   |   |   |   |   |   |   |--- class: TOT_med_fast\n",
            "|   |   |   |   |   |   |   |--- GazeDirectionLeftZ >  0.32\n",
            "|   |   |   |   |   |   |   |   |--- MPH <= 0.51\n",
            "|   |   |   |   |   |   |   |   |   |--- LeftLaneDist <= 1.20\n",
            "|   |   |   |   |   |   |   |   |   |   |--- class: TOT_med_fast\n",
            "|   |   |   |   |   |   |   |   |   |--- LeftLaneDist >  1.20\n",
            "|   |   |   |   |   |   |   |   |   |   |--- class: TOT_slow\n",
            "|   |   |   |   |   |   |   |   |--- MPH >  0.51\n",
            "|   |   |   |   |   |   |   |   |   |--- Distance3D <= -0.30\n",
            "|   |   |   |   |   |   |   |   |   |   |--- class: TOT_med_fast\n",
            "|   |   |   |   |   |   |   |   |   |--- Distance3D >  -0.30\n",
            "|   |   |   |   |   |   |   |   |   |   |--- class: TOT_med_slow\n",
            "|   |   |   |   |   |   |--- Distance3D >  -0.24\n",
            "|   |   |   |   |   |   |   |--- FixationDuration <= 0.23\n",
            "|   |   |   |   |   |   |   |   |--- FixationStart <= -1.65\n",
            "|   |   |   |   |   |   |   |   |   |--- LeftLaneDist <= 2.10\n",
            "|   |   |   |   |   |   |   |   |   |   |--- class: TOT_med_fast\n",
            "|   |   |   |   |   |   |   |   |   |--- LeftLaneDist >  2.10\n",
            "|   |   |   |   |   |   |   |   |   |   |--- class: TOT_med\n",
            "|   |   |   |   |   |   |   |   |--- FixationStart >  -1.65\n",
            "|   |   |   |   |   |   |   |   |   |--- RightLaneType <= -2.72\n",
            "|   |   |   |   |   |   |   |   |   |   |--- class: TOT_fast\n",
            "|   |   |   |   |   |   |   |   |   |--- RightLaneType >  -2.72\n",
            "|   |   |   |   |   |   |   |   |   |   |--- class: TOT_med_slow\n",
            "|   |   |   |   |   |   |   |--- FixationDuration >  0.23\n",
            "|   |   |   |   |   |   |   |   |--- PupilLeft <= -0.16\n",
            "|   |   |   |   |   |   |   |   |   |--- RightLaneDist <= 0.02\n",
            "|   |   |   |   |   |   |   |   |   |   |--- class: TOT_med_slow\n",
            "|   |   |   |   |   |   |   |   |   |--- RightLaneDist >  0.02\n",
            "|   |   |   |   |   |   |   |   |   |   |--- class: TOT_med_slow\n",
            "|   |   |   |   |   |   |   |   |--- PupilLeft >  -0.16\n",
            "|   |   |   |   |   |   |   |   |   |--- PupilRight <= -0.23\n",
            "|   |   |   |   |   |   |   |   |   |   |--- class: TOT_med_fast\n",
            "|   |   |   |   |   |   |   |   |   |--- PupilRight >  -0.23\n",
            "|   |   |   |   |   |   |   |   |   |   |--- class: TOT_med_slow\n",
            "|   |   |   |   |   |--- Distance3D >  0.28\n",
            "|   |   |   |   |   |   |--- FixationSeq <= -0.04\n",
            "|   |   |   |   |   |   |   |--- FixationY <= 0.27\n",
            "|   |   |   |   |   |   |   |   |--- RightLaneDist <= -1.18\n",
            "|   |   |   |   |   |   |   |   |   |--- LeftLaneDist <= 1.22\n",
            "|   |   |   |   |   |   |   |   |   |   |--- class: TOT_slow\n",
            "|   |   |   |   |   |   |   |   |   |--- LeftLaneDist >  1.22\n",
            "|   |   |   |   |   |   |   |   |   |   |--- class: TOT_med_slow\n",
            "|   |   |   |   |   |   |   |   |--- RightLaneDist >  -1.18\n",
            "|   |   |   |   |   |   |   |   |   |--- CurrentThrottle <= -2.11\n",
            "|   |   |   |   |   |   |   |   |   |   |--- class: TOT_slow\n",
            "|   |   |   |   |   |   |   |   |   |--- CurrentThrottle >  -2.11\n",
            "|   |   |   |   |   |   |   |   |   |   |--- class: TOT_med_fast\n",
            "|   |   |   |   |   |   |   |--- FixationY >  0.27\n",
            "|   |   |   |   |   |   |   |   |--- LeftLaneDist <= -0.46\n",
            "|   |   |   |   |   |   |   |   |   |--- class: TOT_slow\n",
            "|   |   |   |   |   |   |   |   |--- LeftLaneDist >  -0.46\n",
            "|   |   |   |   |   |   |   |   |   |--- InterpolatedGazeY <= 0.56\n",
            "|   |   |   |   |   |   |   |   |   |   |--- class: TOT_fast\n",
            "|   |   |   |   |   |   |   |   |   |--- InterpolatedGazeY >  0.56\n",
            "|   |   |   |   |   |   |   |   |   |   |--- class: TOT_med_slow\n",
            "|   |   |   |   |   |   |--- FixationSeq >  -0.04\n",
            "|   |   |   |   |   |   |   |--- AutoWheel <= 0.89\n",
            "|   |   |   |   |   |   |   |   |--- class: TOT_med_slow\n",
            "|   |   |   |   |   |   |   |--- AutoWheel >  0.89\n",
            "|   |   |   |   |   |   |   |   |--- class: TOT_fast\n",
            "|   |   |   |   |--- FixationSeq >  0.62\n",
            "|   |   |   |   |   |--- RightLaneType <= -1.27\n",
            "|   |   |   |   |   |   |--- class: TOT_fast\n",
            "|   |   |   |   |   |--- RightLaneType >  -1.27\n",
            "|   |   |   |   |   |   |--- class: TOT_slow\n",
            "|   |   |--- ManualWheel >  0.46\n",
            "|   |   |   |--- PupilRight <= -0.77\n",
            "|   |   |   |   |--- ManualWheel <= 0.62\n",
            "|   |   |   |   |   |--- FixationStart <= -0.85\n",
            "|   |   |   |   |   |   |--- LeftLaneDist <= 1.02\n",
            "|   |   |   |   |   |   |   |--- RightLaneDist <= 0.84\n",
            "|   |   |   |   |   |   |   |   |--- class: TOT_med_slow\n",
            "|   |   |   |   |   |   |   |--- RightLaneDist >  0.84\n",
            "|   |   |   |   |   |   |   |   |--- AutoWheel <= -0.38\n",
            "|   |   |   |   |   |   |   |   |   |--- class: TOT_med_slow\n",
            "|   |   |   |   |   |   |   |   |--- AutoWheel >  -0.38\n",
            "|   |   |   |   |   |   |   |   |   |--- class: TOT_med\n",
            "|   |   |   |   |   |   |--- LeftLaneDist >  1.02\n",
            "|   |   |   |   |   |   |   |--- class: TOT_med\n",
            "|   |   |   |   |   |--- FixationStart >  -0.85\n",
            "|   |   |   |   |   |   |--- FixationStart <= 1.76\n",
            "|   |   |   |   |   |   |   |--- MPH <= 0.21\n",
            "|   |   |   |   |   |   |   |   |--- AutoWheel <= 0.30\n",
            "|   |   |   |   |   |   |   |   |   |--- LeftLaneDist <= -0.21\n",
            "|   |   |   |   |   |   |   |   |   |   |--- class: TOT_slow\n",
            "|   |   |   |   |   |   |   |   |   |--- LeftLaneDist >  -0.21\n",
            "|   |   |   |   |   |   |   |   |   |   |--- class: TOT_med\n",
            "|   |   |   |   |   |   |   |   |--- AutoWheel >  0.30\n",
            "|   |   |   |   |   |   |   |   |   |--- MPH <= -0.69\n",
            "|   |   |   |   |   |   |   |   |   |   |--- class: TOT_med_slow\n",
            "|   |   |   |   |   |   |   |   |   |--- MPH >  -0.69\n",
            "|   |   |   |   |   |   |   |   |   |   |--- class: TOT_slow\n",
            "|   |   |   |   |   |   |   |--- MPH >  0.21\n",
            "|   |   |   |   |   |   |   |   |--- FixationStart <= -0.28\n",
            "|   |   |   |   |   |   |   |   |   |--- CurrentWheel <= -0.93\n",
            "|   |   |   |   |   |   |   |   |   |   |--- class: TOT_med_slow\n",
            "|   |   |   |   |   |   |   |   |   |--- CurrentWheel >  -0.93\n",
            "|   |   |   |   |   |   |   |   |   |   |--- class: TOT_slow\n",
            "|   |   |   |   |   |   |   |   |--- FixationStart >  -0.28\n",
            "|   |   |   |   |   |   |   |   |   |--- FixationStart <= 1.39\n",
            "|   |   |   |   |   |   |   |   |   |   |--- class: TOT_med\n",
            "|   |   |   |   |   |   |   |   |   |--- FixationStart >  1.39\n",
            "|   |   |   |   |   |   |   |   |   |   |--- class: TOT_med_fast\n",
            "|   |   |   |   |   |   |--- FixationStart >  1.76\n",
            "|   |   |   |   |   |   |   |--- FixationSeq <= 1.41\n",
            "|   |   |   |   |   |   |   |   |--- class: TOT_med_slow\n",
            "|   |   |   |   |   |   |   |--- FixationSeq >  1.41\n",
            "|   |   |   |   |   |   |   |   |--- class: TOT_slow\n",
            "|   |   |   |   |--- ManualWheel >  0.62\n",
            "|   |   |   |   |   |--- GazeDirectionLeftZ <= 0.42\n",
            "|   |   |   |   |   |   |--- MPH <= -0.15\n",
            "|   |   |   |   |   |   |   |--- CurrentWheel <= 0.12\n",
            "|   |   |   |   |   |   |   |   |--- GazeDirectionLeftZ <= 0.31\n",
            "|   |   |   |   |   |   |   |   |   |--- PupilRight <= -1.09\n",
            "|   |   |   |   |   |   |   |   |   |   |--- class: TOT_med_slow\n",
            "|   |   |   |   |   |   |   |   |   |--- PupilRight >  -1.09\n",
            "|   |   |   |   |   |   |   |   |   |   |--- class: TOT_slow\n",
            "|   |   |   |   |   |   |   |   |--- GazeDirectionLeftZ >  0.31\n",
            "|   |   |   |   |   |   |   |   |   |--- GazeDirectionRightZ <= 0.41\n",
            "|   |   |   |   |   |   |   |   |   |   |--- class: TOT_fast\n",
            "|   |   |   |   |   |   |   |   |   |--- GazeDirectionRightZ >  0.41\n",
            "|   |   |   |   |   |   |   |   |   |   |--- class: TOT_med_slow\n",
            "|   |   |   |   |   |   |   |--- CurrentWheel >  0.12\n",
            "|   |   |   |   |   |   |   |   |--- MPH <= -0.94\n",
            "|   |   |   |   |   |   |   |   |   |--- PupilRight <= -1.78\n",
            "|   |   |   |   |   |   |   |   |   |   |--- class: TOT_med_fast\n",
            "|   |   |   |   |   |   |   |   |   |--- PupilRight >  -1.78\n",
            "|   |   |   |   |   |   |   |   |   |   |--- class: TOT_med_fast\n",
            "|   |   |   |   |   |   |   |   |--- MPH >  -0.94\n",
            "|   |   |   |   |   |   |   |   |   |--- MPH <= -0.52\n",
            "|   |   |   |   |   |   |   |   |   |   |--- class: TOT_med_slow\n",
            "|   |   |   |   |   |   |   |   |   |--- MPH >  -0.52\n",
            "|   |   |   |   |   |   |   |   |   |   |--- class: TOT_med_fast\n",
            "|   |   |   |   |   |   |--- MPH >  -0.15\n",
            "|   |   |   |   |   |   |   |--- GazeDirectionRightZ <= 0.03\n",
            "|   |   |   |   |   |   |   |   |--- PupilLeft <= -0.89\n",
            "|   |   |   |   |   |   |   |   |   |--- GazeDirectionLeftZ <= -0.47\n",
            "|   |   |   |   |   |   |   |   |   |   |--- class: TOT_fast\n",
            "|   |   |   |   |   |   |   |   |   |--- GazeDirectionLeftZ >  -0.47\n",
            "|   |   |   |   |   |   |   |   |   |   |--- class: TOT_med_fast\n",
            "|   |   |   |   |   |   |   |   |--- PupilLeft >  -0.89\n",
            "|   |   |   |   |   |   |   |   |   |--- MPH <= 0.51\n",
            "|   |   |   |   |   |   |   |   |   |   |--- class: TOT_med_slow\n",
            "|   |   |   |   |   |   |   |   |   |--- MPH >  0.51\n",
            "|   |   |   |   |   |   |   |   |   |   |--- class: TOT_med_fast\n",
            "|   |   |   |   |   |   |   |--- GazeDirectionRightZ >  0.03\n",
            "|   |   |   |   |   |   |   |   |--- LeftLaneDist <= -0.12\n",
            "|   |   |   |   |   |   |   |   |   |--- LeftLaneDist <= -0.59\n",
            "|   |   |   |   |   |   |   |   |   |   |--- class: TOT_med_fast\n",
            "|   |   |   |   |   |   |   |   |   |--- LeftLaneDist >  -0.59\n",
            "|   |   |   |   |   |   |   |   |   |   |--- class: TOT_slow\n",
            "|   |   |   |   |   |   |   |   |--- LeftLaneDist >  -0.12\n",
            "|   |   |   |   |   |   |   |   |   |--- FixationStart <= -0.26\n",
            "|   |   |   |   |   |   |   |   |   |   |--- class: TOT_slow\n",
            "|   |   |   |   |   |   |   |   |   |--- FixationStart >  -0.26\n",
            "|   |   |   |   |   |   |   |   |   |   |--- class: TOT_med_slow\n",
            "|   |   |   |   |   |--- GazeDirectionLeftZ >  0.42\n",
            "|   |   |   |   |   |   |--- FixationSeq <= 1.49\n",
            "|   |   |   |   |   |   |   |--- Distance3D <= 0.24\n",
            "|   |   |   |   |   |   |   |   |--- InterpolatedGazeY <= 1.10\n",
            "|   |   |   |   |   |   |   |   |   |--- Distance3D <= -0.59\n",
            "|   |   |   |   |   |   |   |   |   |   |--- class: TOT_med_slow\n",
            "|   |   |   |   |   |   |   |   |   |--- Distance3D >  -0.59\n",
            "|   |   |   |   |   |   |   |   |   |   |--- class: TOT_med_fast\n",
            "|   |   |   |   |   |   |   |   |--- InterpolatedGazeY >  1.10\n",
            "|   |   |   |   |   |   |   |   |   |--- MPH <= -1.04\n",
            "|   |   |   |   |   |   |   |   |   |   |--- class: TOT_med_fast\n",
            "|   |   |   |   |   |   |   |   |   |--- MPH >  -1.04\n",
            "|   |   |   |   |   |   |   |   |   |   |--- class: TOT_med_fast\n",
            "|   |   |   |   |   |   |   |--- Distance3D >  0.24\n",
            "|   |   |   |   |   |   |   |   |--- MPH <= 0.49\n",
            "|   |   |   |   |   |   |   |   |   |--- CurrentWheel <= -0.53\n",
            "|   |   |   |   |   |   |   |   |   |   |--- class: TOT_slow\n",
            "|   |   |   |   |   |   |   |   |   |--- CurrentWheel >  -0.53\n",
            "|   |   |   |   |   |   |   |   |   |   |--- class: TOT_med_fast\n",
            "|   |   |   |   |   |   |   |   |--- MPH >  0.49\n",
            "|   |   |   |   |   |   |   |   |   |--- LeftLaneDist <= -0.66\n",
            "|   |   |   |   |   |   |   |   |   |   |--- class: TOT_med_fast\n",
            "|   |   |   |   |   |   |   |   |   |--- LeftLaneDist >  -0.66\n",
            "|   |   |   |   |   |   |   |   |   |   |--- class: TOT_slow\n",
            "|   |   |   |   |   |   |--- FixationSeq >  1.49\n",
            "|   |   |   |   |   |   |   |--- InterpolatedGazeY <= 0.57\n",
            "|   |   |   |   |   |   |   |   |--- InterpolatedGazeY <= 0.27\n",
            "|   |   |   |   |   |   |   |   |   |--- class: TOT_med\n",
            "|   |   |   |   |   |   |   |   |--- InterpolatedGazeY >  0.27\n",
            "|   |   |   |   |   |   |   |   |   |--- class: TOT_fast\n",
            "|   |   |   |   |   |   |   |--- InterpolatedGazeY >  0.57\n",
            "|   |   |   |   |   |   |   |   |--- class: TOT_slow\n",
            "|   |   |   |--- PupilRight >  -0.77\n",
            "|   |   |   |   |--- FixationStart <= 0.35\n",
            "|   |   |   |   |   |--- FixationStart <= 0.08\n",
            "|   |   |   |   |   |   |--- ManualWheel <= 0.62\n",
            "|   |   |   |   |   |   |   |--- FixationStart <= -1.91\n",
            "|   |   |   |   |   |   |   |   |--- PupilRight <= -0.50\n",
            "|   |   |   |   |   |   |   |   |   |--- LeftLaneDist <= -0.10\n",
            "|   |   |   |   |   |   |   |   |   |   |--- class: TOT_slow\n",
            "|   |   |   |   |   |   |   |   |   |--- LeftLaneDist >  -0.10\n",
            "|   |   |   |   |   |   |   |   |   |   |--- class: TOT_med_slow\n",
            "|   |   |   |   |   |   |   |   |--- PupilRight >  -0.50\n",
            "|   |   |   |   |   |   |   |   |   |--- ManualThrottle <= 3.37\n",
            "|   |   |   |   |   |   |   |   |   |   |--- class: TOT_slow\n",
            "|   |   |   |   |   |   |   |   |   |--- ManualThrottle >  3.37\n",
            "|   |   |   |   |   |   |   |   |   |   |--- class: TOT_slow\n",
            "|   |   |   |   |   |   |   |--- FixationStart >  -1.91\n",
            "|   |   |   |   |   |   |   |   |--- RightLaneDist <= 0.08\n",
            "|   |   |   |   |   |   |   |   |   |--- FixationSeq <= -1.04\n",
            "|   |   |   |   |   |   |   |   |   |   |--- class: TOT_med_slow\n",
            "|   |   |   |   |   |   |   |   |   |--- FixationSeq >  -1.04\n",
            "|   |   |   |   |   |   |   |   |   |   |--- class: TOT_med_slow\n",
            "|   |   |   |   |   |   |   |   |--- RightLaneDist >  0.08\n",
            "|   |   |   |   |   |   |   |   |   |--- GazeDirectionLeftZ <= -1.74\n",
            "|   |   |   |   |   |   |   |   |   |   |--- class: TOT_slow\n",
            "|   |   |   |   |   |   |   |   |   |--- GazeDirectionLeftZ >  -1.74\n",
            "|   |   |   |   |   |   |   |   |   |   |--- class: TOT_med\n",
            "|   |   |   |   |   |   |--- ManualWheel >  0.62\n",
            "|   |   |   |   |   |   |   |--- FixationStart <= -1.65\n",
            "|   |   |   |   |   |   |   |   |--- FixationSeq <= -1.77\n",
            "|   |   |   |   |   |   |   |   |   |--- FixationStart <= -1.93\n",
            "|   |   |   |   |   |   |   |   |   |   |--- class: TOT_slow\n",
            "|   |   |   |   |   |   |   |   |   |--- FixationStart >  -1.93\n",
            "|   |   |   |   |   |   |   |   |   |   |--- class: TOT_med\n",
            "|   |   |   |   |   |   |   |   |--- FixationSeq >  -1.77\n",
            "|   |   |   |   |   |   |   |   |   |--- MPH <= -2.69\n",
            "|   |   |   |   |   |   |   |   |   |   |--- class: TOT_med_slow\n",
            "|   |   |   |   |   |   |   |   |   |--- MPH >  -2.69\n",
            "|   |   |   |   |   |   |   |   |   |   |--- class: TOT_med_fast\n",
            "|   |   |   |   |   |   |   |--- FixationStart >  -1.65\n",
            "|   |   |   |   |   |   |   |   |--- FixationSeq <= -0.73\n",
            "|   |   |   |   |   |   |   |   |   |--- FixationSeq <= -1.19\n",
            "|   |   |   |   |   |   |   |   |   |   |--- class: TOT_med_slow\n",
            "|   |   |   |   |   |   |   |   |   |--- FixationSeq >  -1.19\n",
            "|   |   |   |   |   |   |   |   |   |   |--- class: TOT_slow\n",
            "|   |   |   |   |   |   |   |   |--- FixationSeq >  -0.73\n",
            "|   |   |   |   |   |   |   |   |   |--- FixationStart <= -0.30\n",
            "|   |   |   |   |   |   |   |   |   |   |--- class: TOT_med_slow\n",
            "|   |   |   |   |   |   |   |   |   |--- FixationStart >  -0.30\n",
            "|   |   |   |   |   |   |   |   |   |   |--- class: TOT_slow\n",
            "|   |   |   |   |   |--- FixationStart >  0.08\n",
            "|   |   |   |   |   |   |--- FixationStart <= 0.35\n",
            "|   |   |   |   |   |   |   |--- class: TOT_fast\n",
            "|   |   |   |   |   |   |--- FixationStart >  0.35\n",
            "|   |   |   |   |   |   |   |--- InterpolatedGazeX <= 0.40\n",
            "|   |   |   |   |   |   |   |   |--- class: TOT_med\n",
            "|   |   |   |   |   |   |   |--- InterpolatedGazeX >  0.40\n",
            "|   |   |   |   |   |   |   |   |--- class: TOT_fast\n",
            "|   |   |   |   |--- FixationStart >  0.35\n",
            "|   |   |   |   |   |--- FixationSeq <= 0.00\n",
            "|   |   |   |   |   |   |--- FixationSeq <= -0.34\n",
            "|   |   |   |   |   |   |   |--- class: TOT_fast\n",
            "|   |   |   |   |   |   |--- FixationSeq >  -0.34\n",
            "|   |   |   |   |   |   |   |--- class: TOT_med\n",
            "|   |   |   |   |   |--- FixationSeq >  0.00\n",
            "|   |   |   |   |   |   |--- FixationSeq <= 0.56\n",
            "|   |   |   |   |   |   |   |--- FixationStart <= 1.22\n",
            "|   |   |   |   |   |   |   |   |--- FixationStart <= 1.06\n",
            "|   |   |   |   |   |   |   |   |   |--- FixationStart <= 0.56\n",
            "|   |   |   |   |   |   |   |   |   |   |--- class: TOT_fast\n",
            "|   |   |   |   |   |   |   |   |   |--- FixationStart >  0.56\n",
            "|   |   |   |   |   |   |   |   |   |   |--- class: TOT_med_slow\n",
            "|   |   |   |   |   |   |   |   |--- FixationStart >  1.06\n",
            "|   |   |   |   |   |   |   |   |   |--- FixationSeq <= 0.37\n",
            "|   |   |   |   |   |   |   |   |   |   |--- class: TOT_med_slow\n",
            "|   |   |   |   |   |   |   |   |   |--- FixationSeq >  0.37\n",
            "|   |   |   |   |   |   |   |   |   |   |--- class: TOT_med\n",
            "|   |   |   |   |   |   |   |--- FixationStart >  1.22\n",
            "|   |   |   |   |   |   |   |   |--- class: TOT_med_fast\n",
            "|   |   |   |   |   |   |--- FixationSeq >  0.56\n",
            "|   |   |   |   |   |   |   |--- Distance3D <= 0.24\n",
            "|   |   |   |   |   |   |   |   |--- FixationSeq <= 1.28\n",
            "|   |   |   |   |   |   |   |   |   |--- GazeDirectionLeftZ <= 0.38\n",
            "|   |   |   |   |   |   |   |   |   |   |--- class: TOT_med_slow\n",
            "|   |   |   |   |   |   |   |   |   |--- GazeDirectionLeftZ >  0.38\n",
            "|   |   |   |   |   |   |   |   |   |   |--- class: TOT_med_slow\n",
            "|   |   |   |   |   |   |   |   |--- FixationSeq >  1.28\n",
            "|   |   |   |   |   |   |   |   |   |--- FixationStart <= 2.20\n",
            "|   |   |   |   |   |   |   |   |   |   |--- class: TOT_med_fast\n",
            "|   |   |   |   |   |   |   |   |   |--- FixationStart >  2.20\n",
            "|   |   |   |   |   |   |   |   |   |   |--- class: TOT_med\n",
            "|   |   |   |   |   |   |   |--- Distance3D >  0.24\n",
            "|   |   |   |   |   |   |   |   |--- FixationSeq <= 0.90\n",
            "|   |   |   |   |   |   |   |   |   |--- FixationStart <= 1.42\n",
            "|   |   |   |   |   |   |   |   |   |   |--- class: TOT_med_slow\n",
            "|   |   |   |   |   |   |   |   |   |--- FixationStart >  1.42\n",
            "|   |   |   |   |   |   |   |   |   |   |--- class: TOT_med_slow\n",
            "|   |   |   |   |   |   |   |   |--- FixationSeq >  0.90\n",
            "|   |   |   |   |   |   |   |   |   |--- FixationSeq <= 1.57\n",
            "|   |   |   |   |   |   |   |   |   |   |--- class: TOT_med\n",
            "|   |   |   |   |   |   |   |   |   |--- FixationSeq >  1.57\n",
            "|   |   |   |   |   |   |   |   |   |   |--- class: TOT_slow\n",
            "|   |--- ManualWheel >  0.77\n",
            "|   |   |--- ManualWheel <= 0.92\n",
            "|   |   |   |--- RightLaneType <= -1.27\n",
            "|   |   |   |   |--- FixationStart <= -0.18\n",
            "|   |   |   |   |   |--- FixationSeq <= -0.86\n",
            "|   |   |   |   |   |   |--- FixationStart <= -0.93\n",
            "|   |   |   |   |   |   |   |--- FixationStart <= -1.63\n",
            "|   |   |   |   |   |   |   |   |--- GazeDirectionLeftZ <= 0.44\n",
            "|   |   |   |   |   |   |   |   |   |--- class: TOT_med_fast\n",
            "|   |   |   |   |   |   |   |   |--- GazeDirectionLeftZ >  0.44\n",
            "|   |   |   |   |   |   |   |   |   |--- InterpolatedGazeY <= 0.56\n",
            "|   |   |   |   |   |   |   |   |   |   |--- class: TOT_med\n",
            "|   |   |   |   |   |   |   |   |   |--- InterpolatedGazeY >  0.56\n",
            "|   |   |   |   |   |   |   |   |   |   |--- class: TOT_slow\n",
            "|   |   |   |   |   |   |   |--- FixationStart >  -1.63\n",
            "|   |   |   |   |   |   |   |   |--- FixationX <= 0.28\n",
            "|   |   |   |   |   |   |   |   |   |--- class: TOT_med_slow\n",
            "|   |   |   |   |   |   |   |   |--- FixationX >  0.28\n",
            "|   |   |   |   |   |   |   |   |   |--- class: TOT_slow\n",
            "|   |   |   |   |   |   |--- FixationStart >  -0.93\n",
            "|   |   |   |   |   |   |   |--- class: TOT_slow\n",
            "|   |   |   |   |   |--- FixationSeq >  -0.86\n",
            "|   |   |   |   |   |   |--- class: TOT_fast\n",
            "|   |   |   |   |--- FixationStart >  -0.18\n",
            "|   |   |   |   |   |--- ManualThrottle <= 0.89\n",
            "|   |   |   |   |   |   |--- InterpolatedGazeX <= 0.42\n",
            "|   |   |   |   |   |   |   |--- MPH <= -0.15\n",
            "|   |   |   |   |   |   |   |   |--- class: TOT_med_slow\n",
            "|   |   |   |   |   |   |   |--- MPH >  -0.15\n",
            "|   |   |   |   |   |   |   |   |--- class: TOT_fast\n",
            "|   |   |   |   |   |   |--- InterpolatedGazeX >  0.42\n",
            "|   |   |   |   |   |   |   |--- class: TOT_slow\n",
            "|   |   |   |   |   |--- ManualThrottle >  0.89\n",
            "|   |   |   |   |   |   |--- MPH <= -1.86\n",
            "|   |   |   |   |   |   |   |--- class: TOT_med_fast\n",
            "|   |   |   |   |   |   |--- MPH >  -1.86\n",
            "|   |   |   |   |   |   |   |--- AutoThrottle <= -0.14\n",
            "|   |   |   |   |   |   |   |   |--- class: TOT_med_fast\n",
            "|   |   |   |   |   |   |   |--- AutoThrottle >  -0.14\n",
            "|   |   |   |   |   |   |   |   |--- Distance3D <= 0.25\n",
            "|   |   |   |   |   |   |   |   |   |--- class: TOT_slow\n",
            "|   |   |   |   |   |   |   |   |--- Distance3D >  0.25\n",
            "|   |   |   |   |   |   |   |   |   |--- class: TOT_med_slow\n",
            "|   |   |   |--- RightLaneType >  -1.27\n",
            "|   |   |   |   |--- MPH <= 0.77\n",
            "|   |   |   |   |   |--- MPH <= -3.38\n",
            "|   |   |   |   |   |   |--- AutoWheel <= -5.15\n",
            "|   |   |   |   |   |   |   |--- class: TOT_med\n",
            "|   |   |   |   |   |   |--- AutoWheel >  -5.15\n",
            "|   |   |   |   |   |   |   |--- class: TOT_med_slow\n",
            "|   |   |   |   |   |--- MPH >  -3.38\n",
            "|   |   |   |   |   |   |--- FixationSeq <= -1.54\n",
            "|   |   |   |   |   |   |   |--- class: TOT_med_slow\n",
            "|   |   |   |   |   |   |--- FixationSeq >  -1.54\n",
            "|   |   |   |   |   |   |   |--- AutoWheel <= -9.47\n",
            "|   |   |   |   |   |   |   |   |--- class: TOT_fast\n",
            "|   |   |   |   |   |   |   |--- AutoWheel >  -9.47\n",
            "|   |   |   |   |   |   |   |   |--- Distance3D <= 1.47\n",
            "|   |   |   |   |   |   |   |   |   |--- Distance3D <= 1.43\n",
            "|   |   |   |   |   |   |   |   |   |   |--- class: TOT_slow\n",
            "|   |   |   |   |   |   |   |   |   |--- Distance3D >  1.43\n",
            "|   |   |   |   |   |   |   |   |   |   |--- class: TOT_slow\n",
            "|   |   |   |   |   |   |   |   |--- Distance3D >  1.47\n",
            "|   |   |   |   |   |   |   |   |   |--- AutoWheel <= -0.17\n",
            "|   |   |   |   |   |   |   |   |   |   |--- class: TOT_med_slow\n",
            "|   |   |   |   |   |   |   |   |   |--- AutoWheel >  -0.17\n",
            "|   |   |   |   |   |   |   |   |   |   |--- class: TOT_slow\n",
            "|   |   |   |   |--- MPH >  0.77\n",
            "|   |   |   |   |   |--- class: TOT_med_fast\n",
            "|   |   |--- ManualWheel >  0.92\n",
            "|   |   |   |--- Distance3D <= 0.80\n",
            "|   |   |   |   |--- FixationStart <= -1.83\n",
            "|   |   |   |   |   |--- MPH <= -1.10\n",
            "|   |   |   |   |   |   |--- class: TOT_med_fast\n",
            "|   |   |   |   |   |--- MPH >  -1.10\n",
            "|   |   |   |   |   |   |--- class: TOT_med\n",
            "|   |   |   |   |--- FixationStart >  -1.83\n",
            "|   |   |   |   |   |--- MPH <= -0.30\n",
            "|   |   |   |   |   |   |--- FixationY <= -1.09\n",
            "|   |   |   |   |   |   |   |--- FixationSeq <= -1.53\n",
            "|   |   |   |   |   |   |   |   |--- class: TOT_med_slow\n",
            "|   |   |   |   |   |   |   |--- FixationSeq >  -1.53\n",
            "|   |   |   |   |   |   |   |   |--- Distance3D <= 0.09\n",
            "|   |   |   |   |   |   |   |   |   |--- ManualThrottle <= 3.80\n",
            "|   |   |   |   |   |   |   |   |   |   |--- class: TOT_slow\n",
            "|   |   |   |   |   |   |   |   |   |--- ManualThrottle >  3.80\n",
            "|   |   |   |   |   |   |   |   |   |   |--- class: TOT_med_slow\n",
            "|   |   |   |   |   |   |   |   |--- Distance3D >  0.09\n",
            "|   |   |   |   |   |   |   |   |   |--- AutoWheel <= -1.60\n",
            "|   |   |   |   |   |   |   |   |   |   |--- class: TOT_slow\n",
            "|   |   |   |   |   |   |   |   |   |--- AutoWheel >  -1.60\n",
            "|   |   |   |   |   |   |   |   |   |   |--- class: TOT_slow\n",
            "|   |   |   |   |   |   |--- FixationY >  -1.09\n",
            "|   |   |   |   |   |   |   |--- FixationY <= 0.01\n",
            "|   |   |   |   |   |   |   |   |--- MPH <= -4.90\n",
            "|   |   |   |   |   |   |   |   |   |--- class: TOT_med\n",
            "|   |   |   |   |   |   |   |   |--- MPH >  -4.90\n",
            "|   |   |   |   |   |   |   |   |   |--- MPH <= -1.31\n",
            "|   |   |   |   |   |   |   |   |   |   |--- class: TOT_med_slow\n",
            "|   |   |   |   |   |   |   |   |   |--- MPH >  -1.31\n",
            "|   |   |   |   |   |   |   |   |   |   |--- class: TOT_fast\n",
            "|   |   |   |   |   |   |   |--- FixationY >  0.01\n",
            "|   |   |   |   |   |   |   |   |--- FixationY <= 0.63\n",
            "|   |   |   |   |   |   |   |   |   |--- class: TOT_slow\n",
            "|   |   |   |   |   |   |   |   |--- FixationY >  0.63\n",
            "|   |   |   |   |   |   |   |   |   |--- Distance3D <= -0.11\n",
            "|   |   |   |   |   |   |   |   |   |   |--- class: TOT_med_slow\n",
            "|   |   |   |   |   |   |   |   |   |--- Distance3D >  -0.11\n",
            "|   |   |   |   |   |   |   |   |   |   |--- class: TOT_fast\n",
            "|   |   |   |   |   |--- MPH >  -0.30\n",
            "|   |   |   |   |   |   |--- FixationSeq <= -1.15\n",
            "|   |   |   |   |   |   |   |--- FixationY <= 0.43\n",
            "|   |   |   |   |   |   |   |   |--- class: TOT_med_slow\n",
            "|   |   |   |   |   |   |   |--- FixationY >  0.43\n",
            "|   |   |   |   |   |   |   |   |--- class: TOT_slow\n",
            "|   |   |   |   |   |   |--- FixationSeq >  -1.15\n",
            "|   |   |   |   |   |   |   |--- MPH <= 1.04\n",
            "|   |   |   |   |   |   |   |   |--- FixationStart <= -0.19\n",
            "|   |   |   |   |   |   |   |   |   |--- class: TOT_fast\n",
            "|   |   |   |   |   |   |   |   |--- FixationStart >  -0.19\n",
            "|   |   |   |   |   |   |   |   |   |--- CurrentWheel <= -0.51\n",
            "|   |   |   |   |   |   |   |   |   |   |--- class: TOT_slow\n",
            "|   |   |   |   |   |   |   |   |   |--- CurrentWheel >  -0.51\n",
            "|   |   |   |   |   |   |   |   |   |   |--- class: TOT_fast\n",
            "|   |   |   |   |   |   |   |--- MPH >  1.04\n",
            "|   |   |   |   |   |   |   |   |--- class: TOT_med_fast\n",
            "|   |   |   |--- Distance3D >  0.80\n",
            "|   |   |   |   |--- FixationSeq <= -0.52\n",
            "|   |   |   |   |   |--- FixationSeq <= -1.71\n",
            "|   |   |   |   |   |   |--- class: TOT_med\n",
            "|   |   |   |   |   |--- FixationSeq >  -1.71\n",
            "|   |   |   |   |   |   |--- FixationX <= 0.51\n",
            "|   |   |   |   |   |   |   |--- MPH <= -0.85\n",
            "|   |   |   |   |   |   |   |   |--- FixationDuration <= 2.66\n",
            "|   |   |   |   |   |   |   |   |   |--- PupilRight <= -0.65\n",
            "|   |   |   |   |   |   |   |   |   |   |--- class: TOT_slow\n",
            "|   |   |   |   |   |   |   |   |   |--- PupilRight >  -0.65\n",
            "|   |   |   |   |   |   |   |   |   |   |--- class: TOT_med_slow\n",
            "|   |   |   |   |   |   |   |   |--- FixationDuration >  2.66\n",
            "|   |   |   |   |   |   |   |   |   |--- class: TOT_slow\n",
            "|   |   |   |   |   |   |   |--- MPH >  -0.85\n",
            "|   |   |   |   |   |   |   |   |--- class: TOT_fast\n",
            "|   |   |   |   |   |   |--- FixationX >  0.51\n",
            "|   |   |   |   |   |   |   |--- ManualWheel <= 2.39\n",
            "|   |   |   |   |   |   |   |   |--- class: TOT_slow\n",
            "|   |   |   |   |   |   |   |--- ManualWheel >  2.39\n",
            "|   |   |   |   |   |   |   |   |--- class: TOT_med_slow\n",
            "|   |   |   |   |--- FixationSeq >  -0.52\n",
            "|   |   |   |   |   |--- FixationSeq <= 0.23\n",
            "|   |   |   |   |   |   |--- FixationStart <= -0.07\n",
            "|   |   |   |   |   |   |   |--- ManualThrottle <= 5.56\n",
            "|   |   |   |   |   |   |   |   |--- MPH <= -0.65\n",
            "|   |   |   |   |   |   |   |   |   |--- LeftLaneDist <= 0.50\n",
            "|   |   |   |   |   |   |   |   |   |   |--- class: TOT_med_slow\n",
            "|   |   |   |   |   |   |   |   |   |--- LeftLaneDist >  0.50\n",
            "|   |   |   |   |   |   |   |   |   |   |--- class: TOT_slow\n",
            "|   |   |   |   |   |   |   |   |--- MPH >  -0.65\n",
            "|   |   |   |   |   |   |   |   |   |--- RightLaneType <= -1.27\n",
            "|   |   |   |   |   |   |   |   |   |   |--- class: TOT_fast\n",
            "|   |   |   |   |   |   |   |   |   |--- RightLaneType >  -1.27\n",
            "|   |   |   |   |   |   |   |   |   |   |--- class: TOT_med_fast\n",
            "|   |   |   |   |   |   |   |--- ManualThrottle >  5.56\n",
            "|   |   |   |   |   |   |   |   |--- class: TOT_med_fast\n",
            "|   |   |   |   |   |   |--- FixationStart >  -0.07\n",
            "|   |   |   |   |   |   |   |--- class: TOT_med_fast\n",
            "|   |   |   |   |   |--- FixationSeq >  0.23\n",
            "|   |   |   |   |   |   |--- FixationX <= -0.00\n",
            "|   |   |   |   |   |   |   |--- class: TOT_fast\n",
            "|   |   |   |   |   |   |--- FixationX >  -0.00\n",
            "|   |   |   |   |   |   |   |--- FixationSeq <= 0.61\n",
            "|   |   |   |   |   |   |   |   |--- class: TOT_med_slow\n",
            "|   |   |   |   |   |   |   |--- FixationSeq >  0.61\n",
            "|   |   |   |   |   |   |   |   |--- class: TOT_slow\n",
            "\n"
          ],
          "name": "stdout"
        }
      ]
    },
    {
      "cell_type": "markdown",
      "metadata": {
        "id": "Gs7Qso_ug0ER"
      },
      "source": [
        "**Datapoints satisfying a rule**"
      ]
    },
    {
      "cell_type": "markdown",
      "metadata": {
        "id": "-p-EmgcXTuQX"
      },
      "source": [
        "ManualWheel <= 0.307 & FixationStart <= -1.677 & MPH > -1.34 : class = TOT_med"
      ]
    },
    {
      "cell_type": "code",
      "metadata": {
        "id": "4Q_6Hsijgzmr",
        "cellView": "code"
      },
      "source": [
        "#@title Code\n",
        "def rule_specific_data(X_test, y_test, pred):\n",
        "\n",
        "  feats = list(X_test.columns)\n",
        "\n",
        "  test_x_arr = np.asarray(X_test)\n",
        "  test_y_arr = np.asarray(y_test)\n",
        "  pred = np.asarray(pred)\n",
        "\n",
        "\n",
        "  rule1_lst = []\n",
        "  for dpoint in range(len(X_test)):\n",
        "      tmp1_lst = []    \n",
        "      if (X_test.iloc[dpoint, feats.index('ManualWheel')] <= 0.307) and (X_test.iloc[dpoint, feats.index('FixationStart')] <= -1.677) and (X_test.iloc[dpoint, feats.index('MPH')] <= -1.34):\n",
        "        tmp1_lst.extend(test_x_arr[dpoint])\n",
        "        tmp1_lst.extend(test_y_arr[dpoint])\n",
        "        tmp1_lst.append('TOT_med')\n",
        "        rule1_lst.append(tmp1_lst)\n",
        "  print(\"Number of datapoints satisfying the rule: \" + str(len(rule1_lst)))\n",
        "  new_feats = feats + ['Target'] + ['Prediction']\n",
        "  rule_df = pd.DataFrame(np.asarray(rule1_lst), columns = new_feats)\n",
        "  acc_rule = sklearn.metrics.accuracy_score(rule_df['Target'], rule_df['Prediction'])\n",
        "  print(\"Percentage of datapoints satisfying the rule classified correctly: \" + str(acc_rule*100) + \"%\")\n"
      ],
      "execution_count": null,
      "outputs": []
    },
    {
      "cell_type": "code",
      "metadata": {
        "colab": {
          "base_uri": "https://localhost:8080/"
        },
        "id": "y0UyJacqgzBL",
        "outputId": "1e8c6706-9559-4a26-a8fb-1dcf00da37c4"
      },
      "source": [
        "rule_specific_data(X_test, y_test, pred)"
      ],
      "execution_count": null,
      "outputs": [
        {
          "output_type": "stream",
          "text": [
            "Number of datapoints satisfying the rule: 1863\n",
            "Percentage of datapoints satisfying the rule classified correctly: 39.77455716586151%\n"
          ],
          "name": "stdout"
        }
      ]
    },
    {
      "cell_type": "markdown",
      "metadata": {
        "id": "ZWVVz6vfT1AY"
      },
      "source": [
        "--------------------------------------------------------------------------------"
      ]
    },
    {
      "cell_type": "markdown",
      "metadata": {
        "id": "8RoGXySYTiEe"
      },
      "source": [
        "ManualWheel > 0.307 & ManualWheel <= 0.77 & ManualWheel <= 0.461 & InterpolatedGazeY > 0.109 & FixationSequence <= 0.62 & Distance3D > 0.283 & FixationSequence > -0.043 & AutoWheel > 0.887 : CLASS: TOT_fast"
      ]
    },
    {
      "cell_type": "code",
      "metadata": {
        "id": "lksVw7DkJ6bM"
      },
      "source": [
        "def rule_specific_data(X_test, y_test, pred):\n",
        "\n",
        "  feats = list(X_test.columns)\n",
        "  print(feats)\n",
        "  test_x_arr = np.asarray(X_test)\n",
        "  test_y_arr = np.asarray(y_test)\n",
        "  pred = np.asarray(pred)\n",
        "\n",
        "\n",
        "  rule1_lst = []\n",
        "  for dpoint in range(len(X_test)):\n",
        "      tmp1_lst = []    \n",
        "      if (X_test.iloc[dpoint, feats.index('ManualWheel')] > 0.307) and (X_test.iloc[dpoint, feats.index('ManualWheel')] <= 0.77) and (X_test.iloc[dpoint, feats.index('ManualWheel')] <= 0.461) and (X_test.iloc[dpoint, feats.index('InterpolatedGazeY')] > 0.109) and (X_test.iloc[dpoint, feats.index('FixationSeq')] <= 0.62) and (X_test.iloc[dpoint, feats.index('Distance3D')] > 0.283) and (X_test.iloc[dpoint, feats.index('FixationSeq')] > -0.043) and (X_test.iloc[dpoint, feats.index('AutoWheel')] > 0.887):\n",
        "        tmp1_lst.extend(test_x_arr[dpoint])\n",
        "        tmp1_lst.extend(test_y_arr[dpoint])\n",
        "        tmp1_lst.append('TOT_fast')\n",
        "        rule1_lst.append(tmp1_lst)\n",
        "  print(\"Number of datapoints satisfying the rule: \" + str(len(rule1_lst)))\n",
        "  new_feats = feats + ['Target'] + ['Prediction']\n",
        "  rule_df = pd.DataFrame(np.asarray(rule1_lst), columns = new_feats)\n",
        "\n",
        "  acc_rule = sklearn.metrics.accuracy_score(rule_df['Target'], rule_df['Prediction'])\n",
        "  print(\"Percentage of datapoints satisfying the rule classified correctly: \" + str(acc_rule*100) + \"%\")"
      ],
      "execution_count": null,
      "outputs": []
    },
    {
      "cell_type": "code",
      "metadata": {
        "id": "DEksrmCoJQVq",
        "colab": {
          "base_uri": "https://localhost:8080/"
        },
        "outputId": "32a47146-9e95-466f-fe33-54b8de595d30"
      },
      "source": [
        "rule_specific_data(X_test, y_test, pred)"
      ],
      "execution_count": null,
      "outputs": [
        {
          "output_type": "stream",
          "text": [
            "['FixationDuration', 'FixationSeq', 'FixationStart', 'FixationX', 'FixationY', 'GazeDirectionLeftZ', 'GazeDirectionRightZ', 'PupilLeft', 'PupilRight', 'InterpolatedGazeX', 'InterpolatedGazeY', 'AutoThrottle', 'AutoWheel', 'CurrentThrottle', 'CurrentWheel', 'Distance3D', 'MPH', 'ManualBrake', 'ManualThrottle', 'ManualWheel', 'RangeW', 'RightLaneDist', 'RightLaneType', 'LeftLaneDist', 'LeftLaneType']\n",
            "Number of datapoints satisfying the rule: 39\n",
            "Percentage of datapoints satisfying the rule classified correctly: 100.0%\n"
          ],
          "name": "stdout"
        }
      ]
    },
    {
      "cell_type": "markdown",
      "metadata": {
        "id": "HF3UlH4usMBi"
      },
      "source": [
        "ManualWheel > 0.307 & ManualWheel <= 0.77 & ManualWheel <= 0.461 & InterpolatedGazeY > 0.109 & FixationSequence <= 0.62 & Distance3D > 0.283 & FixationSequence > -0.043 & AutoWheel <= 0.887 : CLASS: TOT_med_slow"
      ]
    },
    {
      "cell_type": "code",
      "metadata": {
        "id": "JKw9dO38STdo",
        "colab": {
          "base_uri": "https://localhost:8080/"
        },
        "outputId": "2082673d-4d8d-4388-cd82-a87eb5387a91"
      },
      "source": [
        "def rule_specific_data(X_test, y_test, pred):\n",
        "\n",
        "  feats = list(X_test.columns)\n",
        "  print(feats)\n",
        "  test_x_arr = np.asarray(X_test)\n",
        "  test_y_arr = np.asarray(y_test)\n",
        "  pred = np.asarray(pred)\n",
        "\n",
        "\n",
        "  rule1_lst = []\n",
        "  for dpoint in range(len(X_test)):\n",
        "      tmp1_lst = []    \n",
        "      if (X_test.iloc[dpoint, feats.index('ManualWheel')] > 0.307) and (X_test.iloc[dpoint, feats.index('ManualWheel')] <= 0.77) and (X_test.iloc[dpoint, feats.index('ManualWheel')] <= 0.461) and (X_test.iloc[dpoint, feats.index('InterpolatedGazeY')] > 0.109) and (X_test.iloc[dpoint, feats.index('FixationSeq')] <= 0.62) and (X_test.iloc[dpoint, feats.index('Distance3D')] > 0.283) and (X_test.iloc[dpoint, feats.index('FixationSeq')] > -0.043) and (X_test.iloc[dpoint, feats.index('AutoWheel')] <= 0.887):\n",
        "        tmp1_lst.extend(test_x_arr[dpoint])\n",
        "        tmp1_lst.extend(test_y_arr[dpoint])\n",
        "        tmp1_lst.append('TOT_med_slow')\n",
        "        rule1_lst.append(tmp1_lst)\n",
        "  print(\"Number of datapoints satisfying the rule: \" + str(len(rule1_lst)))\n",
        "  new_feats = feats + ['Target'] + ['Prediction']\n",
        "  rule_df = pd.DataFrame(np.asarray(rule1_lst), columns = new_feats)\n",
        "\n",
        "  acc_rule = sklearn.metrics.accuracy_score(rule_df['Target'], rule_df['Prediction'])\n",
        "  print(\"Percentage of datapoints satisfying the rule classified correctly: \" + str(acc_rule*100) + \"%\")\n",
        "\n",
        "rule_specific_data(X_test, y_test, pred)"
      ],
      "execution_count": null,
      "outputs": [
        {
          "output_type": "stream",
          "text": [
            "['FixationDuration', 'FixationSeq', 'FixationStart', 'FixationX', 'FixationY', 'GazeDirectionLeftZ', 'GazeDirectionRightZ', 'PupilLeft', 'PupilRight', 'InterpolatedGazeX', 'InterpolatedGazeY', 'AutoThrottle', 'AutoWheel', 'CurrentThrottle', 'CurrentWheel', 'Distance3D', 'MPH', 'ManualBrake', 'ManualThrottle', 'ManualWheel', 'RangeW', 'RightLaneDist', 'RightLaneType', 'LeftLaneDist', 'LeftLaneType']\n",
            "Number of datapoints satisfying the rule: 35\n",
            "Percentage of datapoints satisfying the rule classified correctly: 100.0%\n"
          ],
          "name": "stdout"
        }
      ]
    },
    {
      "cell_type": "markdown",
      "metadata": {
        "id": "nw9tLxLbvowY"
      },
      "source": [
        "ManualWheel <= 0.307 & FixationStart > -1.677 & FixationStart > 1.717 & PupilLeft > 0.424 & FixationStart > 1.924 : CLASS = TOT_slow"
      ]
    },
    {
      "cell_type": "code",
      "metadata": {
        "id": "X7rPGCxDHva0",
        "colab": {
          "base_uri": "https://localhost:8080/"
        },
        "outputId": "139c795b-8115-4e90-cc07-82f807119e09"
      },
      "source": [
        "def rule_specific_data(X_test, y_test, pred):\n",
        "\n",
        "  feats = list(X_test.columns)\n",
        "  print(feats)\n",
        "  test_x_arr = np.asarray(X_test)\n",
        "  test_y_arr = np.asarray(y_test)\n",
        "  pred = np.asarray(pred)\n",
        "\n",
        "\n",
        "  rule1_lst = []\n",
        "  for dpoint in range(len(X_test)):\n",
        "      tmp1_lst = []    \n",
        "      if (X_test.iloc[dpoint, feats.index('ManualWheel')] <= 0.307) and (X_test.iloc[dpoint, feats.index('FixationStart')] > -1.677) and (X_test.iloc[dpoint, feats.index('FixationStart')] > 1.717) and (X_test.iloc[dpoint, feats.index('PupilLeft')] > 0.424) and (X_test.iloc[dpoint, feats.index('FixationStart')] > 1.924):\n",
        "        tmp1_lst.extend(test_x_arr[dpoint])\n",
        "        tmp1_lst.extend(test_y_arr[dpoint])\n",
        "        tmp1_lst.append('TOT_slow')\n",
        "        rule1_lst.append(tmp1_lst)\n",
        "  print(\"Number of datapoints satisfying the rule: \" + str(len(rule1_lst)))\n",
        "  new_feats = feats + ['Target'] + ['Prediction']\n",
        "  rule_df = pd.DataFrame(np.asarray(rule1_lst), columns = new_feats)\n",
        "\n",
        "  acc_rule = sklearn.metrics.accuracy_score(rule_df['Target'], rule_df['Prediction'])\n",
        "  print(\"Percentage of datapoints satisfying the rule classified correctly: \" + str(acc_rule*100) + \"%\")\n",
        "\n",
        "rule_specific_data(X_test, y_test, pred)"
      ],
      "execution_count": null,
      "outputs": [
        {
          "output_type": "stream",
          "text": [
            "['FixationDuration', 'FixationSeq', 'FixationStart', 'FixationX', 'FixationY', 'GazeDirectionLeftZ', 'GazeDirectionRightZ', 'PupilLeft', 'PupilRight', 'InterpolatedGazeX', 'InterpolatedGazeY', 'AutoThrottle', 'AutoWheel', 'CurrentThrottle', 'CurrentWheel', 'Distance3D', 'MPH', 'ManualBrake', 'ManualThrottle', 'ManualWheel', 'RangeW', 'RightLaneDist', 'RightLaneType', 'LeftLaneDist', 'LeftLaneType']\n",
            "Number of datapoints satisfying the rule: 40\n",
            "Percentage of datapoints satisfying the rule classified correctly: 100.0%\n"
          ],
          "name": "stdout"
        }
      ]
    },
    {
      "cell_type": "markdown",
      "metadata": {
        "id": "WvCA1uZgybcP"
      },
      "source": [
        "ManualWheel <= 0.307 & FixationStart <= -1.677 & MPH <= -1.34 & FixationSequence <= -1.704 & MPH > -2.126 : CLASS = TOT_med_fast"
      ]
    },
    {
      "cell_type": "code",
      "metadata": {
        "colab": {
          "base_uri": "https://localhost:8080/"
        },
        "id": "BNo_yoxxyRR5",
        "outputId": "106256f6-70a1-4e82-81b3-9ab7dda16c60"
      },
      "source": [
        "def rule_specific_data(X_test, y_test, pred):\n",
        "\n",
        "  feats = list(X_test.columns)\n",
        "  print(feats)\n",
        "  test_x_arr = np.asarray(X_test)\n",
        "  test_y_arr = np.asarray(y_test)\n",
        "  pred = np.asarray(pred)\n",
        "\n",
        "\n",
        "  rule1_lst = []\n",
        "  for dpoint in range(len(X_test)):\n",
        "      tmp1_lst = []    \n",
        "      if (X_test.iloc[dpoint, feats.index('ManualWheel')] <= 0.307) and (X_test.iloc[dpoint, feats.index('FixationStart')] <= -1.677) and (X_test.iloc[dpoint, feats.index('MPH')] <= -1.34) and (X_test.iloc[dpoint, feats.index('FixationSeq')] <= -1.704) and (X_test.iloc[dpoint, feats.index('MPH')] > -2.126):\n",
        "        tmp1_lst.extend(test_x_arr[dpoint])\n",
        "        tmp1_lst.extend(test_y_arr[dpoint])\n",
        "        tmp1_lst.append('TOT_med_fast')\n",
        "        rule1_lst.append(tmp1_lst)\n",
        "  print(\"Number of datapoints satisfying the rule: \" + str(len(rule1_lst)))\n",
        "  new_feats = feats + ['Target'] + ['Prediction']\n",
        "  rule_df = pd.DataFrame(np.asarray(rule1_lst), columns = new_feats)\n",
        "\n",
        "  acc_rule = sklearn.metrics.accuracy_score(rule_df['Target'], rule_df['Prediction'])\n",
        "  print(\"Percentage of datapoints satisfying the rule classified correctly: \" + str(acc_rule*100) + \"%\")\n",
        "\n",
        "rule_specific_data(X_test, y_test, pred)"
      ],
      "execution_count": null,
      "outputs": [
        {
          "output_type": "stream",
          "text": [
            "['FixationDuration', 'FixationSeq', 'FixationStart', 'FixationX', 'FixationY', 'GazeDirectionLeftZ', 'GazeDirectionRightZ', 'PupilLeft', 'PupilRight', 'InterpolatedGazeX', 'InterpolatedGazeY', 'AutoThrottle', 'AutoWheel', 'CurrentThrottle', 'CurrentWheel', 'Distance3D', 'MPH', 'ManualBrake', 'ManualThrottle', 'ManualWheel', 'RangeW', 'RightLaneDist', 'RightLaneType', 'LeftLaneDist', 'LeftLaneType']\n",
            "Number of datapoints satisfying the rule: 569\n",
            "Percentage of datapoints satisfying the rule classified correctly: 100.0%\n"
          ],
          "name": "stdout"
        }
      ]
    },
    {
      "cell_type": "markdown",
      "metadata": {
        "id": "wOxcKx7wz0TI"
      },
      "source": [
        "ManualWheel <= 0.307 & FixationStart <= -1.677 & MPH <= -1.34 & FixationSequence <= -1.704 & MPH <= -2.126 : CLASS = TOT_med"
      ]
    },
    {
      "cell_type": "code",
      "metadata": {
        "colab": {
          "base_uri": "https://localhost:8080/"
        },
        "id": "DNtG4kq7y-WE",
        "outputId": "1479d155-a788-4e4a-cf5d-7b0cb91c2825"
      },
      "source": [
        "def rule_specific_data(X_test, y_test, pred):\n",
        "\n",
        "  feats = list(X_test.columns)\n",
        "  print(feats)\n",
        "  test_x_arr = np.asarray(X_test)\n",
        "  test_y_arr = np.asarray(y_test)\n",
        "  pred = np.asarray(pred)\n",
        "\n",
        "\n",
        "  rule1_lst = []\n",
        "  for dpoint in range(len(X_test)):\n",
        "      tmp1_lst = []    \n",
        "      if (X_test.iloc[dpoint, feats.index('ManualWheel')] <= 0.307) and (X_test.iloc[dpoint, feats.index('FixationStart')] <= -1.677) and (X_test.iloc[dpoint, feats.index('MPH')] <= -1.34) and (X_test.iloc[dpoint, feats.index('FixationSeq')] <= -1.704) and (X_test.iloc[dpoint, feats.index('MPH')] <= -2.126):\n",
        "        tmp1_lst.extend(test_x_arr[dpoint])\n",
        "        tmp1_lst.extend(test_y_arr[dpoint])\n",
        "        tmp1_lst.append('TOT_med')\n",
        "        rule1_lst.append(tmp1_lst)\n",
        "  print(\"Number of datapoints satisfying the rule: \" + str(len(rule1_lst)))\n",
        "  new_feats = feats + ['Target'] + ['Prediction']\n",
        "  rule_df = pd.DataFrame(np.asarray(rule1_lst), columns = new_feats)\n",
        "\n",
        "  acc_rule = sklearn.metrics.accuracy_score(rule_df['Target'], rule_df['Prediction'])\n",
        "  print(\"Percentage of datapoints satisfying the rule classified correctly: \" + str(acc_rule*100) + \"%\")\n",
        "\n",
        "rule_specific_data(X_test, y_test, pred)"
      ],
      "execution_count": null,
      "outputs": [
        {
          "output_type": "stream",
          "text": [
            "['FixationDuration', 'FixationSeq', 'FixationStart', 'FixationX', 'FixationY', 'GazeDirectionLeftZ', 'GazeDirectionRightZ', 'PupilLeft', 'PupilRight', 'InterpolatedGazeX', 'InterpolatedGazeY', 'AutoThrottle', 'AutoWheel', 'CurrentThrottle', 'CurrentWheel', 'Distance3D', 'MPH', 'ManualBrake', 'ManualThrottle', 'ManualWheel', 'RangeW', 'RightLaneDist', 'RightLaneType', 'LeftLaneDist', 'LeftLaneType']\n",
            "Number of datapoints satisfying the rule: 741\n",
            "Percentage of datapoints satisfying the rule classified correctly: 100.0%\n"
          ],
          "name": "stdout"
        }
      ]
    },
    {
      "cell_type": "markdown",
      "metadata": {
        "id": "O3ZIQT9S0jwv"
      },
      "source": [
        "ManualWheel <= 0.307 & FixationStart <= -1.677 & MPH <= -1.34 & FixationSequence > -1.704 : class = TOT_med_slow"
      ]
    },
    {
      "cell_type": "code",
      "metadata": {
        "colab": {
          "base_uri": "https://localhost:8080/"
        },
        "id": "ZTIFoNkV0f0q",
        "outputId": "1a33b3ec-a326-4126-90f1-3b4c8b5fc4da"
      },
      "source": [
        "def rule_specific_data(X_test, y_test, pred):\n",
        "\n",
        "  feats = list(X_test.columns)\n",
        "  print(feats)\n",
        "  test_x_arr = np.asarray(X_test)\n",
        "  test_y_arr = np.asarray(y_test)\n",
        "  pred = np.asarray(pred)\n",
        "\n",
        "\n",
        "  rule1_lst = []\n",
        "  for dpoint in range(len(X_test)):\n",
        "      tmp1_lst = []    \n",
        "      if (X_test.iloc[dpoint, feats.index('ManualWheel')] <= 0.307) and (X_test.iloc[dpoint, feats.index('FixationStart')] <= -1.677) and (X_test.iloc[dpoint, feats.index('MPH')] <= -1.34) and (X_test.iloc[dpoint, feats.index('FixationSeq')] > -1.704):\n",
        "        tmp1_lst.extend(test_x_arr[dpoint])\n",
        "        tmp1_lst.extend(test_y_arr[dpoint])\n",
        "        tmp1_lst.append('TOT_med_slow')\n",
        "        rule1_lst.append(tmp1_lst)\n",
        "  print(\"Number of datapoints satisfying the rule: \" + str(len(rule1_lst)))\n",
        "  new_feats = feats + ['Target'] + ['Prediction']\n",
        "  rule_df = pd.DataFrame(np.asarray(rule1_lst), columns = new_feats)\n",
        "\n",
        "  acc_rule = sklearn.metrics.accuracy_score(rule_df['Target'], rule_df['Prediction'])\n",
        "  print(\"Percentage of datapoints satisfying the rule classified correctly: \" + str(acc_rule*100) + \"%\")\n",
        "\n",
        "rule_specific_data(X_test, y_test, pred)"
      ],
      "execution_count": null,
      "outputs": [
        {
          "output_type": "stream",
          "text": [
            "['FixationDuration', 'FixationSeq', 'FixationStart', 'FixationX', 'FixationY', 'GazeDirectionLeftZ', 'GazeDirectionRightZ', 'PupilLeft', 'PupilRight', 'InterpolatedGazeX', 'InterpolatedGazeY', 'AutoThrottle', 'AutoWheel', 'CurrentThrottle', 'CurrentWheel', 'Distance3D', 'MPH', 'ManualBrake', 'ManualThrottle', 'ManualWheel', 'RangeW', 'RightLaneDist', 'RightLaneType', 'LeftLaneDist', 'LeftLaneType']\n",
            "Number of datapoints satisfying the rule: 553\n",
            "Percentage of datapoints satisfying the rule classified correctly: 100.0%\n"
          ],
          "name": "stdout"
        }
      ]
    },
    {
      "cell_type": "code",
      "metadata": {
        "colab": {
          "base_uri": "https://localhost:8080/"
        },
        "id": "8p56etor1LO_",
        "outputId": "9f2997b3-e7b2-47ea-904e-ba61a6f18403"
      },
      "source": [
        "def rule_specific_data(X_test, y_test, pred):\n",
        "\n",
        "  feats = list(X_test.columns)\n",
        "  print(feats)\n",
        "  test_x_arr = np.asarray(X_test)\n",
        "  test_y_arr = np.asarray(y_test)\n",
        "  pred = np.asarray(pred)\n",
        "\n",
        "\n",
        "  rule1_lst = []\n",
        "  for dpoint in range(len(X_test)):\n",
        "      tmp1_lst = []    \n",
        "      if (X_test.iloc[dpoint, feats.index('ManualWheel')] <= 0.307) and (X_test.iloc[dpoint, feats.index('FixationStart')] <= -1.677) and (X_test.iloc[dpoint, feats.index('MPH')] <= -1.34):\n",
        "        tmp1_lst.extend(test_x_arr[dpoint])\n",
        "        tmp1_lst.extend(test_y_arr[dpoint])\n",
        "        tmp1_lst.append('TOT_med')\n",
        "        rule1_lst.append(tmp1_lst)\n",
        "  print(\"Number of datapoints satisfying the rule: \" + str(len(rule1_lst)))\n",
        "  new_feats = feats + ['Target'] + ['Prediction']\n",
        "  rule_df = pd.DataFrame(np.asarray(rule1_lst), columns = new_feats)\n",
        "\n",
        "  acc_rule = sklearn.metrics.accuracy_score(rule_df['Target'], rule_df['Prediction'])\n",
        "  print(\"Percentage of datapoints satisfying the rule classified correctly: \" + str(acc_rule*100) + \"%\")\n",
        "\n",
        "rule_specific_data(X_test, y_test, pred)"
      ],
      "execution_count": null,
      "outputs": [
        {
          "output_type": "stream",
          "text": [
            "['FixationDuration', 'FixationSeq', 'FixationStart', 'FixationX', 'FixationY', 'GazeDirectionLeftZ', 'GazeDirectionRightZ', 'PupilLeft', 'PupilRight', 'InterpolatedGazeX', 'InterpolatedGazeY', 'AutoThrottle', 'AutoWheel', 'CurrentThrottle', 'CurrentWheel', 'Distance3D', 'MPH', 'ManualBrake', 'ManualThrottle', 'ManualWheel', 'RangeW', 'RightLaneDist', 'RightLaneType', 'LeftLaneDist', 'LeftLaneType']\n",
            "Number of datapoints satisfying the rule: 1863\n",
            "Percentage of datapoints satisfying the rule classified correctly: 39.77455716586151%\n"
          ],
          "name": "stdout"
        }
      ]
    },
    {
      "cell_type": "markdown",
      "metadata": {
        "id": "5EPxqI6YweHG"
      },
      "source": [
        "**Print decision tree rules**"
      ]
    },
    {
      "cell_type": "code",
      "metadata": {
        "id": "d-HsAUjh3TlG"
      },
      "source": [
        "import pickle, warnings\n",
        "import numpy as np\n",
        "from sklearn.tree import _tree\n",
        "\n",
        "warnings.filterwarnings(action='ignore', category=UserWarning)\n",
        "\n",
        "# list of features (x0-x24)\n",
        "features = ('FixationDuration', 'FixationSeq', 'FixationStart', 'FixationX', 'FixationY', 'GazeDirectionLeftZ', 'GazeDirectionRightZ', 'PupilLeft', 'PupilRight', 'InterpolatedGazeX', 'InterpolatedGazeY', 'AutoThrottle', 'AutoWheel', 'CurrentThrottle', 'CurrentWheel', 'Distance3D', 'MPH', 'ManualBrake', 'ManualThrottle', 'ManualWheel', 'RangeW', 'RightLaneDist', 'RightLaneType', 'LeftLaneDist', 'LeftLaneType')\n",
        "\n",
        "# v3.2.2 scaler object (copied from scad_tot project)\n",
        "scaler = pickle.load(open('./scaler.pkl', 'rb'))\n",
        "\n",
        "# function used to convert scaled value to original\n",
        "def convert(field_name, scaled_value):\n",
        "    assert field_name in features, 'field does not exist in features list'\n",
        "    index = features.index(field_name)\n",
        "    dummy_x = np.zeros(len(features))\n",
        "    dummy_x[index] = scaled_value\n",
        "    return scaler.inverse_transform(dummy_x)[index]\n",
        "\n",
        "\n",
        "def tree_to_code(tree, feature_names, mode = 'scaled'):\n",
        "    labels_data = ['TOT_fast', 'TOT_med_fast', 'TOT_med', 'TOT_med_slow', 'TOT_slow']\n",
        "    tree_ = tree.tree_\n",
        "    feature_name = [\n",
        "        feature_names[i] if i != _tree.TREE_UNDEFINED else \"undefined!\"\n",
        "        for i in tree_.feature\n",
        "    ]\n",
        "    print(\"def tree({}):\".format(\", \".join(feature_names)))\n",
        "  \n",
        "    def recurse(node, depth):\n",
        "        indent = \"  \" * depth\n",
        "        if tree_.feature[node] != _tree.TREE_UNDEFINED:\n",
        "            name = feature_name[node]\n",
        "\n",
        "            if mode == 'scaled':\n",
        "              threshold = tree_.threshold[node]\n",
        "              new_threshold = threshold\n",
        "            elif mode == 'non_scaled':\n",
        "              threshold = tree_.threshold[node]\n",
        "              new_threshold = convert(name, threshold)\n",
        "            else:\n",
        "              print(\"Mode not defined\")\n",
        "            \n",
        "            print(\"{}{} --- {} <= {}: \\n\".format(indent, indent, name, new_threshold))\n",
        "            recurse(tree_.children_left[node], depth + 1)\n",
        "            print(\"{}{} --- {} > {} \\n\".format(indent, indent, name, threshold))\n",
        "            recurse(tree_.children_right[node], depth + 1)\n",
        "        \n",
        "        else:\n",
        "            val = list(tree_.value[node][0])\n",
        "            class_idx = val.index(max(val))\n",
        "            class_name = labels_data[class_idx]\n",
        "            print(\"{}{} Class = {} \\n\".format(indent, indent, class_name))\n",
        "\n",
        "    recurse(0, 1)"
      ],
      "execution_count": null,
      "outputs": []
    },
    {
      "cell_type": "code",
      "metadata": {
        "id": "sgjZft9AgHEB"
      },
      "source": [
        "# If scaled valued rules: mode = 'scaled'\n",
        "# If non-scaled (raw) valued rules: mode = 'non-scaled'\n",
        "tree_to_code(clf, X_train.columns, mode = 'scaled')"
      ],
      "execution_count": null,
      "outputs": []
    },
    {
      "cell_type": "markdown",
      "metadata": {
        "id": "l7tvRZfK1zX3"
      },
      "source": [
        "**Random Forests - Feature importance**"
      ]
    },
    {
      "cell_type": "code",
      "metadata": {
        "id": "h0wqp4hgwPvM"
      },
      "source": [
        "from sklearn.ensemble import ExtraTreesClassifier\n",
        "import matplotlib.pyplot as plt"
      ],
      "execution_count": null,
      "outputs": []
    },
    {
      "cell_type": "code",
      "metadata": {
        "id": "fTomopn7xQhN"
      },
      "source": [
        "model = ExtraTreesClassifier()\n",
        "model.fit(X,y)"
      ],
      "execution_count": null,
      "outputs": []
    },
    {
      "cell_type": "code",
      "metadata": {
        "id": "rj5VGsq6xUcV"
      },
      "source": [
        "print(model.feature_importances_)"
      ],
      "execution_count": null,
      "outputs": []
    },
    {
      "cell_type": "code",
      "metadata": {
        "colab": {
          "base_uri": "https://localhost:8080/",
          "height": 265
        },
        "id": "IfwTSQ7UxVE1",
        "outputId": "04695896-d207-4eea-e8a6-108f10fbd836"
      },
      "source": [
        "feat_importances = pd.Series(model.feature_importances_, index=x.columns)\n",
        "feat_importances.nlargest(10).plot(kind='barh')\n",
        "plt.show()"
      ],
      "execution_count": null,
      "outputs": [
        {
          "output_type": "display_data",
          "data": {
            "image/png": "[encoded data removed]",
            "text/plain": [
              "<Figure size 432x288 with 1 Axes>"
            ]
          },
          "metadata": {
            "tags": [],
            "needs_background": "light"
          }
        }
      ]
    }
  ]
}