{
 "cells": [
  {
   "cell_type": "markdown",
   "metadata": {},
   "source": [
    "## Load Verification Dataset"
   ]
  },
  {
   "cell_type": "code",
   "execution_count": null,
   "metadata": {
    "tags": []
   },
   "outputs": [],
   "source": [
    "from clustering import LabelGuidedKMeansUtils\n",
    "\n",
    "n_outputs = 5\n",
    "verification_csv = '../data/latest/verification.csv'\n",
    "X_orig, Y_orig = LabelGuidedKMeansUtils.load_dataset(verification_csv, n_outputs)"
   ]
  },
  {
   "cell_type": "code",
   "execution_count": null,
   "metadata": {
    "tags": []
   },
   "outputs": [],
   "source": [
    "X, Y = X_orig.copy(), Y_orig.copy()\n",
    "X, Y = LabelGuidedKMeansUtils.remove_outliers(X, Y, 10)\n",
    "\n",
    "print(f'dropped {X_orig.shape[0] - X.shape[0]} outliers from {X_orig.shape[0]} inputs')\n",
    "X.shape, Y.shape"
   ]
  },
  {
   "cell_type": "markdown",
   "metadata": {},
   "source": [
    "## Generate Label Guided K-Means Regions"
   ]
  },
  {
   "cell_type": "code",
   "execution_count": null,
   "metadata": {
    "tags": []
   },
   "outputs": [],
   "source": [
    "from clustering import LabelGuidedKMeans, LabelGuidedKMeansUtils\n",
    "\n",
    "lgkmc = LabelGuidedKMeans().fit(X, Y, init_centroid='rand') # rand, first, none"
   ]
  },
  {
   "cell_type": "code",
   "execution_count": null,
   "metadata": {
    "tags": []
   },
   "outputs": [],
   "source": [
    "LabelGuidedKMeansUtils.print_summary(lgkmc)"
   ]
  },
  {
   "cell_type": "code",
   "execution_count": null,
   "metadata": {
    "tags": []
   },
   "outputs": [],
   "source": [
    "# save regions\n",
    "LabelGuidedKMeansUtils.save(lgkmc, outpath='../logs/test/test_regions/lgkm.p')"
   ]
  },
  {
   "cell_type": "markdown",
   "metadata": {},
   "source": [
    "## Verify Regions"
   ]
  },
  {
   "cell_type": "code",
   "execution_count": null,
   "metadata": {
    "tags": []
   },
   "outputs": [],
   "source": [
    "import os\n",
    "from clustering import LabelGuidedKMeansUtils\n",
    "from robustness import verify_regions, save_verified_regions\n",
    "\n",
    "# load the regions\n",
    "lgkmc = LabelGuidedKMeansUtils.load('../logs/test/test_regions/lgkm.p')\n",
    "regions = lgkmc.get_regions(sort=True)\n",
    "categories = lgkmc.categories\n",
    "n_categories = lgkmc.n_categories"
   ]
  },
  {
   "cell_type": "code",
   "execution_count": null,
   "metadata": {
    "tags": []
   },
   "outputs": [],
   "source": [
    "nnet_path = '../network/models/latest/model.nnet'\n",
    "\n",
    "vregions = verify_regions(nnet_path, regions, n_categories, eprec=0.0001, rpad=10, verbose=1, timeout=10)\n",
    "    save_verified_regions(vregions, outdir=f'../logs/region_robustness_cexs/chunk_{chunk_number}')"
   ]
  }
 ],
 "metadata": {
  "language_info": {
   "codemirror_mode": {
    "name": "ipython",
    "version": 3
   },
   "file_extension": ".py",
   "mimetype": "text/x-python",
   "name": "python",
   "nbconvert_exporter": "python",
   "pygments_lexer": "ipython3",
   "version": "3.7.7-final"
  },
  "orig_nbformat": 2,
  "kernelspec": {
   "name": "python37764bitvenvvenv2f570c7c66434947b458a57674f581a2",
   "display_name": "Python 3.7.7 64-bit ('venv': venv)"
  }
 },
 "nbformat": 4,
 "nbformat_minor": 2
}