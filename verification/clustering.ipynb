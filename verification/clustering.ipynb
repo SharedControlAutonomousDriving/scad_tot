{
 "cells": [
  {
   "cell_type": "markdown",
   "metadata": {},
   "source": [
    "## Load Verification Dataset"
   ]
  },
  {
   "cell_type": "code",
   "execution_count": null,
   "metadata": {
    "tags": []
   },
   "outputs": [],
   "source": [
    "from clustering import LabelGuidedKMeansUtils\n",
    "from importlib import reload\n",
    "import clustering\n",
    "import pandas as pd\n",
    "import numpy as np\n",
    "import matplotlib.pyplot as plt\n",
    "import pickle"
   ]
  },
  {
   "cell_type": "code",
   "execution_count": null,
   "metadata": {},
   "outputs": [],
   "source": [
    "n_outputs = 5\n",
    "verification_csv = '../data/v3.2.2_train.csv'\n",
    "X_orig, Y_orig = LabelGuidedKMeansUtils.load_dataset(verification_csv, n_outputs)"
   ]
  },
  {
   "cell_type": "code",
   "execution_count": null,
   "metadata": {},
   "outputs": [],
   "source": [
    "df = pd.read_csv(verification_csv)\n",
    "df.head(5)"
   ]
  },
  {
   "cell_type": "code",
   "execution_count": null,
   "metadata": {
    "tags": []
   },
   "outputs": [],
   "source": [
    "X, Y = X_orig.copy(), Y_orig.copy()\n",
    "X, Y = LabelGuidedKMeansUtils.remove_outliers(X, Y,tolerance= 10)\n",
    "\n",
    "print(f'dropped {X_orig.shape[0] - X.shape[0]} outliers from {X_orig.shape[0]} inputs')\n",
    "X.shape, Y.shape"
   ]
  },
  {
   "cell_type": "markdown",
   "metadata": {},
   "source": [
    "## Generate Label Guided K-Means Regions"
   ]
  },
  {
   "cell_type": "code",
   "execution_count": null,
   "metadata": {},
   "outputs": [],
   "source": [
    "num_iters = 3"
   ]
  },
  {
   "cell_type": "code",
   "execution_count": null,
   "metadata": {
    "tags": []
   },
   "outputs": [],
   "source": [
    "from clustering import LabelGuidedKMeans, LabelGuidedKMeansUtils\n",
    "\n",
    "init = 150  #Initial number of clusters for k-means. Verified experimentally through elbow method.\n",
    "\n",
    "for iters in range(num_iters):\n",
    "    \n",
    "    #init_centroid dictates the mechanism which the algorithm should follow for initial centroid generation.\n",
    "    #The options are 'rand','mean','first','k-means++'. Check clustering.py for further details.\n",
    "    \n",
    "    lgkmc = LabelGuidedKMeans().fit(X, Y,init_nclusters = init, init_centroid='mean')\n",
    "    \n",
    "    LabelGuidedKMeansUtils.print_summary(lgkmc)\n",
    "    \n",
    "    init = None\n"
   ]
  },
  {
   "cell_type": "code",
   "execution_count": null,
   "metadata": {},
   "outputs": [],
   "source": [
    "# # Data from the printed observation for visualization\n",
    "# # reg = [['n == 1','n > 1','n >= 10','n >= 100','n >= 1000'], [5917,15175,5512,557,2]]\n",
    "# # no_cen = [9147,18612,6034,445,1]\n",
    "# # mean_weighted_k = [9064,18455,6027,455,3]\n",
    "# x = np.arange(len(reg[0]))\n",
    "# width = 0.2\n",
    "# fig, ax = plt.subplots(figsize=(10,12))\n",
    "# plt.yscale('log')\n",
    "# rects1 = ax.bar(x-width, reg[1],width,label = 'Mean Centroid Initialization')\n",
    "# rects2 = ax.bar(x, no_cen,width,label = 'Unmodified Label Guided K-means')\n",
    "# rects3 = ax.bar(x+width, mean_weighted_k,width,label = 'Mean Aggregated weighted K-means')\n",
    "\n",
    "# ax.set_ylabel('Number of regions')\n",
    "# ax.set_title('Clustering results')\n",
    "# ax.set_xticks(x)\n",
    "# ax.set_xticklabels(reg[0])\n",
    "# ax.legend()\n",
    "\n",
    "# def autolabel(rects):\n",
    "#     \"\"\"Attach a text label above each bar in *rects*, displaying its height.\"\"\"\n",
    "#     for rect in rects:\n",
    "#         height = rect.get_height()\n",
    "#         ax.annotate('{}'.format(height),\n",
    "#                     xy=(rect.get_x() + rect.get_width() / 3, height),\n",
    "#                     xytext=(0, 3),  # 3 points vertical offset\n",
    "#                     textcoords=\"offset points\",\n",
    "#                     ha='center', va='bottom',rotation = 'vertical')\n",
    "\n",
    "# autolabel(rects1)\n",
    "# autolabel(rects2)\n",
    "# autolabel(rects3)\n",
    "\n",
    "# plt.show()"
   ]
  },
  {
   "cell_type": "code",
   "execution_count": null,
   "metadata": {},
   "outputs": [],
   "source": [
    "#Run this cell to be able to execute any changes made in clustering.py without having to restart the kernel.\n",
    "reload(clustering)\n",
    "LabelGuidedKMeans = clustering.LabelGuidedKMeans\n",
    "LabelGuidedKMeansUtils = clustering.LabelGuidedKMeansUtils"
   ]
  },
  {
   "cell_type": "code",
   "execution_count": null,
   "metadata": {
    "tags": []
   },
   "outputs": [],
   "source": [
    "# save regions\n",
    "LabelGuidedKMeansUtils.save(lgkmc, outpath='../logs/test/test_regions/lgkm.p')"
   ]
  },
  {
   "cell_type": "markdown",
   "metadata": {},
   "source": [
    "## Verify Regions"
   ]
  },
  {
   "cell_type": "code",
   "execution_count": null,
   "metadata": {},
   "outputs": [],
   "source": [
    "import os\n",
    "from clustering import LabelGuidedKMeansUtils\n",
    "\n",
    "# load the regions\n",
    "lgkmc = LabelGuidedKMeansUtils.load('../logs/test/test_regions/lgkm.p')\n",
    "# lgkmc = LabelGuidedKMeansUtils.load('/home/sai/Desktop/Marabou/scad_tot/verification/lgkmc.p')\n",
    "regions = lgkmc.get_regions(sort=True)"
   ]
  },
  {
   "cell_type": "code",
   "execution_count": null,
   "metadata": {},
   "outputs": [],
   "source": [
    "import os, sys\n",
    "sys.path.append(os.path.abspath('../.marabou'))\n",
    "from verification.utils import remove_softmax_activation\n",
    "from verification.robustness import verify_regions\n",
    "from verification.tot_net import AllowedMisclassifications\n",
    "\n",
    "# Create verification model without softmax layer\n",
    "model_path = '../network/models/latest/model-verification'\n",
    "remove_softmax_activation('../network/models/latest/model.h5', save_path=model_path)\n",
    "\n",
    "# verify the regions (they will be automatically saved to out_dir)\n",
    "# note: you'll need the Gurobi Optimizer installed (https://github.com/NeuralNetworkVerification/Marabou#use-lp-relaxation)\n",
    "\n",
    "out_dir = './results/cluster_verification/'\n",
    "regions = verify_regions(\n",
    "    network_path=model_path,\n",
    "    network_version=1,\n",
    "    network_options=dict(modelType='savedModel_v2'),\n",
    "    marabou_options=dict(solveWithMILP=True, milpTightening='none'),\n",
    "    regions=regions,\n",
    "    e_min=0.0001,\n",
    "    e_max=10.0,\n",
    "    e_interval=0.00001,\n",
    "    radius_padding=0,\n",
    "    timeout=0,\n",
    "    # marabou_verbosity=0,\n",
    "    allowed_misclassifications=None,\n",
    "    out_dir=out_dir\n",
    "    )"
   ]
  },
  {
   "cell_type": "code",
   "execution_count": null,
   "metadata": {},
   "outputs": [],
   "source": []
  }
 ],
 "metadata": {
  "kernelspec": {
   "display_name": "Python 3",
   "language": "python",
   "name": "python3"
  },
  "language_info": {
   "codemirror_mode": {
    "name": "ipython",
    "version": 3
   },
   "file_extension": ".py",
   "mimetype": "text/x-python",
   "name": "python",
   "nbconvert_exporter": "python",
   "pygments_lexer": "ipython3",
   "version": "3.8.7-final"
  }
 },
 "nbformat": 4,
 "nbformat_minor": 2
}