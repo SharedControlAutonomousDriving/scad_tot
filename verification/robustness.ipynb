{
 "metadata": {
  "language_info": {
   "codemirror_mode": {
    "name": "ipython",
    "version": 3
   },
   "file_extension": ".py",
   "mimetype": "text/x-python",
   "name": "python",
   "nbconvert_exporter": "python",
   "pygments_lexer": "ipython3",
   "version": "3.8.7-final"
  },
  "orig_nbformat": 2,
  "kernelspec": {
   "name": "python3",
   "display_name": "Python 3.8.7 64-bit ('venv')",
   "metadata": {
    "interpreter": {
     "hash": "9ddd6d5ba3578effbb8559ddbe623e8e531c76ce875d1957098e67566a625ffe"
    }
   }
  }
 },
 "nbformat": 4,
 "nbformat_minor": 2,
 "cells": [
  {
   "cell_type": "code",
   "execution_count": 2,
   "metadata": {},
   "outputs": [
    {
     "output_type": "stream",
     "name": "stdout",
     "text": [
      "INFO:tensorflow:Assets written to: ../network/models/latest/model-verification/assets\n"
     ]
    },
    {
     "output_type": "execute_result",
     "data": {
      "text/plain": [
       "<tensorflow.python.keras.engine.sequential.Sequential at 0x167b01e50>"
      ]
     },
     "metadata": {},
     "execution_count": 2
    }
   ],
   "source": [
    "import os, sys\n",
    "sys.path.append(os.path.abspath('../.marabou'))\n",
    "from verification.utils import remove_softmax_activation\n",
    "\n",
    "# Create verification model without softmax layer\n",
    "model_path = '../network/models/latest/model-verification'\n",
    "remove_softmax_activation('../network/models/latest/model.h5', save_path=model_path)"
   ]
  },
  {
   "cell_type": "code",
   "execution_count": 1,
   "metadata": {},
   "outputs": [
    {
     "output_type": "stream",
     "name": "stdout",
     "text": [
      "WARNING:tensorflow:From /Users/grese/Projects/CMU/AutonomousDriving/scad_tot/venv/lib/python3.8/site-packages/tensorflow/python/compat/v2_compat.py:96: disable_resource_variables (from tensorflow.python.ops.variable_scope) is deprecated and will be removed in a future version.\n",
      "Instructions for updating:\n",
      "non-resource variables are not supported in the long term\n",
      "s0, class:4, pred:1, epsilon:0.02801513671875 (1946 ms)\n",
      "s1, class:0, pred:3, epsilon:0.04638671875 (1256 ms)\n",
      "s2, class:4, pred:0, epsilon:0.00189208984375 (888 ms)\n",
      "s3, class:3, pred:4, epsilon:0.01165771484375 (995 ms)\n",
      "s4, class:3, pred:1, epsilon:0.0528564453125 (717 ms)\n",
      "s5, class:2, pred:1, epsilon:0.0308837890625 (833 ms)\n",
      "s6, class:2, pred:3, epsilon:0.01690673828125 (875 ms)\n",
      "s7, class:0, pred:3, epsilon:0.04913330078125 (3164 ms)\n",
      "s8, class:2, pred:3, epsilon:0.0380859375 (1620 ms)\n",
      "s9, class:0, pred:2, epsilon:0.0115966796875 (1007 ms)\n",
      "completed analysis of 10 samples in 13 seconds\n"
     ]
    },
    {
     "output_type": "execute_result",
     "data": {
      "text/plain": [
       "<robustness.LocalRobustness at 0x10751cac0>"
      ]
     },
     "metadata": {},
     "execution_count": 1
    }
   ],
   "source": [
    "import pickle\n",
    "import numpy as np\n",
    "import pandas as pd\n",
    "from robustness import LocalRobustness\n",
    "\n",
    "# model_path = '../network/models/latest/model.nnet'\n",
    "out_dir = '../logs'\n",
    "results_outpath = os.path.join(out_dir, 'results.csv')\n",
    "counterexamples_outpath = os.path.join(out_dir, 'counterexamples.p')\n",
    "n = 100\n",
    "X, Y = pickle.load(open('../data/latest_new/verification.p', 'rb'))\n",
    "X, Y = X[0:n], Y[0:n]\n",
    "\n",
    "lr = LocalRobustness(\n",
    "    network_path=model_path,\n",
    "    network_version=1,\n",
    "    network_options=dict(modelType='savedModel_v2'),\n",
    "    marabou_options=dict(solveWithMILP=True, milpTightening='none'),\n",
    "    X=X,\n",
    "    Y=Y,\n",
    "    e_min=0.0,\n",
    "    e_max=1.0,\n",
    "    e_interval=0.0001,\n",
    "    timeout=0,\n",
    "    verbosity=1\n",
    "    )\n",
    "lr.analyze(\n",
    "    results_outpath=results_outpath,\n",
    "    counterexamples_outpath=counterexamples_outpath\n",
    "    )"
   ]
  },
  {
   "cell_type": "code",
   "execution_count": 2,
   "metadata": {},
   "outputs": [],
   "source": [
    "lr.results"
   ]
  }
 ]
}