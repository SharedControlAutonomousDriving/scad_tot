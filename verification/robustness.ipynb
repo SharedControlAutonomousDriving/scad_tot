{
 "metadata": {
  "language_info": {
   "codemirror_mode": {
    "name": "ipython",
    "version": 3
   },
   "file_extension": ".py",
   "mimetype": "text/x-python",
   "name": "python",
   "nbconvert_exporter": "python",
   "pygments_lexer": "ipython3",
   "version": "3.8.7-final"
  },
  "orig_nbformat": 2,
  "kernelspec": {
   "name": "python3",
   "display_name": "Python 3.8.7 64-bit ('venv')",
   "metadata": {
    "interpreter": {
     "hash": "9ddd6d5ba3578effbb8559ddbe623e8e531c76ce875d1957098e67566a625ffe"
    }
   }
  }
 },
 "nbformat": 4,
 "nbformat_minor": 2,
 "cells": [
  {
   "cell_type": "code",
   "execution_count": 2,
   "metadata": {},
   "outputs": [
    {
     "output_type": "stream",
     "name": "stdout",
     "text": [
      "INFO:tensorflow:Assets written to: ../network/models/latest/model-verification/assets\n"
     ]
    },
    {
     "output_type": "execute_result",
     "data": {
      "text/plain": [
       "<tensorflow.python.keras.engine.sequential.Sequential at 0x167b01e50>"
      ]
     },
     "metadata": {},
     "execution_count": 2
    }
   ],
   "source": [
    "from verification.utils import remove_softmax_activation\n",
    "\n",
    "model_path = '../network/models/latest/model-verification'\n",
    "remove_softmax_activation('../network/models/latest/model.h5', save_path=model_path)\n"
   ]
  },
  {
   "cell_type": "code",
   "execution_count": 1,
   "metadata": {},
   "outputs": [
    {
     "output_type": "stream",
     "name": "stdout",
     "text": [
      "WARNING:tensorflow:From /Users/grese/Projects/CMU/AutonomousDriving/scad_tot/venv/lib/python3.8/site-packages/tensorflow/python/compat/v2_compat.py:96: disable_resource_variables (from tensorflow.python.ops.variable_scope) is deprecated and will be removed in a future version.\n",
      "Instructions for updating:\n",
      "non-resource variables are not supported in the long term\n",
      "s0, class:4, pred:1, epsilon:0.02105712890625 (1474 ms)\n",
      "s1, class:0, pred:3, epsilon:0.0367431640625 (1212 ms)\n",
      "s2, class:4, pred:0, epsilon:0.00164794921875 (721 ms)\n",
      "s3, class:3, pred:4, epsilon:0.0108642578125 (1172 ms)\n",
      "s4, class:3, pred:1, epsilon:0.04534912109375 (788 ms)\n",
      "s5, class:2, pred:3, epsilon:0.02484130859375 (923 ms)\n",
      "s6, class:2, pred:3, epsilon:0.0162353515625 (762 ms)\n",
      "s7, class:0, pred:3, epsilon:0.04156494140625 (3203 ms)\n",
      "s8, class:2, pred:3, epsilon:0.0362548828125 (1679 ms)\n",
      "s9, class:0, pred:2, epsilon:0.01068115234375 (853 ms)\n",
      "completed analysis of 10 samples in 12 seconds\n"
     ]
    },
    {
     "output_type": "execute_result",
     "data": {
      "text/plain": [
       "<robustness.LocalRobustness at 0x117c4b8e0>"
      ]
     },
     "metadata": {},
     "execution_count": 1
    }
   ],
   "source": [
    "# import os, sys\n",
    "# sys.path.remove(os.path.abspath('../verification'))\n",
    "# sys.path.append(os.path.abspath('../.marabou'))\n",
    "import pickle\n",
    "import numpy as np\n",
    "import pandas as pd\n",
    "from robustness import LocalRobustness\n",
    "\n",
    "model_path = '../network/models/latest/model.nnet'\n",
    "out_dir = '../logs'\n",
    "results_outpath = os.path.join(out_dir, 'results.csv')\n",
    "counterexamples_outpath = os.path.join(out_dir, 'counterexamples.p')\n",
    "n = 10\n",
    "X, Y = pickle.load(open('../data/latest_new/verification.p', 'rb'))\n",
    "X, Y = X[0:n], Y[0:n]\n",
    "\n",
    "lr = LocalRobustness(\n",
    "    network_path=model_path,\n",
    "    network_options=dict(),\n",
    "    marabou_options=dict(solveWithMILP=True, milpTightening='none'),\n",
    "    X=X,\n",
    "    Y=Y,\n",
    "    e_min=0.0,\n",
    "    e_max=1.0,\n",
    "    e_interval=0.0001,\n",
    "    timeout=0,\n",
    "    verbosity=1\n",
    "    )\n",
    "lr.analyze(\n",
    "    results_outpath=results_outpath,\n",
    "    counterexamples_outpath=counterexamples_outpath\n",
    "    )\n",
    "\n",
    "# s0, class:4, pred:1, epsilon:0.02105712890625 (1472 ms)\n",
    "# s1, class:0, pred:3, epsilon:0.0367431640625 (1234 ms)\n",
    "# s2, class:4, pred:0, epsilon:0.00164794921875 (665 ms)\n",
    "# s3, class:3, pred:4, epsilon:0.0108642578125 (1053 ms)\n",
    "# s4, class:3, pred:1, epsilon:0.04534912109375 (710 ms)\n",
    "# s5, class:2, pred:3, epsilon:0.02484130859375 (844 ms)\n",
    "# s6, class:2, pred:3, epsilon:0.0162353515625 (713 ms)\n",
    "# s7, class:0, pred:3, epsilon:0.04156494140625 (2885 ms)\n",
    "# s8, class:2, pred:3, epsilon:0.0362548828125 (1548 ms)\n",
    "# s9, class:0, pred:2, epsilon:0.01068115234375 (803 ms)"
   ]
  },
  {
   "cell_type": "code",
   "execution_count": null,
   "metadata": {},
   "outputs": [],
   "source": []
  },
  {
   "cell_type": "code",
   "execution_count": null,
   "metadata": {},
   "outputs": [],
   "source": [
    "lr.results"
   ]
  },
  {
   "cell_type": "code",
   "execution_count": 8,
   "metadata": {},
   "outputs": [],
   "source": [
    "# import pickle\n",
    "# import pandas as pd\n",
    "# from verification.tot_net import TOTUtils\n",
    "\n",
    "# feature_names = ('FixationDuration', 'FixationSeq', 'FixationStart', 'FixationX', \n",
    "#                  'FixationY', 'GazeDirectionLeftZ', 'GazeDirectionRightZ', 'PupilLeft', \n",
    "#                  'PupilRight', 'InterpolatedGazeX', 'InterpolatedGazeY', 'AutoThrottle', \n",
    "#                  'AutoWheel', 'CurrentThrottle', 'CurrentWheel', 'Distance3D', 'MPH', \n",
    "#                  'ManualBrake', 'ManualThrottle', 'ManualWheel', 'RangeW', 'RightLaneDist', \n",
    "#                  'RightLaneType', 'LeftLaneDist', 'LeftLaneType')\n",
    "# label_names = ('fast', 'med_fast', 'med', 'med_slow', 'slow')\n",
    "\n",
    "# train = pd.read_csv('../data/latest/train.csv', index_col=0)\n",
    "# test = pd.read_csv('../data/latest/test.csv', index_col=0)\n",
    "\n",
    "# output_cols = [f'TOT_{c}' for c in label_names]\n",
    "# X_train, Y_train = train.drop(output_cols, axis=1).to_numpy(), train[output_cols].to_numpy()\n",
    "# X_test, Y_test = test.drop(output_cols, axis=1).to_numpy(), test[output_cols].to_numpy()\n",
    "\n",
    "# pickle.dump(X_train, open('../data/latest_new/X_train.p', 'wb'))\n",
    "# pickle.dump(Y_train, open('../data/latest_new/Y_train.p', 'wb'))\n",
    "# pickle.dump(X_test, open('../data/latest_new/X_test.p', 'wb'))\n",
    "# pickle.dump(Y_test, open('../data/latest_new/Y_test.p', 'wb'))\n",
    "# pickle.dump((X_train, Y_train), open('../data/latest_new/train.p', 'wb'))\n",
    "# pickle.dump((X_test, Y_test), open('../data/latest_new/test.p', 'wb'))\n",
    "# pickle.dump(feature_names, open('../data/latest_new/features.p', 'wb'))\n",
    "# pickle.dump(label_names, open('../data/latest_new/labels.p', 'wb'))\n",
    "\n",
    "# X_correct, Y_correct = TOTUtils.filter_incorrect_samples(model_path, X_test, Y_test, network_options=dict(modelType='savedModel_v2'))\n",
    "# pickle.dump((X_correct, Y_correct), open('../data/latest_new/verification.p', 'wb'))"
   ]
  }
 ]
}