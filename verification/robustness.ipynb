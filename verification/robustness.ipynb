{
 "cells": [
  {
   "cell_type": "markdown",
   "metadata": {},
   "source": [
    "## Load Data Samples"
   ]
  },
  {
   "cell_type": "code",
   "execution_count": 1,
   "metadata": {},
   "outputs": [],
   "source": [
    "from utils import TOTUtils\n",
    "\n",
    "samples = TOTUtils.load_samples('../data/latest/verification.csv', frac=0.02)"
   ]
  },
  {
   "cell_type": "markdown",
   "metadata": {},
   "source": [
    "## Run Symmetric Local Robustness Tests"
   ]
  },
  {
   "cell_type": "code",
   "execution_count": 3,
   "metadata": {
    "tags": []
   },
   "outputs": [
    {
     "output_type": "stream",
     "name": "stderr",
     "text": "INFO:robustness:searching 9 coarse epsilons b/t 1e-06 and 9e-06\nINFO:robustness:searching 9 coarse epsilons b/t 1e-05 and 9e-05\nINFO:robustness:searching 9 coarse epsilons b/t 0.0001 and 0.0009\nINFO:robustness:searching 9 coarse epsilons b/t 0.001 and 0.009\nINFO:robustness:searching 9 coarse epsilons b/t 0.01 and 0.09\nINFO:robustness:s0 coarse epsilon bounds: (0.08, 0.09) (85195ms)\nINFO:robustness:searching 1000 epsilons b/t 0.08 and 0.08999\nINFO:robustness:s0 epsilon: 0.0817 (245465ms)\nINFO:robustness:searching 9 coarse epsilons b/t 1e-06 and 9e-06\nINFO:robustness:searching 9 coarse epsilons b/t 1e-05 and 9e-05\nINFO:robustness:searching 9 coarse epsilons b/t 0.0001 and 0.0009\nINFO:robustness:searching 9 coarse epsilons b/t 0.001 and 0.009\nINFO:robustness:searching 9 coarse epsilons b/t 0.01 and 0.09\nINFO:robustness:s1 coarse epsilon bounds: (0.03, 0.04) (2955ms)\nINFO:robustness:searching 1001 epsilons b/t 0.03 and 0.04\nINFO:robustness:s1 epsilon: 0.03648 (9934ms)\nINFO:robustness:local robustness: (-0.03648, 0.03648) (343549ms)\nINFO:robustness:wrote summary to ../logs/test/robustness/symmetric/local_summary.csv\nINFO:robustness:wrote detils to ../logs/test/robustness/symmetric/local_details.csv\nSymmetric results:  ((-0.03648, 0.03648), [(0.0817, 0.0817, (([-0.28055283896096617, 0.9046338345003357, 1.7887553951068855, 2.3521738442404323, 0.5410091074018608, 0.36470371451870076, 0.6127366460981567, -0.24894141358835453, 0.8674947889049851, 1.2753682006443163, 0.4970745454315475, 0.79025434103912, -0.10131896818646297, 0.6574468039358837, 0.021861306301013503, 0.11126577908206405, 0.531607630194766, -0.04252305809637558, -0.2494496045601684, 0.7106493868752928, -0.1277166470489478, 0.09899927942827094, 0.26620958004575423, 0.06728721536249774, -0.08060216451525691], [-29.233311173432906, -6.637652158166571, -37.46333117050721, -6.637652158166571, -33.22212710674304]), <maraboupy.MarabouCore.Statistics object at 0x17ae172f0>)), (0.03648, 0.03648, (([0.5391378565926169, 0.15418119999905147, 0.4990202040521759, 0.3390245541500618, -0.513453216374009, 0.5194129527770446, 0.5500226692357129, -0.021646364591924504, -0.10490519201475246, 0.5183241278037071, 0.0038786781006895157, 0.83547434103912, 0.016901031813537037, 0.6143001905112089, -0.0233586936989865, 1.242223718504337, 0.07056703965320257, -0.08774305809637559, -0.13122960456016838, 0.26611724143345666, -0.018564493109556976, 0.05377927942827093, 0.1823104028931566, 0.022067215362497727, -0.1258221645152569], [1.8740596974085668, 11.4212831259869, 11.4212831259869, -1.126872890334267, -12.078796131913553]), <maraboupy.MarabouCore.Statistics object at 0x17ae27370>))])\n"
    }
   ],
   "source": [
    "from robustness import test_local_robustness\n",
    "\n",
    "nnet_path = '../network/models/latest/model.nnet'\n",
    "\n",
    "# Symmetric Local Robustness\n",
    "sym_results = test_local_robustness(nnet_path, samples, e_min=0.0001, e_max=100, e_prec=0.00001, save_results=True, save_samples=True, verbose=2, outdir='../logs/test/robustness/symmetric')\n",
    "\n",
    "print('Symmetric results: ', sym_results)"
   ]
  },
  {
   "cell_type": "markdown",
   "metadata": {},
   "source": [
    "## Run Asymmetric Local Robustness (Deprecated - wasn't useful)"
   ]
  },
  {
   "cell_type": "code",
   "execution_count": null,
   "metadata": {},
   "outputs": [],
   "source": [
    "# Asymmetric Local Robustness\n",
    "asym_results = test_local_robustness(nnet_path, samples, e_min=0.0001, e_max=100, e_prec=0.00001, asym=True, save_results=True, save_samples=True, verbose=2, outdir='../logs/test/robustness/asymmetric')\n",
    "\n",
    "print('Asymmetric results: ', asym_results)"
   ]
  },
  {
   "cell_type": "markdown",
   "metadata": {},
   "source": [
    "## Check Local Robustness Results"
   ]
  },
  {
   "cell_type": "code",
   "execution_count": null,
   "metadata": {},
   "outputs": [],
   "source": [
    "from robustness import check_local_robustness\n",
    "\n",
    "nnet_path = '../network/models/latest/model.nnet'\n",
    "sym_check_results = check_local_robustness(nnet_path, samples, sym_results)\n",
    "asym_check_results = check_local_robustness(nnet_path, samples, asym_results, asym=True)\n",
    "\n",
    "print('Symmetric check results:', sym_check_results)\n",
    "print('Asymmetric check results:', asym_check_results)"
   ]
  }
 ],
 "metadata": {
  "language_info": {
   "codemirror_mode": {
    "name": "ipython",
    "version": 3
   },
   "file_extension": ".py",
   "mimetype": "text/x-python",
   "name": "python",
   "nbconvert_exporter": "python",
   "pygments_lexer": "ipython3",
   "version": "3.7.7-final"
  },
  "orig_nbformat": 2,
  "kernelspec": {
   "name": "python37764bitvenvvenv2f570c7c66434947b458a57674f581a2",
   "display_name": "Python 3.7.7 64-bit ('venv': venv)"
  }
 },
 "nbformat": 4,
 "nbformat_minor": 2
}