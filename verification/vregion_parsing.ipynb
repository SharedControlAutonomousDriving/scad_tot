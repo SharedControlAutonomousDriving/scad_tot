{
 "metadata": {
  "language_info": {
   "codemirror_mode": {
    "name": "ipython",
    "version": 3
   },
   "file_extension": ".py",
   "mimetype": "text/x-python",
   "name": "python",
   "nbconvert_exporter": "python",
   "pygments_lexer": "ipython3",
   "version": "3.8.7-final"
  },
  "orig_nbformat": 2,
  "kernelspec": {
   "name": "python3",
   "display_name": "Python 3.8.7 64-bit ('venv')",
   "metadata": {
    "interpreter": {
     "hash": "9ddd6d5ba3578effbb8559ddbe623e8e531c76ce875d1957098e67566a625ffe"
    }
   }
  }
 },
 "nbformat": 4,
 "nbformat_minor": 2,
 "cells": [
  {
   "cell_type": "code",
   "execution_count": 1,
   "metadata": {},
   "outputs": [
    {
     "output_type": "execute_result",
     "data": {
      "text/plain": [
       "           cx0       cx1       cx2       cx3       cx4       cx5       cx6  \\\n",
       "0    -0.390932 -0.280336 -0.685110 -0.216893 -1.167858  0.416749  0.454008   \n",
       "1     0.038438 -0.828269 -0.630258  0.241643 -0.743388  0.448321  0.486677   \n",
       "2     2.926946  0.603783  1.340352  0.204531 -1.494022  0.375495  0.423352   \n",
       "3    -1.060540  2.733591  1.893897  6.465010  2.544046  0.040745  0.305392   \n",
       "4     3.397208 -0.557016 -0.922369 -0.946899 -0.860880  0.427321  0.440987   \n",
       "...        ...       ...       ...       ...       ...       ...       ...   \n",
       "3995  0.239264 -0.151749 -0.127157 -0.064991 -0.044038  0.485640  0.552927   \n",
       "3996  0.787256 -1.236124 -0.972049  0.474014 -0.328771  0.487025  0.523138   \n",
       "3997 -0.903120 -1.249977 -1.425277  2.836615  1.450361  0.365081  0.535879   \n",
       "3998  0.239264 -0.151749 -0.127157 -0.064991 -0.044038  0.285321  0.369298   \n",
       "3999  0.239264 -0.151749 -0.127157 -0.064991 -0.044038 -2.433853 -2.165789   \n",
       "\n",
       "           cx7       cx8       cx9  ...   cex_x20   cex_x21   cex_x22  \\\n",
       "0     0.780299  1.043240  0.374631  ...  0.023703 -0.013877  0.114790   \n",
       "1     0.001900 -0.202196  0.537226  ... -0.092597  2.627460  0.224384   \n",
       "2     0.171572 -0.188914  0.507844  ... -0.068897 -0.440338 -5.593058   \n",
       "3     0.014019  0.242238  2.437171  ... -0.029897  1.219966  0.168390   \n",
       "4     0.266875  0.427674  0.139654  ... -0.175197 -2.472603 -2.844934   \n",
       "...        ...       ...       ...  ...       ...       ...       ...   \n",
       "3995 -0.296389 -0.176895  0.881169  ... -0.031697  2.378902  0.170190   \n",
       "3996 -0.208683 -0.413792  0.583441  ... -0.081497  4.578327 -5.651458   \n",
       "3997  0.082184  0.179485  1.312500  ... -0.020197 -1.146885  0.158690   \n",
       "3998  0.387403 -0.006838 -1.848972  ... -0.046097  2.640227  0.184390   \n",
       "3999  1.959742  1.780386 -1.848972  ... -0.049421 -0.019711  0.178790   \n",
       "\n",
       "       cex_x23   cex_x24     cex_y0      cex_y1     cex_y2     cex_y3  \\\n",
       "0    -0.123105 -0.092622  16.458402  -11.149213   6.090689   3.586432   \n",
       "1    -2.622322 -0.115722   0.184077  -10.568420  -1.664218  -4.647428   \n",
       "2     0.577399  5.457709 -39.024770  -17.144356 -28.306647  -7.348062   \n",
       "3    -1.256108 -0.146222 -29.346703 -125.576853 -51.507485  -9.348511   \n",
       "4     2.581367 -0.291522   3.939002  -22.936941 -12.078900  -6.767512   \n",
       "...        ...       ...        ...         ...        ...        ...   \n",
       "3995 -2.394071 -0.176622   7.591480  -59.117433 -11.136440  -3.664704   \n",
       "3996 -4.541594  5.516109 -34.600619  -43.182365 -25.656366 -25.656366   \n",
       "3997  1.216137 -0.136522   4.206263  -22.390021   6.129983   6.129983   \n",
       "3998 -2.652817 -0.162422  -8.470744  -11.474338  -3.411081  -4.346806   \n",
       "3999  0.022862 -0.168022  -4.485933   -5.027376  -2.461006  -1.771152   \n",
       "\n",
       "         cex_y4  \n",
       "0     16.458402  \n",
       "1      0.184077  \n",
       "2     -7.348062  \n",
       "3     -9.348511  \n",
       "4      3.939002  \n",
       "...         ...  \n",
       "3995   7.629009  \n",
       "3996 -32.523127  \n",
       "3997 -19.598189  \n",
       "3998  -3.113446  \n",
       "3999  -1.771152  \n",
       "\n",
       "[4000 rows x 62 columns]"
      ],
      "text/html": "<div>\n<style scoped>\n    .dataframe tbody tr th:only-of-type {\n        vertical-align: middle;\n    }\n\n    .dataframe tbody tr th {\n        vertical-align: top;\n    }\n\n    .dataframe thead th {\n        text-align: right;\n    }\n</style>\n<table border=\"1\" class=\"dataframe\">\n  <thead>\n    <tr style=\"text-align: right;\">\n      <th></th>\n      <th>cx0</th>\n      <th>cx1</th>\n      <th>cx2</th>\n      <th>cx3</th>\n      <th>cx4</th>\n      <th>cx5</th>\n      <th>cx6</th>\n      <th>cx7</th>\n      <th>cx8</th>\n      <th>cx9</th>\n      <th>...</th>\n      <th>cex_x20</th>\n      <th>cex_x21</th>\n      <th>cex_x22</th>\n      <th>cex_x23</th>\n      <th>cex_x24</th>\n      <th>cex_y0</th>\n      <th>cex_y1</th>\n      <th>cex_y2</th>\n      <th>cex_y3</th>\n      <th>cex_y4</th>\n    </tr>\n  </thead>\n  <tbody>\n    <tr>\n      <th>0</th>\n      <td>-0.390932</td>\n      <td>-0.280336</td>\n      <td>-0.685110</td>\n      <td>-0.216893</td>\n      <td>-1.167858</td>\n      <td>0.416749</td>\n      <td>0.454008</td>\n      <td>0.780299</td>\n      <td>1.043240</td>\n      <td>0.374631</td>\n      <td>...</td>\n      <td>0.023703</td>\n      <td>-0.013877</td>\n      <td>0.114790</td>\n      <td>-0.123105</td>\n      <td>-0.092622</td>\n      <td>16.458402</td>\n      <td>-11.149213</td>\n      <td>6.090689</td>\n      <td>3.586432</td>\n      <td>16.458402</td>\n    </tr>\n    <tr>\n      <th>1</th>\n      <td>0.038438</td>\n      <td>-0.828269</td>\n      <td>-0.630258</td>\n      <td>0.241643</td>\n      <td>-0.743388</td>\n      <td>0.448321</td>\n      <td>0.486677</td>\n      <td>0.001900</td>\n      <td>-0.202196</td>\n      <td>0.537226</td>\n      <td>...</td>\n      <td>-0.092597</td>\n      <td>2.627460</td>\n      <td>0.224384</td>\n      <td>-2.622322</td>\n      <td>-0.115722</td>\n      <td>0.184077</td>\n      <td>-10.568420</td>\n      <td>-1.664218</td>\n      <td>-4.647428</td>\n      <td>0.184077</td>\n    </tr>\n    <tr>\n      <th>2</th>\n      <td>2.926946</td>\n      <td>0.603783</td>\n      <td>1.340352</td>\n      <td>0.204531</td>\n      <td>-1.494022</td>\n      <td>0.375495</td>\n      <td>0.423352</td>\n      <td>0.171572</td>\n      <td>-0.188914</td>\n      <td>0.507844</td>\n      <td>...</td>\n      <td>-0.068897</td>\n      <td>-0.440338</td>\n      <td>-5.593058</td>\n      <td>0.577399</td>\n      <td>5.457709</td>\n      <td>-39.024770</td>\n      <td>-17.144356</td>\n      <td>-28.306647</td>\n      <td>-7.348062</td>\n      <td>-7.348062</td>\n    </tr>\n    <tr>\n      <th>3</th>\n      <td>-1.060540</td>\n      <td>2.733591</td>\n      <td>1.893897</td>\n      <td>6.465010</td>\n      <td>2.544046</td>\n      <td>0.040745</td>\n      <td>0.305392</td>\n      <td>0.014019</td>\n      <td>0.242238</td>\n      <td>2.437171</td>\n      <td>...</td>\n      <td>-0.029897</td>\n      <td>1.219966</td>\n      <td>0.168390</td>\n      <td>-1.256108</td>\n      <td>-0.146222</td>\n      <td>-29.346703</td>\n      <td>-125.576853</td>\n      <td>-51.507485</td>\n      <td>-9.348511</td>\n      <td>-9.348511</td>\n    </tr>\n    <tr>\n      <th>4</th>\n      <td>3.397208</td>\n      <td>-0.557016</td>\n      <td>-0.922369</td>\n      <td>-0.946899</td>\n      <td>-0.860880</td>\n      <td>0.427321</td>\n      <td>0.440987</td>\n      <td>0.266875</td>\n      <td>0.427674</td>\n      <td>0.139654</td>\n      <td>...</td>\n      <td>-0.175197</td>\n      <td>-2.472603</td>\n      <td>-2.844934</td>\n      <td>2.581367</td>\n      <td>-0.291522</td>\n      <td>3.939002</td>\n      <td>-22.936941</td>\n      <td>-12.078900</td>\n      <td>-6.767512</td>\n      <td>3.939002</td>\n    </tr>\n    <tr>\n      <th>...</th>\n      <td>...</td>\n      <td>...</td>\n      <td>...</td>\n      <td>...</td>\n      <td>...</td>\n      <td>...</td>\n      <td>...</td>\n      <td>...</td>\n      <td>...</td>\n      <td>...</td>\n      <td>...</td>\n      <td>...</td>\n      <td>...</td>\n      <td>...</td>\n      <td>...</td>\n      <td>...</td>\n      <td>...</td>\n      <td>...</td>\n      <td>...</td>\n      <td>...</td>\n      <td>...</td>\n    </tr>\n    <tr>\n      <th>3995</th>\n      <td>0.239264</td>\n      <td>-0.151749</td>\n      <td>-0.127157</td>\n      <td>-0.064991</td>\n      <td>-0.044038</td>\n      <td>0.485640</td>\n      <td>0.552927</td>\n      <td>-0.296389</td>\n      <td>-0.176895</td>\n      <td>0.881169</td>\n      <td>...</td>\n      <td>-0.031697</td>\n      <td>2.378902</td>\n      <td>0.170190</td>\n      <td>-2.394071</td>\n      <td>-0.176622</td>\n      <td>7.591480</td>\n      <td>-59.117433</td>\n      <td>-11.136440</td>\n      <td>-3.664704</td>\n      <td>7.629009</td>\n    </tr>\n    <tr>\n      <th>3996</th>\n      <td>0.787256</td>\n      <td>-1.236124</td>\n      <td>-0.972049</td>\n      <td>0.474014</td>\n      <td>-0.328771</td>\n      <td>0.487025</td>\n      <td>0.523138</td>\n      <td>-0.208683</td>\n      <td>-0.413792</td>\n      <td>0.583441</td>\n      <td>...</td>\n      <td>-0.081497</td>\n      <td>4.578327</td>\n      <td>-5.651458</td>\n      <td>-4.541594</td>\n      <td>5.516109</td>\n      <td>-34.600619</td>\n      <td>-43.182365</td>\n      <td>-25.656366</td>\n      <td>-25.656366</td>\n      <td>-32.523127</td>\n    </tr>\n    <tr>\n      <th>3997</th>\n      <td>-0.903120</td>\n      <td>-1.249977</td>\n      <td>-1.425277</td>\n      <td>2.836615</td>\n      <td>1.450361</td>\n      <td>0.365081</td>\n      <td>0.535879</td>\n      <td>0.082184</td>\n      <td>0.179485</td>\n      <td>1.312500</td>\n      <td>...</td>\n      <td>-0.020197</td>\n      <td>-1.146885</td>\n      <td>0.158690</td>\n      <td>1.216137</td>\n      <td>-0.136522</td>\n      <td>4.206263</td>\n      <td>-22.390021</td>\n      <td>6.129983</td>\n      <td>6.129983</td>\n      <td>-19.598189</td>\n    </tr>\n    <tr>\n      <th>3998</th>\n      <td>0.239264</td>\n      <td>-0.151749</td>\n      <td>-0.127157</td>\n      <td>-0.064991</td>\n      <td>-0.044038</td>\n      <td>0.285321</td>\n      <td>0.369298</td>\n      <td>0.387403</td>\n      <td>-0.006838</td>\n      <td>-1.848972</td>\n      <td>...</td>\n      <td>-0.046097</td>\n      <td>2.640227</td>\n      <td>0.184390</td>\n      <td>-2.652817</td>\n      <td>-0.162422</td>\n      <td>-8.470744</td>\n      <td>-11.474338</td>\n      <td>-3.411081</td>\n      <td>-4.346806</td>\n      <td>-3.113446</td>\n    </tr>\n    <tr>\n      <th>3999</th>\n      <td>0.239264</td>\n      <td>-0.151749</td>\n      <td>-0.127157</td>\n      <td>-0.064991</td>\n      <td>-0.044038</td>\n      <td>-2.433853</td>\n      <td>-2.165789</td>\n      <td>1.959742</td>\n      <td>1.780386</td>\n      <td>-1.848972</td>\n      <td>...</td>\n      <td>-0.049421</td>\n      <td>-0.019711</td>\n      <td>0.178790</td>\n      <td>0.022862</td>\n      <td>-0.168022</td>\n      <td>-4.485933</td>\n      <td>-5.027376</td>\n      <td>-2.461006</td>\n      <td>-1.771152</td>\n      <td>-1.771152</td>\n    </tr>\n  </tbody>\n</table>\n<p>4000 rows × 62 columns</p>\n</div>"
     },
     "metadata": {},
     "execution_count": 1
    }
   ],
   "source": [
    "import pandas as pd\n",
    "pd.read_csv('../logs/vregions_combined.csv')"
   ]
  },
  {
   "cell_type": "code",
   "execution_count": null,
   "metadata": {},
   "outputs": [],
   "source": [
    "import pandas as pd\n",
    "\n",
    "# read verified regions into a dataframe...\n",
    "df = pd.read_csv('../logs/vregions_combined.csv')"
   ]
  },
  {
   "cell_type": "code",
   "execution_count": null,
   "metadata": {},
   "outputs": [],
   "source": [
    "from verification.clustering import VerifiedRegion, VerifiedRegions\n",
    "\n",
    "# create a VerifiedRegions object containing all VerifiedRegions\n",
    "regions = []\n",
    "for i in range(df.shape[0]):\n",
    "    row = df.iloc[i]\n",
    "    centroid = row[[f'cx{xi}' for xi in range(25)]].to_numpy()\n",
    "    radius = row['radius']\n",
    "    n = row['n']\n",
    "    epsilon = row['epsilon']\n",
    "    density = row['density']\n",
    "    oradius = row['oradius']\n",
    "    category = row['category']\n",
    "    regions.append(\n",
    "        VerifiedRegion(\n",
    "            centroid=centroid, radius=radius, category=category, n=n, \n",
    "            epsilon=epsilon, density=density, oradius=oradius\n",
    "        )\n",
    "    )\n",
    "vregions = VerifiedRegions(regions)\n",
    "\n",
    "# this is a simple object, so to save it, just pickle it...\n",
    "# import pickle\n",
    "# pickle.dump(vregions, open('../logs/verified_regions.p', 'wb'))"
   ]
  },
  {
   "cell_type": "code",
   "execution_count": null,
   "metadata": {},
   "outputs": [],
   "source": [
    "# find the region that an x belongs to (regardless of label)\n",
    "# x = np.array() # a given x\n",
    "region = vregions.find_region(x)"
   ]
  },
  {
   "cell_type": "code",
   "execution_count": null,
   "metadata": {},
   "outputs": [],
   "source": [
    "# find the region that an x belongs to (with matching label)\n",
    "# x = np.array() # a given x\n",
    "# y = np.array() # label for y\n",
    "region = vregions.find_region(x, y=y)"
   ]
  }
 ]
}