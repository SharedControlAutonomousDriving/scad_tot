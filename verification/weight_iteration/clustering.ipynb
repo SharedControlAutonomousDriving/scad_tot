{
 "cells": [
  {
   "cell_type": "markdown",
   "metadata": {},
   "source": [
    "## Load Verification Dataset"
   ]
  },
  {
   "cell_type": "code",
   "execution_count": 1,
   "metadata": {
    "tags": []
   },
   "outputs": [
    {
     "name": "stdout",
     "output_type": "stream",
     "text": [
      "WARNING:tensorflow:From /home/sai/Desktop/Marabou/scad_tot/venv/lib/python3.6/site-packages/tensorflow_core/python/compat/v2_compat.py:88: disable_resource_variables (from tensorflow.python.ops.variable_scope) is deprecated and will be removed in a future version.\n",
      "Instructions for updating:\n",
      "non-resource variables are not supported in the long term\n"
     ]
    }
   ],
   "source": [
    "from clustering import LabelGuidedKMeansUtils\n",
    "from importlib import reload\n",
    "import clustering\n",
    "import pandas as pd\n",
    "import numpy as np\n",
    "import matplotlib.pyplot as plt"
   ]
  },
  {
   "cell_type": "code",
   "execution_count": 2,
   "metadata": {},
   "outputs": [
    {
     "name": "stderr",
     "output_type": "stream",
     "text": [
      "INFO:clustering:reading dataset from ../data/v3.2.2_train.csv...\n",
      "/home/sai/Desktop/Marabou/scad_tot/venv/lib/python3.6/site-packages/numpy/lib/arraysetops.py:569: FutureWarning: elementwise comparison failed; returning scalar instead, but in the future will perform elementwise comparison\n",
      "  mask |= (ar1 == a)\n"
     ]
    }
   ],
   "source": [
    "n_outputs = 5\n",
    "verification_csv = '../data/v3.2.2_train.csv'\n",
    "X_orig, Y_orig = LabelGuidedKMeansUtils.load_dataset(verification_csv, n_outputs)"
   ]
  },
  {
   "cell_type": "code",
   "execution_count": null,
   "metadata": {},
   "outputs": [],
   "source": []
  },
  {
   "cell_type": "code",
   "execution_count": null,
   "metadata": {},
   "outputs": [],
   "source": []
  },
  {
   "cell_type": "code",
   "execution_count": 3,
   "metadata": {},
   "outputs": [
    {
     "data": {
      "text/html": [
       "<div>\n",
       "<style scoped>\n",
       "    .dataframe tbody tr th:only-of-type {\n",
       "        vertical-align: middle;\n",
       "    }\n",
       "\n",
       "    .dataframe tbody tr th {\n",
       "        vertical-align: top;\n",
       "    }\n",
       "\n",
       "    .dataframe thead th {\n",
       "        text-align: right;\n",
       "    }\n",
       "</style>\n",
       "<table border=\"1\" class=\"dataframe\">\n",
       "  <thead>\n",
       "    <tr style=\"text-align: right;\">\n",
       "      <th></th>\n",
       "      <th>Unnamed: 0</th>\n",
       "      <th>FixationDuration</th>\n",
       "      <th>FixationSeq</th>\n",
       "      <th>FixationStart</th>\n",
       "      <th>FixationX</th>\n",
       "      <th>FixationY</th>\n",
       "      <th>GazeDirectionLeftZ</th>\n",
       "      <th>GazeDirectionRightZ</th>\n",
       "      <th>PupilLeft</th>\n",
       "      <th>PupilRight</th>\n",
       "      <th>...</th>\n",
       "      <th>RangeW</th>\n",
       "      <th>RightLaneDist</th>\n",
       "      <th>RightLaneType</th>\n",
       "      <th>LeftLaneDist</th>\n",
       "      <th>LeftLaneType</th>\n",
       "      <th>TOT_fast</th>\n",
       "      <th>TOT_med_fast</th>\n",
       "      <th>TOT_med</th>\n",
       "      <th>TOT_med_slow</th>\n",
       "      <th>TOT_slow</th>\n",
       "    </tr>\n",
       "  </thead>\n",
       "  <tbody>\n",
       "    <tr>\n",
       "      <th>0</th>\n",
       "      <td>0</td>\n",
       "      <td>-0.780283</td>\n",
       "      <td>-0.320118</td>\n",
       "      <td>-0.634037</td>\n",
       "      <td>-0.644751</td>\n",
       "      <td>0.492967</td>\n",
       "      <td>0.502493</td>\n",
       "      <td>0.526916</td>\n",
       "      <td>-0.458088</td>\n",
       "      <td>-0.529135</td>\n",
       "      <td>...</td>\n",
       "      <td>-0.045997</td>\n",
       "      <td>0.542369</td>\n",
       "      <td>0.18449</td>\n",
       "      <td>-0.547283</td>\n",
       "      <td>-0.162322</td>\n",
       "      <td>1</td>\n",
       "      <td>0</td>\n",
       "      <td>0</td>\n",
       "      <td>0</td>\n",
       "      <td>0</td>\n",
       "    </tr>\n",
       "    <tr>\n",
       "      <th>1</th>\n",
       "      <td>1</td>\n",
       "      <td>0.239264</td>\n",
       "      <td>-0.151749</td>\n",
       "      <td>-0.127157</td>\n",
       "      <td>-0.064991</td>\n",
       "      <td>-0.044038</td>\n",
       "      <td>0.310850</td>\n",
       "      <td>0.323276</td>\n",
       "      <td>-0.130863</td>\n",
       "      <td>-0.225694</td>\n",
       "      <td>...</td>\n",
       "      <td>-0.045997</td>\n",
       "      <td>0.095554</td>\n",
       "      <td>0.18449</td>\n",
       "      <td>-0.090084</td>\n",
       "      <td>-0.162322</td>\n",
       "      <td>0</td>\n",
       "      <td>1</td>\n",
       "      <td>0</td>\n",
       "      <td>0</td>\n",
       "      <td>0</td>\n",
       "    </tr>\n",
       "    <tr>\n",
       "      <th>2</th>\n",
       "      <td>2</td>\n",
       "      <td>0.239264</td>\n",
       "      <td>-0.151749</td>\n",
       "      <td>-0.127157</td>\n",
       "      <td>-0.064991</td>\n",
       "      <td>-0.044038</td>\n",
       "      <td>-2.433853</td>\n",
       "      <td>-2.165789</td>\n",
       "      <td>1.959742</td>\n",
       "      <td>1.780386</td>\n",
       "      <td>...</td>\n",
       "      <td>-0.045997</td>\n",
       "      <td>-0.922012</td>\n",
       "      <td>0.18449</td>\n",
       "      <td>0.936146</td>\n",
       "      <td>-0.162322</td>\n",
       "      <td>0</td>\n",
       "      <td>0</td>\n",
       "      <td>0</td>\n",
       "      <td>0</td>\n",
       "      <td>1</td>\n",
       "    </tr>\n",
       "    <tr>\n",
       "      <th>3</th>\n",
       "      <td>3</td>\n",
       "      <td>0.239264</td>\n",
       "      <td>-0.151749</td>\n",
       "      <td>-0.127157</td>\n",
       "      <td>-0.064991</td>\n",
       "      <td>-0.044038</td>\n",
       "      <td>0.462147</td>\n",
       "      <td>0.502589</td>\n",
       "      <td>-2.057856</td>\n",
       "      <td>-1.911476</td>\n",
       "      <td>...</td>\n",
       "      <td>-0.045997</td>\n",
       "      <td>-0.028381</td>\n",
       "      <td>0.18449</td>\n",
       "      <td>0.031616</td>\n",
       "      <td>-0.162322</td>\n",
       "      <td>1</td>\n",
       "      <td>0</td>\n",
       "      <td>0</td>\n",
       "      <td>0</td>\n",
       "      <td>0</td>\n",
       "    </tr>\n",
       "    <tr>\n",
       "      <th>4</th>\n",
       "      <td>4</td>\n",
       "      <td>-1.093791</td>\n",
       "      <td>1.373701</td>\n",
       "      <td>0.891928</td>\n",
       "      <td>-2.465806</td>\n",
       "      <td>-1.648940</td>\n",
       "      <td>0.266054</td>\n",
       "      <td>0.292115</td>\n",
       "      <td>-0.821672</td>\n",
       "      <td>-0.916865</td>\n",
       "      <td>...</td>\n",
       "      <td>-0.045997</td>\n",
       "      <td>0.878297</td>\n",
       "      <td>0.18449</td>\n",
       "      <td>-0.876203</td>\n",
       "      <td>-0.162322</td>\n",
       "      <td>1</td>\n",
       "      <td>0</td>\n",
       "      <td>0</td>\n",
       "      <td>0</td>\n",
       "      <td>0</td>\n",
       "    </tr>\n",
       "  </tbody>\n",
       "</table>\n",
       "<p>5 rows × 31 columns</p>\n",
       "</div>"
      ],
      "text/plain": [
       "   Unnamed: 0  FixationDuration  FixationSeq  FixationStart  FixationX  \\\n",
       "0           0         -0.780283    -0.320118      -0.634037  -0.644751   \n",
       "1           1          0.239264    -0.151749      -0.127157  -0.064991   \n",
       "2           2          0.239264    -0.151749      -0.127157  -0.064991   \n",
       "3           3          0.239264    -0.151749      -0.127157  -0.064991   \n",
       "4           4         -1.093791     1.373701       0.891928  -2.465806   \n",
       "\n",
       "   FixationY  GazeDirectionLeftZ  GazeDirectionRightZ  PupilLeft  PupilRight  \\\n",
       "0   0.492967            0.502493             0.526916  -0.458088   -0.529135   \n",
       "1  -0.044038            0.310850             0.323276  -0.130863   -0.225694   \n",
       "2  -0.044038           -2.433853            -2.165789   1.959742    1.780386   \n",
       "3  -0.044038            0.462147             0.502589  -2.057856   -1.911476   \n",
       "4  -1.648940            0.266054             0.292115  -0.821672   -0.916865   \n",
       "\n",
       "   ...    RangeW  RightLaneDist  RightLaneType  LeftLaneDist  LeftLaneType  \\\n",
       "0  ... -0.045997       0.542369        0.18449     -0.547283     -0.162322   \n",
       "1  ... -0.045997       0.095554        0.18449     -0.090084     -0.162322   \n",
       "2  ... -0.045997      -0.922012        0.18449      0.936146     -0.162322   \n",
       "3  ... -0.045997      -0.028381        0.18449      0.031616     -0.162322   \n",
       "4  ... -0.045997       0.878297        0.18449     -0.876203     -0.162322   \n",
       "\n",
       "   TOT_fast  TOT_med_fast  TOT_med  TOT_med_slow  TOT_slow  \n",
       "0         1             0        0             0         0  \n",
       "1         0             1        0             0         0  \n",
       "2         0             0        0             0         1  \n",
       "3         1             0        0             0         0  \n",
       "4         1             0        0             0         0  \n",
       "\n",
       "[5 rows x 31 columns]"
      ]
     },
     "execution_count": 3,
     "metadata": {},
     "output_type": "execute_result"
    }
   ],
   "source": [
    "df = pd.read_csv(verification_csv)\n",
    "df.head(5)"
   ]
  },
  {
   "cell_type": "code",
   "execution_count": null,
   "metadata": {},
   "outputs": [],
   "source": []
  },
  {
   "cell_type": "code",
   "execution_count": 4,
   "metadata": {},
   "outputs": [
    {
     "data": {
      "text/plain": [
       "291632"
      ]
     },
     "execution_count": 4,
     "metadata": {},
     "output_type": "execute_result"
    }
   ],
   "source": [
    "labels = [np.where(r==1)[0][0] for r in Y_orig]\n",
    "len(labels)"
   ]
  },
  {
   "cell_type": "code",
   "execution_count": 34,
   "metadata": {},
   "outputs": [
    {
     "data": {
      "text/plain": [
       "array([0.14413971, 0.07447785, 0.0670591 , 0.21506468, 0.27062082,\n",
       "       0.29846477, 0.29836592, 0.24587329, 0.21398656, 0.27791757,\n",
       "       0.29041741, 0.33185965, 0.25101693, 0.30518564, 0.24736641,\n",
       "       0.24464786, 0.        , 1.        , 0.87932182, 0.30163263,\n",
       "       0.24862334, 0.25406511, 0.2695225 , 0.25178362, 0.23807562])"
      ]
     },
     "execution_count": 34,
     "metadata": {},
     "output_type": "execute_result"
    }
   ],
   "source": [
    "mins = np.min(X_orig,axis = 1)\n",
    "(X_orig[0] - mins[0])/(np.max(X_orig,axis = 1)[0]-mins[0])"
   ]
  },
  {
   "cell_type": "code",
   "execution_count": 3,
   "metadata": {
    "tags": []
   },
   "outputs": [
    {
     "name": "stdout",
     "output_type": "stream",
     "text": [
      "dropped 1728 outliers from 291632 inputs\n"
     ]
    },
    {
     "data": {
      "text/plain": [
       "((289904, 25), (289904, 5))"
      ]
     },
     "execution_count": 3,
     "metadata": {},
     "output_type": "execute_result"
    }
   ],
   "source": [
    "X, Y = X_orig.copy(), Y_orig.copy()\n",
    "X, Y = LabelGuidedKMeansUtils.remove_outliers(X, Y,tolerance= 10)\n",
    "\n",
    "print(f'dropped {X_orig.shape[0] - X.shape[0]} outliers from {X_orig.shape[0]} inputs')\n",
    "X.shape, Y.shape"
   ]
  },
  {
   "cell_type": "code",
   "execution_count": 10,
   "metadata": {},
   "outputs": [],
   "source": [
    "weights = LabelGuidedKMeansUtils.generate_sample_weights(X,type='sum')\n",
    "# weights = weights.reshape((len(weights),1))\n"
   ]
  },
  {
   "cell_type": "code",
   "execution_count": 11,
   "metadata": {},
   "outputs": [
    {
     "data": {
      "text/plain": [
       "2.115807068915026"
      ]
     },
     "execution_count": 11,
     "metadata": {},
     "output_type": "execute_result"
    }
   ],
   "source": [
    "min(weights)"
   ]
  },
  {
   "cell_type": "markdown",
   "metadata": {},
   "source": [
    "## Generate Label Guided K-Means Regions"
   ]
  },
  {
   "cell_type": "code",
   "execution_count": 5,
   "metadata": {},
   "outputs": [],
   "source": [
    "num_iters = 3\n",
    "# x_axis = ['n==1','n>1','n>=10', 'n>=100','n>=1000']\n",
    "# fig, axs = plt.subplots(2,3)"
   ]
  },
  {
   "cell_type": "code",
   "execution_count": 16,
   "metadata": {},
   "outputs": [
    {
     "data": {
      "text/plain": [
       "array([<AxesSubplot:>, <AxesSubplot:>, <AxesSubplot:>, <AxesSubplot:>,\n",
       "       <AxesSubplot:>, <AxesSubplot:>], dtype=object)"
      ]
     },
     "execution_count": 16,
     "metadata": {},
     "output_type": "execute_result"
    }
   ],
   "source": [
    "axs = axs.flatten()"
   ]
  },
  {
   "cell_type": "code",
   "execution_count": 12,
   "metadata": {
    "tags": []
   },
   "outputs": [
    {
     "name": "stderr",
     "output_type": "stream",
     "text": [
      "INFO:clustering:running label-guided k-means on 289904 inputs of 5 labels\n",
      "INFO:clustering:completed in 41973 ms\n"
     ]
    },
    {
     "name": "stdout",
     "output_type": "stream",
     "text": [
      "For iter: 0\n",
      "21104 regions from 289904 inputs\n",
      "n == 1: 5893\n",
      "n > 1: 15211\n",
      "n >= 10: 5492\n",
      "n >= 100: 539\n",
      "n >= 1000: 1\n"
     ]
    },
    {
     "name": "stderr",
     "output_type": "stream",
     "text": [
      "INFO:clustering:running label-guided k-means on 289904 inputs of 5 labels\n",
      "INFO:clustering:completed in 42405 ms\n"
     ]
    },
    {
     "name": "stdout",
     "output_type": "stream",
     "text": [
      "For iter: 1\n",
      "21104 regions from 289904 inputs\n",
      "n == 1: 5893\n",
      "n > 1: 15211\n",
      "n >= 10: 5492\n",
      "n >= 100: 539\n",
      "n >= 1000: 1\n"
     ]
    },
    {
     "name": "stderr",
     "output_type": "stream",
     "text": [
      "INFO:clustering:running label-guided k-means on 289904 inputs of 5 labels\n",
      "INFO:clustering:completed in 42636 ms\n"
     ]
    },
    {
     "name": "stdout",
     "output_type": "stream",
     "text": [
      "For iter: 2\n",
      "21104 regions from 289904 inputs\n",
      "n == 1: 5893\n",
      "n > 1: 15211\n",
      "n >= 10: 5492\n",
      "n >= 100: 539\n",
      "n >= 1000: 1\n"
     ]
    }
   ],
   "source": [
    "from clustering import LabelGuidedKMeans, LabelGuidedKMeansUtils\n",
    "for i in range(num_iters):\n",
    "    lgkmc = LabelGuidedKMeans().fit(X, Y, init_centroid='mean',weights = weights) # rand, first, none\n",
    "    print(\"For iter:\",i)\n",
    "    labels = LabelGuidedKMeansUtils.print_summary(lgkmc)\n",
    "#     plt.bar(x_axis,labels)\n",
    "#     plt.show()"
   ]
  },
  {
   "cell_type": "code",
   "execution_count": 11,
   "metadata": {},
   "outputs": [
    {
     "name": "stderr",
     "output_type": "stream",
     "text": [
      "/home/sai/Desktop/Marabou/scad_tot/venv/lib/python3.6/site-packages/ipykernel_launcher.py:1: UserWarning: Matplotlib is currently using module://ipykernel.pylab.backend_inline, which is a non-GUI backend, so cannot show the figure.\n",
      "  \"\"\"Entry point for launching an IPython kernel.\n"
     ]
    }
   ],
   "source": [
    "fig.show()"
   ]
  },
  {
   "cell_type": "code",
   "execution_count": 12,
   "metadata": {},
   "outputs": [
    {
     "data": {
      "text/plain": [
       "[9089, 18598, 6063, 446, 1]"
      ]
     },
     "execution_count": 12,
     "metadata": {},
     "output_type": "execute_result"
    }
   ],
   "source": [
    "labels"
   ]
  },
  {
   "cell_type": "code",
   "execution_count": 11,
   "metadata": {},
   "outputs": [
    {
     "data": {
      "text/plain": [
       "<BarContainer object of 5 artists>"
      ]
     },
     "execution_count": 11,
     "metadata": {},
     "output_type": "execute_result"
    },
    {
     "data": {
      "image/png": "[encoded data removed]",
      "text/plain": [
       "<Figure size 432x288 with 1 Axes>"
      ]
     },
     "metadata": {
      "needs_background": "light"
     },
     "output_type": "display_data"
    }
   ],
   "source": []
  },
  {
   "cell_type": "code",
   "execution_count": 10,
   "metadata": {},
   "outputs": [],
   "source": [
    "reload(clustering)\n",
    "LabelGuidedKMeans = clustering.LabelGuidedKMeans\n",
    "LabelGuidedKMeansUtils = clustering.LabelGuidedKMeansUtils"
   ]
  },
  {
   "cell_type": "code",
   "execution_count": 11,
   "metadata": {
    "tags": []
   },
   "outputs": [
    {
     "name": "stdout",
     "output_type": "stream",
     "text": [
      "27478 regions from 289904 inputs\n",
      "n == 1: 9134\n",
      "n > 1: 18344\n",
      "n >= 10: 6037\n",
      "n >= 100: 435\n",
      "n >= 1000: 0\n"
     ]
    }
   ],
   "source": [
    "\n",
    "LabelGuidedKMeansUtils.print_summary(lgkmc)"
   ]
  },
  {
   "cell_type": "code",
   "execution_count": null,
   "metadata": {
    "tags": []
   },
   "outputs": [],
   "source": [
    "# save regions\n",
    "LabelGuidedKMeansUtils.save(lgkmc, outpath='../logs/test/test_regions/lgkm.p')"
   ]
  },
  {
   "cell_type": "code",
   "execution_count": 6,
   "metadata": {},
   "outputs": [],
   "source": [
    "x1 = np.arange(9.0).reshape((3, 3))\n",
    "x2 = np.arange(3.0)"
   ]
  },
  {
   "cell_type": "code",
   "execution_count": 9,
   "metadata": {},
   "outputs": [],
   "source": [
    "x2 = x2.reshape((3,1))"
   ]
  },
  {
   "cell_type": "code",
   "execution_count": 11,
   "metadata": {},
   "outputs": [
    {
     "data": {
      "text/plain": [
       "array([[0., 1., 2.],\n",
       "       [3., 4., 5.],\n",
       "       [6., 7., 8.]])"
      ]
     },
     "execution_count": 11,
     "metadata": {},
     "output_type": "execute_result"
    }
   ],
   "source": [
    "x1"
   ]
  },
  {
   "cell_type": "code",
   "execution_count": 25,
   "metadata": {},
   "outputs": [
    {
     "name": "stdout",
     "output_type": "stream",
     "text": [
      "[[-0.20886423  0.02961184]\n",
      " [-0.28346482 -0.31753209]\n",
      " [ 0.37413815 -0.14648113]\n",
      " [-0.09626724  0.01095494]\n",
      " [-0.24448982 -0.1188851 ]\n",
      " [-0.06352232  0.18707545]\n",
      " [ 0.25309486 -0.35274414]\n",
      " [ 0.27615021  0.23972342]\n",
      " [ 0.3726454   0.02550999]\n",
      " [-0.1571058   0.06438898]]\n"
     ]
    }
   ],
   "source": [
    "import numpy as np\n",
    "from sklearn.preprocessing import normalize\n",
    "\n",
    "#x = np.random.rand(1000)*10\n",
    "\n",
    "norm1 = x / np.linalg.norm(x)\n",
    "#norm2 = normalize(x[:,np.newaxis], axis=0).ravel()\n",
    "#print np.all(norm1 == norm2)\n",
    "# print(\"Norm 1: \", norm1)\n",
    "# print(\"Norm 2: \", norm2)\n",
    "print(norm1)"
   ]
  },
  {
   "cell_type": "markdown",
   "metadata": {},
   "source": [
    "## Verify Regions"
   ]
  },
  {
   "cell_type": "code",
   "execution_count": null,
   "metadata": {
    "tags": []
   },
   "outputs": [],
   "source": [
    "import os\n",
    "from clustering import LabelGuidedKMeansUtils\n",
    "from robustness import verify_regions, save_verified_regions\n",
    "\n",
    "# load the regions\n",
    "lgkmc = LabelGuidedKMeansUtils.load('../logs/test/test_regions/lgkm.p')\n",
    "regions = lgkmc.get_regions(sort=True)\n",
    "categories = lgkmc.categories\n",
    "n_categories = lgkmc.n_categories"
   ]
  },
  {
   "cell_type": "code",
   "execution_count": null,
   "metadata": {
    "tags": []
   },
   "outputs": [],
   "source": [
    "nnet_path = '../network/models/latest/model.nnet'\n",
    "\n",
    "vregions = verify_regions(nnet_path, regions, n_categories, eprec=0.0001, rpad=10, verbose=1, timeout=10)\n",
    "save_verified_regions(vregions, outdir=f'../logs/region_robustness_cexs/chunk_{chunk_number}')"
   ]
  }
 ],
 "metadata": {
  "kernelspec": {
   "display_name": "Python 3",
   "language": "python",
   "name": "python3"
  },
  "language_info": {
   "codemirror_mode": {
    "name": "ipython",
    "version": 3
   },
   "file_extension": ".py",
   "mimetype": "text/x-python",
   "name": "python",
   "nbconvert_exporter": "python",
   "pygments_lexer": "ipython3",
   "version": "3.6.12"
  }
 },
 "nbformat": 4,
 "nbformat_minor": 2
}
