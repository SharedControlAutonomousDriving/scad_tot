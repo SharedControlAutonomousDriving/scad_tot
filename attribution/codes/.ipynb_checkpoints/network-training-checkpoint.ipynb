{
 "cells": [
  {
   "cell_type": "code",
   "execution_count": 1,
   "metadata": {},
   "outputs": [],
   "source": [
    "# %tensorflow_version 2.x\n",
    "\n",
    "import numpy as np\n",
    "import pandas as pd\n",
    "import tensorflow as tf\n",
    "import pickle as pkl\n",
    "import matplotlib.pyplot as plt\n",
    "from sklearn import metrics\n",
    "from sklearn.model_selection import train_test_split\n",
    "from sklearn.preprocessing import StandardScaler, OneHotEncoder\n",
    "from sklearn.utils import resample\n",
    "from tensorflow.keras.models import Sequential, load_model\n",
    "from tensorflow.keras.layers import Dense, InputLayer\n",
    "from tensorflow.keras.callbacks import EarlyStopping, ModelCheckpoint, TensorBoard\n",
    "import time"
   ]
  },
  {
   "cell_type": "code",
   "execution_count": 3,
   "metadata": {},
   "outputs": [],
   "source": [
    "'''\n",
    "LOAD DATA\n",
    "'''\n",
    "data_path = '../../SCAD/old-data/'\n",
    "train_data = pd.read_csv(data_path+'v3.2.2_train.csv')\n",
    "test_data = pd.read_csv(data_path+'test.csv')\n",
    "\n",
    "y_train,y_test = train_data[['TOT_fast','TOT_med_fast','TOT_med','TOT_med_slow','TOT_slow']], test_data[['TOT_fast','TOT_med_fast','TOT_med','TOT_med_slow','TOT_slow']]\n",
    "X_train,X_test = train_data.drop(['Unnamed: 0','TOT_fast','TOT_med_fast','TOT_med','TOT_med_slow','TOT_slow'],axis=1),test_data.drop(['Unnamed: 0','TOT_fast','TOT_med_fast','TOT_med','TOT_med_slow','TOT_slow'],axis=1)"
   ]
  },
  {
   "cell_type": "code",
   "execution_count": 4,
   "metadata": {},
   "outputs": [],
   "source": [
    "def define_model(xshape):\n",
    "\n",
    "  model = Sequential()\n",
    "  model.add(InputLayer(input_shape=(xshape,)))\n",
    "  model.add(Dense(28, activation='relu', kernel_initializer='he_normal'))\n",
    "  model.add(Dense(14, activation='relu'))\n",
    "  model.add(Dense(8, activation='relu'))\n",
    "  model.add(Dense(5, activation='softmax')) # logits layer\n",
    "\n",
    "  model.compile(loss='categorical_crossentropy', optimizer='adam', metrics=['accuracy'])\n",
    "\n",
    "  return model\n",
    "\n",
    "def save_model(model,fname):\n",
    "  model_path = '../../SCAD/attribution-models/'\n",
    "  model.save(model_path+fname)\n",
    "\n",
    "def save_history(history,fname):\n",
    "  with open('../../SCAD/attribution-models/'+fname,'wb') as f:\n",
    "    pkl.dump(history,f)\n",
    "  f.close()"
   ]
  },
  {
   "cell_type": "code",
   "execution_count": 28,
   "metadata": {},
   "outputs": [
    {
     "name": "stdout",
     "output_type": "stream",
     "text": [
      "Epoch 1/50\n",
      "60002/60002 [==============================] - 62s 1ms/step - loss: 0.8213 - accuracy: 0.6663 - val_loss: 0.6793 - val_accuracy: 0.7342\n",
      "Epoch 2/50\n",
      "60002/60002 [==============================] - 62s 1ms/step - loss: 0.6358 - accuracy: 0.7497 - val_loss: 0.5910 - val_accuracy: 0.7668\n",
      "Epoch 3/50\n",
      "60002/60002 [==============================] - 61s 1ms/step - loss: 0.5676 - accuracy: 0.7780 - val_loss: 0.5280 - val_accuracy: 0.7914\n",
      "Epoch 4/50\n",
      "60002/60002 [==============================] - 62s 1ms/step - loss: 0.5254 - accuracy: 0.7938 - val_loss: 0.5102 - val_accuracy: 0.8021\n",
      "Epoch 5/50\n",
      "60002/60002 [==============================] - 62s 1ms/step - loss: 0.5009 - accuracy: 0.8032 - val_loss: 0.4758 - val_accuracy: 0.8156\n",
      "Epoch 6/50\n",
      "60002/60002 [==============================] - 63s 1ms/step - loss: 0.4860 - accuracy: 0.8095 - val_loss: 0.4822 - val_accuracy: 0.8077\n",
      "Epoch 7/50\n",
      "60002/60002 [==============================] - 65s 1ms/step - loss: 0.4748 - accuracy: 0.8141 - val_loss: 0.4614 - val_accuracy: 0.8219\n",
      "Epoch 8/50\n",
      "60002/60002 [==============================] - 64s 1ms/step - loss: 0.4644 - accuracy: 0.8181 - val_loss: 0.4475 - val_accuracy: 0.8288\n",
      "Epoch 9/50\n",
      "60002/60002 [==============================] - 63s 1ms/step - loss: 0.4570 - accuracy: 0.8215 - val_loss: 0.4621 - val_accuracy: 0.8234\n",
      "Epoch 10/50\n",
      "60002/60002 [==============================] - 62s 1ms/step - loss: 0.4510 - accuracy: 0.8240 - val_loss: 0.4622 - val_accuracy: 0.8236\n",
      "Epoch 11/50\n",
      "60002/60002 [==============================] - 62s 1ms/step - loss: 0.4461 - accuracy: 0.8262 - val_loss: 0.4358 - val_accuracy: 0.8271\n",
      "Epoch 12/50\n",
      "60002/60002 [==============================] - 62s 1ms/step - loss: 0.4428 - accuracy: 0.8275 - val_loss: 0.4387 - val_accuracy: 0.8279\n",
      "Epoch 13/50\n",
      "60002/60002 [==============================] - 62s 1ms/step - loss: 0.4395 - accuracy: 0.8286 - val_loss: 0.4442 - val_accuracy: 0.8264\n",
      "Epoch 14/50\n",
      "60002/60002 [==============================] - 62s 1ms/step - loss: 0.4376 - accuracy: 0.8292 - val_loss: 0.4403 - val_accuracy: 0.8265\n",
      "Epoch 15/50\n",
      "60002/60002 [==============================] - 62s 1ms/step - loss: 0.4348 - accuracy: 0.8302 - val_loss: 0.4702 - val_accuracy: 0.8198\n",
      "Epoch 16/50\n",
      "60002/60002 [==============================] - 62s 1ms/step - loss: 0.4329 - accuracy: 0.8312 - val_loss: 0.4286 - val_accuracy: 0.8322\n",
      "Epoch 17/50\n",
      "60002/60002 [==============================] - 64s 1ms/step - loss: 0.4316 - accuracy: 0.8319 - val_loss: 0.4368 - val_accuracy: 0.8279\n",
      "Epoch 18/50\n",
      "60002/60002 [==============================] - 63s 1ms/step - loss: 0.4298 - accuracy: 0.8327 - val_loss: 0.4337 - val_accuracy: 0.8330\n",
      "Epoch 19/50\n",
      "60002/60002 [==============================] - 62s 1ms/step - loss: 0.4284 - accuracy: 0.8330 - val_loss: 0.4346 - val_accuracy: 0.8337\n",
      "Epoch 20/50\n",
      "60002/60002 [==============================] - 63s 1ms/step - loss: 0.4272 - accuracy: 0.8334 - val_loss: 0.4319 - val_accuracy: 0.8342\n",
      "Epoch 21/50\n",
      "60002/60002 [==============================] - 63s 1ms/step - loss: 0.4249 - accuracy: 0.8344 - val_loss: 0.4214 - val_accuracy: 0.8364\n",
      "Epoch 22/50\n",
      "60002/60002 [==============================] - 63s 1ms/step - loss: 0.4240 - accuracy: 0.8347 - val_loss: 0.4396 - val_accuracy: 0.8250\n",
      "Epoch 23/50\n",
      "60002/60002 [==============================] - 63s 1ms/step - loss: 0.4222 - accuracy: 0.8348 - val_loss: 0.4176 - val_accuracy: 0.8353\n",
      "Epoch 24/50\n",
      "60002/60002 [==============================] - 63s 1ms/step - loss: 0.4203 - accuracy: 0.8355 - val_loss: 0.4449 - val_accuracy: 0.8304\n",
      "Epoch 25/50\n",
      "60002/60002 [==============================] - 63s 1ms/step - loss: 0.4189 - accuracy: 0.8365 - val_loss: 0.4149 - val_accuracy: 0.8371\n",
      "Epoch 26/50\n",
      "60002/60002 [==============================] - 63s 1ms/step - loss: 0.4164 - accuracy: 0.8369 - val_loss: 0.4131 - val_accuracy: 0.8419\n",
      "Epoch 27/50\n",
      "60002/60002 [==============================] - 63s 1ms/step - loss: 0.4148 - accuracy: 0.8379 - val_loss: 0.4344 - val_accuracy: 0.8312\n",
      "Epoch 28/50\n",
      "60002/60002 [==============================] - 63s 1ms/step - loss: 0.4137 - accuracy: 0.8377 - val_loss: 0.4042 - val_accuracy: 0.8401\n",
      "Epoch 29/50\n",
      "60002/60002 [==============================] - 63s 1ms/step - loss: 0.4126 - accuracy: 0.8387 - val_loss: 0.4089 - val_accuracy: 0.8414\n",
      "Epoch 30/50\n",
      "60002/60002 [==============================] - 63s 1ms/step - loss: 0.4107 - accuracy: 0.8390 - val_loss: 0.4121 - val_accuracy: 0.8373\n",
      "Epoch 31/50\n",
      "60002/60002 [==============================] - 63s 1ms/step - loss: 0.4094 - accuracy: 0.8395 - val_loss: 0.4072 - val_accuracy: 0.8408\n",
      "Epoch 32/50\n",
      "60002/60002 [==============================] - 63s 1ms/step - loss: 0.4083 - accuracy: 0.8401 - val_loss: 0.4122 - val_accuracy: 0.8368\n",
      "Epoch 33/50\n",
      "60002/60002 [==============================] - 63s 1ms/step - loss: 0.4073 - accuracy: 0.8405 - val_loss: 0.4106 - val_accuracy: 0.8366\n",
      "Epoch 34/50\n",
      "60002/60002 [==============================] - 63s 1ms/step - loss: 0.4056 - accuracy: 0.8408 - val_loss: 0.4059 - val_accuracy: 0.8414\n",
      "Epoch 35/50\n",
      "60002/60002 [==============================] - 64s 1ms/step - loss: 0.4042 - accuracy: 0.8421 - val_loss: 0.4218 - val_accuracy: 0.8326\n",
      "Epoch 36/50\n",
      "60002/60002 [==============================] - 63s 1ms/step - loss: 0.4022 - accuracy: 0.8431 - val_loss: 0.4087 - val_accuracy: 0.8417\n",
      "Epoch 37/50\n",
      "60002/60002 [==============================] - 64s 1ms/step - loss: 0.4004 - accuracy: 0.8441 - val_loss: 0.3979 - val_accuracy: 0.8465\n",
      "Epoch 38/50\n",
      "60002/60002 [==============================] - 63s 1ms/step - loss: 0.3982 - accuracy: 0.8448 - val_loss: 0.3980 - val_accuracy: 0.8455\n",
      "Epoch 39/50\n",
      "60002/60002 [==============================] - 64s 1ms/step - loss: 0.3968 - accuracy: 0.8455 - val_loss: 0.4042 - val_accuracy: 0.8434\n",
      "Epoch 40/50\n",
      "60002/60002 [==============================] - 64s 1ms/step - loss: 0.3951 - accuracy: 0.8457 - val_loss: 0.3888 - val_accuracy: 0.8527\n",
      "Epoch 41/50\n",
      "60002/60002 [==============================] - 64s 1ms/step - loss: 0.3941 - accuracy: 0.8462 - val_loss: 0.4001 - val_accuracy: 0.8449\n",
      "Epoch 42/50\n",
      "60002/60002 [==============================] - 63s 1ms/step - loss: 0.3930 - accuracy: 0.8468 - val_loss: 0.3901 - val_accuracy: 0.8518\n",
      "Epoch 43/50\n",
      "60002/60002 [==============================] - 64s 1ms/step - loss: 0.3918 - accuracy: 0.8475 - val_loss: 0.3971 - val_accuracy: 0.8441\n",
      "Epoch 44/50\n",
      "60002/60002 [==============================] - 64s 1ms/step - loss: 0.3897 - accuracy: 0.8477 - val_loss: 0.4018 - val_accuracy: 0.8405\n",
      "Epoch 45/50\n",
      "60002/60002 [==============================] - 64s 1ms/step - loss: 0.3887 - accuracy: 0.8481 - val_loss: 0.3759 - val_accuracy: 0.8523\n",
      "Epoch 46/50\n",
      "60002/60002 [==============================] - 66s 1ms/step - loss: 0.3879 - accuracy: 0.8483 - val_loss: 0.3925 - val_accuracy: 0.8449\n",
      "Epoch 47/50\n",
      "60002/60002 [==============================] - 64s 1ms/step - loss: 0.3875 - accuracy: 0.8486 - val_loss: 0.3874 - val_accuracy: 0.8522\n",
      "Epoch 48/50\n",
      "60002/60002 [==============================] - 64s 1ms/step - loss: 0.3871 - accuracy: 0.8487 - val_loss: 0.3984 - val_accuracy: 0.8467\n",
      "Epoch 49/50\n",
      "60002/60002 [==============================] - 64s 1ms/step - loss: 0.3866 - accuracy: 0.8486 - val_loss: 0.3866 - val_accuracy: 0.8522\n",
      "Epoch 50/50\n",
      "60002/60002 [==============================] - 64s 1ms/step - loss: 0.3859 - accuracy: 0.8485 - val_loss: 0.3852 - val_accuracy: 0.8498\n"
     ]
    }
   ],
   "source": [
    "# DROP \n",
    "drop_features = ['Distance3D']\n",
    "X_train_mod = X_train.drop(drop_features,axis=1)\n",
    "\n",
    "# fit the keras model on the dataset\n",
    "model = define_model(X_train_mod.shape[1])\n",
    "history = model.fit(X_train_mod.values, y_train.values,\n",
    "                      validation_split=0.10,\n",
    "                      epochs=50,\n",
    "                      batch_size=16)\n",
    "\n",
    "save_model(model,'model-sans-{:}.h5'.format(''.join(drop_features)))\n",
    "save_history(history.history,'history-sans-{:}.pkl'.format(''.join(drop_features)))"
   ]
  },
  {
   "cell_type": "code",
   "execution_count": 29,
   "metadata": {},
   "outputs": [
    {
     "name": "stdout",
     "output_type": "stream",
     "text": [
      "Epoch 1/50\n",
      "60002/60002 [==============================] - 59s 983us/step - loss: 0.7798 - accuracy: 0.6924 - val_loss: 0.6384 - val_accuracy: 0.7557\n",
      "Epoch 2/50\n",
      "60002/60002 [==============================] - 57s 955us/step - loss: 0.5799 - accuracy: 0.7766 - val_loss: 0.5556 - val_accuracy: 0.7822\n",
      "Epoch 3/50\n",
      "60002/60002 [==============================] - 57s 956us/step - loss: 0.5276 - accuracy: 0.7966 - val_loss: 0.5019 - val_accuracy: 0.8122\n",
      "Epoch 4/50\n",
      "60002/60002 [==============================] - 58s 964us/step - loss: 0.5024 - accuracy: 0.8068 - val_loss: 0.5062 - val_accuracy: 0.8035\n",
      "Epoch 5/50\n",
      "60002/60002 [==============================] - 58s 961us/step - loss: 0.4867 - accuracy: 0.8118 - val_loss: 0.4797 - val_accuracy: 0.8154\n",
      "Epoch 6/50\n",
      "60002/60002 [==============================] - 58s 962us/step - loss: 0.4771 - accuracy: 0.8151 - val_loss: 0.4613 - val_accuracy: 0.8220\n",
      "Epoch 7/50\n",
      "60002/60002 [==============================] - 58s 965us/step - loss: 0.4669 - accuracy: 0.8184 - val_loss: 0.4691 - val_accuracy: 0.8180\n",
      "Epoch 8/50\n",
      "60002/60002 [==============================] - 58s 960us/step - loss: 0.4587 - accuracy: 0.8214 - val_loss: 0.4496 - val_accuracy: 0.8250\n",
      "Epoch 9/50\n",
      "60002/60002 [==============================] - 59s 976us/step - loss: 0.4526 - accuracy: 0.8235 - val_loss: 0.4566 - val_accuracy: 0.8180\n",
      "Epoch 10/50\n",
      "60002/60002 [==============================] - 60s 999us/step - loss: 0.4480 - accuracy: 0.8258 - val_loss: 0.4632 - val_accuracy: 0.8181\n",
      "Epoch 11/50\n",
      "60002/60002 [==============================] - 61s 1ms/step - loss: 0.4437 - accuracy: 0.8271 - val_loss: 0.4478 - val_accuracy: 0.8252\n",
      "Epoch 12/50\n",
      "60002/60002 [==============================] - 59s 990us/step - loss: 0.4391 - accuracy: 0.8285 - val_loss: 0.4270 - val_accuracy: 0.8335\n",
      "Epoch 13/50\n",
      "60002/60002 [==============================] - 58s 964us/step - loss: 0.4349 - accuracy: 0.8305 - val_loss: 0.4282 - val_accuracy: 0.8314\n",
      "Epoch 14/50\n",
      "60002/60002 [==============================] - 58s 972us/step - loss: 0.4305 - accuracy: 0.8323 - val_loss: 0.4274 - val_accuracy: 0.8309\n",
      "Epoch 15/50\n",
      "60002/60002 [==============================] - 58s 961us/step - loss: 0.4263 - accuracy: 0.8337 - val_loss: 0.4242 - val_accuracy: 0.8303\n",
      "Epoch 16/50\n",
      "60002/60002 [==============================] - 60s 997us/step - loss: 0.4224 - accuracy: 0.8354 - val_loss: 0.4241 - val_accuracy: 0.8309\n",
      "Epoch 17/50\n",
      "60002/60002 [==============================] - 62s 1ms/step - loss: 0.4194 - accuracy: 0.8359 - val_loss: 0.4288 - val_accuracy: 0.8338\n",
      "Epoch 18/50\n",
      "60002/60002 [==============================] - 58s 969us/step - loss: 0.4163 - accuracy: 0.8378 - val_loss: 0.4101 - val_accuracy: 0.8399\n",
      "Epoch 19/50\n",
      "60002/60002 [==============================] - 58s 964us/step - loss: 0.4125 - accuracy: 0.8388 - val_loss: 0.4038 - val_accuracy: 0.8448\n",
      "Epoch 20/50\n",
      "60002/60002 [==============================] - 58s 968us/step - loss: 0.4099 - accuracy: 0.8396 - val_loss: 0.4041 - val_accuracy: 0.8429\n",
      "Epoch 21/50\n",
      "60002/60002 [==============================] - 58s 965us/step - loss: 0.4077 - accuracy: 0.8405 - val_loss: 0.4026 - val_accuracy: 0.8444\n",
      "Epoch 22/50\n",
      "60002/60002 [==============================] - 58s 964us/step - loss: 0.4053 - accuracy: 0.8413 - val_loss: 0.4071 - val_accuracy: 0.8416\n",
      "Epoch 23/50\n",
      "60002/60002 [==============================] - 58s 974us/step - loss: 0.4035 - accuracy: 0.8423 - val_loss: 0.4013 - val_accuracy: 0.8410\n",
      "Epoch 24/50\n",
      "60002/60002 [==============================] - 58s 966us/step - loss: 0.4017 - accuracy: 0.8426 - val_loss: 0.3939 - val_accuracy: 0.8465\n",
      "Epoch 25/50\n",
      "60002/60002 [==============================] - 58s 973us/step - loss: 0.3999 - accuracy: 0.8433 - val_loss: 0.3972 - val_accuracy: 0.8399\n",
      "Epoch 26/50\n",
      "60002/60002 [==============================] - 59s 983us/step - loss: 0.3981 - accuracy: 0.8438 - val_loss: 0.3988 - val_accuracy: 0.8453\n",
      "Epoch 27/50\n",
      "60002/60002 [==============================] - 59s 980us/step - loss: 0.3964 - accuracy: 0.8440 - val_loss: 0.4016 - val_accuracy: 0.8419\n",
      "Epoch 28/50\n",
      "60002/60002 [==============================] - 58s 967us/step - loss: 0.3950 - accuracy: 0.8447 - val_loss: 0.3916 - val_accuracy: 0.8448\n",
      "Epoch 29/50\n",
      "60002/60002 [==============================] - 58s 970us/step - loss: 0.3937 - accuracy: 0.8455 - val_loss: 0.4108 - val_accuracy: 0.8379\n",
      "Epoch 30/50\n",
      "60002/60002 [==============================] - 58s 971us/step - loss: 0.3921 - accuracy: 0.8458 - val_loss: 0.3879 - val_accuracy: 0.8477\n",
      "Epoch 31/50\n",
      "60002/60002 [==============================] - 58s 973us/step - loss: 0.3901 - accuracy: 0.8471 - val_loss: 0.3827 - val_accuracy: 0.8525\n",
      "Epoch 32/50\n",
      "60002/60002 [==============================] - 58s 974us/step - loss: 0.3889 - accuracy: 0.8473 - val_loss: 0.3920 - val_accuracy: 0.8448\n",
      "Epoch 33/50\n",
      "60002/60002 [==============================] - 58s 974us/step - loss: 0.3875 - accuracy: 0.8478 - val_loss: 0.3955 - val_accuracy: 0.8425\n",
      "Epoch 34/50\n",
      "60002/60002 [==============================] - 59s 981us/step - loss: 0.3866 - accuracy: 0.8482 - val_loss: 0.3824 - val_accuracy: 0.8544\n",
      "Epoch 35/50\n",
      "60002/60002 [==============================] - 58s 974us/step - loss: 0.3850 - accuracy: 0.8484 - val_loss: 0.3845 - val_accuracy: 0.8498\n",
      "Epoch 36/50\n",
      "60002/60002 [==============================] - 64s 1ms/step - loss: 0.3843 - accuracy: 0.8488 - val_loss: 0.3763 - val_accuracy: 0.8524\n",
      "Epoch 37/50\n",
      "60002/60002 [==============================] - 59s 976us/step - loss: 0.3837 - accuracy: 0.8489 - val_loss: 0.3829 - val_accuracy: 0.8502\n",
      "Epoch 38/50\n",
      "60002/60002 [==============================] - 58s 973us/step - loss: 0.3831 - accuracy: 0.8494 - val_loss: 0.3877 - val_accuracy: 0.8498\n",
      "Epoch 39/50\n",
      "60002/60002 [==============================] - 59s 979us/step - loss: 0.3821 - accuracy: 0.8499 - val_loss: 0.3885 - val_accuracy: 0.8498\n",
      "Epoch 40/50\n",
      "60002/60002 [==============================] - 60s 995us/step - loss: 0.3821 - accuracy: 0.8500 - val_loss: 0.3773 - val_accuracy: 0.8525\n",
      "Epoch 41/50\n",
      "60002/60002 [==============================] - 58s 975us/step - loss: 0.3815 - accuracy: 0.8504 - val_loss: 0.3800 - val_accuracy: 0.8513\n",
      "Epoch 42/50\n",
      "60002/60002 [==============================] - 59s 981us/step - loss: 0.3811 - accuracy: 0.8503 - val_loss: 0.3994 - val_accuracy: 0.8429\n",
      "Epoch 43/50\n",
      "60002/60002 [==============================] - 59s 978us/step - loss: 0.3803 - accuracy: 0.8506 - val_loss: 0.3949 - val_accuracy: 0.8431\n",
      "Epoch 44/50\n",
      "60002/60002 [==============================] - 59s 982us/step - loss: 0.3804 - accuracy: 0.8505 - val_loss: 0.3898 - val_accuracy: 0.8452\n",
      "Epoch 45/50\n",
      "60002/60002 [==============================] - 59s 983us/step - loss: 0.3798 - accuracy: 0.8506 - val_loss: 0.3771 - val_accuracy: 0.8516\n",
      "Epoch 46/50\n",
      "60002/60002 [==============================] - 59s 981us/step - loss: 0.3792 - accuracy: 0.8509 - val_loss: 0.3857 - val_accuracy: 0.8479\n",
      "Epoch 47/50\n",
      "60002/60002 [==============================] - 61s 1ms/step - loss: 0.3792 - accuracy: 0.8511 - val_loss: 0.3752 - val_accuracy: 0.8566\n",
      "Epoch 48/50\n",
      "60002/60002 [==============================] - 60s 995us/step - loss: 0.3784 - accuracy: 0.8512 - val_loss: 0.3800 - val_accuracy: 0.8503\n",
      "Epoch 49/50\n",
      "60002/60002 [==============================] - 59s 986us/step - loss: 0.3783 - accuracy: 0.8512 - val_loss: 0.3751 - val_accuracy: 0.8538\n",
      "Epoch 50/50\n",
      "60002/60002 [==============================] - 60s 992us/step - loss: 0.3776 - accuracy: 0.8519 - val_loss: 0.3762 - val_accuracy: 0.8518\n"
     ]
    }
   ],
   "source": [
    "# DROP \n",
    "drop_features = ['FixationDuration','RangeW','AutoWheel','Distance3D']\n",
    "X_train_mod = X_train.drop(drop_features,axis=1)\n",
    "\n",
    "# fit the keras model on the dataset\n",
    "model = define_model(X_train_mod.shape[1])\n",
    "history = model.fit(X_train_mod.values, y_train.values,\n",
    "                      validation_split=0.10,\n",
    "                      epochs=50,\n",
    "                      batch_size=16)\n",
    "\n",
    "save_model(model,'model-sans-{:}.h5'.format(''.join(drop_features)))\n",
    "save_history(history.history,'history-sans-{:}.pkl'.format(''.join(drop_features)))"
   ]
  },
  {
   "cell_type": "code",
   "execution_count": 5,
   "metadata": {},
   "outputs": [
    {
     "name": "stdout",
     "output_type": "stream",
     "text": [
      "Baseline: 0.854 \t Time: 2.962 \n",
      "Model sans FixationSeq: 0.801 \t Time: 2.763\n",
      "Model sans FixationDuration: 0.841 \t Time: 2.900\n",
      "Model sans AutoWheel: 0.839 \t Time: 2.869\n",
      "Model sans RightLaneType: 0.830 \t Time: 3.022\n",
      "Model sans RangeW: 0.844 \t Time: 2.487\n",
      "Model sans ManualWheel: 0.736 \t Time: 2.564\n",
      "Model sans Distance3D: 0.831 \t Time: 2.559\n",
      "Model sans FixationDurationRangeW: 0.845 \t Time: 2.289\n",
      "Model sans FixationDurationRangeWAutoWheel: 0.847 \t Time: 2.254\n",
      "Model sans FixationDurationRangeWAutoWheelDistance3D: 0.832 \t Time: 2.337\n"
     ]
    }
   ],
   "source": [
    "def perf_results(x,y):\n",
    "    start = time.time()\n",
    "    _, acc = model.evaluate(x,y,verbose=0)\n",
    "    t = time.time()-start\n",
    "    return acc, t\n",
    "\n",
    "dropped_features = [None,'FixationSeq','FixationDuration','AutoWheel','RightLaneType','RangeW','ManualWheel','Distance3D',['FixationDuration','RangeW'],['FixationDuration','RangeW','AutoWheel'],['FixationDuration','RangeW','AutoWheel','Distance3D']]\n",
    "# dropped_features =[['FixationDuration','RangeW']]\n",
    "results = {}\n",
    "for dropped_feature in dropped_features:\n",
    "    if dropped_feature == None:\n",
    "        model = load_model('../../SCAD/attribution-models/baseline-model.h5')\n",
    "        acc, t = perf_results(X_test,y_test)\n",
    "        print('Baseline: {:.3f} \\t Time: {:.3f} '.format(acc,t))\n",
    "        results['Baseline'] = (acc,t)\n",
    "        continue\n",
    "    if type(dropped_feature) == list:\n",
    "        model_name = ''.join(dropped_feature)\n",
    "    else:\n",
    "        model_name = dropped_feature\n",
    "        dropped_feature = [dropped_feature]\n",
    "    model = load_model('../../SCAD/attribution-models/model-sans-{:}.h5'.format(model_name))\n",
    "    acc,t = perf_results(X_test.drop(dropped_feature,axis=1),y_test)\n",
    "    results[model_name] = (acc,t)\n",
    "    print('Model sans {:}: {:.3f} \\t Time: {:.3f}'.format(model_name,acc,t))"
   ]
  },
  {
   "cell_type": "code",
   "execution_count": 7,
   "metadata": {},
   "outputs": [
    {
     "data": {
      "image/png": "[encoded data removed]",
      "text/plain": [
       "<Figure size 1080x576 with 1 Axes>"
      ]
     },
     "metadata": {
      "needs_background": "light"
     },
     "output_type": "display_data"
    }
   ],
   "source": [
    "'''\n",
    "ACCURACY PLOT\n",
    "'''\n",
    "acc_list = []\n",
    "keys = list(results.keys())\n",
    "for acc,t in list(results.values()):\n",
    "    acc_list.append(acc)\n",
    "\n",
    "fig = plt.figure(figsize=(15,8))\n",
    "ax = plt.gca()\n",
    "rects = ax.bar(keys,acc_list,color='cyan',edgecolor='black')\n",
    "plt.ylim(0.7,0.90)\n",
    "plt.ylabel('Accuracy')\n",
    "plt.xlabel('Different Models')\n",
    "plt.xticks(rotation=30)\n",
    "\n",
    "for i,rect in enumerate(rects):\n",
    "    height = np.round(rect.get_height(),3)\n",
    "    ax.text(rect.get_x() + rect.get_width()*0.5,1.001*height,\n",
    "                    '{:}'.format(height), ha='center', va='bottom',color='black',fontsize='large')\n",
    "_= ax.text(9.5,0.891,'Accuracy',color='black',bbox=dict(facecolor='white'),fontsize='large')\n",
    "\n",
    "'''\n",
    "SAVE THE PLOT?\n",
    "'''\n",
    "save = False\n",
    "if save:\n",
    "    plt.sca(ax)\n",
    "    plt.savefig('../results/11model-analysis.pdf',format='pdf')"
   ]
  },
  {
   "cell_type": "code",
   "execution_count": 28,
   "metadata": {
    "scrolled": true
   },
   "outputs": [
    {
     "name": "stdout",
     "output_type": "stream",
     "text": [
      "Model sans fixation sequence:  0.8008841276168823\n"
     ]
    }
   ],
   "source": [
    "model = load_model('../../SCAD/models/model-sans-{:}.h5'.format(model_name))\n",
    "_, test_accuracy = model.evaluate(X_test.drop(dropped_feature,axis=1),y_test,verbose=0)\n",
    "print('Model sans {:}: {:.3f}'.format(model_name,test_accuracy))"
   ]
  },
  {
   "cell_type": "code",
   "execution_count": 29,
   "metadata": {},
   "outputs": [
    {
     "name": "stdout",
     "output_type": "stream",
     "text": [
      "Model sans fixation duration:  0.8411555290222168\n"
     ]
    }
   ],
   "source": [
    "model = load_model('../../SCAD/models/model-sans-FixationDuration.h5')\n",
    "_, test_accuracy = model.evaluate(X_test.drop(['FixationDuration'],axis=1),y_test,verbose=0)\n",
    "print('Model sans fixation duration: ', test_accuracy)"
   ]
  },
  {
   "cell_type": "code",
   "execution_count": 30,
   "metadata": {},
   "outputs": [
    {
     "name": "stdout",
     "output_type": "stream",
     "text": [
      "Model sans auto wheel:  0.8389574289321899\n"
     ]
    }
   ],
   "source": [
    "model = load_model('../../SCAD/models/model-sans-autowheel.h5')\n",
    "_, test_accuracy = model.evaluate(X_test.drop(['AutoWheel'],axis=1),y_test,verbose=0)\n",
    "print('Model sans auto wheel: ', test_accuracy)"
   ]
  },
  {
   "cell_type": "code",
   "execution_count": 33,
   "metadata": {},
   "outputs": [
    {
     "name": "stdout",
     "output_type": "stream",
     "text": [
      "Model sans right lane type:  0.8297783732414246\n"
     ]
    }
   ],
   "source": [
    "model = load_model('../../SCAD/models/model-sans-rightlanetype.h5')\n",
    "_, test_accuracy = model.evaluate(X_test.drop(['RightLaneType'],axis=1),y_test,verbose=0)\n",
    "print('Model sans right lane type: ', test_accuracy)"
   ]
  },
  {
   "cell_type": "code",
   "execution_count": 11,
   "metadata": {},
   "outputs": [
    {
     "name": "stdout",
     "output_type": "stream",
     "text": [
      "Model sans fixation duration and rangeW:  0.8449929356575012\n"
     ]
    }
   ],
   "source": [
    "model = load_model('../../SCAD/models/model-sans-fixationduration-rangeW.h5')\n",
    "_, test_accuracy = model.evaluate(X_test.drop(['FixationDuration','RangeW'],axis=1),y_test,verbose=0)\n",
    "print('Model sans fixation duration and rangeW: ', test_accuracy)"
   ]
  },
  {
   "cell_type": "code",
   "execution_count": null,
   "metadata": {},
   "outputs": [],
   "source": []
  }
 ],
 "metadata": {
  "kernelspec": {
   "display_name": "Python 3",
   "language": "python",
   "name": "python3"
  },
  "language_info": {
   "codemirror_mode": {
    "name": "ipython",
    "version": 3
   },
   "file_extension": ".py",
   "mimetype": "text/x-python",
   "name": "python",
   "nbconvert_exporter": "python",
   "pygments_lexer": "ipython3",
   "version": "3.7.6"
  }
 },
 "nbformat": 4,
 "nbformat_minor": 2
}
