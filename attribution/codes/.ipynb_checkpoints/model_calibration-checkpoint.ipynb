{
 "cells": [
  {
   "cell_type": "code",
   "execution_count": 13,
   "metadata": {},
   "outputs": [
    {
     "ename": "ImportError",
     "evalue": "This version of TensorFlow Probability requires TensorFlow version >= 2.4; Detected an installation of version 2.3.0. Please upgrade TensorFlow to proceed.",
     "output_type": "error",
     "traceback": [
      "\u001b[0;31m---------------------------------------------------------------------------\u001b[0m",
      "\u001b[0;31mImportError\u001b[0m                               Traceback (most recent call last)",
      "\u001b[0;32m<ipython-input-13-722512e084ab>\u001b[0m in \u001b[0;36m<module>\u001b[0;34m\u001b[0m\n\u001b[1;32m     13\u001b[0m \u001b[0;32mimport\u001b[0m \u001b[0mtime\u001b[0m\u001b[0;34m\u001b[0m\u001b[0;34m\u001b[0m\u001b[0m\n\u001b[1;32m     14\u001b[0m \u001b[0;32mfrom\u001b[0m \u001b[0mtensorflow\u001b[0m \u001b[0;32mimport\u001b[0m \u001b[0mkeras\u001b[0m\u001b[0;34m\u001b[0m\u001b[0;34m\u001b[0m\u001b[0m\n\u001b[0;32m---> 15\u001b[0;31m \u001b[0;32mimport\u001b[0m \u001b[0mtensorflow_probability\u001b[0m \u001b[0;32mas\u001b[0m \u001b[0mtfp\u001b[0m\u001b[0;34m\u001b[0m\u001b[0;34m\u001b[0m\u001b[0m\n\u001b[0m",
      "\u001b[0;32m~/opt/anaconda3/lib/python3.7/site-packages/tensorflow_probability/__init__.py\u001b[0m in \u001b[0;36m<module>\u001b[0;34m\u001b[0m\n\u001b[1;32m     21\u001b[0m \u001b[0;31m# from tensorflow_probability.google import staging  # DisableOnExport\u001b[0m\u001b[0;34m\u001b[0m\u001b[0;34m\u001b[0m\u001b[0;34m\u001b[0m\u001b[0m\n\u001b[1;32m     22\u001b[0m \u001b[0;31m# from tensorflow_probability.google import tfp_google  # DisableOnExport\u001b[0m\u001b[0;34m\u001b[0m\u001b[0;34m\u001b[0m\u001b[0;34m\u001b[0m\u001b[0m\n\u001b[0;32m---> 23\u001b[0;31m \u001b[0;32mfrom\u001b[0m \u001b[0mtensorflow_probability\u001b[0m\u001b[0;34m.\u001b[0m\u001b[0mpython\u001b[0m \u001b[0;32mimport\u001b[0m \u001b[0;34m*\u001b[0m  \u001b[0;31m# pylint: disable=wildcard-import\u001b[0m\u001b[0;34m\u001b[0m\u001b[0;34m\u001b[0m\u001b[0m\n\u001b[0m\u001b[1;32m     24\u001b[0m \u001b[0;32mfrom\u001b[0m \u001b[0mtensorflow_probability\u001b[0m\u001b[0;34m.\u001b[0m\u001b[0mpython\u001b[0m\u001b[0;34m.\u001b[0m\u001b[0mversion\u001b[0m \u001b[0;32mimport\u001b[0m \u001b[0m__version__\u001b[0m\u001b[0;34m\u001b[0m\u001b[0;34m\u001b[0m\u001b[0m\n\u001b[1;32m     25\u001b[0m \u001b[0;34m\u001b[0m\u001b[0m\n",
      "\u001b[0;32m~/opt/anaconda3/lib/python3.7/site-packages/tensorflow_probability/python/__init__.py\u001b[0m in \u001b[0;36m<module>\u001b[0;34m\u001b[0m\n\u001b[1;32m    140\u001b[0m   \u001b[0;31m# Non-lazy load of packages that register with tensorflow or keras.\u001b[0m\u001b[0;34m\u001b[0m\u001b[0;34m\u001b[0m\u001b[0;34m\u001b[0m\u001b[0m\n\u001b[1;32m    141\u001b[0m   \u001b[0;32mfor\u001b[0m \u001b[0mpkg_name\u001b[0m \u001b[0;32min\u001b[0m \u001b[0m_maybe_nonlazy_load\u001b[0m\u001b[0;34m:\u001b[0m\u001b[0;34m\u001b[0m\u001b[0;34m\u001b[0m\u001b[0m\n\u001b[0;32m--> 142\u001b[0;31m     \u001b[0mdir\u001b[0m\u001b[0;34m(\u001b[0m\u001b[0mglobals\u001b[0m\u001b[0;34m(\u001b[0m\u001b[0;34m)\u001b[0m\u001b[0;34m[\u001b[0m\u001b[0mpkg_name\u001b[0m\u001b[0;34m]\u001b[0m\u001b[0;34m)\u001b[0m  \u001b[0;31m# Forces loading the package from its lazy loader.\u001b[0m\u001b[0;34m\u001b[0m\u001b[0;34m\u001b[0m\u001b[0m\n\u001b[0m\u001b[1;32m    143\u001b[0m \u001b[0;34m\u001b[0m\u001b[0m\n\u001b[1;32m    144\u001b[0m \u001b[0;34m\u001b[0m\u001b[0m\n",
      "\u001b[0;32m~/opt/anaconda3/lib/python3.7/site-packages/tensorflow_probability/python/internal/lazy_loader.py\u001b[0m in \u001b[0;36m__dir__\u001b[0;34m(self)\u001b[0m\n\u001b[1;32m     59\u001b[0m \u001b[0;34m\u001b[0m\u001b[0m\n\u001b[1;32m     60\u001b[0m   \u001b[0;32mdef\u001b[0m \u001b[0m__dir__\u001b[0m\u001b[0;34m(\u001b[0m\u001b[0mself\u001b[0m\u001b[0;34m)\u001b[0m\u001b[0;34m:\u001b[0m\u001b[0;34m\u001b[0m\u001b[0;34m\u001b[0m\u001b[0m\n\u001b[0;32m---> 61\u001b[0;31m     \u001b[0mmodule\u001b[0m \u001b[0;34m=\u001b[0m \u001b[0mself\u001b[0m\u001b[0;34m.\u001b[0m\u001b[0m_load\u001b[0m\u001b[0;34m(\u001b[0m\u001b[0;34m)\u001b[0m\u001b[0;34m\u001b[0m\u001b[0;34m\u001b[0m\u001b[0m\n\u001b[0m\u001b[1;32m     62\u001b[0m     \u001b[0;32mreturn\u001b[0m \u001b[0mdir\u001b[0m\u001b[0;34m(\u001b[0m\u001b[0mmodule\u001b[0m\u001b[0;34m)\u001b[0m\u001b[0;34m\u001b[0m\u001b[0;34m\u001b[0m\u001b[0m\n\u001b[1;32m     63\u001b[0m \u001b[0;34m\u001b[0m\u001b[0m\n",
      "\u001b[0;32m~/opt/anaconda3/lib/python3.7/site-packages/tensorflow_probability/python/internal/lazy_loader.py\u001b[0m in \u001b[0;36m_load\u001b[0;34m(self)\u001b[0m\n\u001b[1;32m     39\u001b[0m     \u001b[0;34m\"\"\"Load the module and insert it into the parent's globals.\"\"\"\u001b[0m\u001b[0;34m\u001b[0m\u001b[0;34m\u001b[0m\u001b[0m\n\u001b[1;32m     40\u001b[0m     \u001b[0;32mif\u001b[0m \u001b[0mcallable\u001b[0m\u001b[0;34m(\u001b[0m\u001b[0mself\u001b[0m\u001b[0;34m.\u001b[0m\u001b[0m_on_first_access\u001b[0m\u001b[0;34m)\u001b[0m\u001b[0;34m:\u001b[0m\u001b[0;34m\u001b[0m\u001b[0;34m\u001b[0m\u001b[0m\n\u001b[0;32m---> 41\u001b[0;31m       \u001b[0mself\u001b[0m\u001b[0;34m.\u001b[0m\u001b[0m_on_first_access\u001b[0m\u001b[0;34m(\u001b[0m\u001b[0;34m)\u001b[0m\u001b[0;34m\u001b[0m\u001b[0;34m\u001b[0m\u001b[0m\n\u001b[0m\u001b[1;32m     42\u001b[0m       \u001b[0mself\u001b[0m\u001b[0;34m.\u001b[0m\u001b[0m_on_first_access\u001b[0m \u001b[0;34m=\u001b[0m \u001b[0;32mNone\u001b[0m\u001b[0;34m\u001b[0m\u001b[0;34m\u001b[0m\u001b[0m\n\u001b[1;32m     43\u001b[0m     \u001b[0;31m# Import the target module and insert it into the parent's namespace\u001b[0m\u001b[0;34m\u001b[0m\u001b[0;34m\u001b[0m\u001b[0;34m\u001b[0m\u001b[0m\n",
      "\u001b[0;32m~/opt/anaconda3/lib/python3.7/site-packages/tensorflow_probability/python/__init__.py\u001b[0m in \u001b[0;36m_validate_tf_environment\u001b[0;34m(package)\u001b[0m\n\u001b[1;32m     66\u001b[0m         'Please upgrade TensorFlow to proceed.'.format(\n\u001b[1;32m     67\u001b[0m             \u001b[0mrequired\u001b[0m\u001b[0;34m=\u001b[0m\u001b[0mrequired_tensorflow_version\u001b[0m\u001b[0;34m,\u001b[0m\u001b[0;34m\u001b[0m\u001b[0;34m\u001b[0m\u001b[0m\n\u001b[0;32m---> 68\u001b[0;31m             present=tf.__version__))\n\u001b[0m\u001b[1;32m     69\u001b[0m \u001b[0;34m\u001b[0m\u001b[0m\n\u001b[1;32m     70\u001b[0m   if (package == 'mcmc' and\n",
      "\u001b[0;31mImportError\u001b[0m: This version of TensorFlow Probability requires TensorFlow version >= 2.4; Detected an installation of version 2.3.0. Please upgrade TensorFlow to proceed."
     ]
    }
   ],
   "source": [
    "import numpy as np\n",
    "import pandas as pd\n",
    "import tensorflow as tf\n",
    "import pickle as pkl\n",
    "import matplotlib.pyplot as plt\n",
    "from sklearn import metrics\n",
    "from sklearn.model_selection import train_test_split\n",
    "from sklearn.preprocessing import StandardScaler, OneHotEncoder\n",
    "from sklearn.utils import resample\n",
    "from tensorflow.keras.models import Sequential, load_model\n",
    "from tensorflow.keras.layers import Dense, InputLayer\n",
    "from tensorflow.keras.callbacks import EarlyStopping, ModelCheckpoint, TensorBoard\n",
    "import time\n",
    "from tensorflow import keras\n",
    "import tensorflow_probability as tfp"
   ]
  },
  {
   "cell_type": "code",
   "execution_count": 2,
   "metadata": {},
   "outputs": [],
   "source": [
    "FOLDERPATH = '../'"
   ]
  },
  {
   "cell_type": "code",
   "execution_count": 3,
   "metadata": {},
   "outputs": [],
   "source": [
    "'''\n",
    "LOAD DATA\n",
    "'''\n",
    "data_path = FOLDERPATH+'old-data/'\n",
    "train_data = pd.read_csv(data_path+'v3.2.2_train.csv')\n",
    "test_data = pd.read_csv(data_path+'test.csv')\n",
    "\n",
    "y_train,y_test = train_data[['TOT_fast','TOT_med_fast','TOT_med','TOT_med_slow','TOT_slow']], test_data[['TOT_fast','TOT_med_fast','TOT_med','TOT_med_slow','TOT_slow']]\n",
    "X_train,X_test = train_data.drop(['Unnamed: 0','TOT_fast','TOT_med_fast','TOT_med','TOT_med_slow','TOT_slow'],axis=1),test_data.drop(['Unnamed: 0','TOT_fast','TOT_med_fast','TOT_med','TOT_med_slow','TOT_slow'],axis=1)"
   ]
  },
  {
   "cell_type": "code",
   "execution_count": 6,
   "metadata": {},
   "outputs": [],
   "source": [
    "def define_model(xshape):\n",
    "    input_layer = keras.layers.Input(shape=(xshape,))\n",
    "    dense_1 = keras.layers.Dense(28, activation='relu', kernel_initializer='he_normal')(input_layer)\n",
    "    dense_2 = keras.layers.Dense(14, activation='relu')(dense_1)\n",
    "    dense_3 = keras.layers.Dense(8, activation='relu')(dense_2)\n",
    "    logits = keras.layers.Dense(5)(dense_3) \n",
    "    model = keras.Model(inputs=input_layer, outputs=logits)\n",
    "    \n",
    "    loss_fn = keras.losses.CategoricalCrossentropy(from_logits=True)\n",
    "    model.compile(optimizer='adam', loss=loss_fn, metrics=['accuracy'])\n",
    "    \n",
    "    return model\n",
    "\n",
    "def save_model(model,fname):\n",
    "    model_path = FOLDERPATH+'attribution-models/'\n",
    "    model.save(model_path+fname)\n",
    "\n",
    "def save_history(history,fname):\n",
    "    with open(FOLDERPATH+'attribution-models/'+fname,'wb') as f:\n",
    "        pkl.dump(history,f)\n",
    "    f.close()"
   ]
  },
  {
   "cell_type": "code",
   "execution_count": 7,
   "metadata": {},
   "outputs": [
    {
     "name": "stdout",
     "output_type": "stream",
     "text": [
      "Epoch 1/50\n",
      "60002/60002 [==============================] - 51s 851us/step - loss: 0.8102 - accuracy: 0.6724 - val_loss: 0.6612 - val_accuracy: 0.7413\n",
      "Epoch 2/50\n",
      "60002/60002 [==============================] - 45s 749us/step - loss: 0.6207 - accuracy: 0.7586 - val_loss: 0.5844 - val_accuracy: 0.7761\n",
      "Epoch 3/50\n",
      "60002/60002 [==============================] - 46s 772us/step - loss: 0.5590 - accuracy: 0.7847 - val_loss: 0.5385 - val_accuracy: 0.7956\n",
      "Epoch 4/50\n",
      "60002/60002 [==============================] - 44s 740us/step - loss: 0.5206 - accuracy: 0.8006 - val_loss: 0.5057 - val_accuracy: 0.8079\n",
      "Epoch 5/50\n",
      "60002/60002 [==============================] - 43s 723us/step - loss: 0.4963 - accuracy: 0.8118 - val_loss: 0.4921 - val_accuracy: 0.8133\n",
      "Epoch 6/50\n",
      "60002/60002 [==============================] - 44s 735us/step - loss: 0.4801 - accuracy: 0.8179 - val_loss: 0.4715 - val_accuracy: 0.8238\n",
      "Epoch 7/50\n",
      "60002/60002 [==============================] - 44s 730us/step - loss: 0.4675 - accuracy: 0.8237 - val_loss: 0.4578 - val_accuracy: 0.8282\n",
      "Epoch 8/50\n",
      "60002/60002 [==============================] - 44s 736us/step - loss: 0.4585 - accuracy: 0.8269 - val_loss: 0.4588 - val_accuracy: 0.8272\n",
      "Epoch 9/50\n",
      "60002/60002 [==============================] - 45s 744us/step - loss: 0.4492 - accuracy: 0.8298 - val_loss: 0.4491 - val_accuracy: 0.8275\n",
      "Epoch 10/50\n",
      "60002/60002 [==============================] - 45s 746us/step - loss: 0.4419 - accuracy: 0.8319 - val_loss: 0.4424 - val_accuracy: 0.8329\n",
      "Epoch 11/50\n",
      "60002/60002 [==============================] - 44s 732us/step - loss: 0.4362 - accuracy: 0.8344 - val_loss: 0.4546 - val_accuracy: 0.8257\n",
      "Epoch 12/50\n",
      "60002/60002 [==============================] - 44s 733us/step - loss: 0.4316 - accuracy: 0.8361 - val_loss: 0.4328 - val_accuracy: 0.8357\n",
      "Epoch 13/50\n",
      "60002/60002 [==============================] - 45s 746us/step - loss: 0.4275 - accuracy: 0.8377 - val_loss: 0.4221 - val_accuracy: 0.8394\n",
      "Epoch 14/50\n",
      "60002/60002 [==============================] - 44s 738us/step - loss: 0.4237 - accuracy: 0.8394 - val_loss: 0.4296 - val_accuracy: 0.8380\n",
      "Epoch 15/50\n",
      "60002/60002 [==============================] - 44s 736us/step - loss: 0.4206 - accuracy: 0.8404 - val_loss: 0.4130 - val_accuracy: 0.8429\n",
      "Epoch 16/50\n",
      "60002/60002 [==============================] - 45s 747us/step - loss: 0.4178 - accuracy: 0.8415 - val_loss: 0.4260 - val_accuracy: 0.8406\n",
      "Epoch 17/50\n",
      "60002/60002 [==============================] - 44s 738us/step - loss: 0.4150 - accuracy: 0.8431 - val_loss: 0.4163 - val_accuracy: 0.8445\n",
      "Epoch 18/50\n",
      "60002/60002 [==============================] - 44s 741us/step - loss: 0.4136 - accuracy: 0.8433 - val_loss: 0.4032 - val_accuracy: 0.8475\n",
      "Epoch 19/50\n",
      "60002/60002 [==============================] - 44s 740us/step - loss: 0.4115 - accuracy: 0.8441 - val_loss: 0.4169 - val_accuracy: 0.8457\n",
      "Epoch 20/50\n",
      "60002/60002 [==============================] - 45s 742us/step - loss: 0.4103 - accuracy: 0.8447 - val_loss: 0.4193 - val_accuracy: 0.8449\n",
      "Epoch 21/50\n",
      "60002/60002 [==============================] - 45s 742us/step - loss: 0.4079 - accuracy: 0.8458 - val_loss: 0.4031 - val_accuracy: 0.8483\n",
      "Epoch 22/50\n",
      "60002/60002 [==============================] - 45s 757us/step - loss: 0.4062 - accuracy: 0.8464 - val_loss: 0.4221 - val_accuracy: 0.8391\n",
      "Epoch 23/50\n",
      "60002/60002 [==============================] - 45s 744us/step - loss: 0.4052 - accuracy: 0.8466 - val_loss: 0.4025 - val_accuracy: 0.8442\n",
      "Epoch 24/50\n",
      "60002/60002 [==============================] - 45s 745us/step - loss: 0.4036 - accuracy: 0.8474 - val_loss: 0.4015 - val_accuracy: 0.8450\n",
      "Epoch 25/50\n",
      "60002/60002 [==============================] - 45s 751us/step - loss: 0.4018 - accuracy: 0.8479 - val_loss: 0.3993 - val_accuracy: 0.8487\n",
      "Epoch 26/50\n",
      "60002/60002 [==============================] - 45s 745us/step - loss: 0.3995 - accuracy: 0.8480 - val_loss: 0.3953 - val_accuracy: 0.8516\n",
      "Epoch 27/50\n",
      "60002/60002 [==============================] - 45s 748us/step - loss: 0.3969 - accuracy: 0.8492 - val_loss: 0.4061 - val_accuracy: 0.8452\n",
      "Epoch 28/50\n",
      "60002/60002 [==============================] - 46s 759us/step - loss: 0.3960 - accuracy: 0.8495 - val_loss: 0.3947 - val_accuracy: 0.8495\n",
      "Epoch 29/50\n",
      "60002/60002 [==============================] - 45s 750us/step - loss: 0.3937 - accuracy: 0.8507 - val_loss: 0.3974 - val_accuracy: 0.8500\n",
      "Epoch 30/50\n",
      "60002/60002 [==============================] - 45s 752us/step - loss: 0.3921 - accuracy: 0.8505 - val_loss: 0.3977 - val_accuracy: 0.8471\n",
      "Epoch 31/50\n",
      "60002/60002 [==============================] - 45s 751us/step - loss: 0.3908 - accuracy: 0.8513 - val_loss: 0.3848 - val_accuracy: 0.8527\n",
      "Epoch 32/50\n",
      "60002/60002 [==============================] - 45s 751us/step - loss: 0.3899 - accuracy: 0.8510 - val_loss: 0.3973 - val_accuracy: 0.8498\n",
      "Epoch 33/50\n",
      "60002/60002 [==============================] - 45s 757us/step - loss: 0.3889 - accuracy: 0.8519 - val_loss: 0.3813 - val_accuracy: 0.8540\n",
      "Epoch 34/50\n",
      "60002/60002 [==============================] - 46s 763us/step - loss: 0.3872 - accuracy: 0.8519 - val_loss: 0.3803 - val_accuracy: 0.8528\n",
      "Epoch 35/50\n",
      "60002/60002 [==============================] - 45s 752us/step - loss: 0.3863 - accuracy: 0.8517 - val_loss: 0.3915 - val_accuracy: 0.8512\n",
      "Epoch 36/50\n",
      "60002/60002 [==============================] - 45s 756us/step - loss: 0.3853 - accuracy: 0.8523 - val_loss: 0.3840 - val_accuracy: 0.8519\n",
      "Epoch 37/50\n",
      "60002/60002 [==============================] - 46s 770us/step - loss: 0.3842 - accuracy: 0.8526 - val_loss: 0.3882 - val_accuracy: 0.8516\n",
      "Epoch 38/50\n",
      "60002/60002 [==============================] - 46s 766us/step - loss: 0.3831 - accuracy: 0.8528 - val_loss: 0.3892 - val_accuracy: 0.8509\n",
      "Epoch 39/50\n",
      "60002/60002 [==============================] - 47s 778us/step - loss: 0.3823 - accuracy: 0.8528 - val_loss: 0.3746 - val_accuracy: 0.8558\n",
      "Epoch 40/50\n",
      "60002/60002 [==============================] - 46s 765us/step - loss: 0.3816 - accuracy: 0.8532 - val_loss: 0.4148 - val_accuracy: 0.8436\n",
      "Epoch 41/50\n",
      "60002/60002 [==============================] - 45s 749us/step - loss: 0.3805 - accuracy: 0.8535 - val_loss: 0.3747 - val_accuracy: 0.8549\n",
      "Epoch 42/50\n",
      "60002/60002 [==============================] - 45s 746us/step - loss: 0.3802 - accuracy: 0.8535 - val_loss: 0.3727 - val_accuracy: 0.8552\n",
      "Epoch 43/50\n",
      "60002/60002 [==============================] - 53s 889us/step - loss: 0.3798 - accuracy: 0.8540 - val_loss: 0.3786 - val_accuracy: 0.8497\n",
      "Epoch 44/50\n",
      "60002/60002 [==============================] - 46s 764us/step - loss: 0.3778 - accuracy: 0.8544 - val_loss: 0.3733 - val_accuracy: 0.8552\n",
      "Epoch 45/50\n",
      "60002/60002 [==============================] - 47s 780us/step - loss: 0.3771 - accuracy: 0.8546 - val_loss: 0.3751 - val_accuracy: 0.8540\n",
      "Epoch 46/50\n",
      "60002/60002 [==============================] - 46s 774us/step - loss: 0.3761 - accuracy: 0.8546 - val_loss: 0.3762 - val_accuracy: 0.8535\n",
      "Epoch 47/50\n",
      "60002/60002 [==============================] - 46s 773us/step - loss: 0.3747 - accuracy: 0.8554 - val_loss: 0.3842 - val_accuracy: 0.8523\n",
      "Epoch 48/50\n",
      "60002/60002 [==============================] - 47s 783us/step - loss: 0.3741 - accuracy: 0.8557 - val_loss: 0.3787 - val_accuracy: 0.8548\n",
      "Epoch 49/50\n",
      "60002/60002 [==============================] - 48s 793us/step - loss: 0.3732 - accuracy: 0.8561 - val_loss: 0.3763 - val_accuracy: 0.8554\n",
      "Epoch 50/50\n",
      "60002/60002 [==============================] - 48s 797us/step - loss: 0.3717 - accuracy: 0.8570 - val_loss: 0.3720 - val_accuracy: 0.8548\n"
     ]
    }
   ],
   "source": [
    "# fit the keras model on the dataset\n",
    "model = define_model(X_train.shape[1])\n",
    "history = model.fit(X_train.values, y_train.values,\n",
    "                      validation_split=0.10,\n",
    "                      epochs=50,\n",
    "                      batch_size=16)\n",
    "\n",
    "save_model(model,'model_for_calibration.h5')"
   ]
  },
  {
   "cell_type": "code",
   "execution_count": 8,
   "metadata": {},
   "outputs": [
    {
     "ename": "NameError",
     "evalue": "name 'tfp' is not defined",
     "output_type": "error",
     "traceback": [
      "\u001b[0;31m---------------------------------------------------------------------------\u001b[0m",
      "\u001b[0;31mNameError\u001b[0m                                 Traceback (most recent call last)",
      "\u001b[0;32m<ipython-input-8-89b344f55f2d>\u001b[0m in \u001b[0;36m<module>\u001b[0;34m\u001b[0m\n\u001b[1;32m      5\u001b[0m \u001b[0mlogits\u001b[0m \u001b[0;34m=\u001b[0m \u001b[0mtf\u001b[0m\u001b[0;34m.\u001b[0m\u001b[0mconvert_to_tensor\u001b[0m\u001b[0;34m(\u001b[0m\u001b[0my_pred\u001b[0m\u001b[0;34m,\u001b[0m \u001b[0mdtype\u001b[0m\u001b[0;34m=\u001b[0m\u001b[0mtf\u001b[0m\u001b[0;34m.\u001b[0m\u001b[0mfloat32\u001b[0m\u001b[0;34m,\u001b[0m \u001b[0mname\u001b[0m\u001b[0;34m=\u001b[0m\u001b[0;34m'logits'\u001b[0m\u001b[0;34m)\u001b[0m\u001b[0;34m\u001b[0m\u001b[0;34m\u001b[0m\u001b[0m\n\u001b[1;32m      6\u001b[0m \u001b[0;34m\u001b[0m\u001b[0m\n\u001b[0;32m----> 7\u001b[0;31m tfp.stats.expected_calibration_error(num_bins=num_bins, \n\u001b[0m\u001b[1;32m      8\u001b[0m                                      \u001b[0mlogits\u001b[0m\u001b[0;34m=\u001b[0m\u001b[0mlogits\u001b[0m\u001b[0;34m,\u001b[0m\u001b[0;34m\u001b[0m\u001b[0;34m\u001b[0m\u001b[0m\n\u001b[1;32m      9\u001b[0m                                      labels_true=labels_true)\n",
      "\u001b[0;31mNameError\u001b[0m: name 'tfp' is not defined"
     ]
    }
   ],
   "source": [
    "y_pred = model.predict(X_test)\n",
    "\n",
    "num_bins = 50\n",
    "labels_true = tf.convert_to_tensor(y_test, dtype=tf.int32, name='labels_true')\n",
    "logits = tf.convert_to_tensor(y_pred, dtype=tf.float32, name='logits')\n",
    "\n",
    "tfp.stats.expected_calibration_error(num_bins=num_bins, \n",
    "                                     logits=logits, \n",
    "                                     labels_true=labels_true)"
   ]
  },
  {
   "cell_type": "code",
   "execution_count": 14,
   "metadata": {},
   "outputs": [
    {
     "name": "stdout",
     "output_type": "stream",
     "text": [
      "2.3.0\n"
     ]
    }
   ],
   "source": [
    "print(tf.__version__)"
   ]
  },
  {
   "cell_type": "code",
   "execution_count": null,
   "metadata": {},
   "outputs": [],
   "source": []
  }
 ],
 "metadata": {
  "kernelspec": {
   "display_name": "Python 3",
   "language": "python",
   "name": "python3"
  },
  "language_info": {
   "codemirror_mode": {
    "name": "ipython",
    "version": 3
   },
   "file_extension": ".py",
   "mimetype": "text/x-python",
   "name": "python",
   "nbconvert_exporter": "python",
   "pygments_lexer": "ipython3",
   "version": "3.7.6"
  }
 },
 "nbformat": 4,
 "nbformat_minor": 4
}
