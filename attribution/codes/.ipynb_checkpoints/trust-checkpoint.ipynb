{
 "cells": [
  {
   "cell_type": "code",
   "execution_count": 103,
   "metadata": {},
   "outputs": [],
   "source": [
    "import numpy as np\n",
    "import pandas as pd\n",
    "import tensorflow as tf\n",
    "import pickle as pkl\n",
    "import matplotlib.pyplot as plt\n",
    "from sklearn import metrics\n",
    "from sklearn.model_selection import train_test_split\n",
    "from sklearn.preprocessing import StandardScaler, OneHotEncoder, MinMaxScaler\n",
    "from sklearn.utils import resample\n",
    "from tensorflow.keras.models import Sequential, load_model\n",
    "from tensorflow.keras.layers import Dense, InputLayer\n",
    "from tensorflow.keras.callbacks import EarlyStopping, ModelCheckpoint, TensorBoard\n",
    "import time\n",
    "from alibi.confidence import TrustScore\n",
    "import seaborn as sns\n",
    "import shap"
   ]
  },
  {
   "cell_type": "code",
   "execution_count": 2,
   "metadata": {},
   "outputs": [],
   "source": [
    "FOLDERPATH = '../'"
   ]
  },
  {
   "cell_type": "markdown",
   "metadata": {},
   "source": [
    "### LOAD DATA AND MODEL"
   ]
  },
  {
   "cell_type": "code",
   "execution_count": 3,
   "metadata": {},
   "outputs": [],
   "source": [
    "'''\n",
    "LOAD MODEL\n",
    "'''\n",
    "model = load_model(FOLDERPATH+'tot-models/latest/model.h5')\n",
    "\n",
    "'''\n",
    "LOAD DATA\n",
    "'''\n",
    "data_path = FOLDERPATH+'old-data/'\n",
    "train_data = pd.read_csv(data_path+'v3.2.2_train.csv')\n",
    "test_data = pd.read_csv(data_path+'test.csv')\n",
    "\n",
    "y_train,y_test = train_data[['TOT_fast','TOT_med_fast','TOT_med','TOT_med_slow','TOT_slow']], test_data[['TOT_fast','TOT_med_fast','TOT_med','TOT_med_slow','TOT_slow']]\n",
    "X_train,X_test = train_data.drop(['Unnamed: 0','TOT_fast','TOT_med_fast','TOT_med','TOT_med_slow','TOT_slow'],axis=1),test_data.drop(['Unnamed: 0','TOT_fast','TOT_med_fast','TOT_med','TOT_med_slow','TOT_slow'],axis=1)"
   ]
  },
  {
   "cell_type": "markdown",
   "metadata": {},
   "source": [
    "### FIT TRUST SCORE MODEL"
   ]
  },
  {
   "cell_type": "code",
   "execution_count": null,
   "metadata": {},
   "outputs": [],
   "source": [
    "ts = TrustScore(alpha=.05,\n",
    "                filter_type='distance_knn',\n",
    "                k_filter=10,\n",
    "                leaf_size=40,\n",
    "                metric='euclidean',\n",
    "                dist_filter_type='point')"
   ]
  },
  {
   "cell_type": "code",
   "execution_count": 13,
   "metadata": {},
   "outputs": [],
   "source": [
    "ts.fit(X_train.values, np.argmax(y_train.values,axis=1), classes=5)"
   ]
  },
  {
   "cell_type": "code",
   "execution_count": 15,
   "metadata": {},
   "outputs": [],
   "source": [
    "pkl.dump(ts,open(FOLDERPATH+'confidence-models/trust_model.pkl','wb'))"
   ]
  },
  {
   "cell_type": "markdown",
   "metadata": {},
   "source": [
    "### LOAD TRUST SCORE MODEL AND DEFINE SOME FUNCTIONS"
   ]
  },
  {
   "cell_type": "code",
   "execution_count": 4,
   "metadata": {},
   "outputs": [],
   "source": [
    "ts = pkl.load(open(FOLDERPATH+'confidence-models/trust_model.pkl','rb'))\n",
    "randomIdx = pkl.load(open(FOLDERPATH+'old-data/old-data-randomIdx.pkl','rb'))"
   ]
  },
  {
   "cell_type": "code",
   "execution_count": 5,
   "metadata": {},
   "outputs": [],
   "source": [
    "def get_trust_and_model_results(model,x,y):\n",
    "    trust_score, closest_class = ts.score(x,y,k=2,dist_type='point')\n",
    "    pred_score, pred = model.predict(x).max(axis=1), model.predict(x).argmax(axis=1)\n",
    "    return pred_score, pred, trust_score, closest_class\n",
    "\n",
    "def get_sample(X_data,y_data,s_no):\n",
    "    x = X_data.values[s_no].reshape(1,-1)\n",
    "    y = np.argmax(y_data.values,axis=1)[s_no]\n",
    "    return x, y"
   ]
  },
  {
   "cell_type": "markdown",
   "metadata": {},
   "source": [
    "### TRUST SCORE AND MODEL CONFIDENCE FOR SAMPLE"
   ]
  },
  {
   "cell_type": "code",
   "execution_count": 6,
   "metadata": {},
   "outputs": [
    {
     "name": "stdout",
     "output_type": "stream",
     "text": [
      " Predicted Class: 3\t Model confidence: 0.5139\n",
      " Closest Class: 2\t Trust Score: 53157505458.3974\n",
      " True Label: 4\n"
     ]
    }
   ],
   "source": [
    "'''\n",
    "Enter sample number in s_no\n",
    "'''\n",
    "s_no = 901\n",
    "x, y = get_sample(X_test,y_test,s_no)\n",
    "pred_score, pred, trust_score, closest_class = get_trust_and_model_results(model,x,y)\n",
    "\n",
    "print(\" Predicted Class: {:}\\t Model confidence: {:}\\n Closest Class: {:}\\t Trust Score: {:}\\n True Label: {:}\"\\\n",
    "                         .format(pred.item(),round(pred_score.item(),4),closest_class.item(),round(trust_score.item(),4),y))"
   ]
  },
  {
   "cell_type": "markdown",
   "metadata": {},
   "source": [
    "### TRUST AND MODEL CONFIDENCE ON RANDOM TEST SET VALUES"
   ]
  },
  {
   "cell_type": "code",
   "execution_count": 7,
   "metadata": {},
   "outputs": [],
   "source": [
    "_X_test = X_test.values[randomIdx]\n",
    "_y_test = np.argmax(y_test.values,axis=1)[randomIdx]\n",
    "pred_score, pred, trust_score, closest_class = get_trust_and_model_results(model,_X_test,_y_test)"
   ]
  },
  {
   "cell_type": "markdown",
   "metadata": {},
   "source": [
    "### TRUST ANALYSIS"
   ]
  },
  {
   "cell_type": "code",
   "execution_count": 8,
   "metadata": {},
   "outputs": [],
   "source": [
    "incorrect_preds_idx = np.where(pred!=_y_test)[0]\n",
    "correct_preds_idx = np.where(pred==_y_test)[0]"
   ]
  },
  {
   "cell_type": "markdown",
   "metadata": {},
   "source": [
    "### DISTRIBUTION OF MODEL PREDICTION SCORES FOR CORRECTLY PREDICTED SAMPLES"
   ]
  },
  {
   "cell_type": "code",
   "execution_count": 37,
   "metadata": {},
   "outputs": [
    {
     "data": {
      "text/plain": [
       "<BarContainer object of 10 artists>"
      ]
     },
     "execution_count": 37,
     "metadata": {},
     "output_type": "execute_result"
    },
    {
     "data": {
      "image/png": "[encoded data removed]",
      "text/plain": [
       "<Figure size 432x288 with 1 Axes>"
      ]
     },
     "metadata": {
      "needs_background": "light"
     },
     "output_type": "display_data"
    }
   ],
   "source": [
    "bins_range = np.arange(0,1.1,0.1)\n",
    "counts,bin_edges = np.histogram(pred_score[correct_preds_idx],bins=bins_range)\n",
    "plt.bar(x=bin_edges[1:],height=counts,width=0.1)"
   ]
  },
  {
   "cell_type": "markdown",
   "metadata": {},
   "source": [
    "### DISTRIBUTION OF MODEL PREDICTION SCORES FOR INCORRECTLY PREDICTED SAMPLES"
   ]
  },
  {
   "cell_type": "code",
   "execution_count": 60,
   "metadata": {},
   "outputs": [
    {
     "data": {
      "text/plain": [
       "<BarContainer object of 10 artists>"
      ]
     },
     "execution_count": 60,
     "metadata": {},
     "output_type": "execute_result"
    },
    {
     "data": {
      "image/png": "[encoded data removed]",
      "text/plain": [
       "<Figure size 432x288 with 1 Axes>"
      ]
     },
     "metadata": {
      "needs_background": "light"
     },
     "output_type": "display_data"
    }
   ],
   "source": [
    "bins_range = np.arange(0,1.1,0.1)\n",
    "counts,bin_edges = np.histogram(pred_score[incorrect_preds_idx],bins=bins_range)\n",
    "plt.bar(x=bin_edges[1:],height=counts,width=0.1)\n",
    "# sns.barplot(bin_edges[1:],counts)"
   ]
  },
  {
   "cell_type": "markdown",
   "metadata": {},
   "source": [
    "### DISTRIBUTION OF TRUST SCORES FOR CORRECTLY PREDICTED SAMPLES"
   ]
  },
  {
   "cell_type": "code",
   "execution_count": 82,
   "metadata": {
    "scrolled": true
   },
   "outputs": [
    {
     "data": {
      "text/plain": [
       "<matplotlib.axes._subplots.AxesSubplot at 0x1a71cb54d0>"
      ]
     },
     "execution_count": 82,
     "metadata": {},
     "output_type": "execute_result"
    },
    {
     "data": {
      "image/png": "[encoded data removed]",
      "text/plain": [
       "<Figure size 432x288 with 1 Axes>"
      ]
     },
     "metadata": {
      "needs_background": "light"
     },
     "output_type": "display_data"
    }
   ],
   "source": [
    "# scaler = MinMaxScaler()\n",
    "# scaled_trust_score = scaler.fit_transform(trust_score[correct_preds_idx].reshape(-1,1))\n",
    "\n",
    "bins_range = [0,0.5,1,2,5,10,50,trust_score[correct_preds_idx].max()]#np.arange(0,1.1,0.1)\n",
    "counts,bin_edges = np.histogram(trust_score[correct_preds_idx],bins=bins_range)\n",
    "# plt.bar(x=bin_edges[1:],height=counts)\n",
    "sns.barplot(bin_edges[1:],counts)"
   ]
  },
  {
   "cell_type": "markdown",
   "metadata": {},
   "source": [
    "### DISTRIBUTION OF TRUST SCORES FOR INCORRECTLY PREDICTED SAMPLES"
   ]
  },
  {
   "cell_type": "code",
   "execution_count": 77,
   "metadata": {},
   "outputs": [
    {
     "data": {
      "text/plain": [
       "<matplotlib.axes._subplots.AxesSubplot at 0x1a709e1690>"
      ]
     },
     "execution_count": 77,
     "metadata": {},
     "output_type": "execute_result"
    },
    {
     "data": {
      "image/png": "[encoded data removed]",
      "text/plain": [
       "<Figure size 432x288 with 1 Axes>"
      ]
     },
     "metadata": {
      "needs_background": "light"
     },
     "output_type": "display_data"
    }
   ],
   "source": [
    "# scaler = MinMaxScaler()\n",
    "# scaled_trust_score = scaler.fit_transform(trust_score[incorrect_preds_idx].reshape(-1,1))\n",
    "\n",
    "bins_range = [0,0.5,1,2,5,10,50,trust_score[incorrect_preds_idx].max()]#np.arange(0,1.1,0.1)\n",
    "counts,bin_edges = np.histogram(trust_score[incorrect_preds_idx],bins=bins_range)\n",
    "# plt.bar(x=bin_edges[1:],height=counts,width=1)\n",
    "sns.barplot(bin_edges[1:],counts)"
   ]
  },
  {
   "cell_type": "markdown",
   "metadata": {},
   "source": [
    "### MODEL PREDICTION SCORE ANALYSIS"
   ]
  },
  {
   "cell_type": "code",
   "execution_count": 100,
   "metadata": {},
   "outputs": [
    {
     "data": {
      "text/plain": [
       "array([2, 3, 3, 4, 3, 3, 3, 3, 4, 3, 2, 2, 3, 3, 3, 3, 3, 2, 4, 3, 3, 3,\n",
       "       4, 2, 3, 0, 3, 3, 2, 1, 3, 2, 3, 1, 4, 3, 2, 3, 3, 2, 2, 0, 2, 2,\n",
       "       3, 2, 3, 3, 3, 2, 2, 3, 2, 2, 0, 4, 3, 2, 3, 3, 4, 3, 2, 3, 0, 2,\n",
       "       3, 2, 2, 0, 2, 0, 3, 2, 4, 3, 3, 0, 3, 0, 0, 4, 3, 2, 3, 0, 3, 2,\n",
       "       3, 2, 4, 3, 0, 3, 0, 3, 3, 3, 2, 3, 3, 3, 3, 2, 3, 0, 2, 2, 2, 3,\n",
       "       2, 3, 3, 0, 3, 0, 3, 3, 2, 2, 0, 2, 0, 2, 3, 2, 3, 0, 0, 3, 4, 4,\n",
       "       3, 3, 3, 0, 4, 3, 3, 3, 3, 3, 2, 3, 4, 0, 3, 0, 3, 3, 3, 2, 0, 0,\n",
       "       4, 0, 2, 4, 3, 4, 3, 4, 3, 3, 4, 4, 4, 0, 3, 3, 3, 3, 3, 2, 3, 3,\n",
       "       3, 4, 4, 2, 3, 3, 4, 0, 3, 2, 3, 0, 3, 0, 4, 0, 4, 3, 3, 3, 4, 2,\n",
       "       0, 3, 0, 2, 3, 0, 4, 3, 2, 3, 3, 3, 3, 4, 2, 3, 3, 3, 3, 0, 0, 0,\n",
       "       2, 0, 0, 4, 4, 2, 0, 3, 3, 3, 0, 0, 4, 3, 3, 3, 4, 4, 3, 3, 0, 3,\n",
       "       3, 3, 3, 3, 4, 4, 0, 4, 4, 4, 3, 3, 4, 3, 4, 3, 2, 0, 2, 3, 3, 3,\n",
       "       3, 3, 3])"
      ]
     },
     "execution_count": 100,
     "metadata": {},
     "output_type": "execute_result"
    }
   ],
   "source": [
    "y_test.values[randomIdx][incorrect_preds_idx].argmax(axis=1)[pred_score[incorrect_preds_idx]>=0.5]"
   ]
  },
  {
   "cell_type": "code",
   "execution_count": 102,
   "metadata": {},
   "outputs": [
    {
     "data": {
      "text/plain": [
       "array([3, 2, 2, 2, 4, 0, 2, 1, 3, 4, 0, 1, 2, 0, 2, 0, 2, 0, 1, 1, 4, 4,\n",
       "       0, 3, 2, 3, 2, 2, 0, 3, 0, 0, 2, 3, 0, 0, 1, 2, 2, 3, 0, 4, 4, 1,\n",
       "       2, 3, 2, 1, 4, 0, 3, 4, 0, 3, 3, 0, 2, 0, 4, 4, 3, 0, 3, 0, 4, 1,\n",
       "       2, 0, 4, 3, 4, 2, 2, 0, 3, 0, 2, 3, 1, 4, 4, 3, 1, 3, 1, 4, 2, 4,\n",
       "       2, 3, 2, 1, 2, 0, 2, 2, 1, 4, 0, 1, 4, 1, 2, 4, 4, 2, 0, 3, 4, 1,\n",
       "       0, 2, 4, 3, 4, 3, 0, 2, 3, 3, 2, 3, 1, 4, 2, 1, 1, 2, 3, 1, 1, 3,\n",
       "       0, 2, 1, 3, 3, 4, 2, 4, 2, 4, 0, 1, 3, 4, 0, 4, 1, 0, 1, 0, 4, 3,\n",
       "       3, 3, 0, 3, 4, 1, 4, 3, 4, 0, 3, 0, 3, 3, 4, 1, 2, 0, 2, 0, 2, 2,\n",
       "       0, 3, 2, 0, 2, 0, 0, 3, 0, 3, 1, 3, 4, 3, 3, 3, 0, 2, 1, 4, 1, 3,\n",
       "       3, 2, 3, 0, 4, 2, 3, 4, 0, 4, 2, 0, 4, 2, 4, 2, 4, 0, 0, 2, 2, 2,\n",
       "       0, 3, 2, 2, 0, 3, 3, 0, 4, 4, 3, 3, 1, 2, 1, 2, 1, 3, 4, 0, 2, 1,\n",
       "       4, 2, 0, 2, 1, 2, 1, 3, 3, 3, 1, 0, 2, 2, 3, 4, 0, 3, 4, 1, 0, 1,\n",
       "       4, 0, 4])"
      ]
     },
     "execution_count": 102,
     "metadata": {},
     "output_type": "execute_result"
    }
   ],
   "source": [
    "pred[incorrect_preds_idx][pred_score[incorrect_preds_idx]>=0.5]"
   ]
  },
  {
   "cell_type": "code",
   "execution_count": 96,
   "metadata": {},
   "outputs": [
    {
     "data": {
      "text/plain": [
       "array([0.9760542 , 0.5756612 , 0.9997694 , ..., 0.9989115 , 1.        ,\n",
       "       0.99932015], dtype=float32)"
      ]
     },
     "execution_count": 96,
     "metadata": {},
     "output_type": "execute_result"
    }
   ],
   "source": [
    "pred_score"
   ]
  },
  {
   "cell_type": "code",
   "execution_count": null,
   "metadata": {},
   "outputs": [],
   "source": []
  }
 ],
 "metadata": {
  "kernelspec": {
   "display_name": "Python 3",
   "language": "python",
   "name": "python3"
  },
  "language_info": {
   "codemirror_mode": {
    "name": "ipython",
    "version": 3
   },
   "file_extension": ".py",
   "mimetype": "text/x-python",
   "name": "python",
   "nbconvert_exporter": "python",
   "pygments_lexer": "ipython3",
   "version": "3.7.6"
  }
 },
 "nbformat": 4,
 "nbformat_minor": 2
}
