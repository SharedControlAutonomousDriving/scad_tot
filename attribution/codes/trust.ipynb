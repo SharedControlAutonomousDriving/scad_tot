{
 "cells": [
  {
   "cell_type": "code",
   "execution_count": 1,
   "metadata": {},
   "outputs": [],
   "source": [
    "import numpy as np\n",
    "import pandas as pd\n",
    "import tensorflow as tf\n",
    "import pickle as pkl\n",
    "import matplotlib.pyplot as plt\n",
    "from sklearn import metrics\n",
    "from sklearn.model_selection import train_test_split\n",
    "from sklearn.preprocessing import StandardScaler, OneHotEncoder, MinMaxScaler\n",
    "from sklearn.utils import resample\n",
    "from tensorflow.keras.models import Sequential, load_model\n",
    "from tensorflow.keras.layers import Dense, InputLayer\n",
    "from tensorflow.keras.callbacks import EarlyStopping, ModelCheckpoint, TensorBoard\n",
    "import time\n",
    "from alibi.confidence import TrustScore\n",
    "import seaborn as sns\n",
    "import shap\n",
    "from sklearn.metrics import classification_report, confusion_matrix, ConfusionMatrixDisplay"
   ]
  },
  {
   "cell_type": "code",
   "execution_count": 2,
   "metadata": {},
   "outputs": [],
   "source": [
    "FOLDERPATH = '../'"
   ]
  },
  {
   "cell_type": "markdown",
   "metadata": {},
   "source": [
    "### LOAD DATA AND MODEL"
   ]
  },
  {
   "cell_type": "code",
   "execution_count": 3,
   "metadata": {},
   "outputs": [],
   "source": [
    "'''\n",
    "LOAD MODEL\n",
    "'''\n",
    "model = load_model(FOLDERPATH+'tot-models/latest/model.h5')\n",
    "\n",
    "'''\n",
    "LOAD DATA\n",
    "'''\n",
    "data_path = FOLDERPATH+'old-data/'\n",
    "train_data = pd.read_csv(data_path+'v3.2.2_train.csv')\n",
    "test_data = pd.read_csv(data_path+'test.csv')\n",
    "\n",
    "y_train,y_test = train_data[['TOT_fast','TOT_med_fast','TOT_med','TOT_med_slow','TOT_slow']], test_data[['TOT_fast','TOT_med_fast','TOT_med','TOT_med_slow','TOT_slow']]\n",
    "X_train,X_test = train_data.drop(['Unnamed: 0','TOT_fast','TOT_med_fast','TOT_med','TOT_med_slow','TOT_slow'],axis=1),test_data.drop(['Unnamed: 0','TOT_fast','TOT_med_fast','TOT_med','TOT_med_slow','TOT_slow'],axis=1)"
   ]
  },
  {
   "cell_type": "markdown",
   "metadata": {},
   "source": [
    "### FIT TRUST SCORE MODEL"
   ]
  },
  {
   "cell_type": "code",
   "execution_count": null,
   "metadata": {},
   "outputs": [],
   "source": [
    "ts = TrustScore(alpha=.05,\n",
    "                filter_type='distance_knn',\n",
    "                k_filter=10,\n",
    "                leaf_size=40,\n",
    "                metric='euclidean',\n",
    "                dist_filter_type='point')"
   ]
  },
  {
   "cell_type": "code",
   "execution_count": 13,
   "metadata": {},
   "outputs": [],
   "source": [
    "ts.fit(X_train.values, np.argmax(y_train.values,axis=1), classes=5)"
   ]
  },
  {
   "cell_type": "code",
   "execution_count": 15,
   "metadata": {},
   "outputs": [],
   "source": [
    "pkl.dump(ts,open(FOLDERPATH+'confidence-models/trust_model.pkl','wb'))"
   ]
  },
  {
   "cell_type": "markdown",
   "metadata": {},
   "source": [
    "### LOAD TRUST SCORE MODEL AND DEFINE SOME FUNCTIONS"
   ]
  },
  {
   "cell_type": "code",
   "execution_count": 4,
   "metadata": {},
   "outputs": [],
   "source": [
    "ts = pkl.load(open(FOLDERPATH+'confidence-models/trust_model.pkl','rb'))\n",
    "randomIdx = pkl.load(open(FOLDERPATH+'old-data/old-data-randomIdx.pkl','rb'))"
   ]
  },
  {
   "cell_type": "code",
   "execution_count": 5,
   "metadata": {},
   "outputs": [],
   "source": [
    "def get_trust_and_model_results(model,x,y):\n",
    "    trust_score, closest_class = ts.score(x,y,k=2,dist_type='point')\n",
    "    pred_score, pred = model.predict(x).max(axis=1), model.predict(x).argmax(axis=1)\n",
    "    return pred_score, pred, trust_score, closest_class\n",
    "\n",
    "def get_sample(X_data,y_data,s_no):\n",
    "    x = X_data.values[s_no].reshape(1,-1)\n",
    "    y = np.argmax(y_data.values,axis=1)[s_no]\n",
    "    return x, y"
   ]
  },
  {
   "cell_type": "markdown",
   "metadata": {},
   "source": [
    "### TRUST SCORE AND MODEL CONFIDENCE FOR SAMPLE"
   ]
  },
  {
   "cell_type": "code",
   "execution_count": 12,
   "metadata": {
    "scrolled": true
   },
   "outputs": [
    {
     "name": "stdout",
     "output_type": "stream",
     "text": [
      " Predicted Class: 2\t Model confidence: 0.9999\n",
      " Closest Class: 0\t Trust Score: 835879964298.3064\n",
      " True Label: 2\n"
     ]
    }
   ],
   "source": [
    "'''\n",
    "Enter sample number in s_no\n",
    "'''\n",
    "s_no = 902\n",
    "x, y = get_sample(X_test,y_test,s_no)\n",
    "pred_score, pred, trust_score, closest_class = get_trust_and_model_results(model,x,y)\n",
    "\n",
    "print(\" Predicted Class: {:}\\t Model confidence: {:}\\n Closest Class: {:}\\t Trust Score: {:}\\n True Label: {:}\"\\\n",
    "                         .format(pred.item(),round(pred_score.item(),4),closest_class.item(),round(trust_score.item(),4),y))"
   ]
  },
  {
   "cell_type": "markdown",
   "metadata": {},
   "source": [
    "### TRUST AND MODEL CONFIDENCE ON RANDOM TEST SET VALUES"
   ]
  },
  {
   "cell_type": "code",
   "execution_count": 6,
   "metadata": {},
   "outputs": [],
   "source": [
    "_X_test = X_test.values[randomIdx]\n",
    "_y_test = np.argmax(y_test.values,axis=1)[randomIdx]\n",
    "pred_score, pred, trust_score, closest_class = get_trust_and_model_results(model,_X_test,_y_test)"
   ]
  },
  {
   "cell_type": "markdown",
   "metadata": {},
   "source": [
    "### TRUST ANALYSIS"
   ]
  },
  {
   "cell_type": "code",
   "execution_count": 7,
   "metadata": {},
   "outputs": [],
   "source": [
    "incorrect_preds_idx = np.where(pred!=_y_test)[0]\n",
    "correct_preds_idx = np.where(pred==_y_test)[0]"
   ]
  },
  {
   "cell_type": "code",
   "execution_count": 35,
   "metadata": {},
   "outputs": [
    {
     "data": {
      "text/plain": [
       "359"
      ]
     },
     "execution_count": 35,
     "metadata": {},
     "output_type": "execute_result"
    }
   ],
   "source": [
    "sum(trust_score[incorrect_preds_idx] >= 1)"
   ]
  },
  {
   "cell_type": "code",
   "execution_count": 36,
   "metadata": {},
   "outputs": [
    {
     "data": {
      "text/plain": [
       "267"
      ]
     },
     "execution_count": 36,
     "metadata": {},
     "output_type": "execute_result"
    }
   ],
   "source": [
    "sum(pred_score[incorrect_preds_idx] >= 0.5)"
   ]
  },
  {
   "cell_type": "markdown",
   "metadata": {},
   "source": [
    "### DISTRIBUTION OF MODEL PREDICTION SCORES FOR CORRECTLY PREDICTED SAMPLES"
   ]
  },
  {
   "cell_type": "code",
   "execution_count": 9,
   "metadata": {},
   "outputs": [
    {
     "data": {
      "text/plain": [
       "<BarContainer object of 10 artists>"
      ]
     },
     "execution_count": 9,
     "metadata": {},
     "output_type": "execute_result"
    },
    {
     "data": {
      "image/png": "[encoded data removed]",
      "text/plain": [
       "<Figure size 432x288 with 1 Axes>"
      ]
     },
     "metadata": {
      "needs_background": "light"
     },
     "output_type": "display_data"
    }
   ],
   "source": [
    "bins_range = np.arange(0,1.1,0.1)\n",
    "counts,bin_edges = np.histogram(pred_score[correct_preds_idx],bins=bins_range)\n",
    "plt.bar(x=bin_edges[1:],height=counts,width=0.1)"
   ]
  },
  {
   "cell_type": "markdown",
   "metadata": {},
   "source": [
    "### DISTRIBUTION OF MODEL PREDICTION SCORES FOR INCORRECTLY PREDICTED SAMPLES"
   ]
  },
  {
   "cell_type": "code",
   "execution_count": 10,
   "metadata": {},
   "outputs": [
    {
     "data": {
      "text/plain": [
       "<BarContainer object of 10 artists>"
      ]
     },
     "execution_count": 10,
     "metadata": {},
     "output_type": "execute_result"
    },
    {
     "data": {
      "image/png": "[encoded data removed]",
      "text/plain": [
       "<Figure size 432x288 with 1 Axes>"
      ]
     },
     "metadata": {
      "needs_background": "light"
     },
     "output_type": "display_data"
    }
   ],
   "source": [
    "bins_range = np.arange(0,1.1,0.1)\n",
    "counts,bin_edges = np.histogram(pred_score[incorrect_preds_idx],bins=bins_range)\n",
    "plt.bar(x=bin_edges[1:],height=counts,width=0.1)\n",
    "# sns.barplot(bin_edges[1:],counts)"
   ]
  },
  {
   "cell_type": "markdown",
   "metadata": {},
   "source": [
    "### DISTRIBUTION OF TRUST SCORES FOR CORRECTLY PREDICTED SAMPLES"
   ]
  },
  {
   "cell_type": "code",
   "execution_count": 82,
   "metadata": {
    "scrolled": true
   },
   "outputs": [
    {
     "data": {
      "text/plain": [
       "<matplotlib.axes._subplots.AxesSubplot at 0x1a71cb54d0>"
      ]
     },
     "execution_count": 82,
     "metadata": {},
     "output_type": "execute_result"
    },
    {
     "data": {
      "image/png": "[encoded data removed]",
      "text/plain": [
       "<Figure size 432x288 with 1 Axes>"
      ]
     },
     "metadata": {
      "needs_background": "light"
     },
     "output_type": "display_data"
    }
   ],
   "source": [
    "# scaler = MinMaxScaler()\n",
    "# scaled_trust_score = scaler.fit_transform(trust_score[correct_preds_idx].reshape(-1,1))\n",
    "\n",
    "bins_range = [0,0.5,1,2,5,10,50,trust_score[correct_preds_idx].max()]#np.arange(0,1.1,0.1)\n",
    "counts,bin_edges = np.histogram(trust_score[correct_preds_idx],bins=bins_range)\n",
    "# plt.bar(x=bin_edges[1:],height=counts)\n",
    "sns.barplot(bin_edges[1:],counts)"
   ]
  },
  {
   "cell_type": "markdown",
   "metadata": {},
   "source": [
    "### DISTRIBUTION OF TRUST SCORES FOR INCORRECTLY PREDICTED SAMPLES"
   ]
  },
  {
   "cell_type": "code",
   "execution_count": 77,
   "metadata": {
    "scrolled": true
   },
   "outputs": [
    {
     "data": {
      "text/plain": [
       "<matplotlib.axes._subplots.AxesSubplot at 0x1a709e1690>"
      ]
     },
     "execution_count": 77,
     "metadata": {},
     "output_type": "execute_result"
    },
    {
     "data": {
      "image/png": "[encoded data removed]",
      "text/plain": [
       "<Figure size 432x288 with 1 Axes>"
      ]
     },
     "metadata": {
      "needs_background": "light"
     },
     "output_type": "display_data"
    }
   ],
   "source": [
    "# scaler = MinMaxScaler()\n",
    "# scaled_trust_score = scaler.fit_transform(trust_score[incorrect_preds_idx].reshape(-1,1))\n",
    "\n",
    "bins_range = [0,0.5,1,2,5,10,50,trust_score[incorrect_preds_idx].max()]#np.arange(0,1.1,0.1)\n",
    "counts,bin_edges = np.histogram(trust_score[incorrect_preds_idx],bins=bins_range)\n",
    "# plt.bar(x=bin_edges[1:],height=counts,width=1)\n",
    "sns.barplot(bin_edges[1:],counts)"
   ]
  },
  {
   "cell_type": "markdown",
   "metadata": {},
   "source": [
    "### ANALYSING MODEL PERFORMANCE"
   ]
  },
  {
   "cell_type": "code",
   "execution_count": 34,
   "metadata": {},
   "outputs": [
    {
     "name": "stdout",
     "output_type": "stream",
     "text": [
      "Classification Report:\n",
      "\n",
      "               precision    recall  f1-score   support\n",
      "\n",
      "           0       0.89      0.92      0.90       711\n",
      "           1       0.78      0.97      0.87       221\n",
      "           2       0.81      0.87      0.84       569\n",
      "           3       0.90      0.78      0.83       953\n",
      "           4       0.87      0.88      0.87       546\n",
      "\n",
      "    accuracy                           0.86      3000\n",
      "   macro avg       0.85      0.88      0.86      3000\n",
      "weighted avg       0.86      0.86      0.86      3000\n",
      "\n"
     ]
    }
   ],
   "source": [
    "print('Classification Report:\\n\\n',classification_report(y_test.values[randomIdx].argmax(axis=1),pred))"
   ]
  },
  {
   "cell_type": "markdown",
   "metadata": {},
   "source": [
    "### UNDERSTANDING PRECISION AND RECALL"
   ]
  },
  {
   "cell_type": "markdown",
   "metadata": {},
   "source": [
    "**Precision** is the number of samples correctly predicted as a particular class and **Recall** is the number of samples correctly predicted as a particular class over the total number of samples in that class. Confusing? Consider class 0 and ask a couple of questions. \n",
    "1. Over the total number of predictions for class 0, how many were correctly predicted?\n",
    "2. Over the total number of samples labelled as class 0, how many were correctly predicted?\n",
    "\n",
    "The answer to first question is **precision** and to the second question in **recall**. Still confusing? Follow the example!"
   ]
  },
  {
   "cell_type": "code",
   "execution_count": 95,
   "metadata": {},
   "outputs": [],
   "source": [
    "class_to_select = 0"
   ]
  },
  {
   "cell_type": "code",
   "execution_count": 100,
   "metadata": {},
   "outputs": [
    {
     "name": "stdout",
     "output_type": "stream",
     "text": [
      "Support (total number of samples in that class):  711\n"
     ]
    }
   ],
   "source": [
    "class_0_samples = np.where(y_test.values[randomIdx].argmax(axis=1) == class_to_select)[0]\n",
    "support_0 = len(class_0_samples)\n",
    "print(\"Support (total number of samples in that class): \",support_0)"
   ]
  },
  {
   "cell_type": "code",
   "execution_count": 97,
   "metadata": {},
   "outputs": [
    {
     "name": "stdout",
     "output_type": "stream",
     "text": [
      "Number of samples predicted as class-0:  735\n",
      "Number of samples correctly predicted as class-0:  651\n",
      "\n",
      "Precision:  0.89\n"
     ]
    }
   ],
   "source": [
    "pred_class_0 = np.where(pred==class_to_select)[0]\n",
    "print(\"Number of samples predicted as class-0: \",len(pred_class_0))\n",
    "\n",
    "correct_preds = pred[correct_preds_idx]\n",
    "print('Number of samples correctly predicted as class-0: ', sum(correct_preds==0))\n",
    "\n",
    "precision = (sum(correct_preds==class_to_select)/len(pred_class_0))\n",
    "print(\"\\nPrecision: \", precision.round(2))"
   ]
  },
  {
   "cell_type": "code",
   "execution_count": 98,
   "metadata": {},
   "outputs": [
    {
     "name": "stdout",
     "output_type": "stream",
     "text": [
      "Number of samples correctly predicted as class-0:  651\n",
      "Number of samples labelled as class 0:  711\n",
      "\n",
      "Recall:  0.92\n"
     ]
    }
   ],
   "source": [
    "correct_preds = pred[correct_preds_idx]\n",
    "print('Number of samples correctly predicted as class-0: ', sum(correct_preds==class_to_select))\n",
    "\n",
    "print('Number of samples labelled as class 0: ', support_0)\n",
    "\n",
    "recall = (sum(correct_preds==class_to_select)/support_0)\n",
    "print(\"\\nRecall: \", recall.round(2))"
   ]
  },
  {
   "cell_type": "markdown",
   "metadata": {},
   "source": [
    "**f1 score** is the harmonic mean of precision and recall, $$\\text{f1 score} = \\frac{2\\times \\text{precision} \\times \\text{recall}}{\\text{precision} + \\text{recall}}$$"
   ]
  },
  {
   "cell_type": "code",
   "execution_count": 99,
   "metadata": {},
   "outputs": [
    {
     "name": "stdout",
     "output_type": "stream",
     "text": [
      "F1 Score:  0.9\n"
     ]
    }
   ],
   "source": [
    "f1 = (2*precision*recall/(precision+recall))\n",
    "print(\"F1 Score: \", f1.round(2))"
   ]
  },
  {
   "cell_type": "markdown",
   "metadata": {},
   "source": [
    "### CLASS WISE DISTRIBUTION OF THE INCORRECTLY PREDICTED SAMPLES"
   ]
  },
  {
   "cell_type": "code",
   "execution_count": 124,
   "metadata": {},
   "outputs": [],
   "source": [
    "classes, n_samples_classes = np.unique(pred[incorrect_preds_idx],return_counts=True)"
   ]
  },
  {
   "cell_type": "code",
   "execution_count": 125,
   "metadata": {},
   "outputs": [
    {
     "data": {
      "image/png": "[encoded data removed]",
      "text/plain": [
       "<Figure size 432x288 with 1 Axes>"
      ]
     },
     "metadata": {
      "needs_background": "light"
     },
     "output_type": "display_data"
    }
   ],
   "source": [
    "plt.bar(x=classes,height=n_samples_classes)\n",
    "_=plt.title('Class wise distribution of incorrectly classified samples')"
   ]
  },
  {
   "cell_type": "code",
   "execution_count": 126,
   "metadata": {},
   "outputs": [
    {
     "data": {
      "image/png": "[encoded data removed]",
      "text/plain": [
       "<Figure size 432x288 with 1 Axes>"
      ]
     },
     "metadata": {
      "needs_background": "light"
     },
     "output_type": "display_data"
    }
   ],
   "source": [
    "support_classes = [len(np.where(y_test.values[randomIdx].argmax(axis=1) == class_to_select)[0]) for class_to_select in classes]\n",
    "plt.bar(x=classes,height=n_samples_classes/support_classes)\n",
    "_=plt.title('Normalized class wise distribution of incorrectly classified samples')"
   ]
  },
  {
   "cell_type": "markdown",
   "metadata": {},
   "source": [
    "### CLASS WISE DISTRIBUTION OF THE INCORRECTLY PREDICTED SAMPLES WHERE MODEL CONFIDENCE IS GREATER THAN 0.5"
   ]
  },
  {
   "cell_type": "code",
   "execution_count": 127,
   "metadata": {},
   "outputs": [],
   "source": [
    "consideration = pred[incorrect_preds_idx][pred_score[incorrect_preds_idx]>=0.5]\n",
    "classes, n_samples_classes = np.unique(consideration,return_counts=True)"
   ]
  },
  {
   "cell_type": "code",
   "execution_count": 128,
   "metadata": {},
   "outputs": [
    {
     "data": {
      "image/png": "[encoded data removed]",
      "text/plain": [
       "<Figure size 432x288 with 1 Axes>"
      ]
     },
     "metadata": {
      "needs_background": "light"
     },
     "output_type": "display_data"
    }
   ],
   "source": [
    "support_classes = [len(np.where(y_test.values[randomIdx].argmax(axis=1) == class_to_select)[0]) for class_to_select in classes]\n",
    "plt.bar(x=classes,height=n_samples_classes/support_classes)\n",
    "_=plt.title('Normalized class wise distribution of incorrectly classified samples with model confidence greater than 0.5')"
   ]
  },
  {
   "cell_type": "code",
   "execution_count": 150,
   "metadata": {},
   "outputs": [
    {
     "data": {
      "image/png": "[encoded data removed]",
      "text/plain": [
       "<Figure size 432x288 with 2 Axes>"
      ]
     },
     "metadata": {
      "needs_background": "light"
     },
     "output_type": "display_data"
    }
   ],
   "source": [
    "labels = y_test.values[randomIdx].argmax(axis=1)\n",
    "preds = pred\n",
    "cm = confusion_matrix(labels,preds)\n",
    "cm_display = ConfusionMatrixDisplay(cm).plot()\n",
    "_=plt.title('Confusion Matrix')"
   ]
  },
  {
   "cell_type": "code",
   "execution_count": 152,
   "metadata": {},
   "outputs": [
    {
     "data": {
      "image/png": "[encoded data removed]",
      "text/plain": [
       "<Figure size 432x288 with 2 Axes>"
      ]
     },
     "metadata": {
      "needs_background": "light"
     },
     "output_type": "display_data"
    }
   ],
   "source": [
    "labels = y_test.values[randomIdx].argmax(axis=1)[incorrect_preds_idx]\n",
    "preds = pred[incorrect_preds_idx]\n",
    "cm = confusion_matrix(labels,preds)\n",
    "cm_display = ConfusionMatrixDisplay(cm).plot()\n",
    "_=plt.title('Confusion Matrix for incorrect predictions')"
   ]
  },
  {
   "cell_type": "code",
   "execution_count": 153,
   "metadata": {},
   "outputs": [
    {
     "data": {
      "image/png": "[encoded data removed]",
      "text/plain": [
       "<Figure size 432x288 with 2 Axes>"
      ]
     },
     "metadata": {
      "needs_background": "light"
     },
     "output_type": "display_data"
    }
   ],
   "source": [
    "labels = y_test.values[randomIdx].argmax(axis=1)[incorrect_preds_idx][pred_score[incorrect_preds_idx]>=0.5]\n",
    "preds = pred[incorrect_preds_idx][pred_score[incorrect_preds_idx]>=0.5]\n",
    "cm = confusion_matrix(labels,preds)\n",
    "cm_display = ConfusionMatrixDisplay(cm).plot()\n",
    "_=plt.title('Confusion Matrix for incorrect predictions with model confidence greater than 0.5')"
   ]
  },
  {
   "cell_type": "code",
   "execution_count": null,
   "metadata": {},
   "outputs": [],
   "source": []
  }
 ],
 "metadata": {
  "kernelspec": {
   "display_name": "Python 3",
   "language": "python",
   "name": "python3"
  },
  "language_info": {
   "codemirror_mode": {
    "name": "ipython",
    "version": 3
   },
   "file_extension": ".py",
   "mimetype": "text/x-python",
   "name": "python",
   "nbconvert_exporter": "python",
   "pygments_lexer": "ipython3",
   "version": "3.7.6"
  }
 },
 "nbformat": 4,
 "nbformat_minor": 2
}
