{
  "nbformat": 4,
  "nbformat_minor": 0,
  "metadata": {
    "colab": {
      "name": "RT-Network-v3.2.x.ipynb",
      "provenance": [],
      "collapsed_sections": [],
      "toc_visible": true,
      "machine_shape": "hm"
    },
    "kernelspec": {
      "name": "python3",
      "display_name": "Python 3"
    },
    "accelerator": "TPU"
  },
  "cells": [
    {
      "cell_type": "code",
      "metadata": {
        "id": "gLQQIFb4z7Bk"
      },
      "source": [
        "%tensorflow_version 2.x\n",
        "%load_ext tensorboard\n",
        "\n",
        "import glob, math, os, re, sys, zipfile\n",
        "import numpy as np\n",
        "import pandas as pd\n",
        "import tensorflow as tf\n",
        "import seaborn as sns\n",
        "import pickle as pkl\n",
        "import matplotlib.pyplot as plt\n",
        "from functools import reduce\n",
        "from itertools import cycle\n",
        "from datetime import datetime\n",
        "from google.colab import auth\n",
        "from oauth2client.client import GoogleCredentials\n",
        "from pydrive.auth import GoogleAuth\n",
        "from pydrive.drive import GoogleDrive\n",
        "from IPython.display import display, HTML\n",
        "from sklearn import metrics\n",
        "from sklearn.model_selection import train_test_split\n",
        "from sklearn.preprocessing import StandardScaler, OneHotEncoder\n",
        "from sklearn.utils import resample\n",
        "from tensorflow.keras.models import Sequential, load_model\n",
        "from tensorflow.keras.layers import Dense, InputLayer\n",
        "from tensorflow.keras.callbacks import EarlyStopping, ModelCheckpoint, TensorBoard"
      ],
      "execution_count": null,
      "outputs": []
    },
    {
      "cell_type": "markdown",
      "metadata": {
        "id": "DQxF5BEx377L"
      },
      "source": [
        "## Authorize Google Drive"
      ]
    },
    {
      "cell_type": "code",
      "metadata": {
        "id": "uJ_-p_rRr6Ws"
      },
      "source": [
        "auth.authenticate_user()"
      ],
      "execution_count": null,
      "outputs": []
    },
    {
      "cell_type": "markdown",
      "metadata": {
        "id": "w9h5jR8Z2Mrf"
      },
      "source": [
        "## Setup & Install\n",
        "Basic setup and install additional dependencies"
      ]
    },
    {
      "cell_type": "code",
      "metadata": {
        "id": "elbSlvPj14I3",
        "colab": {
          "base_uri": "https://localhost:8080/"
        },
        "outputId": "abfde4f7-e031-4237-a7c5-c1026fc2c9d2"
      },
      "source": [
        "# Some global variables and general settings\n",
        "saved_model_dir = './saved_model'\n",
        "tensorboard_logs = './logs'\n",
        "pd.options.display.float_format = '{:.2f}'.format\n",
        "sns.set_context('notebook')\n",
        "nnet_tools_path = os.path.abspath('NNet')\n",
        "\n",
        "def print_html(string, tag='span', color=None, size=None):\n",
        "    size = f'font-size:{size};' if size else ''\n",
        "    color = f'color:{color};' if color else ''\n",
        "    display(HTML(f'<{tag} style=\"{color}{size}\">{string}</{tag}>'))\n",
        "\n",
        "def print_heading(string, color=None):\n",
        "    print_html(string, tag='h3', color=color)\n",
        "\n",
        "def print_message(string, color=None):\n",
        "    print_html(string, color=color)\n",
        "\n",
        "def download_file_from_gdrive(gdrive_id, output_file):\n",
        "    # Authenticate google drive\n",
        "    gauth = GoogleAuth()\n",
        "    gauth.credentials = GoogleCredentials.get_application_default()\n",
        "    drive = GoogleDrive(gauth)\n",
        "    # Download csv from GDrive...\n",
        "    dataset = drive.CreateFile({'id': gdrive_id})\n",
        "    dataset_filename = dataset['title']\n",
        "    print_message(f'Downloading {dataset_filename} ({gdrive_id}) from GDrive. Please wait...')\n",
        "    dataset.GetContentFile(output_file)\n",
        "    print_message(f'Download {gdrive_id} completed.')\n",
        "\n",
        "def download_and_unzip(src_url, out_dir='./', zip_file='dl.zip', remove_zip=True):\n",
        "    print(f'Downloading {src_url} to {zip_file}')\n",
        "    !wget $src_url -O $zip_file -q --show-progress\n",
        "    print(f'Download complete. Unzipping {zip_file}')\n",
        "    z = zipfile.ZipFile(zip_file, 'r')\n",
        "    z.extractall(out_dir)\n",
        "    print(f'Unzipped to {out_dir}. Cleaning up...')\n",
        "    z.close()\n",
        "    if remove_zip: os.remove(zip_file)\n",
        "\n",
        "def overwrite_gdrive_file(gdrive_id, input_file):\n",
        "    gauth = GoogleAuth()\n",
        "    gauth.credentials = GoogleCredentials.get_application_default()\n",
        "    drive = GoogleDrive(gauth)\n",
        "    drive_file = drive.CreateFile({'id': gdrive_id})\n",
        "    drive_file.SetContentFile(input_file)\n",
        "    drive_file.Upload()\n",
        "    drive_filename = drive_file['title']\n",
        "    print(f'Wrote {input_file} to GDrive {drive_filename} ({gdrive_id}).')\n",
        "\n",
        "def update_path_vars(paths=[]):\n",
        "    python_path = os.environ.get('PYTHONPATH') or ''\n",
        "    jupyter_path = os.environ.get('JUPYTER_PATH') or ''\n",
        "    for path in paths:\n",
        "        if not path in python_path:\n",
        "            python_path += f':{path}'\n",
        "        if not path in jupyter_path:\n",
        "            jupyter_path += f':{path}'\n",
        "    os.environ['PYTHONPATH'] = python_path\n",
        "    os.environ['JUPYTER_PATH'] = jupyter_path\n",
        "\n",
        "def install_nnet_tools(nnet_tools_path):\n",
        "    nnet_tools_url = 'https://github.com/sisl/NNet/archive/master.zip'\n",
        "    download_and_unzip(nnet_tools_url)\n",
        "    !mv ./NNet-master $nnet_tools_path\n",
        "\n",
        "def setup_nnet_tools(nnet_tools_path):\n",
        "    # install nnet tools if not already installed.\n",
        "    if not os.path.exists(nnet_tools_path):\n",
        "        install_nnet_tools(nnet_tools_path)\n",
        "    # add folder to PYTHONPATH & JUPYTER_PATH\n",
        "    update_path_vars([nnet_tools_path])\n",
        "\n",
        "# delete sample data\n",
        "!rm -rf sample_data\n",
        "\n",
        "# setup nnet tools (for converting model to Stanford's nnet format)\n",
        "setup_nnet_tools(nnet_tools_path)\n",
        "# used for conversion to NNet format\n",
        "from NNet.utils.writeNNet import writeNNet"
      ],
      "execution_count": null,
      "outputs": [
        {
          "output_type": "stream",
          "text": [
            "Downloading https://github.com/sisl/NNet/archive/master.zip to dl.zip\n",
            "dl.zip                  [ <=>                ] 359.66K  --.-KB/s    in 0.1s    \n",
            "Download complete. Unzipping dl.zip\n",
            "Unzipped to ./. Cleaning up...\n"
          ],
          "name": "stdout"
        }
      ]
    },
    {
      "cell_type": "markdown",
      "metadata": {
        "id": "xzvEWbOV2WFa"
      },
      "source": [
        "## Download Dataset"
      ]
    },
    {
      "cell_type": "code",
      "metadata": {
        "id": "3ci9bvHG1v7H",
        "colab": {
          "base_uri": "https://localhost:8080/",
          "height": 1000
        },
        "outputId": "b0b81b33-6fd7-482f-8453-c4d6f31985e5"
      },
      "source": [
        "# GDrive ID of csv file (AllData_ReactionTime.csv)\n",
        "# https://drive.google.com/file/d/1WNnAd8lYWMT_mQWwiN6dP2KC6NTLFjXn\n",
        "gdrive_id='1WNnAd8lYWMT_mQWwiN6dP2KC6NTLFjXn'\n",
        "dataset_file='all_data_rt.csv'\n",
        "\n",
        "# GDrive ID of adversarial csv\n",
        "# https://drive.google.com/file/d/1N9QZm0NXXYPCQnBNrJHPzmWHkU9SSkbg\n",
        "adv_dataset_gdrive_id='1N9QZm0NXXYPCQnBNrJHPzmWHkU9SSkbg'\n",
        "adv_dataset_file = 'adv_dataset.csv'\n",
        "\n",
        "# load the dataset from gdrive if it doesn't exist in the runtime's filesystem.\n",
        "if not os.path.exists(dataset_file):\n",
        "    download_file_from_gdrive(gdrive_id, dataset_file)\n",
        "\n",
        "if not os.path.exists(adv_dataset_file):\n",
        "    download_file_from_gdrive(adv_dataset_gdrive_id, adv_dataset_file)"
      ],
      "execution_count": null,
      "outputs": [
        {
          "output_type": "stream",
          "text": [
            "WARNING:googleapiclient.discovery_cache:file_cache is unavailable when using oauth2client >= 4.0.0 or google-auth\n",
            "Traceback (most recent call last):\n",
            "  File \"/usr/local/lib/python3.6/dist-packages/pydrive/files.py\", line 134, in __getitem__\n",
            "    return dict.__getitem__(self, key)\n",
            "KeyError: 'title'\n",
            "\n",
            "During handling of the above exception, another exception occurred:\n",
            "\n",
            "Traceback (most recent call last):\n",
            "  File \"/usr/local/lib/python3.6/dist-packages/googleapiclient/discovery_cache/__init__.py\", line 36, in autodetect\n",
            "    from google.appengine.api import memcache\n",
            "ModuleNotFoundError: No module named 'google.appengine'\n",
            "\n",
            "During handling of the above exception, another exception occurred:\n",
            "\n",
            "Traceback (most recent call last):\n",
            "  File \"/usr/local/lib/python3.6/dist-packages/googleapiclient/discovery_cache/file_cache.py\", line 33, in <module>\n",
            "    from oauth2client.contrib.locked_file import LockedFile\n",
            "ModuleNotFoundError: No module named 'oauth2client.contrib.locked_file'\n",
            "\n",
            "During handling of the above exception, another exception occurred:\n",
            "\n",
            "Traceback (most recent call last):\n",
            "  File \"/usr/local/lib/python3.6/dist-packages/googleapiclient/discovery_cache/file_cache.py\", line 37, in <module>\n",
            "    from oauth2client.locked_file import LockedFile\n",
            "ModuleNotFoundError: No module named 'oauth2client.locked_file'\n",
            "\n",
            "During handling of the above exception, another exception occurred:\n",
            "\n",
            "Traceback (most recent call last):\n",
            "  File \"/usr/local/lib/python3.6/dist-packages/googleapiclient/discovery_cache/__init__.py\", line 42, in autodetect\n",
            "    from . import file_cache\n",
            "  File \"/usr/local/lib/python3.6/dist-packages/googleapiclient/discovery_cache/file_cache.py\", line 41, in <module>\n",
            "    \"file_cache is unavailable when using oauth2client >= 4.0.0 or google-auth\"\n",
            "ImportError: file_cache is unavailable when using oauth2client >= 4.0.0 or google-auth\n"
          ],
          "name": "stderr"
        },
        {
          "output_type": "display_data",
          "data": {
            "text/html": [
              "<span style=\"\">Downloading All_Features_ReactionTime.csv (1WNnAd8lYWMT_mQWwiN6dP2KC6NTLFjXn) from GDrive. Please wait...</span>"
            ],
            "text/plain": [
              "<IPython.core.display.HTML object>"
            ]
          },
          "metadata": {
            "tags": []
          }
        },
        {
          "output_type": "display_data",
          "data": {
            "text/html": [
              "<span style=\"\">Download 1WNnAd8lYWMT_mQWwiN6dP2KC6NTLFjXn completed.</span>"
            ],
            "text/plain": [
              "<IPython.core.display.HTML object>"
            ]
          },
          "metadata": {
            "tags": []
          }
        },
        {
          "output_type": "stream",
          "text": [
            "WARNING:googleapiclient.discovery_cache:file_cache is unavailable when using oauth2client >= 4.0.0 or google-auth\n",
            "Traceback (most recent call last):\n",
            "  File \"/usr/local/lib/python3.6/dist-packages/pydrive/files.py\", line 134, in __getitem__\n",
            "    return dict.__getitem__(self, key)\n",
            "KeyError: 'title'\n",
            "\n",
            "During handling of the above exception, another exception occurred:\n",
            "\n",
            "Traceback (most recent call last):\n",
            "  File \"/usr/local/lib/python3.6/dist-packages/googleapiclient/discovery_cache/__init__.py\", line 36, in autodetect\n",
            "    from google.appengine.api import memcache\n",
            "ModuleNotFoundError: No module named 'google.appengine'\n",
            "\n",
            "During handling of the above exception, another exception occurred:\n",
            "\n",
            "Traceback (most recent call last):\n",
            "  File \"/usr/local/lib/python3.6/dist-packages/googleapiclient/discovery_cache/file_cache.py\", line 33, in <module>\n",
            "    from oauth2client.contrib.locked_file import LockedFile\n",
            "ModuleNotFoundError: No module named 'oauth2client.contrib.locked_file'\n",
            "\n",
            "During handling of the above exception, another exception occurred:\n",
            "\n",
            "Traceback (most recent call last):\n",
            "  File \"/usr/local/lib/python3.6/dist-packages/googleapiclient/discovery_cache/file_cache.py\", line 37, in <module>\n",
            "    from oauth2client.locked_file import LockedFile\n",
            "ModuleNotFoundError: No module named 'oauth2client.locked_file'\n",
            "\n",
            "During handling of the above exception, another exception occurred:\n",
            "\n",
            "Traceback (most recent call last):\n",
            "  File \"/usr/local/lib/python3.6/dist-packages/googleapiclient/discovery_cache/__init__.py\", line 42, in autodetect\n",
            "    from . import file_cache\n",
            "  File \"/usr/local/lib/python3.6/dist-packages/googleapiclient/discovery_cache/file_cache.py\", line 41, in <module>\n",
            "    \"file_cache is unavailable when using oauth2client >= 4.0.0 or google-auth\"\n",
            "ImportError: file_cache is unavailable when using oauth2client >= 4.0.0 or google-auth\n"
          ],
          "name": "stderr"
        },
        {
          "output_type": "display_data",
          "data": {
            "text/html": [
              "<span style=\"\">Downloading adv_samples.csv (1N9QZm0NXXYPCQnBNrJHPzmWHkU9SSkbg) from GDrive. Please wait...</span>"
            ],
            "text/plain": [
              "<IPython.core.display.HTML object>"
            ]
          },
          "metadata": {
            "tags": []
          }
        },
        {
          "output_type": "display_data",
          "data": {
            "text/html": [
              "<span style=\"\">Download 1N9QZm0NXXYPCQnBNrJHPzmWHkU9SSkbg completed.</span>"
            ],
            "text/plain": [
              "<IPython.core.display.HTML object>"
            ]
          },
          "metadata": {
            "tags": []
          }
        }
      ]
    },
    {
      "cell_type": "markdown",
      "metadata": {
        "id": "v_b2s0tEvo-s"
      },
      "source": [
        "## Import Dataset"
      ]
    },
    {
      "cell_type": "code",
      "metadata": {
        "id": "N3E9WVBMvZ8y"
      },
      "source": [
        "raw_columns = ['ID', 'Name', 'FixationDuration', 'FixationStart', 'FixationSeq', \n",
        "               'FixationX', 'FixationY', 'GazeDirectionLeftZ', 'GazeDirectionRightZ', \n",
        "               'PupilLeft', 'PupilRight', 'InterpolatedGazeX', 'InterpolatedGazeY', \n",
        "               'AutoThrottle', 'AutoWheel', 'CurrentThrottle', 'CurrentWheel', \n",
        "               'Distance3D', 'MPH', 'ManualBrake', 'ManualThrottle', 'ManualWheel', \n",
        "               'RangeW', 'RightLaneDist', 'RightLaneType', 'LeftLaneDist', 'LeftLaneType', \n",
        "               'ReactionTime']\n",
        "raw_df = pd.read_csv(dataset_file, usecols=raw_columns)\n",
        "raw_df.set_index(['ID'], inplace=True)"
      ],
      "execution_count": null,
      "outputs": []
    },
    {
      "cell_type": "code",
      "metadata": {
        "id": "Nrm5hFM4euoD"
      },
      "source": [
        "pure_df = pd.read_csv(dataset_file)\n",
        "pure_df.set_index(['ID'], inplace=True)"
      ],
      "execution_count": null,
      "outputs": []
    },
    {
      "cell_type": "code",
      "metadata": {
        "id": "SMulSmeefEmk",
        "colab": {
          "base_uri": "https://localhost:8080/",
          "height": 544
        },
        "outputId": "08937e53-cc0a-4981-ce17-51c34bc23eb8"
      },
      "source": [
        "pure_df"
      ],
      "execution_count": null,
      "outputs": [
        {
          "output_type": "execute_result",
          "data": {
            "text/html": [
              "<div>\n",
              "<style scoped>\n",
              "    .dataframe tbody tr th:only-of-type {\n",
              "        vertical-align: middle;\n",
              "    }\n",
              "\n",
              "    .dataframe tbody tr th {\n",
              "        vertical-align: top;\n",
              "    }\n",
              "\n",
              "    .dataframe thead th {\n",
              "        text-align: right;\n",
              "    }\n",
              "</style>\n",
              "<table border=\"1\" class=\"dataframe\">\n",
              "  <thead>\n",
              "    <tr style=\"text-align: right;\">\n",
              "      <th></th>\n",
              "      <th>Unnamed: 0</th>\n",
              "      <th>index</th>\n",
              "      <th>Timestamp</th>\n",
              "      <th>Name</th>\n",
              "      <th>FixationDuration</th>\n",
              "      <th>FixationSeq</th>\n",
              "      <th>FixationStart</th>\n",
              "      <th>FixationX</th>\n",
              "      <th>FixationY</th>\n",
              "      <th>GazeDirectionLeftX</th>\n",
              "      <th>GazeDirectionLeftY</th>\n",
              "      <th>GazeDirectionLeftZ</th>\n",
              "      <th>GazeDirectionRightX</th>\n",
              "      <th>GazeDirectionRightY</th>\n",
              "      <th>GazeDirectionRightZ</th>\n",
              "      <th>PupilLeft</th>\n",
              "      <th>PupilRight</th>\n",
              "      <th>InterpolatedGazeX</th>\n",
              "      <th>InterpolatedGazeY</th>\n",
              "      <th>EventN</th>\n",
              "      <th>EventSource</th>\n",
              "      <th>EventW</th>\n",
              "      <th>Alarm</th>\n",
              "      <th>Mode</th>\n",
              "      <th>AutoThrottle</th>\n",
              "      <th>AutoWheel</th>\n",
              "      <th>CurrentBrake</th>\n",
              "      <th>CurrentThrottle</th>\n",
              "      <th>CurrentWheel</th>\n",
              "      <th>Distance3D</th>\n",
              "      <th>MPH</th>\n",
              "      <th>ManualBrake</th>\n",
              "      <th>ManualGear</th>\n",
              "      <th>ManualThrottle</th>\n",
              "      <th>ManualWheel</th>\n",
              "      <th>PassBy</th>\n",
              "      <th>RangeN</th>\n",
              "      <th>RangeW</th>\n",
              "      <th>RightLaneDist</th>\n",
              "      <th>RightLaneType</th>\n",
              "      <th>LeftLaneDist</th>\n",
              "      <th>LeftLaneType</th>\n",
              "      <th>Speed</th>\n",
              "      <th>ReactionTime</th>\n",
              "    </tr>\n",
              "    <tr>\n",
              "      <th>ID</th>\n",
              "      <th></th>\n",
              "      <th></th>\n",
              "      <th></th>\n",
              "      <th></th>\n",
              "      <th></th>\n",
              "      <th></th>\n",
              "      <th></th>\n",
              "      <th></th>\n",
              "      <th></th>\n",
              "      <th></th>\n",
              "      <th></th>\n",
              "      <th></th>\n",
              "      <th></th>\n",
              "      <th></th>\n",
              "      <th></th>\n",
              "      <th></th>\n",
              "      <th></th>\n",
              "      <th></th>\n",
              "      <th></th>\n",
              "      <th></th>\n",
              "      <th></th>\n",
              "      <th></th>\n",
              "      <th></th>\n",
              "      <th></th>\n",
              "      <th></th>\n",
              "      <th></th>\n",
              "      <th></th>\n",
              "      <th></th>\n",
              "      <th></th>\n",
              "      <th></th>\n",
              "      <th></th>\n",
              "      <th></th>\n",
              "      <th></th>\n",
              "      <th></th>\n",
              "      <th></th>\n",
              "      <th></th>\n",
              "      <th></th>\n",
              "      <th></th>\n",
              "      <th></th>\n",
              "      <th></th>\n",
              "      <th></th>\n",
              "      <th></th>\n",
              "      <th></th>\n",
              "      <th></th>\n",
              "    </tr>\n",
              "  </thead>\n",
              "  <tbody>\n",
              "    <tr>\n",
              "      <th>1190.00</th>\n",
              "      <td>0</td>\n",
              "      <td>0</td>\n",
              "      <td>7102.00</td>\n",
              "      <td>018_M3</td>\n",
              "      <td>1969.00</td>\n",
              "      <td>7.00</td>\n",
              "      <td>3682.00</td>\n",
              "      <td>0.00</td>\n",
              "      <td>0.00</td>\n",
              "      <td>-0.02</td>\n",
              "      <td>0.07</td>\n",
              "      <td>0.86</td>\n",
              "      <td>0.05</td>\n",
              "      <td>0.08</td>\n",
              "      <td>0.83</td>\n",
              "      <td>5.00</td>\n",
              "      <td>5.00</td>\n",
              "      <td>0.00</td>\n",
              "      <td>0.00</td>\n",
              "      <td>0.00</td>\n",
              "      <td>AutoBrakeSample 0.0|AutoThrottleSample 0.0|Cur...</td>\n",
              "      <td>0.00</td>\n",
              "      <td>0.00</td>\n",
              "      <td>1.00</td>\n",
              "      <td>20.00</td>\n",
              "      <td>0.00</td>\n",
              "      <td>0.00</td>\n",
              "      <td>20.00</td>\n",
              "      <td>0.00</td>\n",
              "      <td>683.20</td>\n",
              "      <td>0.00</td>\n",
              "      <td>50.00</td>\n",
              "      <td>1.00</td>\n",
              "      <td>50.00</td>\n",
              "      <td>0.00</td>\n",
              "      <td>0.00</td>\n",
              "      <td>0.00</td>\n",
              "      <td>0.00</td>\n",
              "      <td>0.00</td>\n",
              "      <td>0.00</td>\n",
              "      <td>0.00</td>\n",
              "      <td>0.00</td>\n",
              "      <td>0.00</td>\n",
              "      <td>6802.00</td>\n",
              "    </tr>\n",
              "    <tr>\n",
              "      <th>1191.00</th>\n",
              "      <td>1</td>\n",
              "      <td>1</td>\n",
              "      <td>7103.00</td>\n",
              "      <td>018_M3</td>\n",
              "      <td>1969.00</td>\n",
              "      <td>7.00</td>\n",
              "      <td>3682.00</td>\n",
              "      <td>0.00</td>\n",
              "      <td>0.00</td>\n",
              "      <td>-0.02</td>\n",
              "      <td>0.07</td>\n",
              "      <td>0.86</td>\n",
              "      <td>0.05</td>\n",
              "      <td>0.08</td>\n",
              "      <td>0.83</td>\n",
              "      <td>5.00</td>\n",
              "      <td>5.00</td>\n",
              "      <td>0.00</td>\n",
              "      <td>0.00</td>\n",
              "      <td>0.00</td>\n",
              "      <td>GSR GSR</td>\n",
              "      <td>0.00</td>\n",
              "      <td>0.00</td>\n",
              "      <td>1.00</td>\n",
              "      <td>20.00</td>\n",
              "      <td>0.00</td>\n",
              "      <td>0.00</td>\n",
              "      <td>20.00</td>\n",
              "      <td>0.00</td>\n",
              "      <td>683.20</td>\n",
              "      <td>0.00</td>\n",
              "      <td>50.00</td>\n",
              "      <td>1.00</td>\n",
              "      <td>50.00</td>\n",
              "      <td>0.00</td>\n",
              "      <td>0.00</td>\n",
              "      <td>0.00</td>\n",
              "      <td>0.00</td>\n",
              "      <td>0.00</td>\n",
              "      <td>0.00</td>\n",
              "      <td>0.00</td>\n",
              "      <td>0.00</td>\n",
              "      <td>0.00</td>\n",
              "      <td>6802.00</td>\n",
              "    </tr>\n",
              "    <tr>\n",
              "      <th>1192.00</th>\n",
              "      <td>2</td>\n",
              "      <td>2</td>\n",
              "      <td>7118.00</td>\n",
              "      <td>018_M3</td>\n",
              "      <td>1969.00</td>\n",
              "      <td>7.00</td>\n",
              "      <td>3682.00</td>\n",
              "      <td>0.00</td>\n",
              "      <td>0.00</td>\n",
              "      <td>-0.02</td>\n",
              "      <td>0.07</td>\n",
              "      <td>0.86</td>\n",
              "      <td>0.05</td>\n",
              "      <td>0.08</td>\n",
              "      <td>0.83</td>\n",
              "      <td>5.00</td>\n",
              "      <td>5.00</td>\n",
              "      <td>0.00</td>\n",
              "      <td>0.00</td>\n",
              "      <td>0.00</td>\n",
              "      <td>GSR GSR</td>\n",
              "      <td>0.00</td>\n",
              "      <td>0.00</td>\n",
              "      <td>1.00</td>\n",
              "      <td>20.00</td>\n",
              "      <td>0.00</td>\n",
              "      <td>0.00</td>\n",
              "      <td>20.00</td>\n",
              "      <td>0.00</td>\n",
              "      <td>683.20</td>\n",
              "      <td>0.00</td>\n",
              "      <td>50.00</td>\n",
              "      <td>1.00</td>\n",
              "      <td>50.00</td>\n",
              "      <td>0.00</td>\n",
              "      <td>0.00</td>\n",
              "      <td>0.00</td>\n",
              "      <td>0.00</td>\n",
              "      <td>0.00</td>\n",
              "      <td>0.00</td>\n",
              "      <td>0.00</td>\n",
              "      <td>0.00</td>\n",
              "      <td>0.00</td>\n",
              "      <td>6802.00</td>\n",
              "    </tr>\n",
              "    <tr>\n",
              "      <th>1193.00</th>\n",
              "      <td>3</td>\n",
              "      <td>3</td>\n",
              "      <td>7120.00</td>\n",
              "      <td>018_M3</td>\n",
              "      <td>1969.00</td>\n",
              "      <td>7.00</td>\n",
              "      <td>3682.00</td>\n",
              "      <td>0.00</td>\n",
              "      <td>0.00</td>\n",
              "      <td>-0.02</td>\n",
              "      <td>0.07</td>\n",
              "      <td>0.86</td>\n",
              "      <td>0.05</td>\n",
              "      <td>0.08</td>\n",
              "      <td>0.83</td>\n",
              "      <td>5.00</td>\n",
              "      <td>5.00</td>\n",
              "      <td>0.00</td>\n",
              "      <td>0.00</td>\n",
              "      <td>0.00</td>\n",
              "      <td>ET|GSR GSR</td>\n",
              "      <td>0.00</td>\n",
              "      <td>0.00</td>\n",
              "      <td>1.00</td>\n",
              "      <td>20.00</td>\n",
              "      <td>0.00</td>\n",
              "      <td>0.00</td>\n",
              "      <td>20.00</td>\n",
              "      <td>0.00</td>\n",
              "      <td>683.20</td>\n",
              "      <td>0.00</td>\n",
              "      <td>50.00</td>\n",
              "      <td>1.00</td>\n",
              "      <td>50.00</td>\n",
              "      <td>0.00</td>\n",
              "      <td>0.00</td>\n",
              "      <td>0.00</td>\n",
              "      <td>0.00</td>\n",
              "      <td>0.00</td>\n",
              "      <td>0.00</td>\n",
              "      <td>0.00</td>\n",
              "      <td>0.00</td>\n",
              "      <td>0.00</td>\n",
              "      <td>6802.00</td>\n",
              "    </tr>\n",
              "    <tr>\n",
              "      <th>1195.00</th>\n",
              "      <td>4</td>\n",
              "      <td>4</td>\n",
              "      <td>7128.00</td>\n",
              "      <td>018_M3</td>\n",
              "      <td>1969.00</td>\n",
              "      <td>7.00</td>\n",
              "      <td>3682.00</td>\n",
              "      <td>0.00</td>\n",
              "      <td>0.00</td>\n",
              "      <td>-0.02</td>\n",
              "      <td>0.07</td>\n",
              "      <td>0.86</td>\n",
              "      <td>0.05</td>\n",
              "      <td>0.08</td>\n",
              "      <td>0.83</td>\n",
              "      <td>5.00</td>\n",
              "      <td>5.00</td>\n",
              "      <td>0.00</td>\n",
              "      <td>0.00</td>\n",
              "      <td>0.00</td>\n",
              "      <td>ET</td>\n",
              "      <td>0.00</td>\n",
              "      <td>0.00</td>\n",
              "      <td>1.00</td>\n",
              "      <td>20.00</td>\n",
              "      <td>0.00</td>\n",
              "      <td>0.00</td>\n",
              "      <td>20.00</td>\n",
              "      <td>0.00</td>\n",
              "      <td>683.20</td>\n",
              "      <td>0.00</td>\n",
              "      <td>50.00</td>\n",
              "      <td>1.00</td>\n",
              "      <td>50.00</td>\n",
              "      <td>0.00</td>\n",
              "      <td>0.00</td>\n",
              "      <td>0.00</td>\n",
              "      <td>0.00</td>\n",
              "      <td>0.00</td>\n",
              "      <td>0.00</td>\n",
              "      <td>0.00</td>\n",
              "      <td>0.00</td>\n",
              "      <td>0.00</td>\n",
              "      <td>6802.00</td>\n",
              "    </tr>\n",
              "    <tr>\n",
              "      <th>...</th>\n",
              "      <td>...</td>\n",
              "      <td>...</td>\n",
              "      <td>...</td>\n",
              "      <td>...</td>\n",
              "      <td>...</td>\n",
              "      <td>...</td>\n",
              "      <td>...</td>\n",
              "      <td>...</td>\n",
              "      <td>...</td>\n",
              "      <td>...</td>\n",
              "      <td>...</td>\n",
              "      <td>...</td>\n",
              "      <td>...</td>\n",
              "      <td>...</td>\n",
              "      <td>...</td>\n",
              "      <td>...</td>\n",
              "      <td>...</td>\n",
              "      <td>...</td>\n",
              "      <td>...</td>\n",
              "      <td>...</td>\n",
              "      <td>...</td>\n",
              "      <td>...</td>\n",
              "      <td>...</td>\n",
              "      <td>...</td>\n",
              "      <td>...</td>\n",
              "      <td>...</td>\n",
              "      <td>...</td>\n",
              "      <td>...</td>\n",
              "      <td>...</td>\n",
              "      <td>...</td>\n",
              "      <td>...</td>\n",
              "      <td>...</td>\n",
              "      <td>...</td>\n",
              "      <td>...</td>\n",
              "      <td>...</td>\n",
              "      <td>...</td>\n",
              "      <td>...</td>\n",
              "      <td>...</td>\n",
              "      <td>...</td>\n",
              "      <td>...</td>\n",
              "      <td>...</td>\n",
              "      <td>...</td>\n",
              "      <td>...</td>\n",
              "      <td>...</td>\n",
              "    </tr>\n",
              "    <tr>\n",
              "      <th>9844281.00</th>\n",
              "      <td>5909106</td>\n",
              "      <td>7549892</td>\n",
              "      <td>1089867.00</td>\n",
              "      <td>004_M1</td>\n",
              "      <td>1232.00</td>\n",
              "      <td>2071.00</td>\n",
              "      <td>1086975.00</td>\n",
              "      <td>0.00</td>\n",
              "      <td>0.00</td>\n",
              "      <td>-0.02</td>\n",
              "      <td>0.07</td>\n",
              "      <td>0.86</td>\n",
              "      <td>0.05</td>\n",
              "      <td>0.08</td>\n",
              "      <td>0.83</td>\n",
              "      <td>5.00</td>\n",
              "      <td>5.00</td>\n",
              "      <td>0.00</td>\n",
              "      <td>0.00</td>\n",
              "      <td>0.00</td>\n",
              "      <td>GSR GSR</td>\n",
              "      <td>0.00</td>\n",
              "      <td>0.00</td>\n",
              "      <td>1.00</td>\n",
              "      <td>15.00</td>\n",
              "      <td>-2.00</td>\n",
              "      <td>0.00</td>\n",
              "      <td>15.00</td>\n",
              "      <td>-2.00</td>\n",
              "      <td>683.20</td>\n",
              "      <td>35.02</td>\n",
              "      <td>0.00</td>\n",
              "      <td>1.00</td>\n",
              "      <td>0.00</td>\n",
              "      <td>-8.00</td>\n",
              "      <td>0.00</td>\n",
              "      <td>0.00</td>\n",
              "      <td>0.00</td>\n",
              "      <td>1.74</td>\n",
              "      <td>3.00</td>\n",
              "      <td>1.76</td>\n",
              "      <td>1.00</td>\n",
              "      <td>15.65</td>\n",
              "      <td>5358.00</td>\n",
              "    </tr>\n",
              "    <tr>\n",
              "      <th>9844282.00</th>\n",
              "      <td>5909107</td>\n",
              "      <td>7549893</td>\n",
              "      <td>1089868.00</td>\n",
              "      <td>004_M1</td>\n",
              "      <td>1232.00</td>\n",
              "      <td>2071.00</td>\n",
              "      <td>1086975.00</td>\n",
              "      <td>0.00</td>\n",
              "      <td>0.00</td>\n",
              "      <td>-0.02</td>\n",
              "      <td>0.07</td>\n",
              "      <td>0.86</td>\n",
              "      <td>0.05</td>\n",
              "      <td>0.08</td>\n",
              "      <td>0.83</td>\n",
              "      <td>5.00</td>\n",
              "      <td>5.00</td>\n",
              "      <td>0.00</td>\n",
              "      <td>0.00</td>\n",
              "      <td>0.00</td>\n",
              "      <td>GSR GSR</td>\n",
              "      <td>0.00</td>\n",
              "      <td>0.00</td>\n",
              "      <td>1.00</td>\n",
              "      <td>15.00</td>\n",
              "      <td>-2.00</td>\n",
              "      <td>0.00</td>\n",
              "      <td>15.00</td>\n",
              "      <td>-2.00</td>\n",
              "      <td>683.20</td>\n",
              "      <td>35.02</td>\n",
              "      <td>0.00</td>\n",
              "      <td>1.00</td>\n",
              "      <td>0.00</td>\n",
              "      <td>-8.00</td>\n",
              "      <td>0.00</td>\n",
              "      <td>0.00</td>\n",
              "      <td>0.00</td>\n",
              "      <td>1.74</td>\n",
              "      <td>3.00</td>\n",
              "      <td>1.76</td>\n",
              "      <td>1.00</td>\n",
              "      <td>15.65</td>\n",
              "      <td>5358.00</td>\n",
              "    </tr>\n",
              "    <tr>\n",
              "      <th>9844284.00</th>\n",
              "      <td>5909108</td>\n",
              "      <td>7549894</td>\n",
              "      <td>1089870.00</td>\n",
              "      <td>004_M1</td>\n",
              "      <td>1232.00</td>\n",
              "      <td>2071.00</td>\n",
              "      <td>1086975.00</td>\n",
              "      <td>0.00</td>\n",
              "      <td>0.00</td>\n",
              "      <td>-0.02</td>\n",
              "      <td>0.07</td>\n",
              "      <td>0.86</td>\n",
              "      <td>0.05</td>\n",
              "      <td>0.08</td>\n",
              "      <td>0.83</td>\n",
              "      <td>5.00</td>\n",
              "      <td>5.00</td>\n",
              "      <td>0.00</td>\n",
              "      <td>0.00</td>\n",
              "      <td>0.00</td>\n",
              "      <td>ET</td>\n",
              "      <td>0.00</td>\n",
              "      <td>0.00</td>\n",
              "      <td>1.00</td>\n",
              "      <td>15.00</td>\n",
              "      <td>-2.00</td>\n",
              "      <td>0.00</td>\n",
              "      <td>15.00</td>\n",
              "      <td>-2.00</td>\n",
              "      <td>683.20</td>\n",
              "      <td>35.02</td>\n",
              "      <td>0.00</td>\n",
              "      <td>1.00</td>\n",
              "      <td>0.00</td>\n",
              "      <td>-8.00</td>\n",
              "      <td>0.00</td>\n",
              "      <td>0.00</td>\n",
              "      <td>0.00</td>\n",
              "      <td>1.74</td>\n",
              "      <td>3.00</td>\n",
              "      <td>1.76</td>\n",
              "      <td>1.00</td>\n",
              "      <td>15.65</td>\n",
              "      <td>5358.00</td>\n",
              "    </tr>\n",
              "    <tr>\n",
              "      <th>9844287.00</th>\n",
              "      <td>5909109</td>\n",
              "      <td>7549895</td>\n",
              "      <td>1089882.00</td>\n",
              "      <td>004_M1</td>\n",
              "      <td>1232.00</td>\n",
              "      <td>2071.00</td>\n",
              "      <td>1086975.00</td>\n",
              "      <td>0.00</td>\n",
              "      <td>0.00</td>\n",
              "      <td>-0.02</td>\n",
              "      <td>0.07</td>\n",
              "      <td>0.86</td>\n",
              "      <td>0.05</td>\n",
              "      <td>0.08</td>\n",
              "      <td>0.83</td>\n",
              "      <td>5.00</td>\n",
              "      <td>5.00</td>\n",
              "      <td>0.00</td>\n",
              "      <td>0.00</td>\n",
              "      <td>0.00</td>\n",
              "      <td>GSR GSR</td>\n",
              "      <td>0.00</td>\n",
              "      <td>0.00</td>\n",
              "      <td>1.00</td>\n",
              "      <td>15.00</td>\n",
              "      <td>-2.00</td>\n",
              "      <td>0.00</td>\n",
              "      <td>15.00</td>\n",
              "      <td>-2.00</td>\n",
              "      <td>683.20</td>\n",
              "      <td>35.02</td>\n",
              "      <td>0.00</td>\n",
              "      <td>1.00</td>\n",
              "      <td>0.00</td>\n",
              "      <td>-8.00</td>\n",
              "      <td>0.00</td>\n",
              "      <td>0.00</td>\n",
              "      <td>0.00</td>\n",
              "      <td>1.74</td>\n",
              "      <td>3.00</td>\n",
              "      <td>1.76</td>\n",
              "      <td>1.00</td>\n",
              "      <td>15.65</td>\n",
              "      <td>5358.00</td>\n",
              "    </tr>\n",
              "    <tr>\n",
              "      <th>9844288.00</th>\n",
              "      <td>5909110</td>\n",
              "      <td>7549896</td>\n",
              "      <td>1089891.00</td>\n",
              "      <td>004_M1</td>\n",
              "      <td>1232.00</td>\n",
              "      <td>2071.00</td>\n",
              "      <td>1086975.00</td>\n",
              "      <td>0.00</td>\n",
              "      <td>0.00</td>\n",
              "      <td>-0.02</td>\n",
              "      <td>0.07</td>\n",
              "      <td>0.86</td>\n",
              "      <td>0.05</td>\n",
              "      <td>0.08</td>\n",
              "      <td>0.83</td>\n",
              "      <td>5.00</td>\n",
              "      <td>5.00</td>\n",
              "      <td>0.00</td>\n",
              "      <td>0.00</td>\n",
              "      <td>0.00</td>\n",
              "      <td>AutoBrakeSample 0.0|AutoThrottleSample 0.0|Cur...</td>\n",
              "      <td>0.00</td>\n",
              "      <td>0.00</td>\n",
              "      <td>1.00</td>\n",
              "      <td>15.00</td>\n",
              "      <td>-1.00</td>\n",
              "      <td>0.00</td>\n",
              "      <td>15.00</td>\n",
              "      <td>-1.00</td>\n",
              "      <td>683.20</td>\n",
              "      <td>35.02</td>\n",
              "      <td>0.00</td>\n",
              "      <td>1.00</td>\n",
              "      <td>0.00</td>\n",
              "      <td>-8.00</td>\n",
              "      <td>0.00</td>\n",
              "      <td>0.00</td>\n",
              "      <td>0.00</td>\n",
              "      <td>1.74</td>\n",
              "      <td>3.00</td>\n",
              "      <td>1.76</td>\n",
              "      <td>1.00</td>\n",
              "      <td>15.65</td>\n",
              "      <td>5358.00</td>\n",
              "    </tr>\n",
              "  </tbody>\n",
              "</table>\n",
              "<p>5909111 rows × 44 columns</p>\n",
              "</div>"
            ],
            "text/plain": [
              "            Unnamed: 0    index  Timestamp  ... LeftLaneType  Speed  ReactionTime\n",
              "ID                                          ...                                  \n",
              "1190.00              0        0    7102.00  ...         0.00   0.00       6802.00\n",
              "1191.00              1        1    7103.00  ...         0.00   0.00       6802.00\n",
              "1192.00              2        2    7118.00  ...         0.00   0.00       6802.00\n",
              "1193.00              3        3    7120.00  ...         0.00   0.00       6802.00\n",
              "1195.00              4        4    7128.00  ...         0.00   0.00       6802.00\n",
              "...                ...      ...        ...  ...          ...    ...           ...\n",
              "9844281.00     5909106  7549892 1089867.00  ...         1.00  15.65       5358.00\n",
              "9844282.00     5909107  7549893 1089868.00  ...         1.00  15.65       5358.00\n",
              "9844284.00     5909108  7549894 1089870.00  ...         1.00  15.65       5358.00\n",
              "9844287.00     5909109  7549895 1089882.00  ...         1.00  15.65       5358.00\n",
              "9844288.00     5909110  7549896 1089891.00  ...         1.00  15.65       5358.00\n",
              "\n",
              "[5909111 rows x 44 columns]"
            ]
          },
          "metadata": {
            "tags": []
          },
          "execution_count": 7
        }
      ]
    },
    {
      "cell_type": "code",
      "metadata": {
        "id": "_BVhI0i0jnoL"
      },
      "source": [
        "# 5 class using mean & sdev\n",
        "def create_tot_categories(rt_column):\n",
        "    rt_mean = round(rt_column.mean())\n",
        "    rt_sdev = round(rt_column.std())\n",
        "    bound_1 = rt_mean - rt_sdev\n",
        "    bound_2 = rt_mean - rt_sdev // 2\n",
        "    bound_3 = rt_mean + rt_sdev // 2\n",
        "    bound_4 = rt_mean + rt_sdev\n",
        "    bins = [float('-inf'), bound_1, bound_2, bound_3, bound_4, float('inf')]\n",
        "    labels =  np.array(['fast', 'med_fast', 'med', 'med_slow', 'slow'], dtype=object)\n",
        "    return (bins, labels)\n",
        "\n",
        "# make a copy the raw data\n",
        "df = raw_df.copy()\n",
        "\n",
        "# compute 'TOT' categories\n",
        "tot_bins, tot_labels = create_tot_categories(df.ReactionTime)\n",
        "n_categories = len(tot_labels)\n",
        "\n",
        "df.RightLaneType = df.RightLaneType.astype(int)\n",
        "df.LeftLaneType = df.LeftLaneType.astype(int)\n",
        "# convert leftlane type and rightlanetype to categorical:\n",
        "\n",
        "# add the class to the dataframe\n",
        "df['TOT'] = pd.cut(df.ReactionTime, bins=tot_bins, labels=tot_labels).astype(object)\n",
        "\n",
        "# # Select a handful of ppl for saving resource\n",
        "df['Name'] = df['Name'].str.upper()\n",
        "chunk_users = [[f'{i}'.zfill(3) + f'_M{j}' for j in range(1, 4)] for i in [13, 14]]\n",
        "chunk_users = [u for l in chunk_users for u in l]\n",
        "all_users = df.copy()\n",
        "df = df.loc[df['Name'].isin(chunk_users)]"
      ],
      "execution_count": null,
      "outputs": []
    },
    {
      "cell_type": "code",
      "metadata": {
        "id": "db67Pun6qPyn",
        "colab": {
          "base_uri": "https://localhost:8080/",
          "height": 156
        },
        "outputId": "4a1652d1-36bb-4761-d551-4c4a2557c9db"
      },
      "source": [
        "def upsample_minority_TOTs(X_train, y_train, tot_labels, random_state=27):\n",
        "    # contat the training data together.\n",
        "    X = pd.concat([X_train, y_train], axis=1)\n",
        "    # separate majority and minority classes\n",
        "    buckets = {l: X[X.TOT == l] for l in tot_labels}\n",
        "    maj_label, majority = reduce(lambda a,b: b if b[1].shape[0] > a[1].shape[0] else a, buckets.items())\n",
        "    minorities = {k:v for k,v in buckets.items() if k != maj_label}\n",
        "    # upsample the minority classes\n",
        "    for k,v in minorities.items():\n",
        "        buckets[k] = resample(v, replace=True, n_samples=majority.shape[0], random_state=random_state)\n",
        "    upsampled = pd.concat(buckets.values()).sample(frac=1)\n",
        "    # split the upsampled data into X and y\n",
        "    y_train = upsampled['TOT']\n",
        "    X_train = upsampled.drop('TOT', axis=1)\n",
        "    return X_train, y_train\n",
        "\n",
        "def prepare_inputs(X_train, X_test):\n",
        "    # scales inputs using \"standard scaler\", and returns 2D numpy array\n",
        "    scaler = StandardScaler().fit(pd.concat([X_train, X_test]))\n",
        "    X_train = scaler.transform(X_train.values)\n",
        "    X_test = scaler.transform(X_test.values)\n",
        "    return X_train, X_test, scaler\n",
        "\n",
        "def prepare_target(y_train, y_test, categories):\n",
        "    # convert target to categorical, and returns 2D numpy array\n",
        "    y_train = y_train.to_numpy().reshape(-1,1)\n",
        "    y_test = y_test.to_numpy().reshape(-1,1)\n",
        "    onehot = OneHotEncoder(categories=categories)\n",
        "    onehot.fit(np.concatenate([y_train, y_test]))\n",
        "    y_train = onehot.transform(y_train).toarray()\n",
        "    y_test = onehot.transform(y_test).toarray()\n",
        "    return y_train, y_test, onehot\n",
        "\n",
        "# split features and targets\n",
        "y = df.TOT\n",
        "X = df.drop(['Name', 'ReactionTime', 'TOT'], axis=1)\n",
        "\n",
        "# make results easier to reproduce\n",
        "random_state = 27\n",
        "\n",
        "# split train and test data\n",
        "X_train, X_test, y_train, y_test = train_test_split(X, y, test_size=0.20, stratify=y, random_state=random_state)\n",
        "\n",
        "# upsample the training data\n",
        "X_train, y_train = upsample_minority_TOTs(X_train, y_train, tot_labels)\n",
        "\n",
        "# scale the inputs\n",
        "X_train_enc, X_test_enc, scaler = prepare_inputs(X_train, X_test)\n",
        "# categorize outputs\n",
        "y_train_enc, y_test_enc, onehot = prepare_target(y_train, y_test, categories=[tot_labels])\n",
        "\n",
        "print_heading('TOT Value Counts')\n",
        "print(y_train.value_counts())"
      ],
      "execution_count": null,
      "outputs": [
        {
          "output_type": "display_data",
          "data": {
            "text/html": [
              "<h3 style=\"\">TOT Value Counts</h3>"
            ],
            "text/plain": [
              "<IPython.core.display.HTML object>"
            ]
          },
          "metadata": {
            "tags": []
          }
        },
        {
          "output_type": "stream",
          "text": [
            "med_slow    197738\n",
            "med         197738\n",
            "fast        197738\n",
            "med_fast    197738\n",
            "slow        197738\n",
            "Name: TOT, dtype: int64\n"
          ],
          "name": "stdout"
        }
      ]
    },
    {
      "cell_type": "code",
      "metadata": {
        "id": "p0cUCYYGzYdX"
      },
      "source": [
        "# Prepare data used for extended evaluation and verification (all participants)\n",
        "\n",
        "# split features and targets\n",
        "Y_verification = all_users.TOT\n",
        "X_verification = all_users.drop(['Name', 'ReactionTime', 'TOT'], axis=1)\n",
        "# upsample minority classes\n",
        "X_verification, Y_verification = upsample_minority_TOTs(X_verification, Y_verification, tot_labels)\n",
        "# scale the inputs\n",
        "X_verification = scaler.transform(X_verification.values)\n",
        "# categorize outputs\n",
        "Y_verification = onehot.transform(Y_verification.to_numpy().reshape(-1, 1)).toarray()"
      ],
      "execution_count": null,
      "outputs": []
    },
    {
      "cell_type": "code",
      "metadata": {
        "id": "-I_Ou1kLXXKj"
      },
      "source": [
        "def add_adversarial_data(X_train, y_train, adversarial_df):\n",
        "    y_cols = [f'y{y}' for y in range(y_train.shape[1])]\n",
        "    y_adv = adv_df[y_cols].values\n",
        "    X_adv = adv_df.drop(y_cols, axis=1).values\n",
        "    return np.append(X_train, X_adv, axis=0), np.append(y_train, y_adv, axis=0)\n",
        "\n",
        "# adv_df = pd.read_csv(adv_dataset_file)\n",
        "# X_train_enc, y_train_enc = add_adversarial_data(X_train_enc, y_train_enc, adv_df)"
      ],
      "execution_count": null,
      "outputs": []
    },
    {
      "cell_type": "code",
      "metadata": {
        "id": "ADL_EFEYn_aa",
        "colab": {
          "base_uri": "https://localhost:8080/",
          "height": 212
        },
        "outputId": "32ae69c4-59b1-4f6e-b195-1e9bcd9e6204"
      },
      "source": [
        "# save the column names & indexes for use during verification\n",
        "feature_names = list(X.columns)\n",
        "\n",
        "# display the feature names\n",
        "print_heading('Feature Names')\n",
        "print_message(feature_names)\n",
        "\n",
        "# print the TOT categories\n",
        "print_heading('TOT Categories')\n",
        "print('\\n'.join(['%s: %9.2f, %7.2f' % (tot_labels[i].rjust(8), tot_bins[i], tot_bins[i+1]) for i in range(n_categories)]))"
      ],
      "execution_count": null,
      "outputs": [
        {
          "output_type": "display_data",
          "data": {
            "text/html": [
              "<h3 style=\"\">Feature Names</h3>"
            ],
            "text/plain": [
              "<IPython.core.display.HTML object>"
            ]
          },
          "metadata": {
            "tags": []
          }
        },
        {
          "output_type": "display_data",
          "data": {
            "text/html": [
              "<span style=\"\">['FixationDuration', 'FixationSeq', 'FixationStart', 'FixationX', 'FixationY', 'GazeDirectionLeftZ', 'GazeDirectionRightZ', 'PupilLeft', 'PupilRight', 'InterpolatedGazeX', 'InterpolatedGazeY', 'AutoThrottle', 'AutoWheel', 'CurrentThrottle', 'CurrentWheel', 'Distance3D', 'MPH', 'ManualBrake', 'ManualThrottle', 'ManualWheel', 'RangeW', 'RightLaneDist', 'RightLaneType', 'LeftLaneDist', 'LeftLaneType']</span>"
            ],
            "text/plain": [
              "<IPython.core.display.HTML object>"
            ]
          },
          "metadata": {
            "tags": []
          }
        },
        {
          "output_type": "display_data",
          "data": {
            "text/html": [
              "<h3 style=\"\">TOT Categories</h3>"
            ],
            "text/plain": [
              "<IPython.core.display.HTML object>"
            ]
          },
          "metadata": {
            "tags": []
          }
        },
        {
          "output_type": "stream",
          "text": [
            "    fast:      -inf, 1612.00\n",
            "med_fast:   1612.00, 2802.00\n",
            "     med:   2802.00, 5180.00\n",
            "med_slow:   5180.00, 6370.00\n",
            "    slow:   6370.00,     inf\n"
          ],
          "name": "stdout"
        }
      ]
    },
    {
      "cell_type": "code",
      "metadata": {
        "id": "9iyMttEKFQkf",
        "colab": {
          "base_uri": "https://localhost:8080/",
          "height": 352
        },
        "outputId": "6ad4914f-9fce-44bb-d25c-8aac09370fa1"
      },
      "source": [
        "def display_processed_data(feature_names, unencoded=True, encoded=True, describe=True):\n",
        "    if unencoded:\n",
        "        print_heading('Unencoded Data')\n",
        "        display(pd.concat([X_train, y_train], axis=1).describe())\n",
        "        \n",
        "    if encoded:\n",
        "        enc_tot_labels = onehot.get_feature_names(input_features=['TOT'])\n",
        "        print_heading('Encoded Data')\n",
        "        display(pd.concat([pd.DataFrame(X_train_enc, columns=feature_names),\n",
        "                           pd.DataFrame(y_train_enc, columns=enc_tot_labels)],\n",
        "                          axis=1).astype({k:int for k in enc_tot_labels}).describe())\n",
        "\n",
        "display_processed_data(feature_names, unencoded=False)"
      ],
      "execution_count": null,
      "outputs": [
        {
          "output_type": "display_data",
          "data": {
            "text/html": [
              "<h3 style=\"\">Encoded Data</h3>"
            ],
            "text/plain": [
              "<IPython.core.display.HTML object>"
            ]
          },
          "metadata": {
            "tags": []
          }
        },
        {
          "output_type": "display_data",
          "data": {
            "text/html": [
              "<div>\n",
              "<style scoped>\n",
              "    .dataframe tbody tr th:only-of-type {\n",
              "        vertical-align: middle;\n",
              "    }\n",
              "\n",
              "    .dataframe tbody tr th {\n",
              "        vertical-align: top;\n",
              "    }\n",
              "\n",
              "    .dataframe thead th {\n",
              "        text-align: right;\n",
              "    }\n",
              "</style>\n",
              "<table border=\"1\" class=\"dataframe\">\n",
              "  <thead>\n",
              "    <tr style=\"text-align: right;\">\n",
              "      <th></th>\n",
              "      <th>FixationDuration</th>\n",
              "      <th>FixationSeq</th>\n",
              "      <th>FixationStart</th>\n",
              "      <th>FixationX</th>\n",
              "      <th>FixationY</th>\n",
              "      <th>GazeDirectionLeftZ</th>\n",
              "      <th>GazeDirectionRightZ</th>\n",
              "      <th>PupilLeft</th>\n",
              "      <th>PupilRight</th>\n",
              "      <th>InterpolatedGazeX</th>\n",
              "      <th>InterpolatedGazeY</th>\n",
              "      <th>AutoThrottle</th>\n",
              "      <th>AutoWheel</th>\n",
              "      <th>CurrentThrottle</th>\n",
              "      <th>CurrentWheel</th>\n",
              "      <th>Distance3D</th>\n",
              "      <th>MPH</th>\n",
              "      <th>ManualBrake</th>\n",
              "      <th>ManualThrottle</th>\n",
              "      <th>ManualWheel</th>\n",
              "      <th>RangeW</th>\n",
              "      <th>RightLaneDist</th>\n",
              "      <th>RightLaneType</th>\n",
              "      <th>LeftLaneDist</th>\n",
              "      <th>LeftLaneType</th>\n",
              "      <th>TOT_fast</th>\n",
              "      <th>TOT_med_fast</th>\n",
              "      <th>TOT_med</th>\n",
              "      <th>TOT_med_slow</th>\n",
              "      <th>TOT_slow</th>\n",
              "    </tr>\n",
              "  </thead>\n",
              "  <tbody>\n",
              "    <tr>\n",
              "      <th>count</th>\n",
              "      <td>988690.00</td>\n",
              "      <td>988690.00</td>\n",
              "      <td>988690.00</td>\n",
              "      <td>988690.00</td>\n",
              "      <td>988690.00</td>\n",
              "      <td>988690.00</td>\n",
              "      <td>988690.00</td>\n",
              "      <td>988690.00</td>\n",
              "      <td>988690.00</td>\n",
              "      <td>988690.00</td>\n",
              "      <td>988690.00</td>\n",
              "      <td>988690.00</td>\n",
              "      <td>988690.00</td>\n",
              "      <td>988690.00</td>\n",
              "      <td>988690.00</td>\n",
              "      <td>988690.00</td>\n",
              "      <td>988690.00</td>\n",
              "      <td>988690.00</td>\n",
              "      <td>988690.00</td>\n",
              "      <td>988690.00</td>\n",
              "      <td>988690.00</td>\n",
              "      <td>988690.00</td>\n",
              "      <td>988690.00</td>\n",
              "      <td>988690.00</td>\n",
              "      <td>988690.00</td>\n",
              "      <td>988690.00</td>\n",
              "      <td>988690.00</td>\n",
              "      <td>988690.00</td>\n",
              "      <td>988690.00</td>\n",
              "      <td>988690.00</td>\n",
              "    </tr>\n",
              "    <tr>\n",
              "      <th>mean</th>\n",
              "      <td>0.00</td>\n",
              "      <td>-0.00</td>\n",
              "      <td>-0.00</td>\n",
              "      <td>-0.00</td>\n",
              "      <td>-0.00</td>\n",
              "      <td>-0.00</td>\n",
              "      <td>-0.01</td>\n",
              "      <td>-0.00</td>\n",
              "      <td>0.00</td>\n",
              "      <td>-0.01</td>\n",
              "      <td>-0.01</td>\n",
              "      <td>0.00</td>\n",
              "      <td>0.00</td>\n",
              "      <td>0.00</td>\n",
              "      <td>0.00</td>\n",
              "      <td>-0.01</td>\n",
              "      <td>-0.00</td>\n",
              "      <td>-0.00</td>\n",
              "      <td>-0.00</td>\n",
              "      <td>0.00</td>\n",
              "      <td>0.00</td>\n",
              "      <td>-0.00</td>\n",
              "      <td>-0.00</td>\n",
              "      <td>0.00</td>\n",
              "      <td>0.00</td>\n",
              "      <td>0.20</td>\n",
              "      <td>0.20</td>\n",
              "      <td>0.20</td>\n",
              "      <td>0.20</td>\n",
              "      <td>0.20</td>\n",
              "    </tr>\n",
              "    <tr>\n",
              "      <th>std</th>\n",
              "      <td>1.00</td>\n",
              "      <td>1.00</td>\n",
              "      <td>1.00</td>\n",
              "      <td>1.00</td>\n",
              "      <td>1.00</td>\n",
              "      <td>1.00</td>\n",
              "      <td>1.00</td>\n",
              "      <td>1.00</td>\n",
              "      <td>1.00</td>\n",
              "      <td>1.00</td>\n",
              "      <td>1.00</td>\n",
              "      <td>1.00</td>\n",
              "      <td>1.00</td>\n",
              "      <td>1.00</td>\n",
              "      <td>1.00</td>\n",
              "      <td>1.00</td>\n",
              "      <td>1.00</td>\n",
              "      <td>1.00</td>\n",
              "      <td>1.00</td>\n",
              "      <td>1.00</td>\n",
              "      <td>1.01</td>\n",
              "      <td>1.00</td>\n",
              "      <td>1.00</td>\n",
              "      <td>1.00</td>\n",
              "      <td>1.00</td>\n",
              "      <td>0.40</td>\n",
              "      <td>0.40</td>\n",
              "      <td>0.40</td>\n",
              "      <td>0.40</td>\n",
              "      <td>0.40</td>\n",
              "    </tr>\n",
              "    <tr>\n",
              "      <th>min</th>\n",
              "      <td>-1.42</td>\n",
              "      <td>-2.52</td>\n",
              "      <td>-2.26</td>\n",
              "      <td>-8.06</td>\n",
              "      <td>-3.51</td>\n",
              "      <td>-2.26</td>\n",
              "      <td>-1.88</td>\n",
              "      <td>-4.00</td>\n",
              "      <td>-3.57</td>\n",
              "      <td>-1.54</td>\n",
              "      <td>-1.25</td>\n",
              "      <td>-1.12</td>\n",
              "      <td>-43.89</td>\n",
              "      <td>-1.75</td>\n",
              "      <td>-95.26</td>\n",
              "      <td>-1.05</td>\n",
              "      <td>-6.06</td>\n",
              "      <td>-0.48</td>\n",
              "      <td>-0.36</td>\n",
              "      <td>-12.34</td>\n",
              "      <td>-0.09</td>\n",
              "      <td>-5.42</td>\n",
              "      <td>-6.53</td>\n",
              "      <td>-5.49</td>\n",
              "      <td>-4.77</td>\n",
              "      <td>0.00</td>\n",
              "      <td>0.00</td>\n",
              "      <td>0.00</td>\n",
              "      <td>0.00</td>\n",
              "      <td>0.00</td>\n",
              "    </tr>\n",
              "    <tr>\n",
              "      <th>25%</th>\n",
              "      <td>-0.69</td>\n",
              "      <td>-0.11</td>\n",
              "      <td>-0.07</td>\n",
              "      <td>-0.22</td>\n",
              "      <td>-0.05</td>\n",
              "      <td>0.21</td>\n",
              "      <td>0.21</td>\n",
              "      <td>-0.91</td>\n",
              "      <td>-0.99</td>\n",
              "      <td>-1.54</td>\n",
              "      <td>-1.25</td>\n",
              "      <td>-1.12</td>\n",
              "      <td>-0.20</td>\n",
              "      <td>-0.33</td>\n",
              "      <td>-0.38</td>\n",
              "      <td>-1.05</td>\n",
              "      <td>-0.14</td>\n",
              "      <td>-0.48</td>\n",
              "      <td>-0.36</td>\n",
              "      <td>-0.23</td>\n",
              "      <td>-0.09</td>\n",
              "      <td>-0.41</td>\n",
              "      <td>0.24</td>\n",
              "      <td>-0.37</td>\n",
              "      <td>-0.23</td>\n",
              "      <td>0.00</td>\n",
              "      <td>0.00</td>\n",
              "      <td>0.00</td>\n",
              "      <td>0.00</td>\n",
              "      <td>0.00</td>\n",
              "    </tr>\n",
              "    <tr>\n",
              "      <th>50%</th>\n",
              "      <td>0.25</td>\n",
              "      <td>0.10</td>\n",
              "      <td>-0.07</td>\n",
              "      <td>-0.22</td>\n",
              "      <td>-0.05</td>\n",
              "      <td>0.46</td>\n",
              "      <td>0.54</td>\n",
              "      <td>0.36</td>\n",
              "      <td>0.48</td>\n",
              "      <td>0.44</td>\n",
              "      <td>0.05</td>\n",
              "      <td>0.89</td>\n",
              "      <td>-0.04</td>\n",
              "      <td>0.14</td>\n",
              "      <td>-0.08</td>\n",
              "      <td>0.02</td>\n",
              "      <td>0.40</td>\n",
              "      <td>-0.48</td>\n",
              "      <td>-0.36</td>\n",
              "      <td>0.14</td>\n",
              "      <td>-0.09</td>\n",
              "      <td>0.03</td>\n",
              "      <td>0.24</td>\n",
              "      <td>-0.03</td>\n",
              "      <td>-0.23</td>\n",
              "      <td>0.00</td>\n",
              "      <td>0.00</td>\n",
              "      <td>0.00</td>\n",
              "      <td>0.00</td>\n",
              "      <td>0.00</td>\n",
              "    </tr>\n",
              "    <tr>\n",
              "      <th>75%</th>\n",
              "      <td>0.25</td>\n",
              "      <td>0.10</td>\n",
              "      <td>0.08</td>\n",
              "      <td>0.26</td>\n",
              "      <td>0.06</td>\n",
              "      <td>0.54</td>\n",
              "      <td>0.60</td>\n",
              "      <td>0.81</td>\n",
              "      <td>0.73</td>\n",
              "      <td>0.66</td>\n",
              "      <td>0.73</td>\n",
              "      <td>0.89</td>\n",
              "      <td>0.28</td>\n",
              "      <td>0.14</td>\n",
              "      <td>0.49</td>\n",
              "      <td>0.49</td>\n",
              "      <td>0.41</td>\n",
              "      <td>-0.48</td>\n",
              "      <td>-0.36</td>\n",
              "      <td>0.51</td>\n",
              "      <td>-0.09</td>\n",
              "      <td>0.36</td>\n",
              "      <td>0.24</td>\n",
              "      <td>0.41</td>\n",
              "      <td>-0.23</td>\n",
              "      <td>0.00</td>\n",
              "      <td>0.00</td>\n",
              "      <td>0.00</td>\n",
              "      <td>0.00</td>\n",
              "      <td>0.00</td>\n",
              "    </tr>\n",
              "    <tr>\n",
              "      <th>max</th>\n",
              "      <td>7.82</td>\n",
              "      <td>2.63</td>\n",
              "      <td>2.82</td>\n",
              "      <td>8.67</td>\n",
              "      <td>5.07</td>\n",
              "      <td>0.57</td>\n",
              "      <td>0.63</td>\n",
              "      <td>4.06</td>\n",
              "      <td>3.24</td>\n",
              "      <td>2.76</td>\n",
              "      <td>2.71</td>\n",
              "      <td>0.89</td>\n",
              "      <td>11.89</td>\n",
              "      <td>7.72</td>\n",
              "      <td>17.38</td>\n",
              "      <td>40.12</td>\n",
              "      <td>2.11</td>\n",
              "      <td>3.09</td>\n",
              "      <td>3.38</td>\n",
              "      <td>9.69</td>\n",
              "      <td>19.77</td>\n",
              "      <td>6.37</td>\n",
              "      <td>0.24</td>\n",
              "      <td>6.52</td>\n",
              "      <td>8.85</td>\n",
              "      <td>1.00</td>\n",
              "      <td>1.00</td>\n",
              "      <td>1.00</td>\n",
              "      <td>1.00</td>\n",
              "      <td>1.00</td>\n",
              "    </tr>\n",
              "  </tbody>\n",
              "</table>\n",
              "</div>"
            ],
            "text/plain": [
              "       FixationDuration  FixationSeq  ...  TOT_med_slow  TOT_slow\n",
              "count         988690.00    988690.00  ...     988690.00 988690.00\n",
              "mean               0.00        -0.00  ...          0.20      0.20\n",
              "std                1.00         1.00  ...          0.40      0.40\n",
              "min               -1.42        -2.52  ...          0.00      0.00\n",
              "25%               -0.69        -0.11  ...          0.00      0.00\n",
              "50%                0.25         0.10  ...          0.00      0.00\n",
              "75%                0.25         0.10  ...          0.00      0.00\n",
              "max                7.82         2.63  ...          1.00      1.00\n",
              "\n",
              "[8 rows x 30 columns]"
            ]
          },
          "metadata": {
            "tags": []
          }
        }
      ]
    },
    {
      "cell_type": "markdown",
      "metadata": {
        "id": "yHuNy4fVKOQ8"
      },
      "source": [
        "\n",
        "## Build & Train NN"
      ]
    },
    {
      "cell_type": "code",
      "metadata": {
        "id": "x2SqKAp8hv5K",
        "colab": {
          "base_uri": "https://localhost:8080/"
        },
        "outputId": "63c97ade-e951-42fb-c77c-3865152e47fe"
      },
      "source": [
        "# cleanup the old training logs and models\n",
        "!rm -rf $tensorboard_logs model-*.h5 $saved_model_dir\n",
        "!mkdir -p $tensorboard_logs\n",
        "\n",
        "# training callbacks\n",
        "mc_file = 'model-best-{epoch:02d}-{val_loss:.2f}.h5'\n",
        "es_cb = EarlyStopping(monitor='val_loss', mode='min', verbose=1, patience=20)\n",
        "mc_cb = ModelCheckpoint(mc_file, monitor='val_accuracy', verbose=1, save_best_only=True)\n",
        "# tb_cb = TensorBoard(log_dir=tensorboard_logs, histogram_freq=1, write_graph=True, write_images=True)\n",
        "\n",
        "# v3.2.2\n",
        "# loss: 0.3316 - accuracy: 0.8707 - val_loss: 0.3212 - val_accuracy: 0.874\n",
        "# 1) Train: 0.869, 2) Test: 0.847\n",
        "model = Sequential()\n",
        "model.add(InputLayer(input_shape=(X_train_enc.shape[1],)))\n",
        "model.add(Dense(23, activation='relu', kernel_initializer='he_normal'))\n",
        "model.add(Dense(18, activation='relu'))\n",
        "model.add(Dense(11, activation='relu'))\n",
        "model.add(Dense(n_categories, activation='softmax')) # logits layer\n",
        "\n",
        "optimizer = 'adam'\n",
        "# optimizer = tf.keras.optimizers.Adam(learning_rate=0.02)\n",
        "model.compile(loss='categorical_crossentropy', optimizer=optimizer, metrics=['accuracy'])\n",
        "\n",
        "# fit the keras model on the dataset\n",
        "history = model.fit(X_train_enc, y_train_enc,\n",
        "                    validation_data=(X_test_enc, y_test_enc),\n",
        "                    # epochs=30,\n",
        "                    epochs=1,\n",
        "                    batch_size=16,\n",
        "                    callbacks=[es_cb, mc_cb])\n",
        "                    # callbacks=[es_cb, mc_cb, tb_cb])"
      ],
      "execution_count": null,
      "outputs": [
        {
          "output_type": "stream",
          "text": [
            "\r    1/61794 [..............................] - ETA: 4:13 - loss: 1.6827 - accuracy: 0.2500WARNING:tensorflow:Callbacks method `on_train_batch_end` is slow compared to the batch time (batch time: 0.0008s vs `on_train_batch_end` time: 0.0076s). Check your callbacks.\n"
          ],
          "name": "stdout"
        },
        {
          "output_type": "stream",
          "text": [
            "WARNING:tensorflow:Callbacks method `on_train_batch_end` is slow compared to the batch time (batch time: 0.0008s vs `on_train_batch_end` time: 0.0076s). Check your callbacks.\n"
          ],
          "name": "stderr"
        },
        {
          "output_type": "stream",
          "text": [
            "61793/61794 [============================>.] - ETA: 0s - loss: 0.7305 - accuracy: 0.7194WARNING:tensorflow:Callbacks method `on_test_batch_end` is slow compared to the batch time (batch time: 0.0004s vs `on_test_batch_end` time: 0.0032s). Check your callbacks.\n"
          ],
          "name": "stdout"
        },
        {
          "output_type": "stream",
          "text": [
            "WARNING:tensorflow:Callbacks method `on_test_batch_end` is slow compared to the batch time (batch time: 0.0004s vs `on_test_batch_end` time: 0.0032s). Check your callbacks.\n"
          ],
          "name": "stderr"
        },
        {
          "output_type": "stream",
          "text": [
            "\n",
            "Epoch 00001: val_accuracy improved from -inf to 0.73916, saving model to model-best-01-0.67.h5\n",
            "\b\b\b\b\b\b\b\b\b\b\b\b\b\b\b\b\b\b\b\b\b\b\b\b\b\b\b\b\b\b\b\b\b\b\b\b\b\b\b\b\b\b\b\b\b\b\b\b\b\b\b\b\b\b\b\b\b\b\b\b\b\b\b\b\b\b\b\b\b\b\b\b\b\b\b\b\b\b\b\b\b\b\b\b\b\b\b\b\r61794/61794 [==============================] - 448s 7ms/step - loss: 0.7305 - accuracy: 0.7194 - val_loss: 0.6693 - val_accuracy: 0.7392\n"
          ],
          "name": "stdout"
        }
      ]
    },
    {
      "cell_type": "code",
      "metadata": {
        "id": "carydEyuK4tl",
        "colab": {
          "base_uri": "https://localhost:8080/",
          "height": 688
        },
        "outputId": "74617465-4d65-4f42-eb87-a657b1167cb5"
      },
      "source": [
        "# pick best model file from filesystem\n",
        "best_model_path = sorted(glob.glob('model-best-*.h5'), key=lambda f: int(re.search(r'\\d+', f).group()))[-1]\n",
        "\n",
        "print_heading('Best Model:')\n",
        "print_message(best_model_path)\n",
        "\n",
        "# cleanup old model\n",
        "!rm -rf $saved_model_dir\n",
        "\n",
        "# save model in tf and h5 formats\n",
        "tf_model_path = f'{saved_model_dir}/model'\n",
        "h5_model_path = f'{saved_model_dir}/model.h5'\n",
        "model.save(tf_model_path) # save_format='tf'\n",
        "model.save(h5_model_path, save_format='h5')"
      ],
      "execution_count": null,
      "outputs": [
        {
          "output_type": "display_data",
          "data": {
            "text/html": [
              "<h3 style=\"\">Best Model:</h3>"
            ],
            "text/plain": [
              "<IPython.core.display.HTML object>"
            ]
          },
          "metadata": {
            "tags": []
          }
        },
        {
          "output_type": "display_data",
          "data": {
            "text/html": [
              "<span style=\"\">model-best-01-0.67.h5</span>"
            ],
            "text/plain": [
              "<IPython.core.display.HTML object>"
            ]
          },
          "metadata": {
            "tags": []
          }
        },
        {
          "output_type": "stream",
          "text": [
            "WARNING:tensorflow:From /usr/local/lib/python3.6/dist-packages/tensorflow/python/training/tracking/tracking.py:111: Model.state_updates (from tensorflow.python.keras.engine.training) is deprecated and will be removed in a future version.\n",
            "Instructions for updating:\n",
            "This property should not be used in TensorFlow 2.0, as updates are applied automatically.\n"
          ],
          "name": "stdout"
        },
        {
          "output_type": "stream",
          "text": [
            "WARNING:tensorflow:From /usr/local/lib/python3.6/dist-packages/tensorflow/python/training/tracking/tracking.py:111: Model.state_updates (from tensorflow.python.keras.engine.training) is deprecated and will be removed in a future version.\n",
            "Instructions for updating:\n",
            "This property should not be used in TensorFlow 2.0, as updates are applied automatically.\n"
          ],
          "name": "stderr"
        },
        {
          "output_type": "stream",
          "text": [
            "WARNING:tensorflow:From /usr/local/lib/python3.6/dist-packages/tensorflow/python/training/tracking/tracking.py:111: Layer.updates (from tensorflow.python.keras.engine.base_layer) is deprecated and will be removed in a future version.\n",
            "Instructions for updating:\n",
            "This property should not be used in TensorFlow 2.0, as updates are applied automatically.\n"
          ],
          "name": "stdout"
        },
        {
          "output_type": "stream",
          "text": [
            "WARNING:tensorflow:From /usr/local/lib/python3.6/dist-packages/tensorflow/python/training/tracking/tracking.py:111: Layer.updates (from tensorflow.python.keras.engine.base_layer) is deprecated and will be removed in a future version.\n",
            "Instructions for updating:\n",
            "This property should not be used in TensorFlow 2.0, as updates are applied automatically.\n"
          ],
          "name": "stderr"
        },
        {
          "output_type": "stream",
          "text": [
            "INFO:tensorflow:Assets written to: ./saved_model/model/assets\n"
          ],
          "name": "stdout"
        },
        {
          "output_type": "stream",
          "text": [
            "INFO:tensorflow:Assets written to: ./saved_model/model/assets\n"
          ],
          "name": "stderr"
        },
        {
          "output_type": "error",
          "ename": "UnimplementedError",
          "evalue": "ignored",
          "traceback": [
            "\u001b[0;31m---------------------------------------------------------------------------\u001b[0m",
            "\u001b[0;31mUnimplementedError\u001b[0m                        Traceback (most recent call last)",
            "\u001b[0;32m<ipython-input-15-e5d794ae1820>\u001b[0m in \u001b[0;36m<module>\u001b[0;34m()\u001b[0m\n\u001b[1;32m     11\u001b[0m \u001b[0mtf_model_path\u001b[0m \u001b[0;34m=\u001b[0m \u001b[0;34mf'{saved_model_dir}/model'\u001b[0m\u001b[0;34m\u001b[0m\u001b[0;34m\u001b[0m\u001b[0m\n\u001b[1;32m     12\u001b[0m \u001b[0mh5_model_path\u001b[0m \u001b[0;34m=\u001b[0m \u001b[0;34mf'{saved_model_dir}/model.h5'\u001b[0m\u001b[0;34m\u001b[0m\u001b[0;34m\u001b[0m\u001b[0m\n\u001b[0;32m---> 13\u001b[0;31m \u001b[0mmodel\u001b[0m\u001b[0;34m.\u001b[0m\u001b[0msave\u001b[0m\u001b[0;34m(\u001b[0m\u001b[0mtf_model_path\u001b[0m\u001b[0;34m)\u001b[0m \u001b[0;31m# save_format='tf'\u001b[0m\u001b[0;34m\u001b[0m\u001b[0;34m\u001b[0m\u001b[0m\n\u001b[0m\u001b[1;32m     14\u001b[0m \u001b[0mmodel\u001b[0m\u001b[0;34m.\u001b[0m\u001b[0msave\u001b[0m\u001b[0;34m(\u001b[0m\u001b[0mh5_model_path\u001b[0m\u001b[0;34m,\u001b[0m \u001b[0msave_format\u001b[0m\u001b[0;34m=\u001b[0m\u001b[0;34m'h5'\u001b[0m\u001b[0;34m)\u001b[0m\u001b[0;34m\u001b[0m\u001b[0;34m\u001b[0m\u001b[0m\n",
            "\u001b[0;32m/usr/local/lib/python3.6/dist-packages/tensorflow/python/keras/engine/training.py\u001b[0m in \u001b[0;36msave\u001b[0;34m(self, filepath, overwrite, include_optimizer, save_format, signatures, options)\u001b[0m\n\u001b[1;32m   1977\u001b[0m     \"\"\"\n\u001b[1;32m   1978\u001b[0m     save.save_model(self, filepath, overwrite, include_optimizer, save_format,\n\u001b[0;32m-> 1979\u001b[0;31m                     signatures, options)\n\u001b[0m\u001b[1;32m   1980\u001b[0m \u001b[0;34m\u001b[0m\u001b[0m\n\u001b[1;32m   1981\u001b[0m   def save_weights(self,\n",
            "\u001b[0;32m/usr/local/lib/python3.6/dist-packages/tensorflow/python/keras/saving/save.py\u001b[0m in \u001b[0;36msave_model\u001b[0;34m(model, filepath, overwrite, include_optimizer, save_format, signatures, options)\u001b[0m\n\u001b[1;32m    132\u001b[0m   \u001b[0;32melse\u001b[0m\u001b[0;34m:\u001b[0m\u001b[0;34m\u001b[0m\u001b[0;34m\u001b[0m\u001b[0m\n\u001b[1;32m    133\u001b[0m     saved_model_save.save(model, filepath, overwrite, include_optimizer,\n\u001b[0;32m--> 134\u001b[0;31m                           signatures, options)\n\u001b[0m\u001b[1;32m    135\u001b[0m \u001b[0;34m\u001b[0m\u001b[0m\n\u001b[1;32m    136\u001b[0m \u001b[0;34m\u001b[0m\u001b[0m\n",
            "\u001b[0;32m/usr/local/lib/python3.6/dist-packages/tensorflow/python/keras/saving/saved_model/save.py\u001b[0m in \u001b[0;36msave\u001b[0;34m(model, filepath, overwrite, include_optimizer, signatures, options)\u001b[0m\n\u001b[1;32m     78\u001b[0m     \u001b[0;31m# we use the default replica context here.\u001b[0m\u001b[0;34m\u001b[0m\u001b[0;34m\u001b[0m\u001b[0;34m\u001b[0m\u001b[0m\n\u001b[1;32m     79\u001b[0m     \u001b[0;32mwith\u001b[0m \u001b[0mdistribution_strategy_context\u001b[0m\u001b[0;34m.\u001b[0m\u001b[0m_get_default_replica_context\u001b[0m\u001b[0;34m(\u001b[0m\u001b[0;34m)\u001b[0m\u001b[0;34m:\u001b[0m  \u001b[0;31m# pylint: disable=protected-access\u001b[0m\u001b[0;34m\u001b[0m\u001b[0;34m\u001b[0m\u001b[0m\n\u001b[0;32m---> 80\u001b[0;31m       \u001b[0msave_lib\u001b[0m\u001b[0;34m.\u001b[0m\u001b[0msave\u001b[0m\u001b[0;34m(\u001b[0m\u001b[0mmodel\u001b[0m\u001b[0;34m,\u001b[0m \u001b[0mfilepath\u001b[0m\u001b[0;34m,\u001b[0m \u001b[0msignatures\u001b[0m\u001b[0;34m,\u001b[0m \u001b[0moptions\u001b[0m\u001b[0;34m)\u001b[0m\u001b[0;34m\u001b[0m\u001b[0;34m\u001b[0m\u001b[0m\n\u001b[0m\u001b[1;32m     81\u001b[0m \u001b[0;34m\u001b[0m\u001b[0m\n\u001b[1;32m     82\u001b[0m   \u001b[0;32mif\u001b[0m \u001b[0;32mnot\u001b[0m \u001b[0minclude_optimizer\u001b[0m\u001b[0;34m:\u001b[0m\u001b[0;34m\u001b[0m\u001b[0;34m\u001b[0m\u001b[0m\n",
            "\u001b[0;32m/usr/local/lib/python3.6/dist-packages/tensorflow/python/saved_model/save.py\u001b[0m in \u001b[0;36msave\u001b[0;34m(obj, export_dir, signatures, options)\u001b[0m\n\u001b[1;32m    991\u001b[0m   \u001b[0;32mif\u001b[0m \u001b[0mcontext\u001b[0m\u001b[0;34m.\u001b[0m\u001b[0mexecuting_eagerly\u001b[0m\u001b[0;34m(\u001b[0m\u001b[0;34m)\u001b[0m\u001b[0;34m:\u001b[0m\u001b[0;34m\u001b[0m\u001b[0;34m\u001b[0m\u001b[0m\n\u001b[1;32m    992\u001b[0m     \u001b[0;32mtry\u001b[0m\u001b[0;34m:\u001b[0m\u001b[0;34m\u001b[0m\u001b[0;34m\u001b[0m\u001b[0m\n\u001b[0;32m--> 993\u001b[0;31m       \u001b[0mcontext\u001b[0m\u001b[0;34m.\u001b[0m\u001b[0masync_wait\u001b[0m\u001b[0;34m(\u001b[0m\u001b[0;34m)\u001b[0m  \u001b[0;31m# Ensure save operations have completed.\u001b[0m\u001b[0;34m\u001b[0m\u001b[0;34m\u001b[0m\u001b[0m\n\u001b[0m\u001b[1;32m    994\u001b[0m     \u001b[0;32mexcept\u001b[0m \u001b[0merrors\u001b[0m\u001b[0;34m.\u001b[0m\u001b[0mNotFoundError\u001b[0m \u001b[0;32mas\u001b[0m \u001b[0merr\u001b[0m\u001b[0;34m:\u001b[0m\u001b[0;34m\u001b[0m\u001b[0;34m\u001b[0m\u001b[0m\n\u001b[1;32m    995\u001b[0m       raise FileNotFoundError(\n",
            "\u001b[0;32m/usr/local/lib/python3.6/dist-packages/tensorflow/python/eager/context.py\u001b[0m in \u001b[0;36masync_wait\u001b[0;34m()\u001b[0m\n\u001b[1;32m   2317\u001b[0m   \u001b[0man\u001b[0m \u001b[0merror\u001b[0m \u001b[0mstate\u001b[0m\u001b[0;34m.\u001b[0m\u001b[0;34m\u001b[0m\u001b[0;34m\u001b[0m\u001b[0m\n\u001b[1;32m   2318\u001b[0m   \"\"\"\n\u001b[0;32m-> 2319\u001b[0;31m   \u001b[0mcontext\u001b[0m\u001b[0;34m(\u001b[0m\u001b[0;34m)\u001b[0m\u001b[0;34m.\u001b[0m\u001b[0msync_executors\u001b[0m\u001b[0;34m(\u001b[0m\u001b[0;34m)\u001b[0m\u001b[0;34m\u001b[0m\u001b[0;34m\u001b[0m\u001b[0m\n\u001b[0m\u001b[1;32m   2320\u001b[0m \u001b[0;34m\u001b[0m\u001b[0m\n\u001b[1;32m   2321\u001b[0m \u001b[0;34m\u001b[0m\u001b[0m\n",
            "\u001b[0;32m/usr/local/lib/python3.6/dist-packages/tensorflow/python/eager/context.py\u001b[0m in \u001b[0;36msync_executors\u001b[0;34m(self)\u001b[0m\n\u001b[1;32m    656\u001b[0m     \"\"\"\n\u001b[1;32m    657\u001b[0m     \u001b[0;32mif\u001b[0m \u001b[0mself\u001b[0m\u001b[0;34m.\u001b[0m\u001b[0m_context_handle\u001b[0m\u001b[0;34m:\u001b[0m\u001b[0;34m\u001b[0m\u001b[0;34m\u001b[0m\u001b[0m\n\u001b[0;32m--> 658\u001b[0;31m       \u001b[0mpywrap_tfe\u001b[0m\u001b[0;34m.\u001b[0m\u001b[0mTFE_ContextSyncExecutors\u001b[0m\u001b[0;34m(\u001b[0m\u001b[0mself\u001b[0m\u001b[0;34m.\u001b[0m\u001b[0m_context_handle\u001b[0m\u001b[0;34m)\u001b[0m\u001b[0;34m\u001b[0m\u001b[0;34m\u001b[0m\u001b[0m\n\u001b[0m\u001b[1;32m    659\u001b[0m     \u001b[0;32melse\u001b[0m\u001b[0;34m:\u001b[0m\u001b[0;34m\u001b[0m\u001b[0;34m\u001b[0m\u001b[0m\n\u001b[1;32m    660\u001b[0m       \u001b[0;32mraise\u001b[0m \u001b[0mValueError\u001b[0m\u001b[0;34m(\u001b[0m\u001b[0;34m\"Context is not initialized.\"\u001b[0m\u001b[0;34m)\u001b[0m\u001b[0;34m\u001b[0m\u001b[0;34m\u001b[0m\u001b[0m\n",
            "\u001b[0;31mUnimplementedError\u001b[0m: File system scheme '[local]' not implemented (file: './saved_model/model/variables/variables_temp_7f5c105d026a40319ca8596cddb59737/part-00000-of-00001')\n\tEncountered when executing an operation using EagerExecutor. This error cancels all future operations and poisons their output tensors."
          ]
        }
      ]
    },
    {
      "cell_type": "code",
      "metadata": {
        "id": "F-HU6ZSQK7z4"
      },
      "source": [
        "print_heading(f'Evaluating {best_model_path}')\n",
        "\n",
        "!mkdir -p images\n",
        "\n",
        "# load the saved best model\n",
        "saved_model = load_model(tf_model_path)\n",
        "\n",
        "# evaluate the model\n",
        "_, train_acc = saved_model.evaluate(X_train_enc, y_train_enc, verbose=2)\n",
        "_, test_acc = saved_model.evaluate(X_test_enc, y_test_enc, verbose=1)\n",
        "print('Accuracy of test: %.2f' % (test_acc*100))\n",
        "print('Accuracy of the: '+'1) Train: %.3f, 2) Test: %.3f' % (train_acc, test_acc))\n",
        "\n",
        "# plot training history\n",
        "plt.plot(history.history['loss'], label='train')\n",
        "plt.plot(history.history['val_loss'], label='test')\n",
        "plt.legend(['train', 'test'], loc='upper left')\n",
        "plt.ylabel('Loss')\n",
        "plt.savefig('images/training_history.png', dpi=300)\n",
        "plt.show()\n",
        "\n",
        "# summarize history for accuracy\n",
        "plt.plot(history.history['accuracy'])\n",
        "plt.plot(history.history['val_accuracy'])\n",
        "plt.title('model accuracy')\n",
        "plt.ylabel('accuracy')\n",
        "plt.xlabel('epoch')\n",
        "plt.legend(['train', 'test'], loc='upper left')\n",
        "plt.savefig('images/accuracy_history.png', dpi=300)\n",
        "plt.show()\n",
        "\n",
        "# summarize history for loss\n",
        "plt.plot(history.history['loss'])\n",
        "plt.plot(history.history['val_loss'])\n",
        "plt.title('model loss')\n",
        "plt.ylabel('loss')\n",
        "plt.xlabel('epoch')\n",
        "plt.legend(['train', 'test'], loc='upper left')\n",
        "plt.savefig('images/loss_history.png', dpi=300)\n",
        "plt.show()\n",
        "\n",
        "#note in kera model.predict() will return predict probabilities\n",
        "pred_prob =  saved_model.predict(X_test_enc, verbose=0)\n",
        "fpr, tpr, threshold = metrics.roc_curve(y_test_enc.ravel(), pred_prob.ravel())\n",
        "roc_auc = metrics.auc(fpr, tpr)\n",
        "\n",
        "# Compute ROC curve and ROC area for each class\n",
        "fpr = dict()\n",
        "tpr = dict()\n",
        "roc_auc = dict()\n",
        "for i in range(n_categories):\n",
        "    fpr[i], tpr[i], _ = metrics.roc_curve(y_test_enc[:,i], pred_prob[:, i])\n",
        "    roc_auc[i] = metrics.auc(fpr[i], tpr[i])    \n",
        "   \n",
        "# Compute micro-average ROC curve and ROC area\n",
        "fpr['micro'], tpr['micro'], _ = metrics.roc_curve(y_test_enc.ravel(), pred_prob.ravel())\n",
        "roc_auc['micro'] = metrics.auc(fpr['micro'], tpr['micro'])\n",
        "\n",
        "# Compute macro-average ROC curve and ROC area\n",
        "all_fpr = np.unique(np.concatenate([fpr[i] for i in range(3)]))\n",
        "\n",
        "# Then interpolate all ROC curves at this points\n",
        "mean_tpr = np.zeros_like(all_fpr)\n",
        "for i in range(n_categories):\n",
        "    mean_tpr += np.interp(all_fpr, fpr[i], tpr[i])\n",
        "\n",
        "# Finally average it and compute AUC\n",
        "mean_tpr /= n_categories\n",
        "\n",
        "fpr['macro'] = all_fpr\n",
        "tpr['macro'] = mean_tpr\n",
        "roc_auc['macro'] = metrics.auc(fpr['macro'], tpr['macro'])\n",
        "\n",
        "plt.figure(1)\n",
        "plt.plot(fpr['micro'], tpr['micro'],\n",
        "         label='micro-average ROC curve (area = {0:0.2f})' \\\n",
        "               ''.format(roc_auc['micro']),\n",
        "         color='deeppink', linestyle=':', linewidth=4)\n",
        "\n",
        "plt.plot(fpr['macro'], tpr['macro'],\n",
        "         label='macro-average ROC curve (area = {0:0.2f})' \\\n",
        "               ''.format(roc_auc['macro']),\n",
        "         color='navy', linestyle=':', linewidth=4)\n",
        "\n",
        "colors = cycle(['aqua', 'darkorange', 'cornflowerblue', 'red', 'blue'])\n",
        "for i, color in zip(range(n_categories), colors):\n",
        "    plt.plot(fpr[i], tpr[i], color=color, lw=2,\n",
        "             label='ROC curve of class {0} (area = {1:0.2f})' \\\n",
        "             ''.format(i, roc_auc[i]))\n",
        "\n",
        "plt.plot([0, 1], [0, 1], 'k--', lw=2)\n",
        "plt.xlim([0.0, 1.0])\n",
        "plt.ylim([0.0, 1.05])\n",
        "plt.xlabel('False Positive Rate')\n",
        "plt.ylabel('True Positive Rate')\n",
        "plt.title('Result for Receiver operating characteristic to multi-class of Reaction Time')\n",
        "plt.legend(loc='lower right')\n",
        "plt.savefig('images/roc.png', dpi=300)\n",
        "plt.show()"
      ],
      "execution_count": null,
      "outputs": []
    },
    {
      "cell_type": "code",
      "metadata": {
        "id": "My6aNe4cywUp",
        "colab": {
          "base_uri": "https://localhost:8080/",
          "height": 90
        },
        "outputId": "c93e4bda-f6da-4683-fdd5-4072f967417b"
      },
      "source": [
        "print_heading(f'Extended Evaluation (all participants)')\n",
        "\n",
        "def extended_evaluation(model_path, X, Y):\n",
        "    # load the saved best model\n",
        "    model = load_model(model_path)\n",
        "    # evaluate the model\n",
        "    _, accuracy = model.evaluate(X, Y, verbose=2)\n",
        "    print('Accuracy: %.2f' % (accuracy * 100))\n",
        "\n",
        "extended_evaluation(tf_model_path, X_verification, Y_verification)"
      ],
      "execution_count": null,
      "outputs": [
        {
          "output_type": "display_data",
          "data": {
            "text/html": [
              "<h3 style=\"\">Extended Evaluation (all participants)</h3>"
            ],
            "text/plain": [
              "<IPython.core.display.HTML object>"
            ]
          },
          "metadata": {
            "tags": []
          }
        },
        {
          "output_type": "stream",
          "text": [
            "262496/262496 - 159s - loss: 1.0584 - accuracy: 0.5678\n",
            "Accuracy: 56.78\n"
          ],
          "name": "stdout"
        }
      ]
    },
    {
      "cell_type": "markdown",
      "metadata": {
        "id": "OgK1jfbqK_t0"
      },
      "source": [
        "## Create Verification Artifacts\n"
      ]
    },
    {
      "cell_type": "code",
      "metadata": {
        "id": "MIbvWfN0K-op"
      },
      "source": [
        "def compute_nnet_params(model_file, df, scaler):\n",
        "    outputs = df['TOT']\n",
        "    inputs = df.drop(['Name', 'TOT', 'ReactionTime'], axis=1)\n",
        "    enc_inputs = pd.DataFrame(scaler.transform(inputs.values), columns=inputs.columns)\n",
        "\n",
        "    # compute sdev, mins, and maxs for inputs\n",
        "    input_sdev = enc_inputs.std().to_numpy()\n",
        "    input_mins = enc_inputs.min().to_numpy()\n",
        "    input_maxs = enc_inputs.max().to_numpy()\n",
        "\n",
        "    # extend input maxs and mins by std dev\n",
        "    input_mins -= input_sdev\n",
        "    input_maxs += input_sdev\n",
        "\n",
        "    # maraboupy only supports normalization (not standardization)\n",
        "    # use mean=0, and range=1 to neutralize maraboupy normalization\n",
        "    means = np.zeros(enc_inputs.shape[1]+1, dtype=int) \n",
        "    ranges = np.ones(enc_inputs.shape[1]+1, dtype=int)\n",
        "\n",
        "    # extract weights and biases from model\n",
        "    model = load_model(model_file)\n",
        "    model_params = model.get_weights()\n",
        "    weights = [w.T for w in model_params[0:len(model_params):2]]\n",
        "    biases  = model_params[1:len(model_params):2]\n",
        "\n",
        "    return (weights, biases, input_mins, input_maxs, means, ranges)\n",
        "\n",
        "\n",
        "def save_nnet(weights, biases, input_mins, input_maxs, means, ranges, output_path):\n",
        "    # write model in nnet format.\n",
        "    writeNNet(weights, biases, input_mins, input_maxs, means, ranges, output_path)\n",
        "\n",
        "def save_encoders(scaler, onehot, output_dir):\n",
        "    pkl.dump(scaler, open(f'{output_dir}/scaler.pkl', 'wb'))\n",
        "    pkl.dump(onehot, open(f'{output_dir}/onehot.pkl', 'wb'))\n",
        "\n",
        "def save_verification_data(modelpath, df, onehot, scaler, tot_bins, tot_labels, outpath='artifacts/verification.csv'):\n",
        "    m = load_model(modelpath)\n",
        "    df['TOT'] = pd.cut(df.ReactionTime, bins=tot_bins, labels=tot_labels).astype(object)\n",
        "    df.RightLaneType = df.RightLaneType.astype(int)\n",
        "    df.LeftLaneType = df.LeftLaneType.astype(int)\n",
        "    df = df.drop_duplicates()\n",
        "    X_df = df.drop(['Name', 'ReactionTime', 'TOT'], axis=1)\n",
        "    X = scaler.transform(X_df.values)\n",
        "    y = onehot.transform(df.TOT.values.reshape(-1, 1)).toarray()\n",
        "    predictions, idxs = m.predict(X), []\n",
        "    for i,p in enumerate(predictions):\n",
        "        maxidxs = np.where(p==p.max())[0]\n",
        "        if (maxidxs.shape[0] == 1) and (maxidxs[0] == y[i].tolist().index(1)):\n",
        "            idxs.append(i)\n",
        "    X, y = X[idxs], y[idxs]\n",
        "    enc_tot_labels = onehot.get_feature_names(input_features=['TOT'])\n",
        "    v_df = pd.concat([pd.DataFrame(X, columns=X_df.columns),\n",
        "                      pd.DataFrame(y, columns=enc_tot_labels)],\n",
        "                    axis=1).astype({k:int for k in enc_tot_labels})\n",
        "    v_df.to_csv(outpath)\n",
        "    print(f'wrote verification data to {outpath}')\n",
        "\n",
        "def create_verification_artifacts(tf_model_path, h5_model_path, df, feature_names, tot_bins, tot_labels, scaler, onehot):\n",
        "    print_heading(f'Creating verification artifacts...')\n",
        "    output_dir='artifacts'\n",
        "    archive_path = 'artifacts.zip'\n",
        "    h5_path = os.path.join(output_dir, 'model.h5')\n",
        "    pb_path = os.path.join(output_dir, 'model.pb')\n",
        "    nnet_path = os.path.join(output_dir, 'model.nnet')\n",
        "    model_zip = os.path.join(output_dir, 'model.zip')\n",
        "\n",
        "    # clear previous folder\n",
        "    !rm -rf $output_dir\n",
        "    # create the folder\n",
        "    !mkdir -p $output_dir\n",
        "\n",
        "    # zip up the tf model, and copy to artifacts\n",
        "    !cd $tf_model_path/.. && zip -qr ../$model_zip model && cd - > /dev/null\n",
        "    # copy the pb model file\n",
        "    !cp $tf_model_path/saved_model.pb $pb_path\n",
        "    # copy the h5 model file\n",
        "    !cp $h5_model_path $h5_path\n",
        "    # copy the images to artifacts\n",
        "    !cp -r images $output_dir\n",
        "\n",
        "    # extract params for nnet format\n",
        "    nnet_params = compute_nnet_params(tf_model_path, df, scaler)\n",
        "    weights, biases, input_mins, input_maxs, means, ranges = nnet_params\n",
        "    # write the model to nnet file.\n",
        "    save_nnet(weights, biases, input_mins, input_maxs, means, ranges, nnet_path)\n",
        "    # write encoders to file\n",
        "    save_encoders(scaler, onehot, output_dir)\n",
        "    # save verification data\n",
        "    save_verification_data(tf_model_path, df.copy(), onehot, scaler, tot_bins, tot_labels)\n",
        "    # create a zip archive of artifacts\n",
        "    !zip -rq $archive_path $output_dir\n",
        "    print_message(f'Saved artifacts to {archive_path}')\n",
        "\n",
        "# create artifacts used for verification\n",
        "create_verification_artifacts(tf_model_path, h5_model_path, df, feature_names, tot_bins, tot_labels, scaler, onehot)"
      ],
      "execution_count": null,
      "outputs": []
    },
    {
      "cell_type": "code",
      "metadata": {
        "id": "2rCSa0AZe7tY"
      },
      "source": [
        "def save_data(X_train_enc, X_test_enc, y_train_enc, y_test_enc, features, onehot, data_dir='data', archive_path='data.zip'):\n",
        "    tot_labels = onehot.get_feature_names(input_features=['TOT'])\n",
        "    train_df = pd.concat([pd.DataFrame(X_train_enc, columns=features),\n",
        "                          pd.DataFrame(y_train_enc, columns=tot_labels)],\n",
        "                        axis=1).astype({k:int for k in tot_labels})\n",
        "    test_df = pd.concat([pd.DataFrame(X_test_enc, columns=features),\n",
        "                         pd.DataFrame(y_test_enc, columns=tot_labels)],\n",
        "                        axis=1).astype({k:int for k in tot_labels})\n",
        "    !mkdir -p $data_dir\n",
        "    train_csv, test_csv = f'{data_dir}/train.csv', f'{data_dir}/test.csv'\n",
        "    train_df.to_csv(train_csv)\n",
        "    test_df.to_csv(test_csv)\n",
        "    print(f'wrote data to {train_csv} and {test_csv}, compressing...')\n",
        "    !zip -qr $archive_path $data_dir\n",
        "\n",
        "# save_data(X_train_enc, X_test_enc, y_train_enc, y_test_enc, X_train.columns, onehot)"
      ],
      "execution_count": null,
      "outputs": []
    },
    {
      "cell_type": "code",
      "metadata": {
        "id": "K-DzJ7MTVht8"
      },
      "source": [
        "def create_verification_data(modelpath, df, onehot, scaler, tot_bins, tot_labels, outpath='verification.csv'):\n",
        "    m = load_model(modelpath)\n",
        "    df['TOT'] = pd.cut(df.ReactionTime, bins=tot_bins, labels=tot_labels).astype(object)\n",
        "    df.RightLaneType = df.RightLaneType.astype(int)\n",
        "    df.LeftLaneType = df.LeftLaneType.astype(int)\n",
        "    df = df.drop_duplicates()\n",
        "    X_df = df.drop(['Name', 'ReactionTime', 'TOT'], axis=1)\n",
        "    X = scaler.transform(X_df.values)\n",
        "    y = onehot.transform(df.TOT.values.reshape(-1, 1)).toarray()\n",
        "    predictions, idxs = m.predict(X), []\n",
        "    for i,p in enumerate(predictions):\n",
        "        maxidxs = np.where(p==p.max())[0]\n",
        "        if (maxidxs.shape[0] == 1) and (maxidxs[0] == y[i].tolist().index(1)):\n",
        "            idxs.append(i)\n",
        "    X, y = X[idxs], y[idxs]\n",
        "    enc_tot_labels = onehot.get_feature_names(input_features=['TOT'])\n",
        "    v_df = pd.concat([pd.DataFrame(X, columns=X_df.columns),\n",
        "                    pd.DataFrame(y, columns=enc_tot_labels)],\n",
        "                   axis=1).astype({k:int for k in enc_tot_labels})\n",
        "    v_df.to_csv(outpath)\n",
        "    print(f'wrote verification data to {outpath}')\n",
        "    return v_df\n",
        "    \n",
        "# create_verification_data(tf_model_path, raw_df.copy(), onehot, scaler, tot_bins, tot_labels)"
      ],
      "execution_count": null,
      "outputs": []
    },
    {
      "cell_type": "markdown",
      "metadata": {
        "id": "uLOyLCRBDjVX"
      },
      "source": [
        "## Save Model & Verification Artifacts to GDrive"
      ]
    },
    {
      "cell_type": "code",
      "metadata": {
        "id": "zd55G5_IhoVD"
      },
      "source": [
        "# GDrive ID's point to files in models/latest folder\n",
        "artifacts = {\n",
        "    'artifacts/model.zip': '100s5DVwaK6ILlDe2ZCgm2F8JGrY7Wixf',  # tf format\n",
        "    'artifacts/model.h5': '1Kyxb1A4E6U_HPaPjRLVnb2OTJtXOzTXX',   # h5 format\n",
        "    'artifacts/model.pb': '1Ap3eWHWwAyw_3wOmy237AJF3pWQRnG3_',   # pb format\n",
        "    'artifacts/model.nnet': '1HzfGxhKrw9PpeA1cMsexC4FcWv5OPdtB', # nnet format\n",
        "    'artifacts/scaler.pkl': '10EkqHQ3aqEYAxbLS4Q4LRWJ1byNCvAcf', # scaler object\n",
        "    'artifacts/onehot.pkl': '1SeED9m_TeyqtmHRgDe_kd9HVmn2K1hh8'  # onehot object\n",
        "    }\n",
        "\n",
        "# upload all of the artifacts to drive\n",
        "# for fname,driveid in artifacts.items():\n",
        "#     overwrite_gdrive_file(driveid, fname)"
      ],
      "execution_count": null,
      "outputs": []
    },
    {
      "cell_type": "code",
      "metadata": {
        "id": "Vh9zELnWwXqh"
      },
      "source": [
        ""
      ],
      "execution_count": null,
      "outputs": []
    },
    {
      "cell_type": "markdown",
      "metadata": {
        "id": "U-PbDU_mqBXt"
      },
      "source": [
        "    \n",
        "## Visualization"
      ]
    },
    {
      "cell_type": "code",
      "metadata": {
        "id": "onid6oqDVSvW",
        "colab": {
          "base_uri": "https://localhost:8080/",
          "height": 151
        },
        "outputId": "81da3129-3fde-4a06-b1a1-91fde8d9ae0e"
      },
      "source": [
        "!mkdir -p images\n",
        "display(tf.keras.utils.plot_model(model, to_file='images/model.png', show_shapes=True, show_layer_names=True, expand_nested=True, dpi=1200, rankdir='LR'))"
      ],
      "execution_count": null,
      "outputs": [
        {
          "output_type": "display_data",
          "data": {
            "image/png": "[encoded data removed]",
            "text/plain": [
              "<IPython.core.display.Image object>"
            ]
          },
          "metadata": {
            "tags": []
          }
        }
      ]
    },
    {
      "cell_type": "code",
      "metadata": {
        "colab": {
          "base_uri": "https://localhost:8080/",
          "height": 100
        },
        "id": "yfvdLsldKZfv",
        "outputId": "ada7df1f-f4c3-4f29-ba65-4ccc055d3c19"
      },
      "source": [
        "from IPython.display import SVG\n",
        "from keras.utils.vis_utils import model_to_dot\n",
        "\n",
        "svg_plot = tf.keras.utils.model_to_dot(model, show_shapes=False, show_layer_names=True, rankdir='LR')\n",
        "SVG(svg_plot.create(prog='dot', format='svg'))"
      ],
      "execution_count": null,
      "outputs": [
        {
          "output_type": "execute_result",
          "data": {
            "text/plain": [
              "<IPython.core.display.SVG object>"
            ],
            "image/svg+xml": "<svg height=\"60pt\" viewBox=\"0.00 0.00 698.00 45.00\" width=\"931pt\" xmlns=\"http://www.w3.org/2000/svg\" xmlns:xlink=\"http://www.w3.org/1999/xlink\">\n<g class=\"graph\" id=\"graph0\" transform=\"scale(1.3333 1.3333) rotate(0) translate(4 41)\">\n<title>G</title>\n<polygon fill=\"#ffffff\" points=\"-4,4 -4,-41 694,-41 694,4 -4,4\" stroke=\"transparent\"/>\n<!-- 140008682604304 -->\n<g class=\"node\" id=\"node1\">\n<title>140008682604304</title>\n<polygon fill=\"none\" points=\"0,-.5 0,-36.5 133,-36.5 133,-.5 0,-.5\" stroke=\"#000000\"/>\n<text fill=\"#000000\" font-family=\"Times,serif\" font-size=\"14.00\" text-anchor=\"middle\" x=\"66.5\" y=\"-14.8\">input_1: InputLayer</text>\n</g>\n<!-- 140011730633112 -->\n<g class=\"node\" id=\"node2\">\n<title>140011730633112</title>\n<polygon fill=\"none\" points=\"169,-.5 169,-36.5 261,-36.5 261,-.5 169,-.5\" stroke=\"#000000\"/>\n<text fill=\"#000000\" font-family=\"Times,serif\" font-size=\"14.00\" text-anchor=\"middle\" x=\"215\" y=\"-14.8\">dense: Dense</text>\n</g>\n<!-- 140008682604304&#45;&gt;140011730633112 -->\n<g class=\"edge\" id=\"edge1\">\n<title>140008682604304-&gt;140011730633112</title>\n<path d=\"M133.3649,-18.5C141.809,-18.5 150.3819,-18.5 158.6407,-18.5\" fill=\"none\" stroke=\"#000000\"/>\n<polygon fill=\"#000000\" points=\"158.9007,-22.0001 168.9007,-18.5 158.9006,-15.0001 158.9007,-22.0001\" stroke=\"#000000\"/>\n</g>\n<!-- 140008682606376 -->\n<g class=\"node\" id=\"node3\">\n<title>140008682606376</title>\n<polygon fill=\"none\" points=\"297,-.5 297,-36.5 404,-36.5 404,-.5 297,-.5\" stroke=\"#000000\"/>\n<text fill=\"#000000\" font-family=\"Times,serif\" font-size=\"14.00\" text-anchor=\"middle\" x=\"350.5\" y=\"-14.8\">dense_1: Dense</text>\n</g>\n<!-- 140011730633112&#45;&gt;140008682606376 -->\n<g class=\"edge\" id=\"edge2\">\n<title>140011730633112-&gt;140008682606376</title>\n<path d=\"M261.2524,-18.5C269.5181,-18.5 278.2599,-18.5 286.911,-18.5\" fill=\"none\" stroke=\"#000000\"/>\n<polygon fill=\"#000000\" points=\"286.9909,-22.0001 296.9909,-18.5 286.9909,-15.0001 286.9909,-22.0001\" stroke=\"#000000\"/>\n</g>\n<!-- 140013895514320 -->\n<g class=\"node\" id=\"node4\">\n<title>140013895514320</title>\n<polygon fill=\"none\" points=\"440,-.5 440,-36.5 547,-36.5 547,-.5 440,-.5\" stroke=\"#000000\"/>\n<text fill=\"#000000\" font-family=\"Times,serif\" font-size=\"14.00\" text-anchor=\"middle\" x=\"493.5\" y=\"-14.8\">dense_2: Dense</text>\n</g>\n<!-- 140008682606376&#45;&gt;140013895514320 -->\n<g class=\"edge\" id=\"edge3\">\n<title>140008682606376-&gt;140013895514320</title>\n<path d=\"M404.1548,-18.5C412.3808,-18.5 420.9436,-18.5 429.3684,-18.5\" fill=\"none\" stroke=\"#000000\"/>\n<polygon fill=\"#000000\" points=\"429.5445,-22.0001 439.5445,-18.5 429.5445,-15.0001 429.5445,-22.0001\" stroke=\"#000000\"/>\n</g>\n<!-- 140009035330392 -->\n<g class=\"node\" id=\"node5\">\n<title>140009035330392</title>\n<polygon fill=\"none\" points=\"583,-.5 583,-36.5 690,-36.5 690,-.5 583,-.5\" stroke=\"#000000\"/>\n<text fill=\"#000000\" font-family=\"Times,serif\" font-size=\"14.00\" text-anchor=\"middle\" x=\"636.5\" y=\"-14.8\">dense_3: Dense</text>\n</g>\n<!-- 140013895514320&#45;&gt;140009035330392 -->\n<g class=\"edge\" id=\"edge4\">\n<title>140013895514320-&gt;140009035330392</title>\n<path d=\"M547.1548,-18.5C555.3808,-18.5 563.9436,-18.5 572.3684,-18.5\" fill=\"none\" stroke=\"#000000\"/>\n<polygon fill=\"#000000\" points=\"572.5445,-22.0001 582.5445,-18.5 572.5445,-15.0001 572.5445,-22.0001\" stroke=\"#000000\"/>\n</g>\n</g>\n</svg>"
          },
          "metadata": {
            "tags": []
          },
          "execution_count": 61
        }
      ]
    },
    {
      "cell_type": "code",
      "metadata": {
        "colab": {
          "base_uri": "https://localhost:8080/"
        },
        "id": "syBBg1CNUD1a",
        "outputId": "3b6a27ef-5412-4d69-f943-54f587e0c5eb"
      },
      "source": [
        "# with open('images/model.svg', 'w') as f:\n",
        "#     f.write(svg_plot.decode('utf-8'))\n",
        "svg_plot.write_svg('images/model.svg')"
      ],
      "execution_count": null,
      "outputs": [
        {
          "output_type": "execute_result",
          "data": {
            "text/plain": [
              "True"
            ]
          },
          "metadata": {
            "tags": []
          },
          "execution_count": 64
        }
      ]
    },
    {
      "cell_type": "code",
      "metadata": {
        "id": "VGPLuhI1iniH"
      },
      "source": [
        "%tensorboard --logdir $tensorboard_logs --host localhost --port 6006"
      ],
      "execution_count": null,
      "outputs": []
    }
  ]
}